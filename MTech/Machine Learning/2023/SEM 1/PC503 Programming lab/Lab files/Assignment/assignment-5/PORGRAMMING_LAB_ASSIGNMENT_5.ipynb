{
  "nbformat": 4,
  "nbformat_minor": 0,
  "metadata": {
    "colab": {
      "provenance": []
    },
    "kernelspec": {
      "name": "python3",
      "display_name": "Python 3"
    },
    "language_info": {
      "name": "python"
    }
  },
  "cells": [
    {
      "cell_type": "markdown",
      "source": [
        "#Programming Lab Assignment 5\n",
        "\n",
        "\n",
        "---\n",
        "\n",
        "\n",
        "\n",
        "##Samarth Motka\n",
        "##202311023"
      ],
      "metadata": {
        "id": "60iNH-BTUzLe"
      }
    },
    {
      "cell_type": "markdown",
      "source": [
        "1. Create a class named ‘Animal’ which includes methods like eat() and sleep(). Create a child class of Animal named ‘Bird’ and override the parent class methods. Add a new method named fly(). Create an instance of the Animal class and invoke the eat and sleep methods using this object. Create an instance of Birds class and invoke the eat, sleep, and fly methods using this object."
      ],
      "metadata": {
        "id": "sPZPuTPFUmjX"
      }
    },
    {
      "cell_type": "code",
      "source": [
        "class Animal:\n",
        "    def eat(self):\n",
        "        print(\"Animal is eating\")\n",
        "\n",
        "    def sleep(self):\n",
        "        print(\"Animal is sleeping\")\n",
        "\n",
        "class Bird(Animal):\n",
        "    def eat(self):\n",
        "        print(\"Bird is eating\")\n",
        "\n",
        "    def sleep(self):\n",
        "        print(\"Bird is sleeping\")\n",
        "\n",
        "    def fly(self):\n",
        "        print(\"Bird is flying\")\n",
        "animal = Animal()\n",
        "print(\"Calling Animal methods:\")\n",
        "animal.eat()\n",
        "animal.sleep()\n",
        "\n",
        "bird = Bird()\n",
        "print(\"\\nCalling Bird methods:\")\n",
        "bird.eat()\n",
        "bird.sleep()\n",
        "bird.fly()\n"
      ],
      "metadata": {
        "colab": {
          "base_uri": "https://localhost:8080/"
        },
        "id": "40c4yKC2UyO7",
        "outputId": "8fc04688-625c-4bfc-ce23-1ecd021de70d"
      },
      "execution_count": null,
      "outputs": [
        {
          "output_type": "stream",
          "name": "stdout",
          "text": [
            "Calling Animal methods:\n",
            "Animal is eating\n",
            "Animal is sleeping\n",
            "\n",
            "Calling Bird methods:\n",
            "Bird is eating\n",
            "Bird is sleeping\n",
            "Bird is flying\n"
          ]
        }
      ]
    },
    {
      "cell_type": "markdown",
      "source": [
        "#2. Write a program that defines a class named Shape with a constructor that accepts a width and height value.\n",
        "define two sub-classes:\n",
        "1. a Triangle class and\n",
        "2. a Rectangle class. These 2 classes will Inherit the 2 values from the Shape class\n",
        "\n",
        "In the main(), define two objects:\n",
        "1. A Triangle object and\n",
        "2. a Rectangle object\n",
        "\n",
        "At the time of creation provide the 2 values necessary\n",
        "call the getArea() function in these two class variables\n",
        "(DO NOT ask for user input....)\n",
        "\n",
        "The area of a triangle is calculated as (height * base) / 2"
      ],
      "metadata": {
        "id": "An0ZzXJVWN5I"
      }
    },
    {
      "cell_type": "code",
      "execution_count": null,
      "metadata": {
        "colab": {
          "base_uri": "https://localhost:8080/"
        },
        "id": "N66xsSMxUjPQ",
        "outputId": "ee3ec64a-224b-4fa5-b250-db35619772e3"
      },
      "outputs": [
        {
          "output_type": "stream",
          "name": "stdout",
          "text": [
            "The area of Triangle is 100.0\n",
            "The area of Rectangle is 200\n"
          ]
        }
      ],
      "source": [
        "class Shape:\n",
        "  def __init__(self,width,height):\n",
        "      self.width = width\n",
        "      self.height = height\n",
        "\n",
        "class Triangle(Shape):\n",
        "  def getArea(self,height,width):\n",
        "    print(f'The area of Triangle is {self.height*self.width*0.5}')\n",
        "\n",
        "class Rectangle(Shape):\n",
        "  def getArea(self,height,width):\n",
        "    print(f'The area of Rectangle is {self.width*self.height}')\n",
        "\n",
        "S = Shape(20,20)\n",
        "\n",
        "Tri = Triangle(10,20)\n",
        "Tri.getArea(10,20)\n",
        "\n",
        "Rec = Rectangle(10,20)\n",
        "Rec.getArea(10,20)\n",
        "\n",
        "\n",
        "\n"
      ]
    },
    {
      "cell_type": "markdown",
      "source": [
        "###3.Build Django Sign-Up and Login for Hostel Room Registration with the fields for registration like Name, Father name, Mother name, permanent address, college ID, College, Name, email, password, Radio button with the room type(AC, NON-AC), Radio button with food,not-food, Fields for login: email, password"
      ],
      "metadata": {
        "id": "yAQ4zRbtdLhk"
      }
    },
    {
      "cell_type": "code",
      "source": [],
      "metadata": {
        "id": "b4tVNq_kUmZO"
      },
      "execution_count": null,
      "outputs": []
    }
  ]
}