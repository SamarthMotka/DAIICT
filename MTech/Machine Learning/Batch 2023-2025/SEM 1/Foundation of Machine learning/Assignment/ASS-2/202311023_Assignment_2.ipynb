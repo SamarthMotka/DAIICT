{
  "nbformat": 4,
  "nbformat_minor": 0,
  "metadata": {
    "colab": {
      "provenance": []
    },
    "kernelspec": {
      "name": "python3",
      "display_name": "Python 3"
    },
    "language_info": {
      "name": "python"
    }
  },
  "cells": [
    {
      "cell_type": "markdown",
      "source": [
        "## SAMARTH MOTKA\n",
        "## 202311023\n",
        "## 23/08/23\n",
        "## FOML-Assignment-2-Linear regression"
      ],
      "metadata": {
        "id": "L1okXQ8P4bJa"
      }
    },
    {
      "cell_type": "markdown",
      "source": [
        "Here we will be referencing ***X = Income*** and ***Y = Balance*** respectively.\n"
      ],
      "metadata": {
        "id": "nQ0AvLELz6eV"
      }
    },
    {
      "cell_type": "code",
      "execution_count": 64,
      "metadata": {
        "id": "hRvhr0jP3qC_"
      },
      "outputs": [],
      "source": [
        "import numpy as np\n",
        "import pandas as pd\n",
        "import matplotlib.pyplot as plt\n",
        "import seaborn as sns"
      ]
    },
    {
      "cell_type": "code",
      "source": [
        "train = pd.read_csv('/content/drive/MyDrive/foml-linear-regression-data/train.csv')\n",
        "train\n"
      ],
      "metadata": {
        "colab": {
          "base_uri": "https://localhost:8080/",
          "height": 363
        },
        "id": "mMXLQqAy4aXm",
        "outputId": "b6c81434-2093-4745-959e-6d1f0b3cee8a"
      },
      "execution_count": 65,
      "outputs": [
        {
          "output_type": "execute_result",
          "data": {
            "text/plain": [
              "     Income   Balance\n",
              "0  0.550798  5.651202\n",
              "1  0.708148  7.321263\n",
              "2  0.290905  5.167304\n",
              "3  0.510828  5.609367\n",
              "4  0.892947  9.406379\n",
              "5  0.896293  9.379439\n",
              "6  0.125585  2.734997\n",
              "7  0.207243  4.876649\n",
              "8  0.051467  3.584138\n",
              "9  0.440810  5.437239"
            ],
            "text/html": [
              "\n",
              "  <div id=\"df-03caf892-3441-43e2-86f3-645632e3ace7\" class=\"colab-df-container\">\n",
              "    <div>\n",
              "<style scoped>\n",
              "    .dataframe tbody tr th:only-of-type {\n",
              "        vertical-align: middle;\n",
              "    }\n",
              "\n",
              "    .dataframe tbody tr th {\n",
              "        vertical-align: top;\n",
              "    }\n",
              "\n",
              "    .dataframe thead th {\n",
              "        text-align: right;\n",
              "    }\n",
              "</style>\n",
              "<table border=\"1\" class=\"dataframe\">\n",
              "  <thead>\n",
              "    <tr style=\"text-align: right;\">\n",
              "      <th></th>\n",
              "      <th>Income</th>\n",
              "      <th>Balance</th>\n",
              "    </tr>\n",
              "  </thead>\n",
              "  <tbody>\n",
              "    <tr>\n",
              "      <th>0</th>\n",
              "      <td>0.550798</td>\n",
              "      <td>5.651202</td>\n",
              "    </tr>\n",
              "    <tr>\n",
              "      <th>1</th>\n",
              "      <td>0.708148</td>\n",
              "      <td>7.321263</td>\n",
              "    </tr>\n",
              "    <tr>\n",
              "      <th>2</th>\n",
              "      <td>0.290905</td>\n",
              "      <td>5.167304</td>\n",
              "    </tr>\n",
              "    <tr>\n",
              "      <th>3</th>\n",
              "      <td>0.510828</td>\n",
              "      <td>5.609367</td>\n",
              "    </tr>\n",
              "    <tr>\n",
              "      <th>4</th>\n",
              "      <td>0.892947</td>\n",
              "      <td>9.406379</td>\n",
              "    </tr>\n",
              "    <tr>\n",
              "      <th>5</th>\n",
              "      <td>0.896293</td>\n",
              "      <td>9.379439</td>\n",
              "    </tr>\n",
              "    <tr>\n",
              "      <th>6</th>\n",
              "      <td>0.125585</td>\n",
              "      <td>2.734997</td>\n",
              "    </tr>\n",
              "    <tr>\n",
              "      <th>7</th>\n",
              "      <td>0.207243</td>\n",
              "      <td>4.876649</td>\n",
              "    </tr>\n",
              "    <tr>\n",
              "      <th>8</th>\n",
              "      <td>0.051467</td>\n",
              "      <td>3.584138</td>\n",
              "    </tr>\n",
              "    <tr>\n",
              "      <th>9</th>\n",
              "      <td>0.440810</td>\n",
              "      <td>5.437239</td>\n",
              "    </tr>\n",
              "  </tbody>\n",
              "</table>\n",
              "</div>\n",
              "    <div class=\"colab-df-buttons\">\n",
              "\n",
              "  <div class=\"colab-df-container\">\n",
              "    <button class=\"colab-df-convert\" onclick=\"convertToInteractive('df-03caf892-3441-43e2-86f3-645632e3ace7')\"\n",
              "            title=\"Convert this dataframe to an interactive table.\"\n",
              "            style=\"display:none;\">\n",
              "\n",
              "  <svg xmlns=\"http://www.w3.org/2000/svg\" height=\"24px\" viewBox=\"0 -960 960 960\">\n",
              "    <path d=\"M120-120v-720h720v720H120Zm60-500h600v-160H180v160Zm220 220h160v-160H400v160Zm0 220h160v-160H400v160ZM180-400h160v-160H180v160Zm440 0h160v-160H620v160ZM180-180h160v-160H180v160Zm440 0h160v-160H620v160Z\"/>\n",
              "  </svg>\n",
              "    </button>\n",
              "\n",
              "  <style>\n",
              "    .colab-df-container {\n",
              "      display:flex;\n",
              "      gap: 12px;\n",
              "    }\n",
              "\n",
              "    .colab-df-convert {\n",
              "      background-color: #E8F0FE;\n",
              "      border: none;\n",
              "      border-radius: 50%;\n",
              "      cursor: pointer;\n",
              "      display: none;\n",
              "      fill: #1967D2;\n",
              "      height: 32px;\n",
              "      padding: 0 0 0 0;\n",
              "      width: 32px;\n",
              "    }\n",
              "\n",
              "    .colab-df-convert:hover {\n",
              "      background-color: #E2EBFA;\n",
              "      box-shadow: 0px 1px 2px rgba(60, 64, 67, 0.3), 0px 1px 3px 1px rgba(60, 64, 67, 0.15);\n",
              "      fill: #174EA6;\n",
              "    }\n",
              "\n",
              "    .colab-df-buttons div {\n",
              "      margin-bottom: 4px;\n",
              "    }\n",
              "\n",
              "    [theme=dark] .colab-df-convert {\n",
              "      background-color: #3B4455;\n",
              "      fill: #D2E3FC;\n",
              "    }\n",
              "\n",
              "    [theme=dark] .colab-df-convert:hover {\n",
              "      background-color: #434B5C;\n",
              "      box-shadow: 0px 1px 3px 1px rgba(0, 0, 0, 0.15);\n",
              "      filter: drop-shadow(0px 1px 2px rgba(0, 0, 0, 0.3));\n",
              "      fill: #FFFFFF;\n",
              "    }\n",
              "  </style>\n",
              "\n",
              "    <script>\n",
              "      const buttonEl =\n",
              "        document.querySelector('#df-03caf892-3441-43e2-86f3-645632e3ace7 button.colab-df-convert');\n",
              "      buttonEl.style.display =\n",
              "        google.colab.kernel.accessAllowed ? 'block' : 'none';\n",
              "\n",
              "      async function convertToInteractive(key) {\n",
              "        const element = document.querySelector('#df-03caf892-3441-43e2-86f3-645632e3ace7');\n",
              "        const dataTable =\n",
              "          await google.colab.kernel.invokeFunction('convertToInteractive',\n",
              "                                                    [key], {});\n",
              "        if (!dataTable) return;\n",
              "\n",
              "        const docLinkHtml = 'Like what you see? Visit the ' +\n",
              "          '<a target=\"_blank\" href=https://colab.research.google.com/notebooks/data_table.ipynb>data table notebook</a>'\n",
              "          + ' to learn more about interactive tables.';\n",
              "        element.innerHTML = '';\n",
              "        dataTable['output_type'] = 'display_data';\n",
              "        await google.colab.output.renderOutput(dataTable, element);\n",
              "        const docLink = document.createElement('div');\n",
              "        docLink.innerHTML = docLinkHtml;\n",
              "        element.appendChild(docLink);\n",
              "      }\n",
              "    </script>\n",
              "  </div>\n",
              "\n",
              "\n",
              "<div id=\"df-5dce5b43-35eb-4976-bf6e-42a3ca849609\">\n",
              "  <button class=\"colab-df-quickchart\" onclick=\"quickchart('df-5dce5b43-35eb-4976-bf6e-42a3ca849609')\"\n",
              "            title=\"Suggest charts.\"\n",
              "            style=\"display:none;\">\n",
              "\n",
              "<svg xmlns=\"http://www.w3.org/2000/svg\" height=\"24px\"viewBox=\"0 0 24 24\"\n",
              "     width=\"24px\">\n",
              "    <g>\n",
              "        <path d=\"M19 3H5c-1.1 0-2 .9-2 2v14c0 1.1.9 2 2 2h14c1.1 0 2-.9 2-2V5c0-1.1-.9-2-2-2zM9 17H7v-7h2v7zm4 0h-2V7h2v10zm4 0h-2v-4h2v4z\"/>\n",
              "    </g>\n",
              "</svg>\n",
              "  </button>\n",
              "\n",
              "<style>\n",
              "  .colab-df-quickchart {\n",
              "    background-color: #E8F0FE;\n",
              "    border: none;\n",
              "    border-radius: 50%;\n",
              "    cursor: pointer;\n",
              "    display: none;\n",
              "    fill: #1967D2;\n",
              "    height: 32px;\n",
              "    padding: 0 0 0 0;\n",
              "    width: 32px;\n",
              "  }\n",
              "\n",
              "  .colab-df-quickchart:hover {\n",
              "    background-color: #E2EBFA;\n",
              "    box-shadow: 0px 1px 2px rgba(60, 64, 67, 0.3), 0px 1px 3px 1px rgba(60, 64, 67, 0.15);\n",
              "    fill: #174EA6;\n",
              "  }\n",
              "\n",
              "  [theme=dark] .colab-df-quickchart {\n",
              "    background-color: #3B4455;\n",
              "    fill: #D2E3FC;\n",
              "  }\n",
              "\n",
              "  [theme=dark] .colab-df-quickchart:hover {\n",
              "    background-color: #434B5C;\n",
              "    box-shadow: 0px 1px 3px 1px rgba(0, 0, 0, 0.15);\n",
              "    filter: drop-shadow(0px 1px 2px rgba(0, 0, 0, 0.3));\n",
              "    fill: #FFFFFF;\n",
              "  }\n",
              "</style>\n",
              "\n",
              "  <script>\n",
              "    async function quickchart(key) {\n",
              "      const charts = await google.colab.kernel.invokeFunction(\n",
              "          'suggestCharts', [key], {});\n",
              "    }\n",
              "    (() => {\n",
              "      let quickchartButtonEl =\n",
              "        document.querySelector('#df-5dce5b43-35eb-4976-bf6e-42a3ca849609 button');\n",
              "      quickchartButtonEl.style.display =\n",
              "        google.colab.kernel.accessAllowed ? 'block' : 'none';\n",
              "    })();\n",
              "  </script>\n",
              "</div>\n",
              "    </div>\n",
              "  </div>\n"
            ]
          },
          "metadata": {},
          "execution_count": 65
        }
      ]
    },
    {
      "cell_type": "code",
      "source": [
        "test = pd.read_csv('/content/drive/MyDrive/foml-linear-regression-data/test.csv')\n",
        "test"
      ],
      "metadata": {
        "colab": {
          "base_uri": "https://localhost:8080/",
          "height": 676
        },
        "id": "sDYEjJ-65IJu",
        "outputId": "73d651cc-2a1d-4bc5-ea9e-a527fec4d8fe"
      },
      "execution_count": 66,
      "outputs": [
        {
          "output_type": "execute_result",
          "data": {
            "text/plain": [
              "      Income   Balance\n",
              "0   0.967030  9.675083\n",
              "1   0.547232  6.293266\n",
              "2   0.972684  9.730614\n",
              "3   0.714816  7.474346\n",
              "4   0.697729  7.342933\n",
              "5   0.216089  4.619033\n",
              "6   0.976274  9.765597\n",
              "7   0.006230  4.012784\n",
              "8   0.252982  4.762698\n",
              "9   0.434792  5.626166\n",
              "10  0.779383  7.989045\n",
              "11  0.197685  4.552625\n",
              "12  0.862993  8.705537\n",
              "13  0.983401  9.835217\n",
              "14  0.163842  4.435220\n",
              "15  0.597334  6.622444\n",
              "16  0.008986  4.018820\n",
              "17  0.386571  5.371530\n",
              "18  0.044160  4.096522\n",
              "19  0.956653  9.574695"
            ],
            "text/html": [
              "\n",
              "  <div id=\"df-aa384767-4bbe-491c-868a-8ff50a6d3757\" class=\"colab-df-container\">\n",
              "    <div>\n",
              "<style scoped>\n",
              "    .dataframe tbody tr th:only-of-type {\n",
              "        vertical-align: middle;\n",
              "    }\n",
              "\n",
              "    .dataframe tbody tr th {\n",
              "        vertical-align: top;\n",
              "    }\n",
              "\n",
              "    .dataframe thead th {\n",
              "        text-align: right;\n",
              "    }\n",
              "</style>\n",
              "<table border=\"1\" class=\"dataframe\">\n",
              "  <thead>\n",
              "    <tr style=\"text-align: right;\">\n",
              "      <th></th>\n",
              "      <th>Income</th>\n",
              "      <th>Balance</th>\n",
              "    </tr>\n",
              "  </thead>\n",
              "  <tbody>\n",
              "    <tr>\n",
              "      <th>0</th>\n",
              "      <td>0.967030</td>\n",
              "      <td>9.675083</td>\n",
              "    </tr>\n",
              "    <tr>\n",
              "      <th>1</th>\n",
              "      <td>0.547232</td>\n",
              "      <td>6.293266</td>\n",
              "    </tr>\n",
              "    <tr>\n",
              "      <th>2</th>\n",
              "      <td>0.972684</td>\n",
              "      <td>9.730614</td>\n",
              "    </tr>\n",
              "    <tr>\n",
              "      <th>3</th>\n",
              "      <td>0.714816</td>\n",
              "      <td>7.474346</td>\n",
              "    </tr>\n",
              "    <tr>\n",
              "      <th>4</th>\n",
              "      <td>0.697729</td>\n",
              "      <td>7.342933</td>\n",
              "    </tr>\n",
              "    <tr>\n",
              "      <th>5</th>\n",
              "      <td>0.216089</td>\n",
              "      <td>4.619033</td>\n",
              "    </tr>\n",
              "    <tr>\n",
              "      <th>6</th>\n",
              "      <td>0.976274</td>\n",
              "      <td>9.765597</td>\n",
              "    </tr>\n",
              "    <tr>\n",
              "      <th>7</th>\n",
              "      <td>0.006230</td>\n",
              "      <td>4.012784</td>\n",
              "    </tr>\n",
              "    <tr>\n",
              "      <th>8</th>\n",
              "      <td>0.252982</td>\n",
              "      <td>4.762698</td>\n",
              "    </tr>\n",
              "    <tr>\n",
              "      <th>9</th>\n",
              "      <td>0.434792</td>\n",
              "      <td>5.626166</td>\n",
              "    </tr>\n",
              "    <tr>\n",
              "      <th>10</th>\n",
              "      <td>0.779383</td>\n",
              "      <td>7.989045</td>\n",
              "    </tr>\n",
              "    <tr>\n",
              "      <th>11</th>\n",
              "      <td>0.197685</td>\n",
              "      <td>4.552625</td>\n",
              "    </tr>\n",
              "    <tr>\n",
              "      <th>12</th>\n",
              "      <td>0.862993</td>\n",
              "      <td>8.705537</td>\n",
              "    </tr>\n",
              "    <tr>\n",
              "      <th>13</th>\n",
              "      <td>0.983401</td>\n",
              "      <td>9.835217</td>\n",
              "    </tr>\n",
              "    <tr>\n",
              "      <th>14</th>\n",
              "      <td>0.163842</td>\n",
              "      <td>4.435220</td>\n",
              "    </tr>\n",
              "    <tr>\n",
              "      <th>15</th>\n",
              "      <td>0.597334</td>\n",
              "      <td>6.622444</td>\n",
              "    </tr>\n",
              "    <tr>\n",
              "      <th>16</th>\n",
              "      <td>0.008986</td>\n",
              "      <td>4.018820</td>\n",
              "    </tr>\n",
              "    <tr>\n",
              "      <th>17</th>\n",
              "      <td>0.386571</td>\n",
              "      <td>5.371530</td>\n",
              "    </tr>\n",
              "    <tr>\n",
              "      <th>18</th>\n",
              "      <td>0.044160</td>\n",
              "      <td>4.096522</td>\n",
              "    </tr>\n",
              "    <tr>\n",
              "      <th>19</th>\n",
              "      <td>0.956653</td>\n",
              "      <td>9.574695</td>\n",
              "    </tr>\n",
              "  </tbody>\n",
              "</table>\n",
              "</div>\n",
              "    <div class=\"colab-df-buttons\">\n",
              "\n",
              "  <div class=\"colab-df-container\">\n",
              "    <button class=\"colab-df-convert\" onclick=\"convertToInteractive('df-aa384767-4bbe-491c-868a-8ff50a6d3757')\"\n",
              "            title=\"Convert this dataframe to an interactive table.\"\n",
              "            style=\"display:none;\">\n",
              "\n",
              "  <svg xmlns=\"http://www.w3.org/2000/svg\" height=\"24px\" viewBox=\"0 -960 960 960\">\n",
              "    <path d=\"M120-120v-720h720v720H120Zm60-500h600v-160H180v160Zm220 220h160v-160H400v160Zm0 220h160v-160H400v160ZM180-400h160v-160H180v160Zm440 0h160v-160H620v160ZM180-180h160v-160H180v160Zm440 0h160v-160H620v160Z\"/>\n",
              "  </svg>\n",
              "    </button>\n",
              "\n",
              "  <style>\n",
              "    .colab-df-container {\n",
              "      display:flex;\n",
              "      gap: 12px;\n",
              "    }\n",
              "\n",
              "    .colab-df-convert {\n",
              "      background-color: #E8F0FE;\n",
              "      border: none;\n",
              "      border-radius: 50%;\n",
              "      cursor: pointer;\n",
              "      display: none;\n",
              "      fill: #1967D2;\n",
              "      height: 32px;\n",
              "      padding: 0 0 0 0;\n",
              "      width: 32px;\n",
              "    }\n",
              "\n",
              "    .colab-df-convert:hover {\n",
              "      background-color: #E2EBFA;\n",
              "      box-shadow: 0px 1px 2px rgba(60, 64, 67, 0.3), 0px 1px 3px 1px rgba(60, 64, 67, 0.15);\n",
              "      fill: #174EA6;\n",
              "    }\n",
              "\n",
              "    .colab-df-buttons div {\n",
              "      margin-bottom: 4px;\n",
              "    }\n",
              "\n",
              "    [theme=dark] .colab-df-convert {\n",
              "      background-color: #3B4455;\n",
              "      fill: #D2E3FC;\n",
              "    }\n",
              "\n",
              "    [theme=dark] .colab-df-convert:hover {\n",
              "      background-color: #434B5C;\n",
              "      box-shadow: 0px 1px 3px 1px rgba(0, 0, 0, 0.15);\n",
              "      filter: drop-shadow(0px 1px 2px rgba(0, 0, 0, 0.3));\n",
              "      fill: #FFFFFF;\n",
              "    }\n",
              "  </style>\n",
              "\n",
              "    <script>\n",
              "      const buttonEl =\n",
              "        document.querySelector('#df-aa384767-4bbe-491c-868a-8ff50a6d3757 button.colab-df-convert');\n",
              "      buttonEl.style.display =\n",
              "        google.colab.kernel.accessAllowed ? 'block' : 'none';\n",
              "\n",
              "      async function convertToInteractive(key) {\n",
              "        const element = document.querySelector('#df-aa384767-4bbe-491c-868a-8ff50a6d3757');\n",
              "        const dataTable =\n",
              "          await google.colab.kernel.invokeFunction('convertToInteractive',\n",
              "                                                    [key], {});\n",
              "        if (!dataTable) return;\n",
              "\n",
              "        const docLinkHtml = 'Like what you see? Visit the ' +\n",
              "          '<a target=\"_blank\" href=https://colab.research.google.com/notebooks/data_table.ipynb>data table notebook</a>'\n",
              "          + ' to learn more about interactive tables.';\n",
              "        element.innerHTML = '';\n",
              "        dataTable['output_type'] = 'display_data';\n",
              "        await google.colab.output.renderOutput(dataTable, element);\n",
              "        const docLink = document.createElement('div');\n",
              "        docLink.innerHTML = docLinkHtml;\n",
              "        element.appendChild(docLink);\n",
              "      }\n",
              "    </script>\n",
              "  </div>\n",
              "\n",
              "\n",
              "<div id=\"df-960735ba-d994-495e-a214-0431209cd6b8\">\n",
              "  <button class=\"colab-df-quickchart\" onclick=\"quickchart('df-960735ba-d994-495e-a214-0431209cd6b8')\"\n",
              "            title=\"Suggest charts.\"\n",
              "            style=\"display:none;\">\n",
              "\n",
              "<svg xmlns=\"http://www.w3.org/2000/svg\" height=\"24px\"viewBox=\"0 0 24 24\"\n",
              "     width=\"24px\">\n",
              "    <g>\n",
              "        <path d=\"M19 3H5c-1.1 0-2 .9-2 2v14c0 1.1.9 2 2 2h14c1.1 0 2-.9 2-2V5c0-1.1-.9-2-2-2zM9 17H7v-7h2v7zm4 0h-2V7h2v10zm4 0h-2v-4h2v4z\"/>\n",
              "    </g>\n",
              "</svg>\n",
              "  </button>\n",
              "\n",
              "<style>\n",
              "  .colab-df-quickchart {\n",
              "    background-color: #E8F0FE;\n",
              "    border: none;\n",
              "    border-radius: 50%;\n",
              "    cursor: pointer;\n",
              "    display: none;\n",
              "    fill: #1967D2;\n",
              "    height: 32px;\n",
              "    padding: 0 0 0 0;\n",
              "    width: 32px;\n",
              "  }\n",
              "\n",
              "  .colab-df-quickchart:hover {\n",
              "    background-color: #E2EBFA;\n",
              "    box-shadow: 0px 1px 2px rgba(60, 64, 67, 0.3), 0px 1px 3px 1px rgba(60, 64, 67, 0.15);\n",
              "    fill: #174EA6;\n",
              "  }\n",
              "\n",
              "  [theme=dark] .colab-df-quickchart {\n",
              "    background-color: #3B4455;\n",
              "    fill: #D2E3FC;\n",
              "  }\n",
              "\n",
              "  [theme=dark] .colab-df-quickchart:hover {\n",
              "    background-color: #434B5C;\n",
              "    box-shadow: 0px 1px 3px 1px rgba(0, 0, 0, 0.15);\n",
              "    filter: drop-shadow(0px 1px 2px rgba(0, 0, 0, 0.3));\n",
              "    fill: #FFFFFF;\n",
              "  }\n",
              "</style>\n",
              "\n",
              "  <script>\n",
              "    async function quickchart(key) {\n",
              "      const charts = await google.colab.kernel.invokeFunction(\n",
              "          'suggestCharts', [key], {});\n",
              "    }\n",
              "    (() => {\n",
              "      let quickchartButtonEl =\n",
              "        document.querySelector('#df-960735ba-d994-495e-a214-0431209cd6b8 button');\n",
              "      quickchartButtonEl.style.display =\n",
              "        google.colab.kernel.accessAllowed ? 'block' : 'none';\n",
              "    })();\n",
              "  </script>\n",
              "</div>\n",
              "    </div>\n",
              "  </div>\n"
            ]
          },
          "metadata": {},
          "execution_count": 66
        }
      ]
    },
    {
      "cell_type": "code",
      "source": [
        "train_x = np.array(train[\"Income\"])\n",
        "train_y = np.array(train[\"Balance\"])\n",
        "test_x = np.array(test['Income'])\n",
        "test_y = np.array(test['Balance'])"
      ],
      "metadata": {
        "id": "-FGspxeB5LnF"
      },
      "execution_count": 67,
      "outputs": []
    },
    {
      "cell_type": "code",
      "source": [],
      "metadata": {
        "id": "VDvk21mr2TrM"
      },
      "execution_count": 67,
      "outputs": []
    },
    {
      "cell_type": "markdown",
      "source": [
        "Now find all the respective values to get the value of B0 and B1.\n",
        "u = [β1 β0]   = (AᵀA)⁻¹(AᵀY)\n"
      ],
      "metadata": {
        "id": "r_DMDDTe082E"
      }
    },
    {
      "cell_type": "code",
      "source": [
        "A=[]\n",
        "for i in range(len(train_x)):\n",
        "  list1 = [train_x[i],1]\n",
        "  A.append(list1)\n",
        "\n",
        "Aᵀ = np.transpose(A)\n",
        "\n"
      ],
      "metadata": {
        "id": "a0i_gabr679d"
      },
      "execution_count": 68,
      "outputs": []
    },
    {
      "cell_type": "markdown",
      "source": [
        "* r1 = (AᵀA)\n",
        "* r2 = (AᵀY)\n",
        "\n"
      ],
      "metadata": {
        "id": "4T5nXOFi4CAY"
      }
    },
    {
      "cell_type": "code",
      "source": [
        "\n",
        "r1 = np.dot(Aᵀ,A)\n",
        "r1_inv = np.linalg.inv(r1)\n",
        "r1_inv"
      ],
      "metadata": {
        "colab": {
          "base_uri": "https://localhost:8080/",
          "height": 0
        },
        "id": "oiobuqsj7Qub",
        "outputId": "d3c2a274-bcd2-45ec-d7ef-3d52b3698579"
      },
      "execution_count": 69,
      "outputs": [
        {
          "output_type": "execute_result",
          "data": {
            "text/plain": [
              "array([[ 1.2177048 , -0.56927991],\n",
              "       [-0.56927991,  0.36613973]])"
            ]
          },
          "metadata": {},
          "execution_count": 69
        }
      ]
    },
    {
      "cell_type": "code",
      "source": [
        "r2 = np.dot(Aᵀ,train_y)\n",
        "b1,b0 = np.dot(r1_inv,r2)\n",
        "\n",
        "print(f\"The value of B1 is {b1} and B0 is {b0}\")\n"
      ],
      "metadata": {
        "colab": {
          "base_uri": "https://localhost:8080/",
          "height": 0
        },
        "id": "80gv9Uq68DdL",
        "outputId": "a93d37e0-0f73-450e-c818-643f44d59e88"
      },
      "execution_count": 70,
      "outputs": [
        {
          "output_type": "stream",
          "name": "stdout",
          "text": [
            "The value of B1 is 6.997123062019306 and B0 is 2.64562587541063\n"
          ]
        }
      ]
    },
    {
      "cell_type": "markdown",
      "source": [
        "Prediciting the values for train data"
      ],
      "metadata": {
        "id": "EOEDT2yL-moI"
      }
    },
    {
      "cell_type": "code",
      "source": [
        "predicted_y1=[]\n",
        "for i in train_x:\n",
        "  predicted_y1.append((b0) + b1*(i))\n",
        "predicted_y1\n"
      ],
      "metadata": {
        "colab": {
          "base_uri": "https://localhost:8080/",
          "height": 0
        },
        "id": "gJ3NETpu-lgo",
        "outputId": "b53400f0-39d3-4911-9569-941d7a468e00"
      },
      "execution_count": 71,
      "outputs": [
        {
          "output_type": "execute_result",
          "data": {
            "text/plain": [
              "[6.49962726372474,\n",
              " 7.600624577533478,\n",
              " 4.681123959767357,\n",
              " 6.219952254935828,\n",
              " 8.893685922271583,\n",
              " 8.9170982960371,\n",
              " 3.5243595751543246,\n",
              " 4.0957306501526975,\n",
              " 3.0057468080435776,\n",
              " 5.730027692379361]"
            ]
          },
          "metadata": {},
          "execution_count": 71
        }
      ]
    },
    {
      "cell_type": "markdown",
      "source": [
        "Predicting the values for test data"
      ],
      "metadata": {
        "id": "H-F7PMO09HK_"
      }
    },
    {
      "cell_type": "code",
      "source": [
        "predicted_y=[]\n",
        "for i in test_x:\n",
        "  predicted_y.append((b0) + b1*(i))"
      ],
      "metadata": {
        "id": "YakdBHs4B80Y"
      },
      "execution_count": 72,
      "outputs": []
    },
    {
      "cell_type": "code",
      "source": [
        "predicted_y\n"
      ],
      "metadata": {
        "colab": {
          "base_uri": "https://localhost:8080/",
          "height": 0
        },
        "id": "7IOoiCZsCK2I",
        "outputId": "acb8b76e-7124-4d1f-db22-d9d0f4268173"
      },
      "execution_count": 73,
      "outputs": [
        {
          "output_type": "execute_result",
          "data": {
            "text/plain": [
              "[9.41205379007516,\n",
              " 6.47467552288558,\n",
              " 9.451615523867817,\n",
              " 7.6472813941110225,\n",
              " 7.527721552350299,\n",
              " 4.15762720075932,\n",
              " 9.476735195660467,\n",
              " 2.6892179520870103,\n",
              " 4.415772061886399,\n",
              " 5.6879190057921285,\n",
              " 8.099064638856422,\n",
              " 4.0288521479259165,\n",
              " 8.684094098071856,\n",
              " 9.526603691723476,\n",
              " 3.792048512137997,\n",
              " 6.825245382538871,\n",
              " 2.7085020232459356,\n",
              " 5.350510734618496,\n",
              " 2.9546188298294025,\n",
              " 9.339444644060585]"
            ]
          },
          "metadata": {},
          "execution_count": 73
        }
      ]
    },
    {
      "cell_type": "markdown",
      "source": [
        "Ploting  the actual target variable and  predicted variable for train set as well as test set."
      ],
      "metadata": {
        "id": "i9CyfWHi9RMZ"
      }
    },
    {
      "cell_type": "markdown",
      "source": [
        "Below plot shows the predicted values of y vs in training data"
      ],
      "metadata": {
        "id": "N1h6wHVo-5_U"
      }
    },
    {
      "cell_type": "code",
      "source": [
        "plt.scatter(train_x,train_y)\n",
        "plt.plot(train_x,predicted_y1)\n",
        "plt.xlabel(\"Income\")\n",
        "plt.ylabel(\"Balance\")\n",
        "plt.show()"
      ],
      "metadata": {
        "colab": {
          "base_uri": "https://localhost:8080/",
          "height": 449
        },
        "id": "W284wI2n-ajA",
        "outputId": "230168c3-da3a-4add-fd1b-e9e93c01a21d"
      },
      "execution_count": 74,
      "outputs": [
        {
          "output_type": "display_data",
          "data": {
            "text/plain": [
              "<Figure size 640x480 with 1 Axes>"
            ],
            "image/png": "[encoded data removed]"
          },
          "metadata": {}
        }
      ]
    },
    {
      "cell_type": "markdown",
      "source": [
        "Below plot shows the predicted values of y in testing data"
      ],
      "metadata": {
        "id": "PZgCW9HT_JJy"
      }
    },
    {
      "cell_type": "code",
      "source": [
        "plt.scatter(test_x,test_y)\n",
        "plt.plot(test_x,predicted_y)\n",
        "plt.xlabel(\"Income\")\n",
        "plt.ylabel(\"Balance\")\n",
        "plt.show()"
      ],
      "metadata": {
        "colab": {
          "base_uri": "https://localhost:8080/",
          "height": 449
        },
        "id": "jt-357B8Dh1H",
        "outputId": "c34556cd-daf0-4662-f4f6-729f3d6f12b2"
      },
      "execution_count": 75,
      "outputs": [
        {
          "output_type": "display_data",
          "data": {
            "text/plain": [
              "<Figure size 640x480 with 1 Axes>"
            ],
            "image/png": "[encoded data removed]"
          },
          "metadata": {}
        }
      ]
    },
    {
      "cell_type": "markdown",
      "source": [
        "# RMSE(Root Man Square Error) values for train and test are given below:"
      ],
      "metadata": {
        "id": "zjD4GrcugSp5"
      }
    },
    {
      "cell_type": "code",
      "source": [
        "RMSEtrain = 0\n",
        "for i in range(len(predicted_y1)):\n",
        "  RMSEtrain += ((predicted_y1[i]-train_y[i])**2)\n",
        "RMSEtrain = (RMSEtrain/len(predicted_y1))**0.5\n",
        "print(\"The RMSE of train data is \",RMSEtrain)"
      ],
      "metadata": {
        "colab": {
          "base_uri": "https://localhost:8080/",
          "height": 0
        },
        "id": "7vFWQoSle_Ar",
        "outputId": "f5028af7-18cf-48cc-838f-452235a53037"
      },
      "execution_count": 76,
      "outputs": [
        {
          "output_type": "stream",
          "name": "stdout",
          "text": [
            "The RMSE of train data is  0.5947146505834614\n"
          ]
        }
      ]
    },
    {
      "cell_type": "code",
      "source": [
        "RMSEtest = 0\n",
        "for i in range(len(predicted_y)):\n",
        "  RMSEtest += ((predicted_y[i]-test_y[i])**2)\n",
        "RMSEtest = (RMSEtest/len(predicted_y))**0.5\n",
        "print(\"The RMSE of test data is \",RMSEtest)"
      ],
      "metadata": {
        "id": "4ciEyIw4FRM_",
        "colab": {
          "base_uri": "https://localhost:8080/",
          "height": 0
        },
        "outputId": "382a534b-01b5-41aa-9024-f7517584c1e7"
      },
      "execution_count": 77,
      "outputs": [
        {
          "output_type": "stream",
          "name": "stdout",
          "text": [
            "The RMSE of test data is  0.5625799860234549\n"
          ]
        }
      ]
    },
    {
      "cell_type": "markdown",
      "source": [
        "# SSE(Sum of Square Error) values for train and test are given below:"
      ],
      "metadata": {
        "id": "Es3gmeC3hZBQ"
      }
    },
    {
      "cell_type": "code",
      "source": [
        "SSEtrain = 0\n",
        "for i in range(len(predicted_y1)):\n",
        "  SSEtrain += ((predicted_y1[i]-train_y[i])**2)\n",
        "print(\"The SSE of train data is \",SSEtrain)"
      ],
      "metadata": {
        "id": "t01JaZubFotH",
        "colab": {
          "base_uri": "https://localhost:8080/",
          "height": 0
        },
        "outputId": "bb81085d-a1a6-441d-aab6-d21b807fe61b"
      },
      "execution_count": 78,
      "outputs": [
        {
          "output_type": "stream",
          "name": "stdout",
          "text": [
            "The SSE of train data is  3.5368551561860855\n"
          ]
        }
      ]
    },
    {
      "cell_type": "code",
      "source": [
        "SSEtest = 0\n",
        "for i in range(len(predicted_y)):\n",
        "  SSEtest += ((predicted_y[i]-test_y[i])**2)\n",
        "print(\"The SSE of test data is \",SSEtest)"
      ],
      "metadata": {
        "colab": {
          "base_uri": "https://localhost:8080/",
          "height": 0
        },
        "id": "iipe7VOmhbgw",
        "outputId": "4ed235de-9d8c-4925-8e71-540acde31498"
      },
      "execution_count": 79,
      "outputs": [
        {
          "output_type": "stream",
          "name": "stdout",
          "text": [
            "The SSE of test data is  6.329924813483014\n"
          ]
        }
      ]
    },
    {
      "cell_type": "markdown",
      "source": [
        "# NMSE(Normalized Mean Square Error) values for train and test are given below:"
      ],
      "metadata": {
        "id": "XwPybXZQiETd"
      }
    },
    {
      "cell_type": "code",
      "source": [
        "meantrain = np.mean(train_y)\n",
        "\n",
        "NMSEtrain = 0\n",
        "SSTtrain =0\n",
        "for i in range(len(predicted_y1)):\n",
        "  SSTtrain += ((train_y[i]-meantrain)**2)\n",
        "\n",
        "NMSEtrain += SSEtrain/SSTtrain\n",
        "print(\"The NMSE of train data is \",NMSEtrain)"
      ],
      "metadata": {
        "colab": {
          "base_uri": "https://localhost:8080/",
          "height": 0
        },
        "id": "JgZ-zl67h-cm",
        "outputId": "f33f98cb-d55f-4dab-c8a9-2051d01fdd22"
      },
      "execution_count": 80,
      "outputs": [
        {
          "output_type": "stream",
          "name": "stdout",
          "text": [
            "The NMSE of train data is  0.08085455752806696\n"
          ]
        }
      ]
    },
    {
      "cell_type": "code",
      "source": [
        "meantest = np.mean(test_y)\n",
        "NMSEtest = 0\n",
        "SSTtest =0\n",
        "for i in range(len(predicted_y)):\n",
        "  SSTtest += ((test_y[i]-meantest)**2)\n",
        "\n",
        "NMSEtest += SSEtest/SSTtest\n",
        "print(\"The NMSE of test data is \",NMSEtest)"
      ],
      "metadata": {
        "colab": {
          "base_uri": "https://localhost:8080/",
          "height": 0
        },
        "id": "EPkcBq5hiIba",
        "outputId": "e50fd0fe-c643-42d4-f2b5-a47a7b4c8497"
      },
      "execution_count": 81,
      "outputs": [
        {
          "output_type": "stream",
          "name": "stdout",
          "text": [
            "The NMSE of test data is  0.06711648024855073\n"
          ]
        }
      ]
    },
    {
      "cell_type": "markdown",
      "source": [
        "# MAE(Mean absolute Error) values for train and test are given below:"
      ],
      "metadata": {
        "id": "pcUPKl_ElZOd"
      }
    },
    {
      "cell_type": "code",
      "source": [
        "MAEtrain = 0\n",
        "for i in range(len(predicted_y1)):\n",
        "  MAEtrain += abs((predicted_y1[i]-train_y[i]))\n",
        "MAEtrain = (MAEtrain/len(predicted_y1))\n",
        "print(\"The MAE of train data is \",MAEtrain)"
      ],
      "metadata": {
        "colab": {
          "base_uri": "https://localhost:8080/",
          "height": 0
        },
        "id": "6lbCL_EQi1zE",
        "outputId": "df165de9-50c1-46ac-ed85-ceb062423aa8"
      },
      "execution_count": 82,
      "outputs": [
        {
          "output_type": "stream",
          "name": "stdout",
          "text": [
            "The MAE of train data is  0.5641046727455415\n"
          ]
        }
      ]
    },
    {
      "cell_type": "code",
      "source": [
        "MAEtest = 0\n",
        "for i in range(len(predicted_y)):\n",
        "  MAEtest+= abs((predicted_y[i]-test_y[i]))\n",
        "MAEtest = (MAEtest/len(predicted_y))\n",
        "print(\"The MAE of test data is \",MAEtest)"
      ],
      "metadata": {
        "colab": {
          "base_uri": "https://localhost:8080/",
          "height": 0
        },
        "id": "9XWFD9wHlzO-",
        "outputId": "37460774-978b-434e-d34c-441c2d7d56d1"
      },
      "execution_count": 83,
      "outputs": [
        {
          "output_type": "stream",
          "name": "stdout",
          "text": [
            "The MAE of test data is  0.4040993045292243\n"
          ]
        }
      ]
    },
    {
      "cell_type": "markdown",
      "source": [
        "# MAPE(Mean Absolute Precentage of Error) values for train and test are given below:"
      ],
      "metadata": {
        "id": "68Sl1XYmmU-f"
      }
    },
    {
      "cell_type": "code",
      "source": [
        "MAPEtrain = 0\n",
        "for i in range(len(predicted_y1)):\n",
        "  MAPEtrain += abs(((predicted_y1[i]-train_y[i]))/train_y[i])\n",
        "MAPEtrain = (MAPEtrain/len(predicted_y1))*100\n",
        "print(\"The MAPE of train data is \",MAPEtrain)"
      ],
      "metadata": {
        "colab": {
          "base_uri": "https://localhost:8080/",
          "height": 0
        },
        "id": "DzK_h5fMmN5V",
        "outputId": "d8813cf1-7bc3-4bd6-af36-22d20296bf28"
      },
      "execution_count": 84,
      "outputs": [
        {
          "output_type": "stream",
          "name": "stdout",
          "text": [
            "The MAPE of train data is  11.589997549008832\n"
          ]
        }
      ]
    },
    {
      "cell_type": "code",
      "source": [
        "MAPEtest = 0\n",
        "for i in range(len(predicted_y)):\n",
        "  MAPEtest+= abs(((predicted_y[i]-test_y[i]))/test_y[i])\n",
        "MAPEtest = (MAPEtest/len(predicted_y))*100\n",
        "print(\"The MAPE of test data is \",MAPEtest)"
      ],
      "metadata": {
        "colab": {
          "base_uri": "https://localhost:8080/",
          "height": 0
        },
        "id": "BC9L3wY2min9",
        "outputId": "09692381-f330-49dc-a0de-0eda8bf03e37"
      },
      "execution_count": 85,
      "outputs": [
        {
          "output_type": "stream",
          "name": "stdout",
          "text": [
            "The MAPE of test data is  8.238459707938958\n"
          ]
        }
      ]
    },
    {
      "cell_type": "markdown",
      "source": [
        "# R^2 values for train and test are given below:"
      ],
      "metadata": {
        "id": "uxRhzLHzpUdI"
      }
    },
    {
      "cell_type": "code",
      "source": [
        "rtrain = 1 - NMSEtrain\n",
        "print(\"The R^2 of train data is \",rtrain)"
      ],
      "metadata": {
        "colab": {
          "base_uri": "https://localhost:8080/",
          "height": 0
        },
        "id": "yEPgpnYAnNPU",
        "outputId": "bb8d2191-c562-4383-ce99-f69c91598d63"
      },
      "execution_count": 88,
      "outputs": [
        {
          "output_type": "stream",
          "name": "stdout",
          "text": [
            "The R^2 of train data is  0.9191454424719331\n"
          ]
        }
      ]
    },
    {
      "cell_type": "code",
      "source": [
        "rtest = 1 - NMSEtest\n",
        "print(\"The R^2 of test data is \",rtest)"
      ],
      "metadata": {
        "colab": {
          "base_uri": "https://localhost:8080/",
          "height": 0
        },
        "id": "cmiYoGAarEVL",
        "outputId": "93ac6fe2-710c-455e-f204-5b0ad13e0671"
      },
      "execution_count": 87,
      "outputs": [
        {
          "output_type": "stream",
          "name": "stdout",
          "text": [
            "The R^2 of test data is  0.9328835197514492\n"
          ]
        }
      ]
    }
  ]
}