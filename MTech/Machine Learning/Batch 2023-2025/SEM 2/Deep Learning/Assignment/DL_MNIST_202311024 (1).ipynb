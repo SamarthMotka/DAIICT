{
  "cells": [
    {
      "cell_type": "code",
      "execution_count": 193,
      "metadata": {
        "id": "281HmVauy7fP"
      },
      "outputs": [],
      "source": [
        "\n",
        "import numpy as np\n",
        "import pandas as pd\n",
        "import tensorflow as tf\n",
        "from tensorflow.keras import layers, models\n",
        "from tensorflow.keras.datasets import mnist\n",
        "from tensorflow.keras.utils import to_categorical\n",
        "from sklearn.model_selection import train_test_split\n",
        "from sklearn.metrics import confusion_matrix, classification_report\n",
        "from tensorflow.keras.layers import Input, Conv2D, MaxPooling2D, Flatten, Dense, BatchNormalization\n",
        "from tensorflow.keras.layers import Input, Conv2D, MaxPooling2D, UpSampling2D, Concatenate, BatchNormalization\n",
        "from tensorflow.keras.models import Model\n",
        "import cv2\n",
        "import os\n",
        "from tensorflow.keras.losses import SparseCategoricalCrossentropy, MeanSquaredError"
      ]
    },
    {
      "cell_type": "code",
      "execution_count": 268,
      "metadata": {
        "id": "bpU_X-yMzHxf"
      },
      "outputs": [],
      "source": [
        "# mnist.load_data() returns 2 tuples having 2 values each for X and y respectively\n",
        "(X_train, y_train), (X_test, y_test) = mnist.load_data()"
      ]
    },
    {
      "cell_type": "code",
      "execution_count": 269,
      "metadata": {
        "id": "EmDd34JyzigT"
      },
      "outputs": [],
      "source": [
        "# To have pixel values between 0 and 1\n",
        "X_train = X_train / 255.0\n",
        "X_test = X_test / 255.0"
      ]
    },
    {
      "cell_type": "code",
      "execution_count": 270,
      "metadata": {
        "id": "cE4-5ffo0GM-"
      },
      "outputs": [],
      "source": [
        "# One hot encoding\n",
        "num_classes = 10\n",
        "y_train_one_hot = to_categorical(y_train, num_classes)\n",
        "y_test_one_hot = to_categorical(y_test, num_classes)"
      ]
    },
    {
      "cell_type": "markdown",
      "metadata": {
        "id": "hV9oY22y8lap"
      },
      "source": [
        "# ANN for MNIST dataset"
      ]
    },
    {
      "cell_type": "code",
      "execution_count": 6,
      "metadata": {
        "id": "8gsZfMQz0lcl"
      },
      "outputs": [],
      "source": [
        "# Generalized functional API function to have variable number of dense layers and variable number of neurons\n",
        "def func_api(input_shape, no_of_dense,neurons):\n",
        "    inputs = keras.Input(shape=input_shape)\n",
        "    x = layers.Flatten()(inputs)\n",
        "    for i in range(0,no_of_dense):\n",
        "        x = keras.layers.Dense(neurons, activation=\"relu\")(x)\n",
        "    outputs = keras.layers.Dense(num_classes, activation=\"softmax\")(x)\n",
        "    model = keras.Model(inputs=inputs, outputs=outputs)\n",
        "    return model"
      ]
    },
    {
      "cell_type": "code",
      "execution_count": 7,
      "metadata": {
        "id": "sKbSU0flZ9q0"
      },
      "outputs": [],
      "source": [
        "def func_api_with_skip(input_shape, no_of_dense, neurons,layer_no_1,layer_no_2):\n",
        "    inputs = keras.Input(shape=input_shape)\n",
        "    x = layers.Flatten()(inputs)\n",
        "    dense_outputs = []\n",
        "    for i in range(0, no_of_dense):\n",
        "        x = keras.layers.Dense(neurons, activation=\"relu\")(x)\n",
        "        dense_outputs.append(x)\n",
        "    for i, output in enumerate(dense_outputs):\n",
        "      print(f\"Dense Output {i+1}: {output}\")\n",
        "    skip_connection = layers.add([dense_outputs[layer_no_1], dense_outputs[layer_no_2]])\n",
        "    outputs = keras.layers.Dense(num_classes, activation=\"softmax\")(skip_connection)\n",
        "    model = keras.Model(inputs=inputs, outputs=outputs)\n",
        "    return model"
      ]
    },
    {
      "cell_type": "code",
      "execution_count": 265,
      "metadata": {
        "id": "Ll3rnJ8019M9"
      },
      "outputs": [],
      "source": [
        "def compilee(model):\n",
        "  model.compile(optimizer='adam', loss='categorical_crossentropy', metrics=['accuracy'])\n",
        "  model.summary()"
      ]
    },
    {
      "cell_type": "code",
      "execution_count": 266,
      "metadata": {
        "id": "NFmQk97g2tb2"
      },
      "outputs": [],
      "source": [
        "def print_eval(model):\n",
        "  y_pred = model.predict(X_test)\n",
        "  y_pred_classes = np.argmax(y_pred, axis=1)\n",
        "  y_true_classes = np.argmax(y_test_one_hot, axis=1)\n",
        "  conf_matrix = confusion_matrix(y_true_classes, y_pred_classes)\n",
        "  print(\"Confusion Matrix:\")\n",
        "  print(conf_matrix)\n",
        "  class_report = classification_report(y_true_classes, y_pred_classes)\n",
        "  print(\"\\nClassification Report:\")\n",
        "  print(class_report)\n",
        "  test_accuracy = np.sum(y_pred_classes == y_true_classes) / len(y_true_classes)\n",
        "  print(\"\\nTest Accuracy:\", test_accuracy)"
      ]
    },
    {
      "cell_type": "markdown",
      "metadata": {
        "id": "YigOCF8daSjT"
      },
      "source": [
        "# ANN Without Skip Connection"
      ]
    },
    {
      "cell_type": "code",
      "execution_count": 10,
      "metadata": {
        "id": "GoLhSbmB1ot3"
      },
      "outputs": [],
      "source": [
        "# Calling Generalized functional API function to create a model having 1 dense layer with 32 neurons\n",
        "model = func_api((28,28), 0,32)"
      ]
    },
    {
      "cell_type": "code",
      "execution_count": 11,
      "metadata": {
        "colab": {
          "base_uri": "https://localhost:8080/"
        },
        "id": "p6AiBlA615Ak",
        "outputId": "9e2010b6-82ef-46de-a3a4-b5d52e657aa0"
      },
      "outputs": [
        {
          "name": "stdout",
          "output_type": "stream",
          "text": [
            "Model: \"model\"\n",
            "_________________________________________________________________\n",
            " Layer (type)                Output Shape              Param #   \n",
            "=================================================================\n",
            " input_1 (InputLayer)        [(None, 28, 28)]          0         \n",
            "                                                                 \n",
            " flatten (Flatten)           (None, 784)               0         \n",
            "                                                                 \n",
            " dense (Dense)               (None, 10)                7850      \n",
            "                                                                 \n",
            "=================================================================\n",
            "Total params: 7850 (30.66 KB)\n",
            "Trainable params: 7850 (30.66 KB)\n",
            "Non-trainable params: 0 (0.00 Byte)\n",
            "_________________________________________________________________\n"
          ]
        }
      ],
      "source": [
        "compilee(model)"
      ]
    },
    {
      "cell_type": "code",
      "execution_count": 12,
      "metadata": {
        "colab": {
          "base_uri": "https://localhost:8080/"
        },
        "id": "wJYhr-7s2G2o",
        "outputId": "003d10b3-4d19-417b-8edd-08fdb881b5e3"
      },
      "outputs": [
        {
          "name": "stdout",
          "output_type": "stream",
          "text": [
            "Epoch 1/5\n",
            "1500/1500 [==============================] - 2s 1ms/step - loss: 0.5123 - accuracy: 0.8670 - val_loss: 0.3161 - val_accuracy: 0.9122\n",
            "Epoch 2/5\n",
            "1500/1500 [==============================] - 1s 935us/step - loss: 0.3178 - accuracy: 0.9119 - val_loss: 0.2887 - val_accuracy: 0.9195\n",
            "Epoch 3/5\n",
            "1500/1500 [==============================] - 1s 933us/step - loss: 0.2933 - accuracy: 0.9190 - val_loss: 0.2788 - val_accuracy: 0.9212\n",
            "Epoch 4/5\n",
            "1500/1500 [==============================] - 1s 939us/step - loss: 0.2812 - accuracy: 0.9207 - val_loss: 0.2719 - val_accuracy: 0.9266\n",
            "Epoch 5/5\n",
            "1500/1500 [==============================] - 1s 945us/step - loss: 0.2736 - accuracy: 0.9234 - val_loss: 0.2648 - val_accuracy: 0.9266\n"
          ]
        },
        {
          "data": {
            "text/plain": [
              "<keras.src.callbacks.History at 0x2081a42d910>"
            ]
          },
          "execution_count": 12,
          "metadata": {},
          "output_type": "execute_result"
        }
      ],
      "source": [
        "model.fit(X_train, y_train_one_hot, epochs=5, batch_size=32, validation_split=0.2)"
      ]
    },
    {
      "cell_type": "code",
      "execution_count": 13,
      "metadata": {
        "colab": {
          "base_uri": "https://localhost:8080/"
        },
        "id": "UrB_CgbV2SLA",
        "outputId": "1fe5be5f-52a4-4616-e54e-ac1d0f4e033b"
      },
      "outputs": [
        {
          "name": "stdout",
          "output_type": "stream",
          "text": [
            "313/313 [==============================] - 0s 667us/step\n",
            "Confusion Matrix:\n",
            "[[ 955    0    1    1    0    7   10    3    3    0]\n",
            " [   0 1111    3    2    0    2    4    2   11    0]\n",
            " [   3    6  932   16    7    5   11   10   37    5]\n",
            " [   2    0   23  917    0   22    2   11   24    9]\n",
            " [   1    1    7    0  912    0   10    3    8   40]\n",
            " [   8    3    6   36    6  766   17    6   36    8]\n",
            " [   9    3    7    1    7   12  915    2    2    0]\n",
            " [   1    5   24    5    7    0    0  947    2   37]\n",
            " [   4    7    7   16    9   20   10   11  876   14]\n",
            " [   9    5    2    9   21    8    0   17    8  930]]\n",
            "\n",
            "Classification Report:\n",
            "              precision    recall  f1-score   support\n",
            "\n",
            "           0       0.96      0.97      0.97       980\n",
            "           1       0.97      0.98      0.98      1135\n",
            "           2       0.92      0.90      0.91      1032\n",
            "           3       0.91      0.91      0.91      1010\n",
            "           4       0.94      0.93      0.93       982\n",
            "           5       0.91      0.86      0.88       892\n",
            "           6       0.93      0.96      0.94       958\n",
            "           7       0.94      0.92      0.93      1028\n",
            "           8       0.87      0.90      0.88       974\n",
            "           9       0.89      0.92      0.91      1009\n",
            "\n",
            "    accuracy                           0.93     10000\n",
            "   macro avg       0.93      0.92      0.93     10000\n",
            "weighted avg       0.93      0.93      0.93     10000\n",
            "\n",
            "\n",
            "Test Accuracy: 0.9261\n"
          ]
        }
      ],
      "source": [
        "print_eval(model)"
      ]
    },
    {
      "cell_type": "code",
      "execution_count": 14,
      "metadata": {
        "colab": {
          "base_uri": "https://localhost:8080/"
        },
        "id": "AuoxhCbI2YdO",
        "outputId": "17b20fb2-5fc6-4449-bf83-e41a75d20fc8"
      },
      "outputs": [
        {
          "name": "stdout",
          "output_type": "stream",
          "text": [
            "Model: \"model_1\"\n",
            "_________________________________________________________________\n",
            " Layer (type)                Output Shape              Param #   \n",
            "=================================================================\n",
            " input_2 (InputLayer)        [(None, 28, 28)]          0         \n",
            "                                                                 \n",
            " flatten_1 (Flatten)         (None, 784)               0         \n",
            "                                                                 \n",
            " dense_1 (Dense)             (None, 32)                25120     \n",
            "                                                                 \n",
            " dense_2 (Dense)             (None, 32)                1056      \n",
            "                                                                 \n",
            " dense_3 (Dense)             (None, 10)                330       \n",
            "                                                                 \n",
            "=================================================================\n",
            "Total params: 26506 (103.54 KB)\n",
            "Trainable params: 26506 (103.54 KB)\n",
            "Non-trainable params: 0 (0.00 Byte)\n",
            "_________________________________________________________________\n",
            "Epoch 1/5\n",
            "1500/1500 [==============================] - 2s 1ms/step - loss: 0.3831 - accuracy: 0.8904 - val_loss: 0.2240 - val_accuracy: 0.9382\n",
            "Epoch 2/5\n",
            "1500/1500 [==============================] - 2s 1ms/step - loss: 0.1948 - accuracy: 0.9432 - val_loss: 0.1723 - val_accuracy: 0.9498\n",
            "Epoch 3/5\n",
            "1500/1500 [==============================] - 2s 1ms/step - loss: 0.1575 - accuracy: 0.9531 - val_loss: 0.1495 - val_accuracy: 0.9557\n",
            "Epoch 4/5\n",
            "1500/1500 [==============================] - 2s 1ms/step - loss: 0.1313 - accuracy: 0.9615 - val_loss: 0.1567 - val_accuracy: 0.9544\n",
            "Epoch 5/5\n",
            "1500/1500 [==============================] - 2s 1ms/step - loss: 0.1157 - accuracy: 0.9653 - val_loss: 0.1390 - val_accuracy: 0.9605\n"
          ]
        },
        {
          "data": {
            "text/plain": [
              "<keras.src.callbacks.History at 0x2081a4b3850>"
            ]
          },
          "execution_count": 14,
          "metadata": {},
          "output_type": "execute_result"
        }
      ],
      "source": [
        "# Calling Generalized functional API function to create a model having 3 dense layer with 32 neurons\n",
        "# Also compiling and fitting the model\n",
        "model = func_api((28,28), 2,32)\n",
        "compilee(model)\n",
        "model.fit(X_train, y_train_one_hot, epochs=5, batch_size=32, validation_split=0.2)"
      ]
    },
    {
      "cell_type": "code",
      "execution_count": 15,
      "metadata": {
        "colab": {
          "base_uri": "https://localhost:8080/"
        },
        "id": "oYi_k5qw3aMH",
        "outputId": "9816da1b-8c30-43cb-8172-164a88b6d489"
      },
      "outputs": [
        {
          "name": "stdout",
          "output_type": "stream",
          "text": [
            "313/313 [==============================] - 0s 657us/step\n",
            "Confusion Matrix:\n",
            "[[ 969    0    2    2    0    1    3    2    1    0]\n",
            " [   0 1122    1    2    0    1    5    0    4    0]\n",
            " [   3    2  994   12    1    1    2    5   12    0]\n",
            " [   0    1    3  986    1    6    1    6    5    1]\n",
            " [   2    0   12    2  934    0    7    5    5   15]\n",
            " [   3    0    0   20    3  845   11    0    8    2]\n",
            " [   5    3    4    1    1    9  930    1    4    0]\n",
            " [   1    9   14   18    0    1    0  971    1   13]\n",
            " [   2    2    4   31    3    2    6    5  919    0]\n",
            " [   6    6    2   21   17    6    1   15   20  915]]\n",
            "\n",
            "Classification Report:\n",
            "              precision    recall  f1-score   support\n",
            "\n",
            "           0       0.98      0.99      0.98       980\n",
            "           1       0.98      0.99      0.98      1135\n",
            "           2       0.96      0.96      0.96      1032\n",
            "           3       0.90      0.98      0.94      1010\n",
            "           4       0.97      0.95      0.96       982\n",
            "           5       0.97      0.95      0.96       892\n",
            "           6       0.96      0.97      0.97       958\n",
            "           7       0.96      0.94      0.95      1028\n",
            "           8       0.94      0.94      0.94       974\n",
            "           9       0.97      0.91      0.94      1009\n",
            "\n",
            "    accuracy                           0.96     10000\n",
            "   macro avg       0.96      0.96      0.96     10000\n",
            "weighted avg       0.96      0.96      0.96     10000\n",
            "\n",
            "\n",
            "Test Accuracy: 0.9585\n"
          ]
        }
      ],
      "source": [
        "print_eval(model)"
      ]
    },
    {
      "cell_type": "code",
      "execution_count": 16,
      "metadata": {
        "colab": {
          "base_uri": "https://localhost:8080/"
        },
        "id": "Ba37cqXh3owJ",
        "outputId": "8ff20c6b-5de5-4026-f558-4f2676d82ce5"
      },
      "outputs": [
        {
          "name": "stdout",
          "output_type": "stream",
          "text": [
            "Model: \"model_2\"\n",
            "_________________________________________________________________\n",
            " Layer (type)                Output Shape              Param #   \n",
            "=================================================================\n",
            " input_3 (InputLayer)        [(None, 28, 28)]          0         \n",
            "                                                                 \n",
            " flatten_2 (Flatten)         (None, 784)               0         \n",
            "                                                                 \n",
            " dense_4 (Dense)             (None, 32)                25120     \n",
            "                                                                 \n",
            " dense_5 (Dense)             (None, 32)                1056      \n",
            "                                                                 \n",
            " dense_6 (Dense)             (None, 32)                1056      \n",
            "                                                                 \n",
            " dense_7 (Dense)             (None, 32)                1056      \n",
            "                                                                 \n",
            " dense_8 (Dense)             (None, 10)                330       \n",
            "                                                                 \n",
            "=================================================================\n",
            "Total params: 28618 (111.79 KB)\n",
            "Trainable params: 28618 (111.79 KB)\n",
            "Non-trainable params: 0 (0.00 Byte)\n",
            "_________________________________________________________________\n",
            "Epoch 1/5\n",
            "1500/1500 [==============================] - 3s 1ms/step - loss: 0.3824 - accuracy: 0.8842 - val_loss: 0.2264 - val_accuracy: 0.9339\n",
            "Epoch 2/5\n",
            "1500/1500 [==============================] - 2s 1ms/step - loss: 0.1801 - accuracy: 0.9469 - val_loss: 0.1722 - val_accuracy: 0.9483\n",
            "Epoch 3/5\n",
            "1500/1500 [==============================] - 2s 1ms/step - loss: 0.1419 - accuracy: 0.9575 - val_loss: 0.1429 - val_accuracy: 0.9569\n",
            "Epoch 4/5\n",
            "1500/1500 [==============================] - 2s 1ms/step - loss: 0.1210 - accuracy: 0.9626 - val_loss: 0.1407 - val_accuracy: 0.9600\n",
            "Epoch 5/5\n",
            "1500/1500 [==============================] - 2s 1ms/step - loss: 0.1039 - accuracy: 0.9680 - val_loss: 0.1276 - val_accuracy: 0.9627\n"
          ]
        },
        {
          "data": {
            "text/plain": [
              "<keras.src.callbacks.History at 0x20818e67040>"
            ]
          },
          "execution_count": 16,
          "metadata": {},
          "output_type": "execute_result"
        }
      ],
      "source": [
        "# Calling Generalized functional API function to create a model having 5 dense layer with 32 neurons\n",
        "# Also compiling and fitting the model\n",
        "model = func_api((28,28), 4,32)\n",
        "compilee(model)\n",
        "model.fit(X_train, y_train_one_hot, epochs=5, batch_size=32, validation_split=0.2)"
      ]
    },
    {
      "cell_type": "code",
      "execution_count": 17,
      "metadata": {
        "colab": {
          "base_uri": "https://localhost:8080/"
        },
        "id": "7CGj5YA73xNR",
        "outputId": "eee68c67-ac79-438c-fe57-143f10e8d36c"
      },
      "outputs": [
        {
          "name": "stdout",
          "output_type": "stream",
          "text": [
            "313/313 [==============================] - 0s 692us/step\n",
            "Confusion Matrix:\n",
            "[[ 964    0    1    3    1    3    6    0    1    1]\n",
            " [   0 1120    5    4    0    1    3    0    2    0]\n",
            " [   6    0 1006    8    2    2    4    2    2    0]\n",
            " [   0    0   18  977    0    4    0    4    4    3]\n",
            " [   1    0    6    0  950    0    4    3    0   18]\n",
            " [   2    0    3   18    1  852    9    1    2    4]\n",
            " [  10    3    2    2    4    4  932    0    1    0]\n",
            " [   0    4   21    6    2    1    0  979    2   13]\n",
            " [   7    0    9   20    6   10    4    4  908    6]\n",
            " [   7    2    0   12   12    6    0    7    2  961]]\n",
            "\n",
            "Classification Report:\n",
            "              precision    recall  f1-score   support\n",
            "\n",
            "           0       0.97      0.98      0.98       980\n",
            "           1       0.99      0.99      0.99      1135\n",
            "           2       0.94      0.97      0.96      1032\n",
            "           3       0.93      0.97      0.95      1010\n",
            "           4       0.97      0.97      0.97       982\n",
            "           5       0.96      0.96      0.96       892\n",
            "           6       0.97      0.97      0.97       958\n",
            "           7       0.98      0.95      0.97      1028\n",
            "           8       0.98      0.93      0.96       974\n",
            "           9       0.96      0.95      0.95      1009\n",
            "\n",
            "    accuracy                           0.96     10000\n",
            "   macro avg       0.97      0.96      0.96     10000\n",
            "weighted avg       0.97      0.96      0.96     10000\n",
            "\n",
            "\n",
            "Test Accuracy: 0.9649\n"
          ]
        }
      ],
      "source": [
        "print_eval(model)"
      ]
    },
    {
      "cell_type": "code",
      "execution_count": 18,
      "metadata": {
        "colab": {
          "base_uri": "https://localhost:8080/"
        },
        "id": "X-YGQD-4352j",
        "outputId": "d2b644d4-8600-4d03-edfb-0f1f891b06ac"
      },
      "outputs": [
        {
          "name": "stdout",
          "output_type": "stream",
          "text": [
            "Model: \"model_3\"\n",
            "_________________________________________________________________\n",
            " Layer (type)                Output Shape              Param #   \n",
            "=================================================================\n",
            " input_4 (InputLayer)        [(None, 28, 28)]          0         \n",
            "                                                                 \n",
            " flatten_3 (Flatten)         (None, 784)               0         \n",
            "                                                                 \n",
            " dense_9 (Dense)             (None, 32)                25120     \n",
            "                                                                 \n",
            " dense_10 (Dense)            (None, 32)                1056      \n",
            "                                                                 \n",
            " dense_11 (Dense)            (None, 32)                1056      \n",
            "                                                                 \n",
            " dense_12 (Dense)            (None, 32)                1056      \n",
            "                                                                 \n",
            " dense_13 (Dense)            (None, 32)                1056      \n",
            "                                                                 \n",
            " dense_14 (Dense)            (None, 32)                1056      \n",
            "                                                                 \n",
            " dense_15 (Dense)            (None, 10)                330       \n",
            "                                                                 \n",
            "=================================================================\n",
            "Total params: 30730 (120.04 KB)\n",
            "Trainable params: 30730 (120.04 KB)\n",
            "Non-trainable params: 0 (0.00 Byte)\n",
            "_________________________________________________________________\n",
            "Epoch 1/5\n",
            "1500/1500 [==============================] - 3s 1ms/step - loss: 0.4534 - accuracy: 0.8580 - val_loss: 0.2209 - val_accuracy: 0.9362\n",
            "Epoch 2/5\n",
            "1500/1500 [==============================] - 2s 1ms/step - loss: 0.1988 - accuracy: 0.9406 - val_loss: 0.1734 - val_accuracy: 0.9487\n",
            "Epoch 3/5\n",
            "1500/1500 [==============================] - 2s 1ms/step - loss: 0.1545 - accuracy: 0.9541 - val_loss: 0.1500 - val_accuracy: 0.9578\n",
            "Epoch 4/5\n",
            "1500/1500 [==============================] - 2s 1ms/step - loss: 0.1306 - accuracy: 0.9613 - val_loss: 0.1448 - val_accuracy: 0.9577\n",
            "Epoch 5/5\n",
            "1500/1500 [==============================] - 2s 1ms/step - loss: 0.1128 - accuracy: 0.9670 - val_loss: 0.1657 - val_accuracy: 0.9542\n"
          ]
        },
        {
          "data": {
            "text/plain": [
              "<keras.src.callbacks.History at 0x2081a2b0340>"
            ]
          },
          "execution_count": 18,
          "metadata": {},
          "output_type": "execute_result"
        }
      ],
      "source": [
        "# Calling Generalized functional API function to create a model having 7 dense layer with 32 neurons\n",
        "# Also compiling and fitting the model\n",
        "model = func_api((28,28), 6,32)\n",
        "compilee(model)\n",
        "model.fit(X_train, y_train_one_hot, epochs=5, batch_size=32, validation_split=0.2)"
      ]
    },
    {
      "cell_type": "code",
      "execution_count": 19,
      "metadata": {
        "colab": {
          "base_uri": "https://localhost:8080/"
        },
        "id": "meOzphgn3_Jh",
        "outputId": "07607701-2a01-4db6-cbc7-5148ccda4906"
      },
      "outputs": [
        {
          "name": "stdout",
          "output_type": "stream",
          "text": [
            "313/313 [==============================] - 0s 724us/step\n",
            "Confusion Matrix:\n",
            "[[ 968    1    0    1    1    3    3    1    2    0]\n",
            " [   0 1120    3    0    0    3    6    0    3    0]\n",
            " [   5    1  994    4    4    1    6    3   12    2]\n",
            " [   0    0   10  920    0   39    0    7   31    3]\n",
            " [   0    1    4    0  954    0    7    1    4   11]\n",
            " [   8    0    3    5    2  846    8    0   18    2]\n",
            " [   6    2    1    0    8    8  928    0    5    0]\n",
            " [   2    6   18    8    3    2    0  962    8   19]\n",
            " [   9    0    8    0    4    6    2    2  942    1]\n",
            " [   6    4    1    3   16   12    1    5   38  923]]\n",
            "\n",
            "Classification Report:\n",
            "              precision    recall  f1-score   support\n",
            "\n",
            "           0       0.96      0.99      0.98       980\n",
            "           1       0.99      0.99      0.99      1135\n",
            "           2       0.95      0.96      0.96      1032\n",
            "           3       0.98      0.91      0.94      1010\n",
            "           4       0.96      0.97      0.97       982\n",
            "           5       0.92      0.95      0.93       892\n",
            "           6       0.97      0.97      0.97       958\n",
            "           7       0.98      0.94      0.96      1028\n",
            "           8       0.89      0.97      0.92       974\n",
            "           9       0.96      0.91      0.94      1009\n",
            "\n",
            "    accuracy                           0.96     10000\n",
            "   macro avg       0.96      0.96      0.96     10000\n",
            "weighted avg       0.96      0.96      0.96     10000\n",
            "\n",
            "\n",
            "Test Accuracy: 0.9557\n"
          ]
        }
      ],
      "source": [
        "print_eval(model)"
      ]
    },
    {
      "cell_type": "code",
      "execution_count": 20,
      "metadata": {
        "id": "9Hs2DSjU4A8D"
      },
      "outputs": [],
      "source": [
        "# Observation keeping the number of neurons same I tried to vary the number of dense layers first it showed improvement in the results till 3 layers, but after that when dense layers\n",
        "# were increased there was no improvement, instead model was somewhat overfitting."
      ]
    },
    {
      "cell_type": "markdown",
      "metadata": {
        "id": "bjMnU1uyaY_j"
      },
      "source": [
        "# ANN with Skip Connection"
      ]
    },
    {
      "cell_type": "code",
      "execution_count": 21,
      "metadata": {
        "colab": {
          "base_uri": "https://localhost:8080/"
        },
        "id": "wYzpEtO7aeEc",
        "outputId": "accd71c3-84fb-4ae9-e7e8-abccb3cc0a60"
      },
      "outputs": [
        {
          "name": "stdout",
          "output_type": "stream",
          "text": [
            "Dense Output 1: KerasTensor(type_spec=TensorSpec(shape=(None, 32), dtype=tf.float32, name=None), name='dense_16/Relu:0', description=\"created by layer 'dense_16'\")\n",
            "Dense Output 2: KerasTensor(type_spec=TensorSpec(shape=(None, 32), dtype=tf.float32, name=None), name='dense_17/Relu:0', description=\"created by layer 'dense_17'\")\n",
            "Dense Output 3: KerasTensor(type_spec=TensorSpec(shape=(None, 32), dtype=tf.float32, name=None), name='dense_18/Relu:0', description=\"created by layer 'dense_18'\")\n"
          ]
        }
      ],
      "source": [
        "model_skip = func_api_with_skip((28,28),3,32,0,2)"
      ]
    },
    {
      "cell_type": "code",
      "execution_count": 22,
      "metadata": {
        "colab": {
          "base_uri": "https://localhost:8080/"
        },
        "id": "ljryKJMrGORr",
        "outputId": "489b4fe8-5b2f-488a-af1f-bcce2c659ede"
      },
      "outputs": [
        {
          "name": "stdout",
          "output_type": "stream",
          "text": [
            "Model: \"model_4\"\n",
            "__________________________________________________________________________________________________\n",
            " Layer (type)                Output Shape                 Param #   Connected to                  \n",
            "==================================================================================================\n",
            " input_5 (InputLayer)        [(None, 28, 28)]             0         []                            \n",
            "                                                                                                  \n",
            " flatten_4 (Flatten)         (None, 784)                  0         ['input_5[0][0]']             \n",
            "                                                                                                  \n",
            " dense_16 (Dense)            (None, 32)                   25120     ['flatten_4[0][0]']           \n",
            "                                                                                                  \n",
            " dense_17 (Dense)            (None, 32)                   1056      ['dense_16[0][0]']            \n",
            "                                                                                                  \n",
            " dense_18 (Dense)            (None, 32)                   1056      ['dense_17[0][0]']            \n",
            "                                                                                                  \n",
            " add (Add)                   (None, 32)                   0         ['dense_16[0][0]',            \n",
            "                                                                     'dense_18[0][0]']            \n",
            "                                                                                                  \n",
            " dense_19 (Dense)            (None, 10)                   330       ['add[0][0]']                 \n",
            "                                                                                                  \n",
            "==================================================================================================\n",
            "Total params: 27562 (107.66 KB)\n",
            "Trainable params: 27562 (107.66 KB)\n",
            "Non-trainable params: 0 (0.00 Byte)\n",
            "__________________________________________________________________________________________________\n",
            "Epoch 1/5\n",
            "1500/1500 [==============================] - 2s 1ms/step - loss: 0.3504 - accuracy: 0.8982 - val_loss: 0.1903 - val_accuracy: 0.9456\n",
            "Epoch 2/5\n",
            "1500/1500 [==============================] - 2s 1ms/step - loss: 0.1702 - accuracy: 0.9490 - val_loss: 0.1502 - val_accuracy: 0.9563\n",
            "Epoch 3/5\n",
            "1500/1500 [==============================] - 2s 1ms/step - loss: 0.1325 - accuracy: 0.9607 - val_loss: 0.1373 - val_accuracy: 0.9592\n",
            "Epoch 4/5\n",
            "1500/1500 [==============================] - 2s 1ms/step - loss: 0.1117 - accuracy: 0.9657 - val_loss: 0.1299 - val_accuracy: 0.9612\n",
            "Epoch 5/5\n",
            "1500/1500 [==============================] - 2s 1ms/step - loss: 0.0957 - accuracy: 0.9706 - val_loss: 0.1217 - val_accuracy: 0.9639\n"
          ]
        },
        {
          "data": {
            "text/plain": [
              "<keras.src.callbacks.History at 0x208397555b0>"
            ]
          },
          "execution_count": 22,
          "metadata": {},
          "output_type": "execute_result"
        }
      ],
      "source": [
        "compilee(model_skip)\n",
        "model_skip.fit(X_train, y_train_one_hot, epochs=5, validation_split=0.2)"
      ]
    },
    {
      "cell_type": "code",
      "execution_count": 23,
      "metadata": {
        "colab": {
          "base_uri": "https://localhost:8080/"
        },
        "id": "RUPTWltPGhnc",
        "outputId": "c4818efd-4332-4af9-e057-f86fd7798ebd"
      },
      "outputs": [
        {
          "name": "stdout",
          "output_type": "stream",
          "text": [
            "313/313 [==============================] - 0s 713us/step\n",
            "Confusion Matrix:\n",
            "[[ 965    0    1    1    0    4    3    1    2    3]\n",
            " [   0 1120    3    6    0    1    1    0    4    0]\n",
            " [   3    2  998   13    4    0    2    6    3    1]\n",
            " [   0    0    4  995    1    2    0    3    4    1]\n",
            " [   1    2    4    1  936    0    6    4    3   25]\n",
            " [   3    1    1   27    0  849    6    0    3    2]\n",
            " [   6    3    3    1    4   11  925    0    5    0]\n",
            " [   2    9   11    8    2    1    0  978    1   16]\n",
            " [   3    2    5   29    3   12    2    4  909    5]\n",
            " [   5    5    0    9   10    3    1    6    1  969]]\n",
            "\n",
            "Classification Report:\n",
            "              precision    recall  f1-score   support\n",
            "\n",
            "           0       0.98      0.98      0.98       980\n",
            "           1       0.98      0.99      0.98      1135\n",
            "           2       0.97      0.97      0.97      1032\n",
            "           3       0.91      0.99      0.95      1010\n",
            "           4       0.97      0.95      0.96       982\n",
            "           5       0.96      0.95      0.96       892\n",
            "           6       0.98      0.97      0.97       958\n",
            "           7       0.98      0.95      0.96      1028\n",
            "           8       0.97      0.93      0.95       974\n",
            "           9       0.95      0.96      0.95      1009\n",
            "\n",
            "    accuracy                           0.96     10000\n",
            "   macro avg       0.96      0.96      0.96     10000\n",
            "weighted avg       0.96      0.96      0.96     10000\n",
            "\n",
            "\n",
            "Test Accuracy: 0.9644\n"
          ]
        }
      ],
      "source": [
        "print_eval(model_skip)"
      ]
    },
    {
      "cell_type": "code",
      "execution_count": 263,
      "metadata": {},
      "outputs": [],
      "source": [
        "def func_api_aux_loss(input_shape, no_of_dense, neurons):\n",
        "    inputs = keras.Input(shape=input_shape)\n",
        "    x = layers.Flatten()(inputs)\n",
        "    for i in range(no_of_dense):\n",
        "        x = keras.layers.Dense(neurons, activation=\"relu\")(x)\n",
        "    main_output = keras.layers.Dense(10, activation=\"softmax\")(x)\n",
        "    aux_output = keras.layers.Dense(10, activation=\"softmax\")(x)\n",
        "    model = keras.Model(inputs=inputs, outputs=[main_output, aux_output])\n",
        "    return model\n",
        "\n",
        "\n",
        "def print_eval_aux(model):\n",
        "    y_main_pred, y_aux_pred = model.predict(X_test)\n",
        "    y_main_pred_classes = np.argmax(y_main_pred, axis=1)\n",
        "    y_true_classes = np.argmax(y_test_one_hot, axis=1)\n",
        "    print(\"\\nEvaluation for Main Task:\")\n",
        "    print(\"Confusion Matrix:\")\n",
        "    print(confusion_matrix(y_true_classes, y_main_pred_classes))\n",
        "    print(\"\\nClassification Report:\")\n",
        "    print(classification_report(y_true_classes, y_main_pred_classes))\n",
        "    test_accuracy_main = np.sum(y_main_pred_classes == y_true_classes) / len(y_true_classes)\n",
        "    print(\"\\nTest Accuracy for Main Task:\", test_accuracy_main)\n",
        "    y_aux_pred_classes = np.argmax(y_aux_pred, axis=1)\n",
        "    print(\"\\nEvaluation for Auxiliary Task:\")\n",
        "    print(\"Confusion Matrix:\")\n",
        "    print(confusion_matrix(y_true_classes, y_aux_pred_classes))\n",
        "    print(\"\\nClassification Report:\")\n",
        "    print(classification_report(y_true_classes, y_aux_pred_classes))\n",
        "    test_accuracy_aux = np.sum(y_aux_pred_classes == y_true_classes) / len(y_true_classes)\n",
        "    print(\"\\nTest Accuracy for Auxiliary Task:\", test_accuracy_aux)\n",
        "\n",
        "\n",
        "\n"
      ]
    },
    {
      "cell_type": "code",
      "execution_count": 271,
      "metadata": {},
      "outputs": [
        {
          "name": "stdout",
          "output_type": "stream",
          "text": [
            "Model: \"model_22\"\n",
            "__________________________________________________________________________________________________\n",
            " Layer (type)                Output Shape                 Param #   Connected to                  \n",
            "==================================================================================================\n",
            " input_26 (InputLayer)       [(None, 28, 28)]             0         []                            \n",
            "                                                                                                  \n",
            " flatten_9 (Flatten)         (None, 784)                  0         ['input_26[0][0]']            \n",
            "                                                                                                  \n",
            " dense_48 (Dense)            (None, 32)                   25120     ['flatten_9[0][0]']           \n",
            "                                                                                                  \n",
            " dense_49 (Dense)            (None, 32)                   1056      ['dense_48[0][0]']            \n",
            "                                                                                                  \n",
            " dense_50 (Dense)            (None, 32)                   1056      ['dense_49[0][0]']            \n",
            "                                                                                                  \n",
            " dense_51 (Dense)            (None, 10)                   330       ['dense_50[0][0]']            \n",
            "                                                                                                  \n",
            " dense_52 (Dense)            (None, 10)                   330       ['dense_50[0][0]']            \n",
            "                                                                                                  \n",
            "==================================================================================================\n",
            "Total params: 27892 (108.95 KB)\n",
            "Trainable params: 27892 (108.95 KB)\n",
            "Non-trainable params: 0 (0.00 Byte)\n",
            "__________________________________________________________________________________________________\n",
            "Epoch 1/5\n",
            "1500/1500 [==============================] - 6s 3ms/step - loss: 0.8102 - dense_51_loss: 0.4008 - dense_52_loss: 0.4094 - dense_51_accuracy: 0.8813 - dense_52_accuracy: 0.8743 - val_loss: 0.4250 - val_dense_51_loss: 0.2147 - val_dense_52_loss: 0.2103 - val_dense_51_accuracy: 0.9362 - val_dense_52_accuracy: 0.9392\n",
            "Epoch 2/5\n",
            "1500/1500 [==============================] - 4s 3ms/step - loss: 0.3632 - dense_51_loss: 0.1822 - dense_52_loss: 0.1810 - dense_51_accuracy: 0.9464 - dense_52_accuracy: 0.9464 - val_loss: 0.3595 - val_dense_51_loss: 0.1819 - val_dense_52_loss: 0.1776 - val_dense_51_accuracy: 0.9463 - val_dense_52_accuracy: 0.9465\n",
            "Epoch 3/5\n",
            "1500/1500 [==============================] - 4s 2ms/step - loss: 0.2857 - dense_51_loss: 0.1428 - dense_52_loss: 0.1429 - dense_51_accuracy: 0.9565 - dense_52_accuracy: 0.9566 - val_loss: 0.2949 - val_dense_51_loss: 0.1480 - val_dense_52_loss: 0.1469 - val_dense_51_accuracy: 0.9556 - val_dense_52_accuracy: 0.9563\n",
            "Epoch 4/5\n",
            "1500/1500 [==============================] - 4s 3ms/step - loss: 0.2388 - dense_51_loss: 0.1197 - dense_52_loss: 0.1191 - dense_51_accuracy: 0.9625 - dense_52_accuracy: 0.9629 - val_loss: 0.2940 - val_dense_51_loss: 0.1487 - val_dense_52_loss: 0.1454 - val_dense_51_accuracy: 0.9560 - val_dense_52_accuracy: 0.9579\n",
            "Epoch 5/5\n",
            "1500/1500 [==============================] - 4s 2ms/step - loss: 0.2047 - dense_51_loss: 0.1025 - dense_52_loss: 0.1022 - dense_51_accuracy: 0.9681 - dense_52_accuracy: 0.9688 - val_loss: 0.2731 - val_dense_51_loss: 0.1387 - val_dense_52_loss: 0.1344 - val_dense_51_accuracy: 0.9580 - val_dense_52_accuracy: 0.9605\n",
            "313/313 [==============================] - 1s 2ms/step\n",
            "\n",
            "Evaluation for Main Task:\n",
            "Confusion Matrix:\n",
            "[[ 963    0    1    0    1    4    3    1    5    2]\n",
            " [   0 1125    1    1    0    1    3    1    3    0]\n",
            " [   6    8  975    7    3    1    4   11   17    0]\n",
            " [   0    0    6  957    0   19    0   14   14    0]\n",
            " [   1    4    2    1  917    1   10    7    1   38]\n",
            " [   3    2    0    6    3  854    5    3   11    5]\n",
            " [   7    4    0    0    6   10  925    0    6    0]\n",
            " [   0    9    7    3    1    1    0  994    3   10]\n",
            " [   5    6    4    7    2   10    5   14  918    3]\n",
            " [   3    8    2    8    6    6    0   16    7  953]]\n",
            "\n",
            "Classification Report:\n",
            "              precision    recall  f1-score   support\n",
            "\n",
            "           0       0.97      0.98      0.98       980\n",
            "           1       0.96      0.99      0.98      1135\n",
            "           2       0.98      0.94      0.96      1032\n",
            "           3       0.97      0.95      0.96      1010\n",
            "           4       0.98      0.93      0.95       982\n",
            "           5       0.94      0.96      0.95       892\n",
            "           6       0.97      0.97      0.97       958\n",
            "           7       0.94      0.97      0.95      1028\n",
            "           8       0.93      0.94      0.94       974\n",
            "           9       0.94      0.94      0.94      1009\n",
            "\n",
            "    accuracy                           0.96     10000\n",
            "   macro avg       0.96      0.96      0.96     10000\n",
            "weighted avg       0.96      0.96      0.96     10000\n",
            "\n",
            "\n",
            "Test Accuracy for Main Task: 0.9581\n",
            "\n",
            "Evaluation for Auxiliary Task:\n",
            "Confusion Matrix:\n",
            "[[ 964    0    1    0    1    5    3    1    3    2]\n",
            " [   0 1123    1    1    0    1    4    2    3    0]\n",
            " [   5    5  982    7    4    0    4    9   15    1]\n",
            " [   0    0    5  962    0   16    0   12   14    1]\n",
            " [   1    4    1    1  918    1    9    7    1   39]\n",
            " [   3    2    1    5    3  856    4    3   10    5]\n",
            " [   5    4    0    0    5   10  928    0    5    1]\n",
            " [   0    8    7    3    1    1    0  995    3   10]\n",
            " [   4    6    4    6    2    9    5   12  923    3]\n",
            " [   3    8    2    9    6    6    0   13    6  956]]\n",
            "\n",
            "Classification Report:\n",
            "              precision    recall  f1-score   support\n",
            "\n",
            "           0       0.98      0.98      0.98       980\n",
            "           1       0.97      0.99      0.98      1135\n",
            "           2       0.98      0.95      0.96      1032\n",
            "           3       0.97      0.95      0.96      1010\n",
            "           4       0.98      0.93      0.96       982\n",
            "           5       0.95      0.96      0.95       892\n",
            "           6       0.97      0.97      0.97       958\n",
            "           7       0.94      0.97      0.96      1028\n",
            "           8       0.94      0.95      0.94       974\n",
            "           9       0.94      0.95      0.94      1009\n",
            "\n",
            "    accuracy                           0.96     10000\n",
            "   macro avg       0.96      0.96      0.96     10000\n",
            "weighted avg       0.96      0.96      0.96     10000\n",
            "\n",
            "\n",
            "Test Accuracy for Auxiliary Task: 0.9607\n"
          ]
        }
      ],
      "source": [
        "model = func_api_aux_loss((28,28), 3, 32)\n",
        "compilee(model)\n",
        "model.fit(X_train, [y_train_one_hot, y_train_one_hot], epochs=5, validation_split=0.2)\n",
        "\n",
        "print_eval_aux(model)"
      ]
    },
    {
      "cell_type": "markdown",
      "metadata": {
        "id": "ZQ7H_1-e8ztI"
      },
      "source": [
        "# CNN for MNIST dataset"
      ]
    },
    {
      "cell_type": "code",
      "execution_count": 24,
      "metadata": {
        "id": "eRgLN0h68xzB"
      },
      "outputs": [],
      "source": [
        "# Generalized CNN function having Functional API structure and variable number of Convo and Dense layers\n",
        "def cnn_model(input_shape, no_of_convo, no_of_dense, neurons):\n",
        "    inputs = Input(shape=input_shape)\n",
        "    x = Conv2D(32, kernel_size=(3, 3), padding='same')(inputs)\n",
        "    x = BatchNormalization()(x)\n",
        "    x = tf.keras.layers.Activation(\"relu\")(x)\n",
        "    x = MaxPooling2D(pool_size=(2, 2))(x)\n",
        "    for k in range(no_of_convo):\n",
        "        x = Conv2D(32, kernel_size=(3, 3), padding='same')(x)  \n",
        "        x = BatchNormalization()(x)\n",
        "        x = tf.keras.layers.Activation(\"relu\")(x)\n",
        "        x = MaxPooling2D(pool_size=(2, 2))(x)\n",
        "    x = Flatten()(x)\n",
        "    for k in range(no_of_dense):\n",
        "        x = Dense(neurons, activation='relu')(x)\n",
        "        x = BatchNormalization()(x)\n",
        "    outputs = Dense(10, activation='softmax')(x)\n",
        "    model = tf.keras.Model(inputs=inputs, outputs=outputs)\n",
        "    return model"
      ]
    },
    {
      "cell_type": "code",
      "execution_count": 25,
      "metadata": {
        "id": "1hgxahgM_Ix3"
      },
      "outputs": [],
      "source": [
        "model = cnn_model((28, 28,1),-1,0,32)"
      ]
    },
    {
      "cell_type": "code",
      "execution_count": 26,
      "metadata": {
        "colab": {
          "base_uri": "https://localhost:8080/"
        },
        "id": "slQBa92OA9Sh",
        "outputId": "a242020a-f914-4186-93d2-c5ea7a5fc34b"
      },
      "outputs": [
        {
          "name": "stdout",
          "output_type": "stream",
          "text": [
            "Model: \"model_5\"\n",
            "_________________________________________________________________\n",
            " Layer (type)                Output Shape              Param #   \n",
            "=================================================================\n",
            " input_6 (InputLayer)        [(None, 28, 28, 1)]       0         \n",
            "                                                                 \n",
            " conv2d (Conv2D)             (None, 28, 28, 32)        320       \n",
            "                                                                 \n",
            " batch_normalization (Batch  (None, 28, 28, 32)        128       \n",
            " Normalization)                                                  \n",
            "                                                                 \n",
            " activation (Activation)     (None, 28, 28, 32)        0         \n",
            "                                                                 \n",
            " max_pooling2d (MaxPooling2  (None, 14, 14, 32)        0         \n",
            " D)                                                              \n",
            "                                                                 \n",
            " flatten_5 (Flatten)         (None, 6272)              0         \n",
            "                                                                 \n",
            " dense_20 (Dense)            (None, 10)                62730     \n",
            "                                                                 \n",
            "=================================================================\n",
            "Total params: 63178 (246.79 KB)\n",
            "Trainable params: 63114 (246.54 KB)\n",
            "Non-trainable params: 64 (256.00 Byte)\n",
            "_________________________________________________________________\n"
          ]
        }
      ],
      "source": [
        "compilee(model)"
      ]
    },
    {
      "cell_type": "code",
      "execution_count": 27,
      "metadata": {
        "colab": {
          "base_uri": "https://localhost:8080/"
        },
        "id": "A_ESfOxDBuWt",
        "outputId": "394e8c6e-08e3-46e7-9834-98019c07d527"
      },
      "outputs": [
        {
          "name": "stdout",
          "output_type": "stream",
          "text": [
            "Epoch 1/5\n",
            "1500/1500 [==============================] - 16s 11ms/step - loss: 0.1783 - accuracy: 0.9465 - val_loss: 0.0855 - val_accuracy: 0.9750\n",
            "Epoch 2/5\n",
            "1500/1500 [==============================] - 15s 10ms/step - loss: 0.0755 - accuracy: 0.9766 - val_loss: 0.0721 - val_accuracy: 0.9798\n",
            "Epoch 3/5\n",
            "1500/1500 [==============================] - 15s 10ms/step - loss: 0.0561 - accuracy: 0.9829 - val_loss: 0.0906 - val_accuracy: 0.9756\n",
            "Epoch 4/5\n",
            "1500/1500 [==============================] - 15s 10ms/step - loss: 0.0439 - accuracy: 0.9858 - val_loss: 0.0768 - val_accuracy: 0.9783\n",
            "Epoch 5/5\n",
            "1500/1500 [==============================] - 15s 10ms/step - loss: 0.0348 - accuracy: 0.9887 - val_loss: 0.0780 - val_accuracy: 0.9789\n"
          ]
        },
        {
          "data": {
            "text/plain": [
              "<keras.src.callbacks.History at 0x2083d1163d0>"
            ]
          },
          "execution_count": 27,
          "metadata": {},
          "output_type": "execute_result"
        }
      ],
      "source": [
        "model.fit(X_train, y_train_one_hot, epochs=5, validation_split=0.2)"
      ]
    },
    {
      "cell_type": "code",
      "execution_count": 28,
      "metadata": {
        "colab": {
          "base_uri": "https://localhost:8080/"
        },
        "id": "OcwywfKkCGLP",
        "outputId": "0a2ad22a-9208-401c-992f-0e7a9d39cce3"
      },
      "outputs": [
        {
          "name": "stdout",
          "output_type": "stream",
          "text": [
            "313/313 [==============================] - 1s 4ms/step\n",
            "Confusion Matrix:\n",
            "[[ 975    0    1    1    0    0    1    0    2    0]\n",
            " [   0 1122    3    0    1    0    3    1    5    0]\n",
            " [   2    1 1011    1    1    0    1    8    6    1]\n",
            " [   0    0    2  994    0    1    0    5    7    1]\n",
            " [   2    0    1    0  956    0    4    3    2   14]\n",
            " [   3    1    2   13    0  852    6    0   11    4]\n",
            " [   8    1    0    1    1    2  940    0    5    0]\n",
            " [   1    3    5    1    2    0    0 1014    0    2]\n",
            " [   5    0    2    0    0    1    1    4  958    3]\n",
            " [   3    4    1    2    3    1    0    7    3  985]]\n",
            "\n",
            "Classification Report:\n",
            "              precision    recall  f1-score   support\n",
            "\n",
            "           0       0.98      0.99      0.99       980\n",
            "           1       0.99      0.99      0.99      1135\n",
            "           2       0.98      0.98      0.98      1032\n",
            "           3       0.98      0.98      0.98      1010\n",
            "           4       0.99      0.97      0.98       982\n",
            "           5       0.99      0.96      0.97       892\n",
            "           6       0.98      0.98      0.98       958\n",
            "           7       0.97      0.99      0.98      1028\n",
            "           8       0.96      0.98      0.97       974\n",
            "           9       0.98      0.98      0.98      1009\n",
            "\n",
            "    accuracy                           0.98     10000\n",
            "   macro avg       0.98      0.98      0.98     10000\n",
            "weighted avg       0.98      0.98      0.98     10000\n",
            "\n",
            "\n",
            "Test Accuracy: 0.9807\n"
          ]
        }
      ],
      "source": [
        "print_eval(model)"
      ]
    },
    {
      "cell_type": "code",
      "execution_count": 29,
      "metadata": {
        "colab": {
          "base_uri": "https://localhost:8080/"
        },
        "id": "VywkFyklCjqR",
        "outputId": "0b7982db-7cf5-4ee2-8a5e-f10a5a8f9eb7"
      },
      "outputs": [
        {
          "name": "stdout",
          "output_type": "stream",
          "text": [
            "Model: \"model_6\"\n",
            "_________________________________________________________________\n",
            " Layer (type)                Output Shape              Param #   \n",
            "=================================================================\n",
            " input_7 (InputLayer)        [(None, 28, 28, 1)]       0         \n",
            "                                                                 \n",
            " conv2d_1 (Conv2D)           (None, 28, 28, 32)        320       \n",
            "                                                                 \n",
            " batch_normalization_1 (Bat  (None, 28, 28, 32)        128       \n",
            " chNormalization)                                                \n",
            "                                                                 \n",
            " activation_1 (Activation)   (None, 28, 28, 32)        0         \n",
            "                                                                 \n",
            " max_pooling2d_1 (MaxPoolin  (None, 14, 14, 32)        0         \n",
            " g2D)                                                            \n",
            "                                                                 \n",
            " conv2d_2 (Conv2D)           (None, 14, 14, 32)        9248      \n",
            "                                                                 \n",
            " batch_normalization_2 (Bat  (None, 14, 14, 32)        128       \n",
            " chNormalization)                                                \n",
            "                                                                 \n",
            " activation_2 (Activation)   (None, 14, 14, 32)        0         \n",
            "                                                                 \n",
            " max_pooling2d_2 (MaxPoolin  (None, 7, 7, 32)          0         \n",
            " g2D)                                                            \n",
            "                                                                 \n",
            " flatten_6 (Flatten)         (None, 1568)              0         \n",
            "                                                                 \n",
            " dense_21 (Dense)            (None, 32)                50208     \n",
            "                                                                 \n",
            " batch_normalization_3 (Bat  (None, 32)                128       \n",
            " chNormalization)                                                \n",
            "                                                                 \n",
            " dense_22 (Dense)            (None, 32)                1056      \n",
            "                                                                 \n",
            " batch_normalization_4 (Bat  (None, 32)                128       \n",
            " chNormalization)                                                \n",
            "                                                                 \n",
            " dense_23 (Dense)            (None, 10)                330       \n",
            "                                                                 \n",
            "=================================================================\n",
            "Total params: 61674 (240.91 KB)\n",
            "Trainable params: 61418 (239.91 KB)\n",
            "Non-trainable params: 256 (1.00 KB)\n",
            "_________________________________________________________________\n",
            "Epoch 1/5\n",
            "1500/1500 [==============================] - 27s 17ms/step - loss: 0.1754 - accuracy: 0.9528 - val_loss: 0.1333 - val_accuracy: 0.9567\n",
            "Epoch 2/5\n",
            "1500/1500 [==============================] - 28s 19ms/step - loss: 0.0670 - accuracy: 0.9799 - val_loss: 0.0906 - val_accuracy: 0.9717\n",
            "Epoch 3/5\n",
            "1500/1500 [==============================] - 27s 18ms/step - loss: 0.0524 - accuracy: 0.9838 - val_loss: 0.0489 - val_accuracy: 0.9856\n",
            "Epoch 4/5\n",
            "1500/1500 [==============================] - 26s 17ms/step - loss: 0.0409 - accuracy: 0.9873 - val_loss: 0.0964 - val_accuracy: 0.9696\n",
            "Epoch 5/5\n",
            "1500/1500 [==============================] - 27s 18ms/step - loss: 0.0374 - accuracy: 0.9885 - val_loss: 0.0493 - val_accuracy: 0.9849\n"
          ]
        },
        {
          "data": {
            "text/plain": [
              "<keras.src.callbacks.History at 0x2083d4d6c10>"
            ]
          },
          "execution_count": 29,
          "metadata": {},
          "output_type": "execute_result"
        }
      ],
      "source": [
        "model = cnn_model((28, 28, 1),1,2,32)\n",
        "compilee(model)\n",
        "model.fit(X_train, y_train_one_hot, epochs=5, validation_split=0.2)"
      ]
    },
    {
      "cell_type": "code",
      "execution_count": 30,
      "metadata": {
        "colab": {
          "base_uri": "https://localhost:8080/"
        },
        "id": "5RMbkkZFCqbI",
        "outputId": "17ba051a-37b8-418d-9667-8d07b4bf8e74"
      },
      "outputs": [
        {
          "name": "stdout",
          "output_type": "stream",
          "text": [
            "313/313 [==============================] - 1s 4ms/step\n",
            "Confusion Matrix:\n",
            "[[ 974    0    1    0    0    1    3    1    0    0]\n",
            " [   0 1130    2    1    0    0    1    0    1    0]\n",
            " [   1    1 1022    0    1    0    0    6    0    1]\n",
            " [   1    0    6  998    0    4    0    1    0    0]\n",
            " [   0    2    2    0  938    0    4    5    0   31]\n",
            " [   1    0    1   11    0  878    1    0    0    0]\n",
            " [   4    2    5    0    1    2  944    0    0    0]\n",
            " [   0    6    9    0    0    0    0 1011    1    1]\n",
            " [   2    0    3    3    4    6    6    2  940    8]\n",
            " [   1    0    1    1    1    3    0    4    0  998]]\n",
            "\n",
            "Classification Report:\n",
            "              precision    recall  f1-score   support\n",
            "\n",
            "           0       0.99      0.99      0.99       980\n",
            "           1       0.99      1.00      0.99      1135\n",
            "           2       0.97      0.99      0.98      1032\n",
            "           3       0.98      0.99      0.99      1010\n",
            "           4       0.99      0.96      0.97       982\n",
            "           5       0.98      0.98      0.98       892\n",
            "           6       0.98      0.99      0.98       958\n",
            "           7       0.98      0.98      0.98      1028\n",
            "           8       1.00      0.97      0.98       974\n",
            "           9       0.96      0.99      0.97      1009\n",
            "\n",
            "    accuracy                           0.98     10000\n",
            "   macro avg       0.98      0.98      0.98     10000\n",
            "weighted avg       0.98      0.98      0.98     10000\n",
            "\n",
            "\n",
            "Test Accuracy: 0.9833\n"
          ]
        }
      ],
      "source": [
        "print_eval(model)"
      ]
    },
    {
      "cell_type": "code",
      "execution_count": 31,
      "metadata": {
        "colab": {
          "base_uri": "https://localhost:8080/"
        },
        "id": "5GmhAc2sD4Xm",
        "outputId": "d24957e7-d267-47b1-c7cd-704dd872d6cd"
      },
      "outputs": [
        {
          "name": "stdout",
          "output_type": "stream",
          "text": [
            "Model: \"model_7\"\n",
            "_________________________________________________________________\n",
            " Layer (type)                Output Shape              Param #   \n",
            "=================================================================\n",
            " input_8 (InputLayer)        [(None, 28, 28, 1)]       0         \n",
            "                                                                 \n",
            " conv2d_3 (Conv2D)           (None, 28, 28, 32)        320       \n",
            "                                                                 \n",
            " batch_normalization_5 (Bat  (None, 28, 28, 32)        128       \n",
            " chNormalization)                                                \n",
            "                                                                 \n",
            " activation_3 (Activation)   (None, 28, 28, 32)        0         \n",
            "                                                                 \n",
            " max_pooling2d_3 (MaxPoolin  (None, 14, 14, 32)        0         \n",
            " g2D)                                                            \n",
            "                                                                 \n",
            " conv2d_4 (Conv2D)           (None, 14, 14, 32)        9248      \n",
            "                                                                 \n",
            " batch_normalization_6 (Bat  (None, 14, 14, 32)        128       \n",
            " chNormalization)                                                \n",
            "                                                                 \n",
            " activation_4 (Activation)   (None, 14, 14, 32)        0         \n",
            "                                                                 \n",
            " max_pooling2d_4 (MaxPoolin  (None, 7, 7, 32)          0         \n",
            " g2D)                                                            \n",
            "                                                                 \n",
            " conv2d_5 (Conv2D)           (None, 7, 7, 32)          9248      \n",
            "                                                                 \n",
            " batch_normalization_7 (Bat  (None, 7, 7, 32)          128       \n",
            " chNormalization)                                                \n",
            "                                                                 \n",
            " activation_5 (Activation)   (None, 7, 7, 32)          0         \n",
            "                                                                 \n",
            " max_pooling2d_5 (MaxPoolin  (None, 3, 3, 32)          0         \n",
            " g2D)                                                            \n",
            "                                                                 \n",
            " flatten_7 (Flatten)         (None, 288)               0         \n",
            "                                                                 \n",
            " dense_24 (Dense)            (None, 32)                9248      \n",
            "                                                                 \n",
            " batch_normalization_8 (Bat  (None, 32)                128       \n",
            " chNormalization)                                                \n",
            "                                                                 \n",
            " dense_25 (Dense)            (None, 32)                1056      \n",
            "                                                                 \n",
            " batch_normalization_9 (Bat  (None, 32)                128       \n",
            " chNormalization)                                                \n",
            "                                                                 \n",
            " dense_26 (Dense)            (None, 10)                330       \n",
            "                                                                 \n",
            "=================================================================\n",
            "Total params: 30090 (117.54 KB)\n",
            "Trainable params: 29770 (116.29 KB)\n",
            "Non-trainable params: 320 (1.25 KB)\n",
            "_________________________________________________________________\n",
            "Epoch 1/5\n",
            "1500/1500 [==============================] - 31s 20ms/step - loss: 0.2203 - accuracy: 0.9377 - val_loss: 0.0847 - val_accuracy: 0.9751\n",
            "Epoch 2/5\n",
            "1500/1500 [==============================] - 30s 20ms/step - loss: 0.0642 - accuracy: 0.9806 - val_loss: 0.0647 - val_accuracy: 0.9797\n",
            "Epoch 3/5\n",
            "1500/1500 [==============================] - 32s 21ms/step - loss: 0.0505 - accuracy: 0.9840 - val_loss: 0.0634 - val_accuracy: 0.9811\n",
            "Epoch 4/5\n",
            "1500/1500 [==============================] - 29s 20ms/step - loss: 0.0430 - accuracy: 0.9864 - val_loss: 0.0521 - val_accuracy: 0.9833\n",
            "Epoch 5/5\n",
            "1500/1500 [==============================] - 29s 19ms/step - loss: 0.0338 - accuracy: 0.9900 - val_loss: 0.1073 - val_accuracy: 0.9681\n"
          ]
        },
        {
          "data": {
            "text/plain": [
              "<keras.src.callbacks.History at 0x2083da1d1f0>"
            ]
          },
          "execution_count": 31,
          "metadata": {},
          "output_type": "execute_result"
        }
      ],
      "source": [
        "model = cnn_model((28, 28, 1),2,2,32)\n",
        "compilee(model)\n",
        "model.fit(X_train, y_train_one_hot, epochs=5, validation_split=0.2)"
      ]
    },
    {
      "cell_type": "code",
      "execution_count": null,
      "metadata": {},
      "outputs": [],
      "source": []
    },
    {
      "cell_type": "code",
      "execution_count": null,
      "metadata": {},
      "outputs": [],
      "source": []
    },
    {
      "cell_type": "markdown",
      "metadata": {
        "colab": {
          "base_uri": "https://localhost:8080/"
        },
        "id": "mprMs50PD-PM",
        "outputId": "857b5a1b-88b0-4e6a-f8ab-3824d9439fcf"
      },
      "source": [
        "print_eval(model)"
      ]
    },
    {
      "cell_type": "code",
      "execution_count": 33,
      "metadata": {
        "colab": {
          "base_uri": "https://localhost:8080/"
        },
        "id": "9DAd-oRcEW7O",
        "outputId": "407e442c-d35d-45d2-bb18-558d33670d7a"
      },
      "outputs": [
        {
          "name": "stdout",
          "output_type": "stream",
          "text": [
            "Model: \"model_8\"\n",
            "_________________________________________________________________\n",
            " Layer (type)                Output Shape              Param #   \n",
            "=================================================================\n",
            " input_9 (InputLayer)        [(None, 28, 28, 1)]       0         \n",
            "                                                                 \n",
            " conv2d_6 (Conv2D)           (None, 28, 28, 32)        320       \n",
            "                                                                 \n",
            " batch_normalization_10 (Ba  (None, 28, 28, 32)        128       \n",
            " tchNormalization)                                               \n",
            "                                                                 \n",
            " activation_6 (Activation)   (None, 28, 28, 32)        0         \n",
            "                                                                 \n",
            " max_pooling2d_6 (MaxPoolin  (None, 14, 14, 32)        0         \n",
            " g2D)                                                            \n",
            "                                                                 \n",
            " conv2d_7 (Conv2D)           (None, 14, 14, 32)        9248      \n",
            "                                                                 \n",
            " batch_normalization_11 (Ba  (None, 14, 14, 32)        128       \n",
            " tchNormalization)                                               \n",
            "                                                                 \n",
            " activation_7 (Activation)   (None, 14, 14, 32)        0         \n",
            "                                                                 \n",
            " max_pooling2d_7 (MaxPoolin  (None, 7, 7, 32)          0         \n",
            " g2D)                                                            \n",
            "                                                                 \n",
            " conv2d_8 (Conv2D)           (None, 7, 7, 32)          9248      \n",
            "                                                                 \n",
            " batch_normalization_12 (Ba  (None, 7, 7, 32)          128       \n",
            " tchNormalization)                                               \n",
            "                                                                 \n",
            " activation_8 (Activation)   (None, 7, 7, 32)          0         \n",
            "                                                                 \n",
            " max_pooling2d_8 (MaxPoolin  (None, 3, 3, 32)          0         \n",
            " g2D)                                                            \n",
            "                                                                 \n",
            " flatten_8 (Flatten)         (None, 288)               0         \n",
            "                                                                 \n",
            " dense_27 (Dense)            (None, 32)                9248      \n",
            "                                                                 \n",
            " batch_normalization_13 (Ba  (None, 32)                128       \n",
            " tchNormalization)                                               \n",
            "                                                                 \n",
            " dense_28 (Dense)            (None, 32)                1056      \n",
            "                                                                 \n",
            " batch_normalization_14 (Ba  (None, 32)                128       \n",
            " tchNormalization)                                               \n",
            "                                                                 \n",
            " dense_29 (Dense)            (None, 32)                1056      \n",
            "                                                                 \n",
            " batch_normalization_15 (Ba  (None, 32)                128       \n",
            " tchNormalization)                                               \n",
            "                                                                 \n",
            " dense_30 (Dense)            (None, 32)                1056      \n",
            "                                                                 \n",
            " batch_normalization_16 (Ba  (None, 32)                128       \n",
            " tchNormalization)                                               \n",
            "                                                                 \n",
            " dense_31 (Dense)            (None, 10)                330       \n",
            "                                                                 \n",
            "=================================================================\n",
            "Total params: 32458 (126.79 KB)\n",
            "Trainable params: 32010 (125.04 KB)\n",
            "Non-trainable params: 448 (1.75 KB)\n",
            "_________________________________________________________________\n",
            "Epoch 1/5\n",
            "1500/1500 [==============================] - 34s 22ms/step - loss: 0.2879 - accuracy: 0.9177 - val_loss: 0.1059 - val_accuracy: 0.9689\n",
            "Epoch 2/5\n",
            "1500/1500 [==============================] - 32s 21ms/step - loss: 0.0959 - accuracy: 0.9714 - val_loss: 0.0835 - val_accuracy: 0.9743\n",
            "Epoch 3/5\n",
            "1500/1500 [==============================] - 32s 21ms/step - loss: 0.0725 - accuracy: 0.9781 - val_loss: 0.0819 - val_accuracy: 0.9765\n",
            "Epoch 4/5\n",
            "1500/1500 [==============================] - 32s 21ms/step - loss: 0.0602 - accuracy: 0.9817 - val_loss: 0.0753 - val_accuracy: 0.9778\n",
            "Epoch 5/5\n",
            "1500/1500 [==============================] - 32s 21ms/step - loss: 0.0490 - accuracy: 0.9854 - val_loss: 0.0434 - val_accuracy: 0.9866\n"
          ]
        },
        {
          "data": {
            "text/plain": [
              "<keras.src.callbacks.History at 0x2083e034880>"
            ]
          },
          "execution_count": 33,
          "metadata": {},
          "output_type": "execute_result"
        }
      ],
      "source": [
        "model = cnn_model((28, 28, 1),2,4,32)\n",
        "compilee(model)\n",
        "model.fit(X_train, y_train_one_hot, epochs=5, validation_split=0.2)"
      ]
    },
    {
      "cell_type": "code",
      "execution_count": 34,
      "metadata": {
        "colab": {
          "base_uri": "https://localhost:8080/"
        },
        "id": "E4h-gXduEZQ2",
        "outputId": "cbf154bd-429c-4a4f-dd0b-9f15daa2da86"
      },
      "outputs": [
        {
          "name": "stdout",
          "output_type": "stream",
          "text": [
            "313/313 [==============================] - 2s 5ms/step\n",
            "Confusion Matrix:\n",
            "[[ 974    1    1    0    0    0    0    2    1    1]\n",
            " [   0 1129    0    5    0    0    1    0    0    0]\n",
            " [   0    1 1026    3    0    0    1    1    0    0]\n",
            " [   0    1    0 1008    0    1    0    0    0    0]\n",
            " [   0    4    0    0  969    0    1    1    1    6]\n",
            " [   2    0    0    7    0  879    3    1    0    0]\n",
            " [  10    3    1    0    0    2  942    0    0    0]\n",
            " [   0    5   11    2    0    0    0 1010    0    0]\n",
            " [   2    1    1   13    0    1    1    0  954    1]\n",
            " [   2    3    1    7    3    7    0    5    5  976]]\n",
            "\n",
            "Classification Report:\n",
            "              precision    recall  f1-score   support\n",
            "\n",
            "           0       0.98      0.99      0.99       980\n",
            "           1       0.98      0.99      0.99      1135\n",
            "           2       0.99      0.99      0.99      1032\n",
            "           3       0.96      1.00      0.98      1010\n",
            "           4       1.00      0.99      0.99       982\n",
            "           5       0.99      0.99      0.99       892\n",
            "           6       0.99      0.98      0.99       958\n",
            "           7       0.99      0.98      0.99      1028\n",
            "           8       0.99      0.98      0.99       974\n",
            "           9       0.99      0.97      0.98      1009\n",
            "\n",
            "    accuracy                           0.99     10000\n",
            "   macro avg       0.99      0.99      0.99     10000\n",
            "weighted avg       0.99      0.99      0.99     10000\n",
            "\n",
            "\n",
            "Test Accuracy: 0.9867\n"
          ]
        }
      ],
      "source": [
        "print_eval(model)"
      ]
    },
    {
      "cell_type": "markdown",
      "metadata": {
        "id": "MpQbNnG1NRz0"
      },
      "source": [
        "# CNN with skip connection for MNIST"
      ]
    },
    {
      "cell_type": "code",
      "execution_count": 35,
      "metadata": {
        "id": "ipDSMMLvNusp"
      },
      "outputs": [],
      "source": [
        "def cnn_model_with_skip(input_shape, no_of_convo, no_of_dense, neurons, convo_no_1, convo_no_2, layer_no_1, layer_no_2, num_classes=10):\n",
        "    inputs = Input(shape=input_shape)\n",
        "    x = inputs\n",
        "    conv_output = x\n",
        "    outputs_convo = []\n",
        "    for k in range(0,no_of_convo):\n",
        "        conv_output = tf.keras.layers.Activation(\"relu\")(Conv2D(32, kernel_size=(3, 3), padding='same')(conv_output))\n",
        "        outputs_convo.append(conv_output)\n",
        "        print(f\"Convo Layer {k+1}: {conv_output}\")\n",
        "    x = layers.add([outputs_convo[convo_no_1], outputs_convo[convo_no_2]])\n",
        "    x = Flatten()(x)\n",
        "    dense_outputs = []\n",
        "    for i in range(0, no_of_dense):\n",
        "        x = Dense(neurons, activation=\"relu\")(x)\n",
        "        dense_outputs.append(x)\n",
        "\n",
        "\n",
        "    skip_connection = layers.add([dense_outputs[layer_no_1], dense_outputs[layer_no_2]])\n",
        "    outputs = Dense(10, activation=\"softmax\")(skip_connection)\n",
        "    model = keras.Model(inputs=inputs, outputs=outputs)\n",
        "    return model\n"
      ]
    },
    {
      "cell_type": "code",
      "execution_count": 36,
      "metadata": {
        "colab": {
          "base_uri": "https://localhost:8080/"
        },
        "id": "6vytYQazNVya",
        "outputId": "171017b8-3da6-4e08-beb8-721b76dd07a2"
      },
      "outputs": [
        {
          "name": "stdout",
          "output_type": "stream",
          "text": [
            "Convo Layer 1: KerasTensor(type_spec=TensorSpec(shape=(None, 28, 28, 32), dtype=tf.float32, name=None), name='activation_9/Relu:0', description=\"created by layer 'activation_9'\")\n",
            "Convo Layer 2: KerasTensor(type_spec=TensorSpec(shape=(None, 28, 28, 32), dtype=tf.float32, name=None), name='activation_10/Relu:0', description=\"created by layer 'activation_10'\")\n"
          ]
        }
      ],
      "source": [
        "model_cnn_skip = cnn_model_with_skip((28, 28, 1), 2, 3, 32,0,1,1,2)\n"
      ]
    },
    {
      "cell_type": "code",
      "execution_count": 37,
      "metadata": {
        "colab": {
          "base_uri": "https://localhost:8080/"
        },
        "id": "IDTg-ELqOlzp",
        "outputId": "c9cb144e-dbfc-4830-9163-cf375f3455db"
      },
      "outputs": [
        {
          "name": "stdout",
          "output_type": "stream",
          "text": [
            "Model: \"model_9\"\n",
            "__________________________________________________________________________________________________\n",
            " Layer (type)                Output Shape                 Param #   Connected to                  \n",
            "==================================================================================================\n",
            " input_10 (InputLayer)       [(None, 28, 28, 1)]          0         []                            \n",
            "                                                                                                  \n",
            " conv2d_9 (Conv2D)           (None, 28, 28, 32)           320       ['input_10[0][0]']            \n",
            "                                                                                                  \n",
            " activation_9 (Activation)   (None, 28, 28, 32)           0         ['conv2d_9[0][0]']            \n",
            "                                                                                                  \n",
            " conv2d_10 (Conv2D)          (None, 28, 28, 32)           9248      ['activation_9[0][0]']        \n",
            "                                                                                                  \n",
            " activation_10 (Activation)  (None, 28, 28, 32)           0         ['conv2d_10[0][0]']           \n",
            "                                                                                                  \n",
            " add_1 (Add)                 (None, 28, 28, 32)           0         ['activation_9[0][0]',        \n",
            "                                                                     'activation_10[0][0]']       \n",
            "                                                                                                  \n",
            " flatten_9 (Flatten)         (None, 25088)                0         ['add_1[0][0]']               \n",
            "                                                                                                  \n",
            " dense_32 (Dense)            (None, 32)                   802848    ['flatten_9[0][0]']           \n",
            "                                                                                                  \n",
            " dense_33 (Dense)            (None, 32)                   1056      ['dense_32[0][0]']            \n",
            "                                                                                                  \n",
            " dense_34 (Dense)            (None, 32)                   1056      ['dense_33[0][0]']            \n",
            "                                                                                                  \n",
            " add_2 (Add)                 (None, 32)                   0         ['dense_33[0][0]',            \n",
            "                                                                     'dense_34[0][0]']            \n",
            "                                                                                                  \n",
            " dense_35 (Dense)            (None, 10)                   330       ['add_2[0][0]']               \n",
            "                                                                                                  \n",
            "==================================================================================================\n",
            "Total params: 814858 (3.11 MB)\n",
            "Trainable params: 814858 (3.11 MB)\n",
            "Non-trainable params: 0 (0.00 Byte)\n",
            "__________________________________________________________________________________________________\n",
            "Epoch 1/5\n",
            "1500/1500 [==============================] - 70s 46ms/step - loss: 0.1981 - accuracy: 0.9394 - val_loss: 0.0761 - val_accuracy: 0.9767\n",
            "Epoch 2/5\n",
            "1500/1500 [==============================] - 66s 44ms/step - loss: 0.0656 - accuracy: 0.9803 - val_loss: 0.0851 - val_accuracy: 0.9762\n",
            "Epoch 3/5\n",
            "1500/1500 [==============================] - 66s 44ms/step - loss: 0.0463 - accuracy: 0.9857 - val_loss: 0.0606 - val_accuracy: 0.9837\n",
            "Epoch 4/5\n",
            "1500/1500 [==============================] - 68s 45ms/step - loss: 0.0349 - accuracy: 0.9888 - val_loss: 0.0682 - val_accuracy: 0.9818\n",
            "Epoch 5/5\n",
            "1500/1500 [==============================] - 67s 45ms/step - loss: 0.0245 - accuracy: 0.9922 - val_loss: 0.0579 - val_accuracy: 0.9846\n"
          ]
        },
        {
          "data": {
            "text/plain": [
              "<keras.src.callbacks.History at 0x20839af3820>"
            ]
          },
          "execution_count": 37,
          "metadata": {},
          "output_type": "execute_result"
        }
      ],
      "source": [
        "compilee(model_cnn_skip)\n",
        "model_cnn_skip.fit(X_train, y_train_one_hot, epochs=5, validation_split=0.2)"
      ]
    },
    {
      "cell_type": "code",
      "execution_count": 38,
      "metadata": {
        "colab": {
          "base_uri": "https://localhost:8080/"
        },
        "id": "XsKZMuqTQlNi",
        "outputId": "be3b1e0b-4d88-4333-9758-34f8b87d5a05"
      },
      "outputs": [
        {
          "name": "stdout",
          "output_type": "stream",
          "text": [
            "313/313 [==============================] - 2s 6ms/step\n",
            "Confusion Matrix:\n",
            "[[ 970    0    1    0    3    0    3    1    2    0]\n",
            " [   0 1135    0    0    0    0    0    0    0    0]\n",
            " [   4    3 1013    0    0    0    0    6    6    0]\n",
            " [   0    0    1 1005    0    1    0    1    2    0]\n",
            " [   0    1    0    0  977    0    0    0    0    4]\n",
            " [   0    0    0    9    0  870    5    0    2    6]\n",
            " [   3    2    0    0    2    5  944    0    2    0]\n",
            " [   1    5    4    1    2    0    0 1010    0    5]\n",
            " [   2    2    2    1    2    0    7    2  950    6]\n",
            " [   0    3    0    0    7    3    0    0    0  996]]\n",
            "\n",
            "Classification Report:\n",
            "              precision    recall  f1-score   support\n",
            "\n",
            "           0       0.99      0.99      0.99       980\n",
            "           1       0.99      1.00      0.99      1135\n",
            "           2       0.99      0.98      0.99      1032\n",
            "           3       0.99      1.00      0.99      1010\n",
            "           4       0.98      0.99      0.99       982\n",
            "           5       0.99      0.98      0.98       892\n",
            "           6       0.98      0.99      0.98       958\n",
            "           7       0.99      0.98      0.99      1028\n",
            "           8       0.99      0.98      0.98       974\n",
            "           9       0.98      0.99      0.98      1009\n",
            "\n",
            "    accuracy                           0.99     10000\n",
            "   macro avg       0.99      0.99      0.99     10000\n",
            "weighted avg       0.99      0.99      0.99     10000\n",
            "\n",
            "\n",
            "Test Accuracy: 0.987\n"
          ]
        }
      ],
      "source": [
        "print_eval(model_cnn_skip)"
      ]
    },
    {
      "cell_type": "code",
      "execution_count": 39,
      "metadata": {
        "colab": {
          "base_uri": "https://localhost:8080/"
        },
        "id": "U50SD8dcQ1SB",
        "outputId": "9b1939d4-58e6-476b-88df-cf4f91e63bc2"
      },
      "outputs": [
        {
          "name": "stdout",
          "output_type": "stream",
          "text": [
            "Convo Layer 1: KerasTensor(type_spec=TensorSpec(shape=(None, 28, 28, 32), dtype=tf.float32, name=None), name='activation_11/Relu:0', description=\"created by layer 'activation_11'\")"
          ]
        },
        {
          "name": "stdout",
          "output_type": "stream",
          "text": [
            "\n",
            "Convo Layer 2: KerasTensor(type_spec=TensorSpec(shape=(None, 28, 28, 32), dtype=tf.float32, name=None), name='activation_12/Relu:0', description=\"created by layer 'activation_12'\")\n",
            "Convo Layer 3: KerasTensor(type_spec=TensorSpec(shape=(None, 28, 28, 32), dtype=tf.float32, name=None), name='activation_13/Relu:0', description=\"created by layer 'activation_13'\")\n",
            "Convo Layer 4: KerasTensor(type_spec=TensorSpec(shape=(None, 28, 28, 32), dtype=tf.float32, name=None), name='activation_14/Relu:0', description=\"created by layer 'activation_14'\")\n",
            "Model: \"model_10\"\n",
            "__________________________________________________________________________________________________\n",
            " Layer (type)                Output Shape                 Param #   Connected to                  \n",
            "==================================================================================================\n",
            " input_11 (InputLayer)       [(None, 28, 28, 1)]          0         []                            \n",
            "                                                                                                  \n",
            " conv2d_11 (Conv2D)          (None, 28, 28, 32)           320       ['input_11[0][0]']            \n",
            "                                                                                                  \n",
            " activation_11 (Activation)  (None, 28, 28, 32)           0         ['conv2d_11[0][0]']           \n",
            "                                                                                                  \n",
            " conv2d_12 (Conv2D)          (None, 28, 28, 32)           9248      ['activation_11[0][0]']       \n",
            "                                                                                                  \n",
            " activation_12 (Activation)  (None, 28, 28, 32)           0         ['conv2d_12[0][0]']           \n",
            "                                                                                                  \n",
            " conv2d_13 (Conv2D)          (None, 28, 28, 32)           9248      ['activation_12[0][0]']       \n",
            "                                                                                                  \n",
            " activation_13 (Activation)  (None, 28, 28, 32)           0         ['conv2d_13[0][0]']           \n",
            "                                                                                                  \n",
            " add_3 (Add)                 (None, 28, 28, 32)           0         ['activation_11[0][0]',       \n",
            "                                                                     'activation_13[0][0]']       \n",
            "                                                                                                  \n",
            " flatten_10 (Flatten)        (None, 25088)                0         ['add_3[0][0]']               \n",
            "                                                                                                  \n",
            " dense_36 (Dense)            (None, 32)                   802848    ['flatten_10[0][0]']          \n",
            "                                                                                                  \n",
            " dense_37 (Dense)            (None, 32)                   1056      ['dense_36[0][0]']            \n",
            "                                                                                                  \n",
            " dense_38 (Dense)            (None, 32)                   1056      ['dense_37[0][0]']            \n",
            "                                                                                                  \n",
            " dense_39 (Dense)            (None, 32)                   1056      ['dense_38[0][0]']            \n",
            "                                                                                                  \n",
            " add_4 (Add)                 (None, 32)                   0         ['dense_37[0][0]',            \n",
            "                                                                     'dense_39[0][0]']            \n",
            "                                                                                                  \n",
            " dense_40 (Dense)            (None, 10)                   330       ['add_4[0][0]']               \n",
            "                                                                                                  \n",
            "==================================================================================================\n",
            "Total params: 825162 (3.15 MB)\n",
            "Trainable params: 825162 (3.15 MB)\n",
            "Non-trainable params: 0 (0.00 Byte)\n",
            "__________________________________________________________________________________________________\n",
            "Epoch 1/5\n",
            "1500/1500 [==============================] - 108s 71ms/step - loss: 0.1824 - accuracy: 0.9425 - val_loss: 0.0641 - val_accuracy: 0.9820\n",
            "Epoch 2/5\n",
            "1500/1500 [==============================] - 106s 71ms/step - loss: 0.0577 - accuracy: 0.9820 - val_loss: 0.0728 - val_accuracy: 0.9776\n",
            "Epoch 3/5\n",
            "1500/1500 [==============================] - 106s 71ms/step - loss: 0.0390 - accuracy: 0.9876 - val_loss: 0.0566 - val_accuracy: 0.9838\n",
            "Epoch 4/5\n",
            "1500/1500 [==============================] - 110s 73ms/step - loss: 0.0292 - accuracy: 0.9906 - val_loss: 0.0665 - val_accuracy: 0.9831\n",
            "Epoch 5/5\n",
            "1500/1500 [==============================] - 108s 72ms/step - loss: 0.0218 - accuracy: 0.9929 - val_loss: 0.0783 - val_accuracy: 0.9823\n"
          ]
        },
        {
          "data": {
            "text/plain": [
              "<keras.src.callbacks.History at 0x2083d26a6d0>"
            ]
          },
          "execution_count": 39,
          "metadata": {},
          "output_type": "execute_result"
        }
      ],
      "source": [
        "model_cnn_skip = cnn_model_with_skip((28, 28, 1), 4, 4, 32,0,2,1,3)\n",
        "compilee(model_cnn_skip)\n",
        "model_cnn_skip.fit(X_train, y_train_one_hot, epochs=5, validation_split=0.2)"
      ]
    },
    {
      "cell_type": "code",
      "execution_count": 40,
      "metadata": {
        "colab": {
          "base_uri": "https://localhost:8080/"
        },
        "id": "BKvsnluMUkYo",
        "outputId": "6572b19e-454c-4385-ee6b-5b59018cc272"
      },
      "outputs": [
        {
          "name": "stdout",
          "output_type": "stream",
          "text": [
            "313/313 [==============================] - 3s 8ms/step\n",
            "Confusion Matrix:\n",
            "[[ 971    0    1    1    3    0    0    1    2    1]\n",
            " [   0 1126    0    4    0    0    2    2    0    1]\n",
            " [   1    3 1010    4    1    0    0    8    5    0]\n",
            " [   0    0    2 1007    0    0    0    0    1    0]\n",
            " [   0    1    0    0  976    0    0    2    0    3]\n",
            " [   0    0    0   20    0  866    1    0    4    1]\n",
            " [   2    3    0    2   16    3  924    0    7    1]\n",
            " [   0    4    4    5    0    0    0 1008    1    6]\n",
            " [   1    1    2    0    0    0    0    2  962    6]\n",
            " [   0    2    0    1    8    2    0    3    2  991]]\n",
            "\n",
            "Classification Report:\n",
            "              precision    recall  f1-score   support\n",
            "\n",
            "           0       1.00      0.99      0.99       980\n",
            "           1       0.99      0.99      0.99      1135\n",
            "           2       0.99      0.98      0.98      1032\n",
            "           3       0.96      1.00      0.98      1010\n",
            "           4       0.97      0.99      0.98       982\n",
            "           5       0.99      0.97      0.98       892\n",
            "           6       1.00      0.96      0.98       958\n",
            "           7       0.98      0.98      0.98      1028\n",
            "           8       0.98      0.99      0.98       974\n",
            "           9       0.98      0.98      0.98      1009\n",
            "\n",
            "    accuracy                           0.98     10000\n",
            "   macro avg       0.98      0.98      0.98     10000\n",
            "weighted avg       0.98      0.98      0.98     10000\n",
            "\n",
            "\n",
            "Test Accuracy: 0.9841\n"
          ]
        }
      ],
      "source": [
        "print_eval(model_cnn_skip)"
      ]
    },
    {
      "cell_type": "code",
      "execution_count": 41,
      "metadata": {
        "id": "63dBu6FpN4UD"
      },
      "outputs": [],
      "source": [
        "# Observations: When the number of dense layers and convo layers both were increased our model performed better, but after a certain number of convo layers and dense layers the\n",
        "# model's accuracy got reduced a bit and the cause is overfitting."
      ]
    },
    {
      "cell_type": "code",
      "execution_count": null,
      "metadata": {
        "id": "XtwWPg4rOlRp"
      },
      "outputs": [],
      "source": []
    },
    {
      "cell_type": "markdown",
      "metadata": {
        "id": "KL-H_4J3IRlM"
      },
      "source": [
        "# ANN For CIFAR-10"
      ]
    },
    {
      "cell_type": "code",
      "execution_count": 202,
      "metadata": {
        "colab": {
          "base_uri": "https://localhost:8080/"
        },
        "id": "TJhVXDt-IYx-",
        "outputId": "b930a685-9438-4b10-8188-65cd634477d7"
      },
      "outputs": [],
      "source": [
        "(X_train, y_train), (X_test, y_test) = tf.keras.datasets.cifar10.load_data()\n",
        "# Normalize pixel values to the range [0, 1]\n",
        "X_train = X_train / 255.0\n",
        "X_test = X_test / 255.0\n",
        "# One-hot encoding\n",
        "num_classes = 10\n",
        "y_train_one_hot = tf.keras.utils.to_categorical(y_train, num_classes)\n",
        "y_test_one_hot = tf.keras.utils.to_categorical(y_test, num_classes)"
      ]
    },
    {
      "cell_type": "markdown",
      "metadata": {
        "id": "FfnjaXvukFBx"
      },
      "source": [
        "# ANN for Cifar-10"
      ]
    },
    {
      "cell_type": "code",
      "execution_count": 43,
      "metadata": {
        "colab": {
          "base_uri": "https://localhost:8080/"
        },
        "id": "4XUhQF10Q1UP",
        "outputId": "cfcfa5c2-dca9-44d1-a388-24129e683a37"
      },
      "outputs": [
        {
          "name": "stdout",
          "output_type": "stream",
          "text": [
            "Model: \"model_11\"\n",
            "_________________________________________________________________\n",
            " Layer (type)                Output Shape              Param #   \n",
            "=================================================================\n",
            " input_12 (InputLayer)       [(None, 32, 32, 3)]       0         \n",
            "                                                                 \n",
            " flatten_11 (Flatten)        (None, 3072)              0         \n",
            "                                                                 \n",
            " dense_41 (Dense)            (None, 32)                98336     \n",
            "                                                                 \n",
            " dense_42 (Dense)            (None, 10)                330       \n",
            "                                                                 \n",
            "=================================================================\n",
            "Total params: 98666 (385.41 KB)\n",
            "Trainable params: 98666 (385.41 KB)\n",
            "Non-trainable params: 0 (0.00 Byte)\n",
            "_________________________________________________________________\n",
            "Epoch 1/5\n",
            "1250/1250 [==============================] - 3s 2ms/step - loss: 2.3047 - accuracy: 0.0998 - val_loss: 2.3027 - val_accuracy: 0.0997\n",
            "Epoch 2/5\n",
            "1250/1250 [==============================] - 2s 1ms/step - loss: 2.2922 - accuracy: 0.1109 - val_loss: 2.2369 - val_accuracy: 0.1635\n",
            "Epoch 3/5\n",
            "1250/1250 [==============================] - 2s 1ms/step - loss: 2.1588 - accuracy: 0.1654 - val_loss: 2.1178 - val_accuracy: 0.1751\n",
            "Epoch 4/5\n",
            "1250/1250 [==============================] - 2s 1ms/step - loss: 2.1007 - accuracy: 0.1748 - val_loss: 2.0917 - val_accuracy: 0.1778\n",
            "Epoch 5/5\n",
            "1250/1250 [==============================] - 2s 1ms/step - loss: 2.0826 - accuracy: 0.1803 - val_loss: 2.1115 - val_accuracy: 0.1747\n"
          ]
        },
        {
          "data": {
            "text/plain": [
              "<keras.src.callbacks.History at 0x2083daecc10>"
            ]
          },
          "execution_count": 43,
          "metadata": {},
          "output_type": "execute_result"
        }
      ],
      "source": [
        "model = func_api((32,32,3), 1,32)\n",
        "compilee(model)\n",
        "model.fit(X_train, y_train_one_hot, epochs=5, validation_split=0.2)"
      ]
    },
    {
      "cell_type": "code",
      "execution_count": 44,
      "metadata": {
        "colab": {
          "base_uri": "https://localhost:8080/"
        },
        "id": "Bo4pQgnVaFdm",
        "outputId": "3d5b1cae-b30b-4931-ad60-14608945bc91"
      },
      "outputs": [
        {
          "name": "stdout",
          "output_type": "stream",
          "text": [
            "313/313 [==============================] - 0s 722us/step\n",
            "Confusion Matrix:\n",
            "[[101  32   0   0   0   0 219 187 461   0]\n",
            " [115  79   0   0   0   0 121 171 514   0]\n",
            " [ 52  28   0   0   0   0 624 187 109   0]\n",
            " [ 68  32   0   0   0   0 579 259  62   0]\n",
            " [ 40  13   0   0   0   0 726 162  59   0]\n",
            " [ 57  20   0   0   0   0 670 213  40   0]\n",
            " [ 27  15   0   0   0   0 779 159  20   0]\n",
            " [ 82  23   0   0   0   0 580 247  68   0]\n",
            " [116  51   0   0   0   0  66 155 612   0]\n",
            " [111  74   0   0   0   0  99 147 569   0]]\n",
            "\n",
            "Classification Report:\n",
            "              precision    recall  f1-score   support\n",
            "\n",
            "           0       0.13      0.10      0.11      1000\n",
            "           1       0.22      0.08      0.12      1000\n",
            "           2       0.00      0.00      0.00      1000\n",
            "           3       0.00      0.00      0.00      1000\n",
            "           4       0.00      0.00      0.00      1000\n",
            "           5       0.00      0.00      0.00      1000\n",
            "           6       0.17      0.78      0.29      1000\n",
            "           7       0.13      0.25      0.17      1000\n",
            "           8       0.24      0.61      0.35      1000\n",
            "           9       0.00      0.00      0.00      1000\n",
            "\n",
            "    accuracy                           0.18     10000\n",
            "   macro avg       0.09      0.18      0.10     10000\n",
            "weighted avg       0.09      0.18      0.10     10000\n",
            "\n",
            "\n",
            "Test Accuracy: 0.1818\n"
          ]
        },
        {
          "name": "stderr",
          "output_type": "stream",
          "text": [
            "c:\\Users\\Harshneel\\AppData\\Local\\Programs\\Python\\Python39\\lib\\site-packages\\sklearn\\metrics\\_classification.py:1509: UndefinedMetricWarning: Precision is ill-defined and being set to 0.0 in labels with no predicted samples. Use `zero_division` parameter to control this behavior.\n",
            "  _warn_prf(average, modifier, f\"{metric.capitalize()} is\", len(result))\n",
            "c:\\Users\\Harshneel\\AppData\\Local\\Programs\\Python\\Python39\\lib\\site-packages\\sklearn\\metrics\\_classification.py:1509: UndefinedMetricWarning: Precision is ill-defined and being set to 0.0 in labels with no predicted samples. Use `zero_division` parameter to control this behavior.\n",
            "  _warn_prf(average, modifier, f\"{metric.capitalize()} is\", len(result))\n",
            "c:\\Users\\Harshneel\\AppData\\Local\\Programs\\Python\\Python39\\lib\\site-packages\\sklearn\\metrics\\_classification.py:1509: UndefinedMetricWarning: Precision is ill-defined and being set to 0.0 in labels with no predicted samples. Use `zero_division` parameter to control this behavior.\n",
            "  _warn_prf(average, modifier, f\"{metric.capitalize()} is\", len(result))\n"
          ]
        }
      ],
      "source": [
        "print_eval(model)"
      ]
    },
    {
      "cell_type": "code",
      "execution_count": 45,
      "metadata": {
        "colab": {
          "base_uri": "https://localhost:8080/"
        },
        "id": "OSe-GQkLbM61",
        "outputId": "fe186d90-a8fd-4e5d-e2f1-cb7cf445cceb"
      },
      "outputs": [
        {
          "name": "stdout",
          "output_type": "stream",
          "text": [
            "Model: \"model_12\"\n",
            "_________________________________________________________________\n",
            " Layer (type)                Output Shape              Param #   \n",
            "=================================================================\n",
            " input_13 (InputLayer)       [(None, 32, 32, 3)]       0         \n",
            "                                                                 \n",
            " flatten_12 (Flatten)        (None, 3072)              0         \n",
            "                                                                 \n",
            " dense_43 (Dense)            (None, 32)                98336     \n",
            "                                                                 \n",
            " dense_44 (Dense)            (None, 32)                1056      \n",
            "                                                                 \n",
            " dense_45 (Dense)            (None, 32)                1056      \n",
            "                                                                 \n",
            " dense_46 (Dense)            (None, 10)                330       \n",
            "                                                                 \n",
            "=================================================================\n",
            "Total params: 100778 (393.66 KB)\n",
            "Trainable params: 100778 (393.66 KB)\n",
            "Non-trainable params: 0 (0.00 Byte)\n",
            "_________________________________________________________________\n",
            "Epoch 1/5\n",
            "1250/1250 [==============================] - 3s 2ms/step - loss: 1.9489 - accuracy: 0.2793 - val_loss: 1.8356 - val_accuracy: 0.3282\n",
            "Epoch 2/5\n",
            "1250/1250 [==============================] - 2s 1ms/step - loss: 1.8011 - accuracy: 0.3454 - val_loss: 1.7777 - val_accuracy: 0.3570\n",
            "Epoch 3/5\n",
            "1250/1250 [==============================] - 2s 1ms/step - loss: 1.7372 - accuracy: 0.3701 - val_loss: 1.7201 - val_accuracy: 0.3778\n",
            "Epoch 4/5\n",
            "1250/1250 [==============================] - 2s 1ms/step - loss: 1.7008 - accuracy: 0.3830 - val_loss: 1.7152 - val_accuracy: 0.3799\n",
            "Epoch 5/5\n",
            "1250/1250 [==============================] - 2s 1ms/step - loss: 1.6746 - accuracy: 0.3933 - val_loss: 1.6695 - val_accuracy: 0.4031\n"
          ]
        },
        {
          "data": {
            "text/plain": [
              "<keras.src.callbacks.History at 0x2083db0a520>"
            ]
          },
          "execution_count": 45,
          "metadata": {},
          "output_type": "execute_result"
        }
      ],
      "source": [
        "model = func_api((32,32,3), 3,32)\n",
        "compilee(model)\n",
        "model.fit(X_train, y_train_one_hot, epochs=5, validation_split=0.2)"
      ]
    },
    {
      "cell_type": "code",
      "execution_count": 46,
      "metadata": {
        "colab": {
          "base_uri": "https://localhost:8080/"
        },
        "id": "GVJBDUpJbUEt",
        "outputId": "0a77e295-2506-4cfe-b842-434c39d20f34"
      },
      "outputs": [
        {
          "name": "stdout",
          "output_type": "stream",
          "text": [
            "313/313 [==============================] - 0s 746us/step\n",
            "Confusion Matrix:\n",
            "[[480  58  21  22  24   7  34  64 226  64]\n",
            " [ 37 564   6  14  21  10  38  40 121 149]\n",
            " [110  37 130  78 163  43 207 141  67  24]\n",
            " [ 51  44  38 223  57 111 204 130  55  87]\n",
            " [ 67  27  82  74 300  17 201 164  37  31]\n",
            " [ 30  19  42 155  80 238 175 154  67  40]\n",
            " [ 12  22  40  90 115  50 562  48  12  49]\n",
            " [ 67  42  20  48  91  27  69 516  31  89]\n",
            " [ 97 105   7  37   8  21  14  17 604  90]\n",
            " [ 31 275   1  27   5  10  40  59 115 437]]\n",
            "\n",
            "Classification Report:\n",
            "              precision    recall  f1-score   support\n",
            "\n",
            "           0       0.49      0.48      0.48      1000\n",
            "           1       0.47      0.56      0.51      1000\n",
            "           2       0.34      0.13      0.19      1000\n",
            "           3       0.29      0.22      0.25      1000\n",
            "           4       0.35      0.30      0.32      1000\n",
            "           5       0.45      0.24      0.31      1000\n",
            "           6       0.36      0.56      0.44      1000\n",
            "           7       0.39      0.52      0.44      1000\n",
            "           8       0.45      0.60      0.52      1000\n",
            "           9       0.41      0.44      0.42      1000\n",
            "\n",
            "    accuracy                           0.41     10000\n",
            "   macro avg       0.40      0.41      0.39     10000\n",
            "weighted avg       0.40      0.41      0.39     10000\n",
            "\n",
            "\n",
            "Test Accuracy: 0.4054\n"
          ]
        }
      ],
      "source": [
        "print_eval(model)"
      ]
    },
    {
      "cell_type": "code",
      "execution_count": 47,
      "metadata": {
        "colab": {
          "base_uri": "https://localhost:8080/"
        },
        "id": "KoY9xruSbV7N",
        "outputId": "ce283d58-1d82-4bc3-e3eb-213911937e48"
      },
      "outputs": [
        {
          "name": "stdout",
          "output_type": "stream",
          "text": [
            "Model: \"model_13\"\n",
            "_________________________________________________________________\n",
            " Layer (type)                Output Shape              Param #   \n",
            "=================================================================\n",
            " input_14 (InputLayer)       [(None, 32, 32, 3)]       0         \n",
            "                                                                 \n",
            " flatten_13 (Flatten)        (None, 3072)              0         \n",
            "                                                                 \n",
            " dense_47 (Dense)            (None, 32)                98336     \n",
            "                                                                 \n",
            " dense_48 (Dense)            (None, 32)                1056      \n",
            "                                                                 \n",
            " dense_49 (Dense)            (None, 32)                1056      \n",
            "                                                                 \n",
            " dense_50 (Dense)            (None, 32)                1056      \n",
            "                                                                 \n",
            " dense_51 (Dense)            (None, 32)                1056      \n",
            "                                                                 \n",
            " dense_52 (Dense)            (None, 10)                330       \n",
            "                                                                 \n",
            "=================================================================\n",
            "Total params: 102890 (401.91 KB)\n",
            "Trainable params: 102890 (401.91 KB)\n",
            "Non-trainable params: 0 (0.00 Byte)\n",
            "_________________________________________________________________\n",
            "Epoch 1/5\n",
            "1250/1250 [==============================] - 3s 2ms/step - loss: 1.9883 - accuracy: 0.2564 - val_loss: 1.8980 - val_accuracy: 0.3110\n",
            "Epoch 2/5\n",
            "1250/1250 [==============================] - 2s 2ms/step - loss: 1.8406 - accuracy: 0.3325 - val_loss: 1.8473 - val_accuracy: 0.3317\n",
            "Epoch 3/5\n",
            "1250/1250 [==============================] - 2s 2ms/step - loss: 1.8025 - accuracy: 0.3426 - val_loss: 1.7941 - val_accuracy: 0.3524\n",
            "Epoch 4/5\n",
            "1250/1250 [==============================] - 2s 2ms/step - loss: 1.7803 - accuracy: 0.3550 - val_loss: 1.7870 - val_accuracy: 0.3623\n",
            "Epoch 5/5\n",
            "1250/1250 [==============================] - 2s 2ms/step - loss: 1.7663 - accuracy: 0.3604 - val_loss: 1.7789 - val_accuracy: 0.3643\n"
          ]
        },
        {
          "data": {
            "text/plain": [
              "<keras.src.callbacks.History at 0x2082c2cca90>"
            ]
          },
          "execution_count": 47,
          "metadata": {},
          "output_type": "execute_result"
        }
      ],
      "source": [
        "model = func_api((32,32,3), 5,32)\n",
        "compilee(model)\n",
        "model.fit(X_train, y_train_one_hot, epochs=5, validation_split=0.2)"
      ]
    },
    {
      "cell_type": "code",
      "execution_count": 48,
      "metadata": {
        "colab": {
          "base_uri": "https://localhost:8080/"
        },
        "id": "co-NpD14bYZd",
        "outputId": "b194bff4-ceb2-4117-ddc4-8cf22b9b881c"
      },
      "outputs": [
        {
          "name": "stdout",
          "output_type": "stream",
          "text": [
            "313/313 [==============================] - 0s 753us/step\n",
            "Confusion Matrix:\n",
            "[[397  61  20  48  12  25  30  48 238 121]\n",
            " [ 24 461  10  34  13  49  43  29  88 249]\n",
            " [139  48  51  91 146 112 208 113  48  44]\n",
            " [ 35  81  36 170  64 264 156  61  45  88]\n",
            " [ 44  30  46  78 240  87 253 128  48  46]\n",
            " [ 32  56  31 132  78 393 126  64  44  44]\n",
            " [  8  42  23 108  88 117 504  44  11  55]\n",
            " [ 49  33  31  72  97 101  96 345  39 137]\n",
            " [101 104  10  21   3  55   4  12 472 218]\n",
            " [ 22 173   6  29   3  22  37  41 104 563]]\n",
            "\n",
            "Classification Report:\n",
            "              precision    recall  f1-score   support\n",
            "\n",
            "           0       0.47      0.40      0.43      1000\n",
            "           1       0.42      0.46      0.44      1000\n",
            "           2       0.19      0.05      0.08      1000\n",
            "           3       0.22      0.17      0.19      1000\n",
            "           4       0.32      0.24      0.28      1000\n",
            "           5       0.32      0.39      0.35      1000\n",
            "           6       0.35      0.50      0.41      1000\n",
            "           7       0.39      0.34      0.37      1000\n",
            "           8       0.42      0.47      0.44      1000\n",
            "           9       0.36      0.56      0.44      1000\n",
            "\n",
            "    accuracy                           0.36     10000\n",
            "   macro avg       0.35      0.36      0.34     10000\n",
            "weighted avg       0.35      0.36      0.34     10000\n",
            "\n",
            "\n",
            "Test Accuracy: 0.3596\n"
          ]
        }
      ],
      "source": [
        "print_eval(model)"
      ]
    },
    {
      "cell_type": "code",
      "execution_count": 49,
      "metadata": {
        "colab": {
          "base_uri": "https://localhost:8080/"
        },
        "id": "CJ9_qjjFbaP1",
        "outputId": "e4408955-6ae7-4bc6-c435-47cbd4bac662"
      },
      "outputs": [
        {
          "name": "stdout",
          "output_type": "stream",
          "text": [
            "Model: \"model_14\"\n",
            "_________________________________________________________________\n",
            " Layer (type)                Output Shape              Param #   \n",
            "=================================================================\n",
            " input_15 (InputLayer)       [(None, 32, 32, 3)]       0         \n",
            "                                                                 \n",
            " flatten_14 (Flatten)        (None, 3072)              0         \n",
            "                                                                 \n",
            " dense_53 (Dense)            (None, 64)                196672    \n",
            "                                                                 \n",
            " dense_54 (Dense)            (None, 64)                4160      \n",
            "                                                                 \n",
            " dense_55 (Dense)            (None, 64)                4160      \n",
            "                                                                 \n",
            " dense_56 (Dense)            (None, 64)                4160      \n",
            "                                                                 \n",
            " dense_57 (Dense)            (None, 64)                4160      \n",
            "                                                                 \n",
            " dense_58 (Dense)            (None, 10)                650       \n",
            "                                                                 \n",
            "=================================================================\n",
            "Total params: 213962 (835.79 KB)\n",
            "Trainable params: 213962 (835.79 KB)\n",
            "Non-trainable params: 0 (0.00 Byte)\n",
            "_________________________________________________________________\n",
            "Epoch 1/5\n",
            "1250/1250 [==============================] - 4s 2ms/step - loss: 1.9132 - accuracy: 0.2970 - val_loss: 1.7956 - val_accuracy: 0.3469\n",
            "Epoch 2/5\n",
            "1250/1250 [==============================] - 3s 2ms/step - loss: 1.7502 - accuracy: 0.3647 - val_loss: 1.7280 - val_accuracy: 0.3799\n",
            "Epoch 3/5\n",
            "1250/1250 [==============================] - 3s 2ms/step - loss: 1.6869 - accuracy: 0.3899 - val_loss: 1.7215 - val_accuracy: 0.3761\n",
            "Epoch 4/5\n",
            "1250/1250 [==============================] - 3s 2ms/step - loss: 1.6371 - accuracy: 0.4051 - val_loss: 1.6543 - val_accuracy: 0.4035\n",
            "Epoch 5/5\n",
            "1250/1250 [==============================] - 2s 2ms/step - loss: 1.6025 - accuracy: 0.4194 - val_loss: 1.6541 - val_accuracy: 0.4096\n"
          ]
        },
        {
          "data": {
            "text/plain": [
              "<keras.src.callbacks.History at 0x2082d6af6a0>"
            ]
          },
          "execution_count": 49,
          "metadata": {},
          "output_type": "execute_result"
        }
      ],
      "source": [
        "model = func_api((32,32,3), 5,64)\n",
        "compilee(model)\n",
        "model.fit(X_train, y_train_one_hot, epochs=5, validation_split=0.2)"
      ]
    },
    {
      "cell_type": "code",
      "execution_count": 50,
      "metadata": {
        "colab": {
          "base_uri": "https://localhost:8080/"
        },
        "id": "eZB0BJE9btCe",
        "outputId": "bb2c4269-0590-472d-acd6-c0fa633da040"
      },
      "outputs": [
        {
          "name": "stdout",
          "output_type": "stream",
          "text": [
            "313/313 [==============================] - 0s 772us/step\n",
            "Confusion Matrix:\n",
            "[[487  45 151  34  38  36  32  47 108  22]\n",
            " [ 54 562  31  34  23  43  41  57  58  97]\n",
            " [ 74  19 329  46 203  84 157  69  13   6]\n",
            " [ 18  17 115 199  90 188 266  73  16  18]\n",
            " [ 47  11 172  48 421  46 172  65   8  10]\n",
            " [ 13  11 134 131  99 352 164  78  12   6]\n",
            " [  3  20 108  59 131  36 603  29   5   6]\n",
            " [ 49  19  78  37 172  92  70 455   7  21]\n",
            " [182  79  67  32  19  58  32  24 454  53]\n",
            " [ 67 196  36  43  22  33  58  99  69 377]]\n",
            "\n",
            "Classification Report:\n",
            "              precision    recall  f1-score   support\n",
            "\n",
            "           0       0.49      0.49      0.49      1000\n",
            "           1       0.57      0.56      0.57      1000\n",
            "           2       0.27      0.33      0.30      1000\n",
            "           3       0.30      0.20      0.24      1000\n",
            "           4       0.35      0.42      0.38      1000\n",
            "           5       0.36      0.35      0.36      1000\n",
            "           6       0.38      0.60      0.46      1000\n",
            "           7       0.46      0.46      0.46      1000\n",
            "           8       0.61      0.45      0.52      1000\n",
            "           9       0.61      0.38      0.47      1000\n",
            "\n",
            "    accuracy                           0.42     10000\n",
            "   macro avg       0.44      0.42      0.42     10000\n",
            "weighted avg       0.44      0.42      0.42     10000\n",
            "\n",
            "\n",
            "Test Accuracy: 0.4239\n"
          ]
        }
      ],
      "source": [
        "print_eval(model)"
      ]
    },
    {
      "cell_type": "code",
      "execution_count": 51,
      "metadata": {
        "colab": {
          "base_uri": "https://localhost:8080/"
        },
        "id": "WUi_JpNXbu-V",
        "outputId": "03e3aedd-c516-4f6e-863e-90d7e37c6ec4"
      },
      "outputs": [
        {
          "name": "stdout",
          "output_type": "stream",
          "text": [
            "Model: \"model_15\"\n",
            "_________________________________________________________________\n",
            " Layer (type)                Output Shape              Param #   \n",
            "=================================================================\n",
            " input_16 (InputLayer)       [(None, 32, 32, 3)]       0         \n",
            "                                                                 \n",
            " flatten_15 (Flatten)        (None, 3072)              0         \n",
            "                                                                 \n",
            " dense_59 (Dense)            (None, 128)               393344    \n",
            "                                                                 \n",
            " dense_60 (Dense)            (None, 128)               16512     \n",
            "                                                                 \n",
            " dense_61 (Dense)            (None, 128)               16512     \n",
            "                                                                 \n",
            " dense_62 (Dense)            (None, 10)                1290      \n",
            "                                                                 \n",
            "=================================================================\n",
            "Total params: 427658 (1.63 MB)\n",
            "Trainable params: 427658 (1.63 MB)\n",
            "Non-trainable params: 0 (0.00 Byte)\n",
            "_________________________________________________________________\n",
            "Epoch 1/5\n",
            "1250/1250 [==============================] - 8s 6ms/step - loss: 1.8796 - accuracy: 0.3127 - val_loss: 1.7668 - val_accuracy: 0.3597\n",
            "Epoch 2/5\n",
            "1250/1250 [==============================] - 6s 5ms/step - loss: 1.7145 - accuracy: 0.3796 - val_loss: 1.7047 - val_accuracy: 0.3887\n",
            "Epoch 3/5\n",
            "1250/1250 [==============================] - 6s 5ms/step - loss: 1.6424 - accuracy: 0.4104 - val_loss: 1.6674 - val_accuracy: 0.4044\n",
            "Epoch 4/5\n",
            "1250/1250 [==============================] - 6s 5ms/step - loss: 1.5906 - accuracy: 0.4254 - val_loss: 1.5907 - val_accuracy: 0.4343\n",
            "Epoch 5/5\n",
            "1250/1250 [==============================] - 6s 5ms/step - loss: 1.5469 - accuracy: 0.4446 - val_loss: 1.7196 - val_accuracy: 0.3971\n"
          ]
        },
        {
          "data": {
            "text/plain": [
              "<keras.src.callbacks.History at 0x2082ea463d0>"
            ]
          },
          "execution_count": 51,
          "metadata": {},
          "output_type": "execute_result"
        }
      ],
      "source": [
        "model = func_api((32,32,3), 3,128)\n",
        "compilee(model)\n",
        "model.fit(X_train, y_train_one_hot, epochs=5, validation_split=0.2)"
      ]
    },
    {
      "cell_type": "code",
      "execution_count": 52,
      "metadata": {
        "colab": {
          "base_uri": "https://localhost:8080/"
        },
        "id": "-THnkiAIcF_W",
        "outputId": "133080b1-3529-4d45-de9b-744b56a7c85c"
      },
      "outputs": [
        {
          "name": "stdout",
          "output_type": "stream",
          "text": [
            "313/313 [==============================] - 0s 917us/step\n",
            "Confusion Matrix:\n",
            "[[544  34   9  18   9  37  11   7 233  98]\n",
            " [ 52 503   5  10   6  30   5  10 127 252]\n",
            " [165  52 150  73  96 227  58  43  83  53]\n",
            " [ 82  71  23 161  11 370  39  18  97 128]\n",
            " [ 95  39  81  62 239 232  72  52  51  77]\n",
            " [ 50  53  24 109  13 511  28  32  90  90]\n",
            " [ 42  71  33  98  68 221 326   7  50  84]\n",
            " [ 85  38  29  37  44 192  17 322  56 180]\n",
            " [101  50   0   9   6  25   1   8 709  91]\n",
            " [ 57 146   1  10   5  21   5  15 127 613]]\n",
            "\n",
            "Classification Report:\n",
            "              precision    recall  f1-score   support\n",
            "\n",
            "           0       0.43      0.54      0.48      1000\n",
            "           1       0.48      0.50      0.49      1000\n",
            "           2       0.42      0.15      0.22      1000\n",
            "           3       0.27      0.16      0.20      1000\n",
            "           4       0.48      0.24      0.32      1000\n",
            "           5       0.27      0.51      0.36      1000\n",
            "           6       0.58      0.33      0.42      1000\n",
            "           7       0.63      0.32      0.43      1000\n",
            "           8       0.44      0.71      0.54      1000\n",
            "           9       0.37      0.61      0.46      1000\n",
            "\n",
            "    accuracy                           0.41     10000\n",
            "   macro avg       0.44      0.41      0.39     10000\n",
            "weighted avg       0.44      0.41      0.39     10000\n",
            "\n",
            "\n",
            "Test Accuracy: 0.4078\n"
          ]
        }
      ],
      "source": [
        "print_eval(model)"
      ]
    },
    {
      "cell_type": "code",
      "execution_count": 53,
      "metadata": {
        "colab": {
          "base_uri": "https://localhost:8080/"
        },
        "id": "3ZTSpc7ycIJ9",
        "outputId": "dc46a99d-4d44-4ace-fc94-7505cc0b0b71"
      },
      "outputs": [
        {
          "name": "stdout",
          "output_type": "stream",
          "text": [
            "Model: \"model_16\"\n",
            "_________________________________________________________________\n",
            " Layer (type)                Output Shape              Param #   \n",
            "=================================================================\n",
            " input_17 (InputLayer)       [(None, 32, 32, 3)]       0         \n",
            "                                                                 \n",
            " flatten_16 (Flatten)        (None, 3072)              0         \n",
            "                                                                 \n",
            " dense_63 (Dense)            (None, 128)               393344    \n",
            "                                                                 \n",
            " dense_64 (Dense)            (None, 128)               16512     \n",
            "                                                                 \n",
            " dense_65 (Dense)            (None, 128)               16512     \n",
            "                                                                 \n",
            " dense_66 (Dense)            (None, 128)               16512     \n",
            "                                                                 \n",
            " dense_67 (Dense)            (None, 128)               16512     \n",
            "                                                                 \n",
            " dense_68 (Dense)            (None, 10)                1290      \n",
            "                                                                 \n",
            "=================================================================\n",
            "Total params: 460682 (1.76 MB)\n",
            "Trainable params: 460682 (1.76 MB)\n",
            "Non-trainable params: 0 (0.00 Byte)\n",
            "_________________________________________________________________\n",
            "Epoch 1/5\n",
            "1250/1250 [==============================] - 9s 6ms/step - loss: 1.9020 - accuracy: 0.3022 - val_loss: 1.8782 - val_accuracy: 0.3142\n",
            "Epoch 2/5\n",
            "1250/1250 [==============================] - 7s 5ms/step - loss: 1.7523 - accuracy: 0.3649 - val_loss: 1.7384 - val_accuracy: 0.3749\n",
            "Epoch 3/5\n",
            "1250/1250 [==============================] - 6s 5ms/step - loss: 1.6706 - accuracy: 0.3941 - val_loss: 1.6624 - val_accuracy: 0.3944\n",
            "Epoch 4/5\n",
            "1250/1250 [==============================] - 7s 5ms/step - loss: 1.6170 - accuracy: 0.4112 - val_loss: 1.6737 - val_accuracy: 0.3882\n",
            "Epoch 5/5\n",
            "1250/1250 [==============================] - 7s 5ms/step - loss: 1.5768 - accuracy: 0.4300 - val_loss: 1.5735 - val_accuracy: 0.4340\n"
          ]
        },
        {
          "data": {
            "text/plain": [
              "<keras.src.callbacks.History at 0x2082f221400>"
            ]
          },
          "execution_count": 53,
          "metadata": {},
          "output_type": "execute_result"
        }
      ],
      "source": [
        "model = func_api((32,32,3), 5,128)\n",
        "compilee(model)\n",
        "model.fit(X_train, y_train_one_hot, epochs=5, validation_split=0.2)"
      ]
    },
    {
      "cell_type": "code",
      "execution_count": 54,
      "metadata": {
        "colab": {
          "base_uri": "https://localhost:8080/"
        },
        "id": "c04eYJ2JdE3F",
        "outputId": "8c4dd27a-b99a-49cf-e308-8668f5cca94f"
      },
      "outputs": [
        {
          "name": "stdout",
          "output_type": "stream",
          "text": [
            "313/313 [==============================] - 0s 1ms/step\n",
            "Confusion Matrix:\n",
            "[[516  42  59  32  35  17  28  37 178  56]\n",
            " [ 43 592   8  39  23  30  26  20  93 126]\n",
            " [ 84  26 221  85 245  90 126  66  38  19]\n",
            " [ 40  28  71 271  82 241 142  41  40  44]\n",
            " [ 53  10 103  60 453  63 141  69  33  15]\n",
            " [ 23  14  77 163  98 385 116  52  53  19]\n",
            " [  8  16  69 106 177  69 507  18  11  19]\n",
            " [ 43  21  56  56 167  99  46 417  27  68]\n",
            " [ 94  70  14  40  23  20   4  13 615 107]\n",
            " [ 42 213  13  44  15  27  26  35  75 510]]\n",
            "\n",
            "Classification Report:\n",
            "              precision    recall  f1-score   support\n",
            "\n",
            "           0       0.55      0.52      0.53      1000\n",
            "           1       0.57      0.59      0.58      1000\n",
            "           2       0.32      0.22      0.26      1000\n",
            "           3       0.30      0.27      0.29      1000\n",
            "           4       0.34      0.45      0.39      1000\n",
            "           5       0.37      0.39      0.38      1000\n",
            "           6       0.44      0.51      0.47      1000\n",
            "           7       0.54      0.42      0.47      1000\n",
            "           8       0.53      0.61      0.57      1000\n",
            "           9       0.52      0.51      0.51      1000\n",
            "\n",
            "    accuracy                           0.45     10000\n",
            "   macro avg       0.45      0.45      0.45     10000\n",
            "weighted avg       0.45      0.45      0.45     10000\n",
            "\n",
            "\n",
            "Test Accuracy: 0.4487\n"
          ]
        }
      ],
      "source": [
        "print_eval(model)"
      ]
    },
    {
      "cell_type": "markdown",
      "metadata": {
        "id": "Kxdr4IQLkSBG"
      },
      "source": [
        "# ANN with skip connection Cifar-10"
      ]
    },
    {
      "cell_type": "code",
      "execution_count": 55,
      "metadata": {
        "colab": {
          "base_uri": "https://localhost:8080/"
        },
        "id": "edk4FPwSkYfd",
        "outputId": "371c67e6-c424-4aa7-df8b-fb0d27a93dd6"
      },
      "outputs": [
        {
          "name": "stdout",
          "output_type": "stream",
          "text": [
            "Dense Output 1: KerasTensor(type_spec=TensorSpec(shape=(None, 32), dtype=tf.float32, name=None), name='dense_69/Relu:0', description=\"created by layer 'dense_69'\")"
          ]
        },
        {
          "name": "stdout",
          "output_type": "stream",
          "text": [
            "\n",
            "Dense Output 2: KerasTensor(type_spec=TensorSpec(shape=(None, 32), dtype=tf.float32, name=None), name='dense_70/Relu:0', description=\"created by layer 'dense_70'\")\n",
            "Dense Output 3: KerasTensor(type_spec=TensorSpec(shape=(None, 32), dtype=tf.float32, name=None), name='dense_71/Relu:0', description=\"created by layer 'dense_71'\")\n",
            "Model: \"model_17\"\n",
            "__________________________________________________________________________________________________\n",
            " Layer (type)                Output Shape                 Param #   Connected to                  \n",
            "==================================================================================================\n",
            " input_18 (InputLayer)       [(None, 32, 32, 3)]          0         []                            \n",
            "                                                                                                  \n",
            " flatten_17 (Flatten)        (None, 3072)                 0         ['input_18[0][0]']            \n",
            "                                                                                                  \n",
            " dense_69 (Dense)            (None, 32)                   98336     ['flatten_17[0][0]']          \n",
            "                                                                                                  \n",
            " dense_70 (Dense)            (None, 32)                   1056      ['dense_69[0][0]']            \n",
            "                                                                                                  \n",
            " dense_71 (Dense)            (None, 32)                   1056      ['dense_70[0][0]']            \n",
            "                                                                                                  \n",
            " add_5 (Add)                 (None, 32)                   0         ['dense_69[0][0]',            \n",
            "                                                                     'dense_71[0][0]']            \n",
            "                                                                                                  \n",
            " dense_72 (Dense)            (None, 10)                   330       ['add_5[0][0]']               \n",
            "                                                                                                  \n",
            "==================================================================================================\n",
            "Total params: 100778 (393.66 KB)\n",
            "Trainable params: 100778 (393.66 KB)\n",
            "Non-trainable params: 0 (0.00 Byte)\n",
            "__________________________________________________________________________________________________\n",
            "Epoch 1/5\n",
            "1250/1250 [==============================] - 3s 2ms/step - loss: 1.9616 - accuracy: 0.2717 - val_loss: 1.8693 - val_accuracy: 0.3171\n",
            "Epoch 2/5\n",
            "1250/1250 [==============================] - 2s 2ms/step - loss: 1.8320 - accuracy: 0.3287 - val_loss: 1.8295 - val_accuracy: 0.3355\n",
            "Epoch 3/5\n",
            "1250/1250 [==============================] - 2s 2ms/step - loss: 1.7956 - accuracy: 0.3432 - val_loss: 1.8671 - val_accuracy: 0.3255\n",
            "Epoch 4/5\n",
            "1250/1250 [==============================] - 2s 2ms/step - loss: 1.7739 - accuracy: 0.3540 - val_loss: 1.7732 - val_accuracy: 0.3549\n",
            "Epoch 5/5\n",
            "1250/1250 [==============================] - 2s 2ms/step - loss: 1.7568 - accuracy: 0.3618 - val_loss: 1.7812 - val_accuracy: 0.3536\n"
          ]
        },
        {
          "data": {
            "text/plain": [
              "<keras.src.callbacks.History at 0x208334c0f10>"
            ]
          },
          "execution_count": 55,
          "metadata": {},
          "output_type": "execute_result"
        }
      ],
      "source": [
        "model_skip = func_api_with_skip((32,32,3),3,32,0,2)\n",
        "compilee(model_skip)\n",
        "model_skip.fit(X_train, y_train_one_hot, epochs=5, validation_split=0.2)"
      ]
    },
    {
      "cell_type": "code",
      "execution_count": 56,
      "metadata": {
        "colab": {
          "base_uri": "https://localhost:8080/"
        },
        "id": "06Nx6Do8kr1l",
        "outputId": "7ae06145-7437-402a-c0b2-cb8151a47fc9"
      },
      "outputs": [
        {
          "name": "stdout",
          "output_type": "stream",
          "text": [
            "313/313 [==============================] - 0s 1ms/step\n",
            "Confusion Matrix:\n",
            "[[516  42  59  32  35  17  28  37 178  56]\n",
            " [ 43 592   8  39  23  30  26  20  93 126]\n",
            " [ 84  26 221  85 245  90 126  66  38  19]\n",
            " [ 40  28  71 271  82 241 142  41  40  44]\n",
            " [ 53  10 103  60 453  63 141  69  33  15]\n",
            " [ 23  14  77 163  98 385 116  52  53  19]\n",
            " [  8  16  69 106 177  69 507  18  11  19]\n",
            " [ 43  21  56  56 167  99  46 417  27  68]\n",
            " [ 94  70  14  40  23  20   4  13 615 107]\n",
            " [ 42 213  13  44  15  27  26  35  75 510]]\n",
            "\n",
            "Classification Report:\n",
            "              precision    recall  f1-score   support\n",
            "\n",
            "           0       0.55      0.52      0.53      1000\n",
            "           1       0.57      0.59      0.58      1000\n",
            "           2       0.32      0.22      0.26      1000\n",
            "           3       0.30      0.27      0.29      1000\n",
            "           4       0.34      0.45      0.39      1000\n",
            "           5       0.37      0.39      0.38      1000\n",
            "           6       0.44      0.51      0.47      1000\n",
            "           7       0.54      0.42      0.47      1000\n",
            "           8       0.53      0.61      0.57      1000\n",
            "           9       0.52      0.51      0.51      1000\n",
            "\n",
            "    accuracy                           0.45     10000\n",
            "   macro avg       0.45      0.45      0.45     10000\n",
            "weighted avg       0.45      0.45      0.45     10000\n",
            "\n",
            "\n",
            "Test Accuracy: 0.4487\n"
          ]
        }
      ],
      "source": [
        "print_eval(model)"
      ]
    },
    {
      "cell_type": "markdown",
      "metadata": {
        "id": "PIH8U5dykzta"
      },
      "source": [
        "# CNN for Cifar-10"
      ]
    },
    {
      "cell_type": "code",
      "execution_count": 57,
      "metadata": {
        "colab": {
          "base_uri": "https://localhost:8080/"
        },
        "id": "Ooe98ufvdpOP",
        "outputId": "1af6faeb-faa5-4051-9f15-7f5f99b0d79a"
      },
      "outputs": [
        {
          "name": "stdout",
          "output_type": "stream",
          "text": [
            "Model: \"model_18\"\n",
            "_________________________________________________________________\n",
            " Layer (type)                Output Shape              Param #   \n",
            "=================================================================\n",
            " input_19 (InputLayer)       [(None, 32, 32, 3)]       0         \n",
            "                                                                 \n",
            " conv2d_15 (Conv2D)          (None, 32, 32, 32)        896       \n",
            "                                                                 \n",
            " batch_normalization_17 (Ba  (None, 32, 32, 32)        128       \n",
            " tchNormalization)                                               \n",
            "                                                                 \n",
            " activation_15 (Activation)  (None, 32, 32, 32)        0         \n",
            "                                                                 \n",
            " max_pooling2d_9 (MaxPoolin  (None, 16, 16, 32)        0         \n",
            " g2D)                                                            \n",
            "                                                                 \n",
            " conv2d_16 (Conv2D)          (None, 16, 16, 32)        9248      \n",
            "                                                                 \n",
            " batch_normalization_18 (Ba  (None, 16, 16, 32)        128       \n",
            " tchNormalization)                                               \n",
            "                                                                 \n",
            " activation_16 (Activation)  (None, 16, 16, 32)        0         \n",
            "                                                                 \n",
            " max_pooling2d_10 (MaxPooli  (None, 8, 8, 32)          0         \n",
            " ng2D)                                                           \n",
            "                                                                 \n",
            " flatten_18 (Flatten)        (None, 2048)              0         \n",
            "                                                                 \n",
            " dense_73 (Dense)            (None, 32)                65568     \n",
            "                                                                 \n",
            " batch_normalization_19 (Ba  (None, 32)                128       \n",
            " tchNormalization)                                               \n",
            "                                                                 \n",
            " dense_74 (Dense)            (None, 32)                1056      \n",
            "                                                                 \n",
            " batch_normalization_20 (Ba  (None, 32)                128       \n",
            " tchNormalization)                                               \n",
            "                                                                 \n",
            " dense_75 (Dense)            (None, 10)                330       \n",
            "                                                                 \n",
            "=================================================================\n",
            "Total params: 77610 (303.16 KB)\n",
            "Trainable params: 77354 (302.16 KB)\n",
            "Non-trainable params: 256 (1.00 KB)\n",
            "_________________________________________________________________\n",
            "Epoch 1/5\n",
            "1250/1250 [==============================] - 37s 29ms/step - loss: 1.3885 - accuracy: 0.5070 - val_loss: 1.4621 - val_accuracy: 0.5032\n",
            "Epoch 2/5\n",
            "1250/1250 [==============================] - 32s 26ms/step - loss: 1.0597 - accuracy: 0.6240 - val_loss: 1.2790 - val_accuracy: 0.5559\n",
            "Epoch 3/5\n",
            "1250/1250 [==============================] - 32s 26ms/step - loss: 0.9504 - accuracy: 0.6671 - val_loss: 1.2283 - val_accuracy: 0.5809\n",
            "Epoch 4/5\n",
            "1250/1250 [==============================] - 32s 26ms/step - loss: 0.8732 - accuracy: 0.6919 - val_loss: 0.9718 - val_accuracy: 0.6606\n",
            "Epoch 5/5\n",
            "1250/1250 [==============================] - 31s 25ms/step - loss: 0.8211 - accuracy: 0.7093 - val_loss: 1.0923 - val_accuracy: 0.6264\n"
          ]
        },
        {
          "data": {
            "text/plain": [
              "<keras.src.callbacks.History at 0x2083daf26d0>"
            ]
          },
          "execution_count": 57,
          "metadata": {},
          "output_type": "execute_result"
        }
      ],
      "source": [
        "mode_cnn = cnn_model((32, 32, 3),1,2,32)\n",
        "compilee(mode_cnn)\n",
        "mode_cnn.fit(X_train, y_train_one_hot, epochs=5, validation_split=0.2)"
      ]
    },
    {
      "cell_type": "code",
      "execution_count": 58,
      "metadata": {
        "colab": {
          "base_uri": "https://localhost:8080/"
        },
        "id": "dyUGNYa-d7gU",
        "outputId": "121c3b5f-c178-4af9-f08c-14897e6f309c"
      },
      "outputs": [
        {
          "name": "stdout",
          "output_type": "stream",
          "text": [
            "313/313 [==============================] - 2s 7ms/step\n",
            "Confusion Matrix:\n",
            "[[723  13  81  21  11  18   1  45  43  44]\n",
            " [ 44 675  12  21   2  10   2  43  27 164]\n",
            " [ 76   1 559  48  40  70   7 184   7   8]\n",
            " [ 21   1  71 436  29 246   3 170   8  15]\n",
            " [ 25   1 124  71 400  51   5 315   7   1]\n",
            " [ 11   0  36 109  14 633   1 186   4   6]\n",
            " [  7   4 102 202  69  72 416 115   4   9]\n",
            " [ 10   0  16   8   9  26   0 925   1   5]\n",
            " [135  29  18  15   3  12   0  23 720  45]\n",
            " [ 31  47  10  12   1  15   0  70  20 794]]\n",
            "\n",
            "Classification Report:\n",
            "              precision    recall  f1-score   support\n",
            "\n",
            "           0       0.67      0.72      0.69      1000\n",
            "           1       0.88      0.68      0.76      1000\n",
            "           2       0.54      0.56      0.55      1000\n",
            "           3       0.46      0.44      0.45      1000\n",
            "           4       0.69      0.40      0.51      1000\n",
            "           5       0.55      0.63      0.59      1000\n",
            "           6       0.96      0.42      0.58      1000\n",
            "           7       0.45      0.93      0.60      1000\n",
            "           8       0.86      0.72      0.78      1000\n",
            "           9       0.73      0.79      0.76      1000\n",
            "\n",
            "    accuracy                           0.63     10000\n",
            "   macro avg       0.68      0.63      0.63     10000\n",
            "weighted avg       0.68      0.63      0.63     10000\n",
            "\n",
            "\n",
            "Test Accuracy: 0.6281\n"
          ]
        }
      ],
      "source": [
        "print_eval(mode_cnn)"
      ]
    },
    {
      "cell_type": "code",
      "execution_count": 59,
      "metadata": {
        "colab": {
          "base_uri": "https://localhost:8080/"
        },
        "id": "FED1MrXyeIhM",
        "outputId": "79de0e53-2abe-4fc8-b889-dc9998d474d8"
      },
      "outputs": [
        {
          "name": "stdout",
          "output_type": "stream",
          "text": [
            "Model: \"model_19\"\n",
            "_________________________________________________________________\n",
            " Layer (type)                Output Shape              Param #   \n",
            "=================================================================\n",
            " input_20 (InputLayer)       [(None, 32, 32, 3)]       0         \n",
            "                                                                 \n",
            " conv2d_17 (Conv2D)          (None, 32, 32, 32)        896       \n",
            "                                                                 \n",
            " batch_normalization_21 (Ba  (None, 32, 32, 32)        128       \n",
            " tchNormalization)                                               \n",
            "                                                                 \n",
            " activation_17 (Activation)  (None, 32, 32, 32)        0         \n",
            "                                                                 \n",
            " max_pooling2d_11 (MaxPooli  (None, 16, 16, 32)        0         \n",
            " ng2D)                                                           \n",
            "                                                                 \n",
            " conv2d_18 (Conv2D)          (None, 16, 16, 32)        9248      \n",
            "                                                                 \n",
            " batch_normalization_22 (Ba  (None, 16, 16, 32)        128       \n",
            " tchNormalization)                                               \n",
            "                                                                 \n",
            " activation_18 (Activation)  (None, 16, 16, 32)        0         \n",
            "                                                                 \n",
            " max_pooling2d_12 (MaxPooli  (None, 8, 8, 32)          0         \n",
            " ng2D)                                                           \n",
            "                                                                 \n",
            " conv2d_19 (Conv2D)          (None, 8, 8, 32)          9248      \n",
            "                                                                 \n",
            " batch_normalization_23 (Ba  (None, 8, 8, 32)          128       \n",
            " tchNormalization)                                               \n",
            "                                                                 \n",
            " activation_19 (Activation)  (None, 8, 8, 32)          0         \n",
            "                                                                 \n",
            " max_pooling2d_13 (MaxPooli  (None, 4, 4, 32)          0         \n",
            " ng2D)                                                           \n",
            "                                                                 \n",
            " conv2d_20 (Conv2D)          (None, 4, 4, 32)          9248      \n",
            "                                                                 \n",
            " batch_normalization_24 (Ba  (None, 4, 4, 32)          128       \n",
            " tchNormalization)                                               \n",
            "                                                                 \n",
            " activation_20 (Activation)  (None, 4, 4, 32)          0         \n",
            "                                                                 \n",
            " max_pooling2d_14 (MaxPooli  (None, 2, 2, 32)          0         \n",
            " ng2D)                                                           \n",
            "                                                                 \n",
            " flatten_19 (Flatten)        (None, 128)               0         \n",
            "                                                                 \n",
            " dense_76 (Dense)            (None, 32)                4128      \n",
            "                                                                 \n",
            " batch_normalization_25 (Ba  (None, 32)                128       \n",
            " tchNormalization)                                               \n",
            "                                                                 \n",
            " dense_77 (Dense)            (None, 32)                1056      \n",
            "                                                                 \n",
            " batch_normalization_26 (Ba  (None, 32)                128       \n",
            " tchNormalization)                                               \n",
            "                                                                 \n",
            " dense_78 (Dense)            (None, 32)                1056      \n",
            "                                                                 \n",
            " batch_normalization_27 (Ba  (None, 32)                128       \n",
            " tchNormalization)                                               \n",
            "                                                                 \n",
            " dense_79 (Dense)            (None, 32)                1056      \n",
            "                                                                 \n",
            " batch_normalization_28 (Ba  (None, 32)                128       \n",
            " tchNormalization)                                               \n",
            "                                                                 \n",
            " dense_80 (Dense)            (None, 10)                330       \n",
            "                                                                 \n",
            "=================================================================\n",
            "Total params: 37290 (145.66 KB)\n",
            "Trainable params: 36778 (143.66 KB)\n",
            "Non-trainable params: 512 (2.00 KB)\n",
            "_________________________________________________________________\n",
            "Epoch 1/5\n",
            "1250/1250 [==============================] - 39s 30ms/step - loss: 1.6522 - accuracy: 0.3954 - val_loss: 1.7554 - val_accuracy: 0.4056\n",
            "Epoch 2/5\n",
            "1250/1250 [==============================] - 38s 31ms/step - loss: 1.2908 - accuracy: 0.5304 - val_loss: 1.1901 - val_accuracy: 0.5728\n",
            "Epoch 3/5\n",
            "1250/1250 [==============================] - 38s 30ms/step - loss: 1.1340 - accuracy: 0.5974 - val_loss: 1.2269 - val_accuracy: 0.5734\n",
            "Epoch 4/5\n",
            "1250/1250 [==============================] - 39s 31ms/step - loss: 1.0236 - accuracy: 0.6381 - val_loss: 1.0881 - val_accuracy: 0.6183\n",
            "Epoch 5/5\n",
            "1250/1250 [==============================] - 40s 32ms/step - loss: 0.9378 - accuracy: 0.6714 - val_loss: 1.3199 - val_accuracy: 0.5463\n"
          ]
        },
        {
          "data": {
            "text/plain": [
              "<keras.src.callbacks.History at 0x20831aae3a0>"
            ]
          },
          "execution_count": 59,
          "metadata": {},
          "output_type": "execute_result"
        }
      ],
      "source": [
        "mode_cnn = cnn_model((32, 32, 3),3,4,32)\n",
        "compilee(mode_cnn)\n",
        "mode_cnn.fit(X_train, y_train_one_hot, epochs=5, validation_split=0.2)"
      ]
    },
    {
      "cell_type": "code",
      "execution_count": 60,
      "metadata": {
        "colab": {
          "base_uri": "https://localhost:8080/"
        },
        "id": "0k5bBrZ5eKlX",
        "outputId": "1e01e238-fd29-423b-bf88-3c16146a7c55"
      },
      "outputs": [
        {
          "name": "stdout",
          "output_type": "stream",
          "text": [
            "313/313 [==============================] - 3s 9ms/step\n",
            "Confusion Matrix:\n",
            "[[609   6 128   2  91   1  49   3 102   9]\n",
            " [ 37 692  14   8   3   3 105   1 108  29]\n",
            " [ 42   1 583   9  74  21 248   6  15   1]\n",
            " [ 11   2 190 196  76  80 408   3  32   2]\n",
            " [  9   3 125  10 426   5 408   3  11   0]\n",
            " [  9   0 203  80  68 333 277   5  25   0]\n",
            " [  3   0  35   7   4   2 945   0   4   0]\n",
            " [  6   3 159   9 214  51 199 349   9   1]\n",
            " [ 47  12  33   1  14   2  54   0 834   3]\n",
            " [ 31  71  49  13  12   7 206   3 135 473]]\n",
            "\n",
            "Classification Report:\n",
            "              precision    recall  f1-score   support\n",
            "\n",
            "           0       0.76      0.61      0.68      1000\n",
            "           1       0.88      0.69      0.77      1000\n",
            "           2       0.38      0.58      0.46      1000\n",
            "           3       0.59      0.20      0.29      1000\n",
            "           4       0.43      0.43      0.43      1000\n",
            "           5       0.66      0.33      0.44      1000\n",
            "           6       0.33      0.94      0.48      1000\n",
            "           7       0.94      0.35      0.51      1000\n",
            "           8       0.65      0.83      0.73      1000\n",
            "           9       0.91      0.47      0.62      1000\n",
            "\n",
            "    accuracy                           0.54     10000\n",
            "   macro avg       0.65      0.54      0.54     10000\n",
            "weighted avg       0.65      0.54      0.54     10000\n",
            "\n",
            "\n",
            "Test Accuracy: 0.544\n"
          ]
        }
      ],
      "source": [
        "print_eval(mode_cnn)"
      ]
    },
    {
      "cell_type": "code",
      "execution_count": 61,
      "metadata": {
        "colab": {
          "base_uri": "https://localhost:8080/"
        },
        "id": "I2v-1DAhhW4U",
        "outputId": "2a9c3ce7-587f-43d5-e8d2-0b81e6394f17"
      },
      "outputs": [
        {
          "name": "stdout",
          "output_type": "stream",
          "text": [
            "Model: \"model_20\"\n",
            "_________________________________________________________________\n",
            " Layer (type)                Output Shape              Param #   \n",
            "=================================================================\n",
            " input_21 (InputLayer)       [(None, 32, 32, 3)]       0         \n",
            "                                                                 \n",
            " conv2d_21 (Conv2D)          (None, 32, 32, 32)        896       \n",
            "                                                                 \n",
            " batch_normalization_29 (Ba  (None, 32, 32, 32)        128       \n",
            " tchNormalization)                                               \n",
            "                                                                 \n",
            " activation_21 (Activation)  (None, 32, 32, 32)        0         \n",
            "                                                                 \n",
            " max_pooling2d_15 (MaxPooli  (None, 16, 16, 32)        0         \n",
            " ng2D)                                                           \n",
            "                                                                 \n",
            " conv2d_22 (Conv2D)          (None, 16, 16, 32)        9248      \n",
            "                                                                 \n",
            " batch_normalization_30 (Ba  (None, 16, 16, 32)        128       \n",
            " tchNormalization)                                               \n",
            "                                                                 \n",
            " activation_22 (Activation)  (None, 16, 16, 32)        0         \n",
            "                                                                 \n",
            " max_pooling2d_16 (MaxPooli  (None, 8, 8, 32)          0         \n",
            " ng2D)                                                           \n",
            "                                                                 \n",
            " conv2d_23 (Conv2D)          (None, 8, 8, 32)          9248      \n",
            "                                                                 \n",
            " batch_normalization_31 (Ba  (None, 8, 8, 32)          128       \n",
            " tchNormalization)                                               \n",
            "                                                                 \n",
            " activation_23 (Activation)  (None, 8, 8, 32)          0         \n",
            "                                                                 \n",
            " max_pooling2d_17 (MaxPooli  (None, 4, 4, 32)          0         \n",
            " ng2D)                                                           \n",
            "                                                                 \n",
            " conv2d_24 (Conv2D)          (None, 4, 4, 32)          9248      \n",
            "                                                                 \n",
            " batch_normalization_32 (Ba  (None, 4, 4, 32)          128       \n",
            " tchNormalization)                                               \n",
            "                                                                 \n",
            " activation_24 (Activation)  (None, 4, 4, 32)          0         \n",
            "                                                                 \n",
            " max_pooling2d_18 (MaxPooli  (None, 2, 2, 32)          0         \n",
            " ng2D)                                                           \n",
            "                                                                 \n",
            " flatten_20 (Flatten)        (None, 128)               0         \n",
            "                                                                 \n",
            " dense_81 (Dense)            (None, 32)                4128      \n",
            "                                                                 \n",
            " batch_normalization_33 (Ba  (None, 32)                128       \n",
            " tchNormalization)                                               \n",
            "                                                                 \n",
            " dense_82 (Dense)            (None, 32)                1056      \n",
            "                                                                 \n",
            " batch_normalization_34 (Ba  (None, 32)                128       \n",
            " tchNormalization)                                               \n",
            "                                                                 \n",
            " dense_83 (Dense)            (None, 32)                1056      \n",
            "                                                                 \n",
            " batch_normalization_35 (Ba  (None, 32)                128       \n",
            " tchNormalization)                                               \n",
            "                                                                 \n",
            " dense_84 (Dense)            (None, 32)                1056      \n",
            "                                                                 \n",
            " batch_normalization_36 (Ba  (None, 32)                128       \n",
            " tchNormalization)                                               \n",
            "                                                                 \n",
            " dense_85 (Dense)            (None, 10)                330       \n",
            "                                                                 \n",
            "=================================================================\n",
            "Total params: 37290 (145.66 KB)\n",
            "Trainable params: 36778 (143.66 KB)\n",
            "Non-trainable params: 512 (2.00 KB)\n",
            "_________________________________________________________________\n",
            "Epoch 1/10\n",
            "1250/1250 [==============================] - 42s 31ms/step - loss: 1.7103 - accuracy: 0.3774 - val_loss: 1.5163 - val_accuracy: 0.4468\n",
            "Epoch 2/10\n",
            "1250/1250 [==============================] - 37s 30ms/step - loss: 1.2973 - accuracy: 0.5336 - val_loss: 1.2336 - val_accuracy: 0.5523\n",
            "Epoch 3/10\n",
            "1250/1250 [==============================] - 38s 30ms/step - loss: 1.1153 - accuracy: 0.6028 - val_loss: 1.9380 - val_accuracy: 0.3833\n",
            "Epoch 4/10\n",
            "1250/1250 [==============================] - 37s 30ms/step - loss: 0.9974 - accuracy: 0.6503 - val_loss: 1.1848 - val_accuracy: 0.5968\n",
            "Epoch 5/10\n",
            "1250/1250 [==============================] - 37s 30ms/step - loss: 0.9118 - accuracy: 0.6819 - val_loss: 1.2817 - val_accuracy: 0.5682\n",
            "Epoch 6/10\n",
            "1250/1250 [==============================] - 37s 29ms/step - loss: 0.8566 - accuracy: 0.7003 - val_loss: 0.9456 - val_accuracy: 0.6674\n",
            "Epoch 7/10\n",
            "1250/1250 [==============================] - 37s 29ms/step - loss: 0.8077 - accuracy: 0.7183 - val_loss: 0.9505 - val_accuracy: 0.6701\n",
            "Epoch 8/10\n",
            "1250/1250 [==============================] - 36s 29ms/step - loss: 0.7698 - accuracy: 0.7339 - val_loss: 1.1523 - val_accuracy: 0.6090\n",
            "Epoch 9/10\n",
            "1250/1250 [==============================] - 42s 34ms/step - loss: 0.7324 - accuracy: 0.7441 - val_loss: 1.0136 - val_accuracy: 0.6521\n",
            "Epoch 10/10\n",
            "1250/1250 [==============================] - 44s 35ms/step - loss: 0.7047 - accuracy: 0.7558 - val_loss: 0.9899 - val_accuracy: 0.6674\n"
          ]
        },
        {
          "data": {
            "text/plain": [
              "<keras.src.callbacks.History at 0x2083ce10640>"
            ]
          },
          "execution_count": 61,
          "metadata": {},
          "output_type": "execute_result"
        }
      ],
      "source": [
        "mode_cnn = cnn_model((32, 32, 3),3,4,32)\n",
        "compilee(mode_cnn)\n",
        "mode_cnn.fit(X_train, y_train_one_hot, epochs=10, validation_split=0.2)"
      ]
    },
    {
      "cell_type": "code",
      "execution_count": 62,
      "metadata": {
        "colab": {
          "base_uri": "https://localhost:8080/"
        },
        "id": "JmWTFj_jjTRE",
        "outputId": "9a886a74-1f66-4c2a-c777-1de461db923a"
      },
      "outputs": [
        {
          "name": "stdout",
          "output_type": "stream",
          "text": [
            "313/313 [==============================] - 3s 10ms/step\n",
            "Confusion Matrix:\n",
            "[[640  17  31  16  80   2   3  10 156  45]\n",
            " [ 30 802   4   1   2   2  10   0  37 112]\n",
            " [ 69  10 579  25 102  22  91  40  40  22]\n",
            " [ 37  16 128 318 125  80 119  30  92  55]\n",
            " [ 25   1  85  28 671  15  97  40  22  16]\n",
            " [ 20  13 129 132 113 360  75  66  55  37]\n",
            " [ 15   7  56  22  32   6 811   2  32  17]\n",
            " [ 45   9  52  25  80  31  17 667  15  59]\n",
            " [ 57  20   4   5   8   0   4   3 874  25]\n",
            " [ 69  73   7   4   4   0   2   3  28 810]]\n",
            "\n",
            "Classification Report:\n",
            "              precision    recall  f1-score   support\n",
            "\n",
            "           0       0.64      0.64      0.64      1000\n",
            "           1       0.83      0.80      0.82      1000\n",
            "           2       0.54      0.58      0.56      1000\n",
            "           3       0.55      0.32      0.40      1000\n",
            "           4       0.55      0.67      0.61      1000\n",
            "           5       0.69      0.36      0.47      1000\n",
            "           6       0.66      0.81      0.73      1000\n",
            "           7       0.77      0.67      0.72      1000\n",
            "           8       0.65      0.87      0.74      1000\n",
            "           9       0.68      0.81      0.74      1000\n",
            "\n",
            "    accuracy                           0.65     10000\n",
            "   macro avg       0.66      0.65      0.64     10000\n",
            "weighted avg       0.66      0.65      0.64     10000\n",
            "\n",
            "\n",
            "Test Accuracy: 0.6532\n"
          ]
        }
      ],
      "source": [
        "print_eval(mode_cnn)"
      ]
    },
    {
      "cell_type": "markdown",
      "metadata": {
        "id": "vSkdHCSslOmz"
      },
      "source": [
        "# CNN with skip connection for Cifar-10"
      ]
    },
    {
      "cell_type": "code",
      "execution_count": 63,
      "metadata": {
        "colab": {
          "base_uri": "https://localhost:8080/"
        },
        "id": "KOtGWWoPjVdV",
        "outputId": "e32f1a52-2dbb-4dd4-8dec-c17a9a7b0a50"
      },
      "outputs": [
        {
          "name": "stdout",
          "output_type": "stream",
          "text": [
            "Convo Layer 1: KerasTensor(type_spec=TensorSpec(shape=(None, 32, 32, 32), dtype=tf.float32, name=None), name='activation_25/Relu:0', description=\"created by layer 'activation_25'\")\n",
            "Convo Layer 2: KerasTensor(type_spec=TensorSpec(shape=(None, 32, 32, 32), dtype=tf.float32, name=None), name='activation_26/Relu:0', description=\"created by layer 'activation_26'\")\n",
            "Convo Layer 3: KerasTensor(type_spec=TensorSpec(shape=(None, 32, 32, 32), dtype=tf.float32, name=None), name='activation_27/Relu:0', description=\"created by layer 'activation_27'\")\n",
            "Convo Layer 4: KerasTensor(type_spec=TensorSpec(shape=(None, 32, 32, 32), dtype=tf.float32, name=None), name='activation_28/Relu:0', description=\"created by layer 'activation_28'\")\n",
            "Model: \"model_21\"\n",
            "__________________________________________________________________________________________________\n",
            " Layer (type)                Output Shape                 Param #   Connected to                  \n",
            "==================================================================================================\n",
            " input_22 (InputLayer)       [(None, 32, 32, 3)]          0         []                            \n",
            "                                                                                                  \n",
            " conv2d_25 (Conv2D)          (None, 32, 32, 32)           896       ['input_22[0][0]']            \n",
            "                                                                                                  \n",
            " activation_25 (Activation)  (None, 32, 32, 32)           0         ['conv2d_25[0][0]']           \n",
            "                                                                                                  \n",
            " conv2d_26 (Conv2D)          (None, 32, 32, 32)           9248      ['activation_25[0][0]']       \n",
            "                                                                                                  \n",
            " activation_26 (Activation)  (None, 32, 32, 32)           0         ['conv2d_26[0][0]']           \n",
            "                                                                                                  \n",
            " conv2d_27 (Conv2D)          (None, 32, 32, 32)           9248      ['activation_26[0][0]']       \n",
            "                                                                                                  \n",
            " activation_27 (Activation)  (None, 32, 32, 32)           0         ['conv2d_27[0][0]']           \n",
            "                                                                                                  \n",
            " add_6 (Add)                 (None, 32, 32, 32)           0         ['activation_25[0][0]',       \n",
            "                                                                     'activation_27[0][0]']       \n",
            "                                                                                                  \n",
            " flatten_21 (Flatten)        (None, 32768)                0         ['add_6[0][0]']               \n",
            "                                                                                                  \n",
            " dense_86 (Dense)            (None, 32)                   1048608   ['flatten_21[0][0]']          \n",
            "                                                                                                  \n",
            " dense_87 (Dense)            (None, 32)                   1056      ['dense_86[0][0]']            \n",
            "                                                                                                  \n",
            " dense_88 (Dense)            (None, 32)                   1056      ['dense_87[0][0]']            \n",
            "                                                                                                  \n",
            " dense_89 (Dense)            (None, 32)                   1056      ['dense_88[0][0]']            \n",
            "                                                                                                  \n",
            " add_7 (Add)                 (None, 32)                   0         ['dense_87[0][0]',            \n",
            "                                                                     'dense_89[0][0]']            \n",
            "                                                                                                  \n",
            " dense_90 (Dense)            (None, 10)                   330       ['add_7[0][0]']               \n",
            "                                                                                                  \n",
            "==================================================================================================\n",
            "Total params: 1071498 (4.09 MB)\n",
            "Trainable params: 1071498 (4.09 MB)\n",
            "Non-trainable params: 0 (0.00 Byte)\n",
            "__________________________________________________________________________________________________\n",
            "Epoch 1/5\n",
            "1250/1250 [==============================] - 123s 98ms/step - loss: 1.6220 - accuracy: 0.4108 - val_loss: 1.3262 - val_accuracy: 0.5277\n",
            "Epoch 2/5\n",
            "1250/1250 [==============================] - 117s 94ms/step - loss: 1.2013 - accuracy: 0.5702 - val_loss: 1.1851 - val_accuracy: 0.5798\n",
            "Epoch 3/5\n",
            "1250/1250 [==============================] - 118s 94ms/step - loss: 1.0127 - accuracy: 0.6419 - val_loss: 1.0866 - val_accuracy: 0.6230\n",
            "Epoch 4/5\n",
            "1250/1250 [==============================] - 115s 92ms/step - loss: 0.8758 - accuracy: 0.6906 - val_loss: 1.0604 - val_accuracy: 0.6296\n",
            "Epoch 5/5\n",
            "1250/1250 [==============================] - 114s 91ms/step - loss: 0.7609 - accuracy: 0.7336 - val_loss: 1.1404 - val_accuracy: 0.6197\n"
          ]
        },
        {
          "data": {
            "text/plain": [
              "<keras.src.callbacks.History at 0x208429e8610>"
            ]
          },
          "execution_count": 63,
          "metadata": {},
          "output_type": "execute_result"
        }
      ],
      "source": [
        "model_cnn_skip = cnn_model_with_skip((32, 32, 3), 4, 4, 32,0,2,1,3)\n",
        "compilee(model_cnn_skip)\n",
        "model_cnn_skip.fit(X_train, y_train_one_hot, epochs=5, validation_split=0.2)"
      ]
    },
    {
      "cell_type": "code",
      "execution_count": 64,
      "metadata": {
        "colab": {
          "base_uri": "https://localhost:8080/"
        },
        "id": "u65YDQSt8Cx_",
        "outputId": "d3561289-b532-428a-8c67-c4eb6d6c1fb7"
      },
      "outputs": [
        {
          "name": "stdout",
          "output_type": "stream",
          "text": [
            "313/313 [==============================] - 3s 10ms/step\n",
            "Confusion Matrix:\n",
            "[[621  26  77  70  25  14   6  37  67  57]\n",
            " [ 22 711  17  25   3  12   9  15  20 166]\n",
            " [ 58   6 439 145  68 159  43  63   8  11]\n",
            " [  9   6  48 582  31 236  18  58   5   7]\n",
            " [ 19   0  89 150 460  98  40 132  10   2]\n",
            " [  4   3  36 201  34 643   5  63   4   7]\n",
            " [  2   3  44 210  70  76 552  25   4  14]\n",
            " [ 10   0  25  61  43 113   4 733   3   8]\n",
            " [106  61  18  33  10  22   4  13 666  67]\n",
            " [ 12  68   6  41   6  20   8  45  22 772]]\n",
            "\n",
            "Classification Report:\n",
            "              precision    recall  f1-score   support\n",
            "\n",
            "           0       0.72      0.62      0.67      1000\n",
            "           1       0.80      0.71      0.75      1000\n",
            "           2       0.55      0.44      0.49      1000\n",
            "           3       0.38      0.58      0.46      1000\n",
            "           4       0.61      0.46      0.53      1000\n",
            "           5       0.46      0.64      0.54      1000\n",
            "           6       0.80      0.55      0.65      1000\n",
            "           7       0.62      0.73      0.67      1000\n",
            "           8       0.82      0.67      0.74      1000\n",
            "           9       0.69      0.77      0.73      1000\n",
            "\n",
            "    accuracy                           0.62     10000\n",
            "   macro avg       0.65      0.62      0.62     10000\n",
            "weighted avg       0.65      0.62      0.62     10000\n",
            "\n",
            "\n",
            "Test Accuracy: 0.6179\n"
          ]
        }
      ],
      "source": [
        "print_eval(model_cnn_skip)"
      ]
    },
    {
      "cell_type": "markdown",
      "metadata": {
        "id": "wmm-sf50wCMr"
      },
      "source": [
        "# Batch Generator"
      ]
    },
    {
      "cell_type": "code",
      "execution_count": 81,
      "metadata": {
        "id": "AR1BDq1u4jg4"
      },
      "outputs": [],
      "source": [
        "def data_generator(data, labels, batch_size):\n",
        "    num_samples = len(data)\n",
        "    while True:\n",
        "        indices = np.random.randint(0, num_samples, size=batch_size)\n",
        "        batch_data = data[indices]\n",
        "        batch_labels = labels[indices]\n",
        "        yield batch_data, batch_labels"
      ]
    },
    {
      "cell_type": "code",
      "execution_count": 77,
      "metadata": {},
      "outputs": [
        {
          "name": "stdout",
          "output_type": "stream",
          "text": [
            "Convo Layer 1: KerasTensor(type_spec=TensorSpec(shape=(None, 32, 32, 32), dtype=tf.float32, name=None), name='activation_33/Relu:0', description=\"created by layer 'activation_33'\")\n",
            "Convo Layer 2: KerasTensor(type_spec=TensorSpec(shape=(None, 32, 32, 32), dtype=tf.float32, name=None), name='activation_34/Relu:0', description=\"created by layer 'activation_34'\")\n",
            "Convo Layer 3: KerasTensor(type_spec=TensorSpec(shape=(None, 32, 32, 32), dtype=tf.float32, name=None), name='activation_35/Relu:0', description=\"created by layer 'activation_35'\")\n",
            "Convo Layer 4: KerasTensor(type_spec=TensorSpec(shape=(None, 32, 32, 32), dtype=tf.float32, name=None), name='activation_36/Relu:0', description=\"created by layer 'activation_36'\")\n"
          ]
        }
      ],
      "source": [
        "model_cnn_skip = cnn_model_with_skip((32, 32, 3), 4, 4, 32,0,2,1,3)"
      ]
    },
    {
      "cell_type": "code",
      "execution_count": 82,
      "metadata": {},
      "outputs": [
        {
          "name": "stdout",
          "output_type": "stream",
          "text": [
            "Epoch 1/5\n"
          ]
        },
        {
          "name": "stderr",
          "output_type": "stream",
          "text": [
            "C:\\Users\\Harshneel\\AppData\\Local\\Temp\\ipykernel_13924\\436927477.py:13: UserWarning: `Model.fit_generator` is deprecated and will be removed in a future version. Please use `Model.fit`, which supports generators.\n",
            "  model_cnn_skip.fit_generator(generator=train_data_generator,\n",
            "c:\\Users\\Harshneel\\AppData\\Local\\Programs\\Python\\Python39\\lib\\site-packages\\keras\\src\\backend.py:5577: UserWarning: \"`categorical_crossentropy` received `from_logits=True`, but the `output` argument was produced by a Softmax activation and thus does not represent logits. Was this intended?\n",
            "  output, from_logits = _get_logits(\n"
          ]
        },
        {
          "name": "stdout",
          "output_type": "stream",
          "text": [
            "781/781 [==============================] - 120s 152ms/step - loss: 1.7517 - accuracy: 0.3568 - val_loss: 1.4688 - val_accuracy: 0.4542\n",
            "Epoch 2/5\n",
            "781/781 [==============================] - 120s 153ms/step - loss: 1.3030 - accuracy: 0.5305 - val_loss: 1.2705 - val_accuracy: 0.5432\n",
            "Epoch 3/5\n",
            "781/781 [==============================] - 118s 151ms/step - loss: 1.1290 - accuracy: 0.5928 - val_loss: 1.1624 - val_accuracy: 0.5792\n",
            "Epoch 4/5\n",
            "781/781 [==============================] - 118s 151ms/step - loss: 1.0277 - accuracy: 0.6305 - val_loss: 1.2449 - val_accuracy: 0.5678\n",
            "Epoch 5/5\n",
            "781/781 [==============================] - 117s 150ms/step - loss: 0.9441 - accuracy: 0.6624 - val_loss: 1.1116 - val_accuracy: 0.6122\n"
          ]
        },
        {
          "data": {
            "text/plain": [
              "<keras.src.callbacks.History at 0x208502dc850>"
            ]
          },
          "execution_count": 82,
          "metadata": {},
          "output_type": "execute_result"
        }
      ],
      "source": [
        "batch_size = 64\n",
        "epochs = 5\n",
        "\n",
        "train_data_generator = data_generator(X_train, y_train_one_hot, batch_size)\n",
        "validation_data_generator = data_generator(X_test, y_test_one_hot, batch_size)\n",
        "\n",
        "model_cnn_skip.compile(\n",
        "    loss=keras.losses.CategoricalCrossentropy(from_logits=True),\n",
        "    optimizer=keras.optimizers.RMSprop(),\n",
        "    metrics=[\"accuracy\"],\n",
        ")\n",
        "\n",
        "model_cnn_skip.fit_generator(generator=train_data_generator,\n",
        "                    steps_per_epoch=len(X_train) // batch_size,\n",
        "                    epochs=epochs,\n",
        "                    validation_data=validation_data_generator,\n",
        "                    validation_steps=len(X_test) // batch_size)"
      ]
    },
    {
      "cell_type": "markdown",
      "metadata": {},
      "source": [
        "# UNET Architecture"
      ]
    },
    {
      "cell_type": "code",
      "execution_count": 89,
      "metadata": {},
      "outputs": [],
      "source": [
        "def train_initialize():\n",
        "    train_image  = os.listdir(r'C:\\Users\\Harshneel\\Desktop\\DAIICT Work\\DL Assignments\\Cryo\\Cryo\\train\\tissue images')\n",
        "    test_image =  os.listdir(r'C:\\Users\\Harshneel\\Desktop\\DAIICT Work\\DL Assignments\\Cryo\\Cryo\\test\\tissue images')\n",
        "    y_train_image  = os.listdir(r'C:\\Users\\Harshneel\\Desktop\\DAIICT Work\\DL Assignments\\Cryo\\Cryo\\train\\mask binary')\n",
        "    y_test_image =  os.listdir(r'C:\\Users\\Harshneel\\Desktop\\DAIICT Work\\DL Assignments\\Cryo\\Cryo\\test\\mask binary')\n",
        "\n",
        "\n",
        "    X_train=[]\n",
        "    y_train=[]\n",
        "    for i in range(len(train_image)):\n",
        "        X_train.append(cv2.imread('C:/Users/Harshneel/Desktop/DAIICT Work/DL Assignments/Cryo/Cryo/train/tissue images/'+train_image[i]))\n",
        "        y_train.append(cv2.imread('C:/Users/Harshneel/Desktop/DAIICT Work/DL Assignments/Cryo/Cryo/train/mask binary/'+y_train_image[i],cv2.IMREAD_GRAYSCALE))\n",
        "    y_train = np.array(y_train)\n",
        "    X_train = np.array(X_train)\n",
        "    \n",
        "    X_test=[]\n",
        "    y_test=[]\n",
        "    for i in range(len(test_image)):\n",
        "        X_test.append(cv2.imread('C:/Users/Harshneel/Desktop/DAIICT Work/DL Assignments/Cryo/Cryo/test/tissue images/'+test_image[i]))\n",
        "        y_test.append(cv2.imread('C:/Users/Harshneel/Desktop/DAIICT Work/DL Assignments/Cryo/Cryo/test/mask binary/'+y_test_image[i],cv2.IMREAD_GRAYSCALE))\n",
        "    y_test = np.array(y_test)\n",
        "    X_test = np.array(X_test)\n",
        "    \n",
        "    X_train=X_train/255\n",
        "    y_train=y_train/255\n",
        "    X_test=X_test/255\n",
        "    y_test=y_test/255\n",
        "    \n",
        "    return X_train,y_train,X_test,y_test"
      ]
    },
    {
      "cell_type": "code",
      "execution_count": 90,
      "metadata": {},
      "outputs": [],
      "source": [
        "X_train_new,y_train_new,X_test_new,y_test_new=train_initialize()"
      ]
    },
    {
      "cell_type": "code",
      "execution_count": 150,
      "metadata": {},
      "outputs": [],
      "source": [
        "def dice_coefficient(y_true, y_pred, smooth=1):\n",
        "    y_true = tf.cast(y_true, tf.float32)\n",
        "    y_pred = tf.cast(y_pred, tf.float32)\n",
        "    intersection = tf.reduce_sum(y_true * y_pred)\n",
        "    union = tf.reduce_sum(y_true) + tf.reduce_sum(y_pred)\n",
        "    dice = (2. * intersection + smooth) / (union + smooth)\n",
        "    return dice\n",
        "\n",
        "def dice_loss(y_true, y_pred, smooth=1):\n",
        "    dice = dice_coefficient(y_true, y_pred, smooth)\n",
        "    dice_loss = 1 - dice\n",
        "    return dice_loss"
      ]
    },
    {
      "cell_type": "code",
      "execution_count": 151,
      "metadata": {},
      "outputs": [],
      "source": [
        "def unet(input_size):\n",
        "    inputs = Input(input_size)\n",
        "\n",
        "    # Contracting Path\n",
        "    conv1 = Conv2D(4, 3, activation='relu', padding='same')(inputs)\n",
        "    conv1 = Conv2D(4, 3, activation='relu', padding='same')(conv1)\n",
        "    conv1 = BatchNormalization()(conv1)\n",
        "    pool1 = MaxPooling2D(pool_size=(2, 2))(conv1)\n",
        "\n",
        "    conv2 = Conv2D(8, 3, activation='relu', padding='same')(pool1)\n",
        "    conv2 = Conv2D(8, 3, activation='relu', padding='same')(conv2)\n",
        "    conv2 = BatchNormalization()(conv2)\n",
        "    pool2 = MaxPooling2D(pool_size=(2, 2))(conv2)\n",
        "\n",
        "\n",
        "    # Bottleneck\n",
        "    conv4 = Conv2D(16, 3, activation='relu', padding='same')(pool2)\n",
        "    conv4 = Conv2D(16, 3, activation='relu', padding='same')(conv4)\n",
        "    conv4 = BatchNormalization()(conv4)\n",
        "\n",
        "    # Expansive Path\n",
        "\n",
        "    up6 = UpSampling2D(size=(2, 2))(conv4)\n",
        "    up6 = Conv2D(8, 2, activation='relu', padding='same')(up6)\n",
        "    merge6 = Concatenate()([conv2, up6])\n",
        "    conv6 = Conv2D(8, 3, activation='relu', padding='same')(merge6)\n",
        "    conv6 = Conv2D(8, 3, activation='relu', padding='same')(conv6)\n",
        "    conv6 = BatchNormalization()(conv6)\n",
        "\n",
        "    up7 = UpSampling2D(size=(2, 2))(conv6)\n",
        "    up7 = Conv2D(4, 2, activation='relu', padding='same')(up7)\n",
        "    merge7 = Concatenate()([conv1, up7])\n",
        "    conv7 = Conv2D(4, 3, activation='relu', padding='same')(merge7)\n",
        "    conv7 = Conv2D(4, 3, activation='relu', padding='same')(conv7)\n",
        "    conv7 = BatchNormalization()(conv7)\n",
        "\n",
        "    # Output Layer\n",
        "    output = Conv2D(1, 1, activation='sigmoid')(conv7)\n",
        "\n",
        "    model = Model(inputs=inputs, outputs=output)\n",
        "\n",
        "    return model"
      ]
    },
    {
      "cell_type": "code",
      "execution_count": 152,
      "metadata": {},
      "outputs": [
        {
          "name": "stdout",
          "output_type": "stream",
          "text": [
            "Model: \"model_12\"\n",
            "__________________________________________________________________________________________________\n",
            " Layer (type)                Output Shape                 Param #   Connected to                  \n",
            "==================================================================================================\n",
            " input_13 (InputLayer)       [(None, None, None, 3)]      0         []                            \n",
            "                                                                                                  \n",
            " conv2d_156 (Conv2D)         (None, None, None, 4)        112       ['input_13[0][0]']            \n",
            "                                                                                                  \n",
            " conv2d_157 (Conv2D)         (None, None, None, 4)        148       ['conv2d_156[0][0]']          \n",
            "                                                                                                  \n",
            " batch_normalization_60 (Ba  (None, None, None, 4)        16        ['conv2d_157[0][0]']          \n",
            " tchNormalization)                                                                                \n",
            "                                                                                                  \n",
            " max_pooling2d_24 (MaxPooli  (None, None, None, 4)        0         ['batch_normalization_60[0][0]\n",
            " ng2D)                                                              ']                            \n",
            "                                                                                                  \n",
            " conv2d_158 (Conv2D)         (None, None, None, 8)        296       ['max_pooling2d_24[0][0]']    \n",
            "                                                                                                  \n",
            " conv2d_159 (Conv2D)         (None, None, None, 8)        584       ['conv2d_158[0][0]']          \n",
            "                                                                                                  \n",
            " batch_normalization_61 (Ba  (None, None, None, 8)        32        ['conv2d_159[0][0]']          \n",
            " tchNormalization)                                                                                \n",
            "                                                                                                  \n",
            " max_pooling2d_25 (MaxPooli  (None, None, None, 8)        0         ['batch_normalization_61[0][0]\n",
            " ng2D)                                                              ']                            \n",
            "                                                                                                  \n",
            " conv2d_160 (Conv2D)         (None, None, None, 16)       1168      ['max_pooling2d_25[0][0]']    \n",
            "                                                                                                  \n",
            " conv2d_161 (Conv2D)         (None, None, None, 16)       2320      ['conv2d_160[0][0]']          \n",
            "                                                                                                  \n",
            " batch_normalization_62 (Ba  (None, None, None, 16)       64        ['conv2d_161[0][0]']          \n",
            " tchNormalization)                                                                                \n",
            "                                                                                                  \n",
            " up_sampling2d_24 (UpSampli  (None, None, None, 16)       0         ['batch_normalization_62[0][0]\n",
            " ng2D)                                                              ']                            \n",
            "                                                                                                  \n",
            " conv2d_162 (Conv2D)         (None, None, None, 8)        520       ['up_sampling2d_24[0][0]']    \n",
            "                                                                                                  \n",
            " concatenate_24 (Concatenat  (None, None, None, 16)       0         ['batch_normalization_61[0][0]\n",
            " e)                                                                 ',                            \n",
            "                                                                     'conv2d_162[0][0]']          \n",
            "                                                                                                  \n",
            " conv2d_163 (Conv2D)         (None, None, None, 8)        1160      ['concatenate_24[0][0]']      \n",
            "                                                                                                  \n",
            " conv2d_164 (Conv2D)         (None, None, None, 8)        584       ['conv2d_163[0][0]']          \n",
            "                                                                                                  \n",
            " batch_normalization_63 (Ba  (None, None, None, 8)        32        ['conv2d_164[0][0]']          \n",
            " tchNormalization)                                                                                \n",
            "                                                                                                  \n",
            " up_sampling2d_25 (UpSampli  (None, None, None, 8)        0         ['batch_normalization_63[0][0]\n",
            " ng2D)                                                              ']                            \n",
            "                                                                                                  \n",
            " conv2d_165 (Conv2D)         (None, None, None, 4)        132       ['up_sampling2d_25[0][0]']    \n",
            "                                                                                                  \n",
            " concatenate_25 (Concatenat  (None, None, None, 8)        0         ['batch_normalization_60[0][0]\n",
            " e)                                                                 ',                            \n",
            "                                                                     'conv2d_165[0][0]']          \n",
            "                                                                                                  \n",
            " conv2d_166 (Conv2D)         (None, None, None, 4)        292       ['concatenate_25[0][0]']      \n",
            "                                                                                                  \n",
            " conv2d_167 (Conv2D)         (None, None, None, 4)        148       ['conv2d_166[0][0]']          \n",
            "                                                                                                  \n",
            " batch_normalization_64 (Ba  (None, None, None, 4)        16        ['conv2d_167[0][0]']          \n",
            " tchNormalization)                                                                                \n",
            "                                                                                                  \n",
            " conv2d_168 (Conv2D)         (None, None, None, 1)        5         ['batch_normalization_64[0][0]\n",
            "                                                                    ']                            \n",
            "                                                                                                  \n",
            "==================================================================================================\n",
            "Total params: 7629 (29.80 KB)\n",
            "Trainable params: 7549 (29.49 KB)\n",
            "Non-trainable params: 80 (320.00 Byte)\n",
            "__________________________________________________________________________________________________\n"
          ]
        }
      ],
      "source": [
        "model = unet((None,None,3))  \n",
        "model.compile(optimizer='adam', loss=dice_loss, metrics=[dice_coefficient])\n",
        "model.summary()"
      ]
    },
    {
      "cell_type": "code",
      "execution_count": 188,
      "metadata": {},
      "outputs": [
        {
          "name": "stdout",
          "output_type": "stream",
          "text": [
            "Epoch 1/10\n",
            "2/2 [==============================] - 6s 3s/step - loss: 0.5650 - dice_coefficient: 0.4350\n",
            "Epoch 2/10\n",
            "2/2 [==============================] - 6s 3s/step - loss: 0.5384 - dice_coefficient: 0.4616\n",
            "Epoch 3/10\n",
            "2/2 [==============================] - 6s 3s/step - loss: 0.5177 - dice_coefficient: 0.4823\n",
            "Epoch 4/10\n",
            "2/2 [==============================] - 5s 3s/step - loss: 0.4800 - dice_coefficient: 0.5200\n",
            "Epoch 5/10\n",
            "2/2 [==============================] - 6s 3s/step - loss: 0.4564 - dice_coefficient: 0.5436\n",
            "Epoch 6/10\n",
            "2/2 [==============================] - 6s 3s/step - loss: 0.4418 - dice_coefficient: 0.5582\n",
            "Epoch 7/10\n",
            "2/2 [==============================] - 6s 3s/step - loss: 0.4352 - dice_coefficient: 0.5648\n",
            "Epoch 8/10\n",
            "2/2 [==============================] - 6s 3s/step - loss: 0.4294 - dice_coefficient: 0.5706\n",
            "Epoch 9/10\n",
            "2/2 [==============================] - 6s 3s/step - loss: 0.4237 - dice_coefficient: 0.5763\n",
            "Epoch 10/10\n",
            "2/2 [==============================] - 6s 3s/step - loss: 0.4203 - dice_coefficient: 0.5797\n"
          ]
        }
      ],
      "source": [
        "history = model.fit(X_train_new, y_train_new, epochs=10,batch_size=10)"
      ]
    },
    {
      "cell_type": "code",
      "execution_count": 189,
      "metadata": {},
      "outputs": [
        {
          "name": "stdout",
          "output_type": "stream",
          "text": [
            "1/1 [==============================] - 0s 366ms/step\n"
          ]
        }
      ],
      "source": [
        "y_pred=model.predict(X_test_new)"
      ]
    },
    {
      "cell_type": "code",
      "execution_count": 190,
      "metadata": {},
      "outputs": [
        {
          "data": {
            "text/plain": [
              "0.3086526"
            ]
          },
          "execution_count": 190,
          "metadata": {},
          "output_type": "execute_result"
        }
      ],
      "source": [
        "y_pred= tf.squeeze(y_pred)\n",
        "dice_coefficient(y_test_new,y_pred).numpy()"
      ]
    }
  ],
  "metadata": {
    "colab": {
      "provenance": []
    },
    "kernelspec": {
      "display_name": "Python 3",
      "name": "python3"
    },
    "language_info": {
      "codemirror_mode": {
        "name": "ipython",
        "version": 3
      },
      "file_extension": ".py",
      "mimetype": "text/x-python",
      "name": "python",
      "nbconvert_exporter": "python",
      "pygments_lexer": "ipython3",
      "version": "3.9.6"
    }
  },
  "nbformat": 4,
  "nbformat_minor": 0
}
