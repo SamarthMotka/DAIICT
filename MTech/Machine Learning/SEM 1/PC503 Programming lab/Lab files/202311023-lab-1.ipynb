{
 "cells": [
  {
   "cell_type": "markdown",
   "metadata": {},
   "source": [
    "## Samarth Motka\n",
    "## 202311023 23/08/23\n",
    "## LAB assignment -1"
   ]
  },
  {
   "cell_type": "markdown",
   "metadata": {},
   "source": [
    "## 1.Print the Below things in python\n",
    "1. “Python Programming”\n",
    "2. Subject name with subject code\n",
    "3. Your Name on screen\n",
    "4. Your Address on screen.\n"
   ]
  },
  {
   "cell_type": "code",
   "execution_count": 29,
   "metadata": {},
   "outputs": [
    {
     "name": "stdout",
     "output_type": "stream",
     "text": [
      "Python Programming\n",
      "PC-503 Programming Lab\n",
      "Samarth Motka\n",
      "Botad\n"
     ]
    }
   ],
   "source": [
    "print(\"Python Programming\")\n",
    "print(\"PC-503 Programming Lab\")\n",
    "print(\"Samarth Motka\")\n",
    "print(\"Botad\")"
   ]
  },
  {
   "cell_type": "code",
   "execution_count": 12,
   "metadata": {},
   "outputs": [
    {
     "name": "stdout",
     "output_type": "stream",
     "text": [
      "<class 'int'>\n",
      "<class 'int'>\n",
      "<class 'float'>\n",
      "<class 'float'>\n",
      "<class 'float'>\n",
      "<class 'complex'>\n",
      "<class 'complex'>\n",
      "<class 'bool'>\n"
     ]
    }
   ],
   "source": [
    "#int-variable\n",
    "Temp = 25\n",
    "Humidity = 85\n",
    "\n",
    "print(type(Temp))\n",
    "print(type(Humidity))\n",
    "\n",
    "#float-varibale\n",
    "Road_size = 12.5\n",
    "Water_volume = 1.00\n",
    "Soil_moisture = 88.16\n",
    "print(type(Road_size))\n",
    "print(type(Water_volume))\n",
    "print(type(Soil_moisture))\n",
    "\n",
    "#complex number\n",
    "\n",
    "a = 2+ 3j\n",
    "b = 10-6j\n",
    "print(type(a))\n",
    "print(type(b))\n",
    "\n",
    "#boolean\n",
    "\n",
    "Flag = True\n",
    "print(type(Flag))"
   ]
  },
  {
   "cell_type": "code",
   "execution_count": 41,
   "metadata": {},
   "outputs": [
    {
     "name": "stdout",
     "output_type": "stream",
     "text": [
      "True\n",
      "AGRICULTURAL DEVELOPMENT IS CENTRAL TO INDIAN ECONOMY\n",
      "indian agriculture is a gamble of monsoon\n",
      "Agricultural development is central to Indian economyIndian agriculture is a gamble of monsoon\n",
      "Agricultural\tdevelopment is central to Indian economy\n",
      "['Agricultural', 'development', 'is', 'central', 'to', 'Indian', 'economy']\n",
      "['Indian', 'agriculture', 'is', 'a', 'gamble', 'of', 'monsoon']\n",
      "False\n",
      "False\n",
      "False\n"
     ]
    }
   ],
   "source": [
    "str1=\"Agricultural development is central to Indian economy\"\n",
    "str2=\"Indian agriculture is a gamble of monsoon\"\n",
    "\n",
    "# a.Check whether India is in str1 or not.\n",
    "print(\"India\" in str1)\n",
    "\n",
    "#b.Convert str1 and str2 into camel case.\n",
    "arr = str1.strip().split(' ')\n",
    "arr = [i.capitalize() for i in arr]\n",
    "arr[0] = arr[0].lower()\n",
    "''.join(arr)\n",
    "\n",
    "arr = str2.strip().split(' ')\n",
    "arr = [i.capitalize() for i in arr]\n",
    "arr[0] = arr[0].lower()\n",
    "''.join(arr)\n",
    "\n",
    "\n",
    "#c.Convert str1 into Upper and str2 into  Lower Case\n",
    "print(str1.upper())\n",
    "\n",
    "print(str2.lower())\n",
    "\n",
    "#d.Combin str1 and str2\n",
    "print(str1+str2) \n",
    " \n",
    "#e.Add tabs in str1 in between Agricultural and development.\n",
    "somestr = \"Agricultural\\tdevelopment is central to Indian economy\"\n",
    "print(somestr)\n",
    "\n",
    "#f.Separate all words of str1 and srt2\n",
    "words= str1.strip().split(' ')\n",
    "print(words)\n",
    "words2= str2.strip().split(' ')\n",
    "print(words2)\n",
    "\n",
    "\n",
    "print(str1.isalpha())\n",
    "print(str1.isnumeric())\n",
    "print(str1.isalnum())\n"
   ]
  },
  {
   "cell_type": "markdown",
   "metadata": {},
   "source": [
    "## 4.Input two numbers and print its square and cube. (Take input from the user)\n"
   ]
  },
  {
   "cell_type": "code",
   "execution_count": 25,
   "metadata": {},
   "outputs": [
    {
     "name": "stdout",
     "output_type": "stream",
     "text": [
      "for 2  square is  4  cube is  8\n",
      "for 3  square is  9  cube is  27\n"
     ]
    }
   ],
   "source": [
    "a= int(input(\"please enter value of a\"))\n",
    "y = int(input(\"please enter value of y\"))\n",
    "\n",
    "print(\"for\",a,\" square is \",a**2,\" cube is \", a**3)\n",
    "print(\"for\",y,\" square is \",y**2,\" cube is \", y**3)"
   ]
  },
  {
   "cell_type": "markdown",
   "metadata": {},
   "source": [
    "## 5.Input two numbers and print their Addition, Subtraction, Multiplication, and Division. (Take input from the user)\n"
   ]
  },
  {
   "cell_type": "code",
   "execution_count": 28,
   "metadata": {},
   "outputs": [
    {
     "name": "stdout",
     "output_type": "stream",
     "text": [
      "The number a is  1 the number y is 5\n",
      "Addition is  6\n",
      "Subtraction is  -4\n",
      "Multiplication is  5\n"
     ]
    }
   ],
   "source": [
    "\n",
    "\n",
    "\n",
    "a= int(input(\"please enter value of a\"))\n",
    "y = int(input(\"please enter value of y\"))\n",
    "\n",
    "print(\"The number a is \",a,\"the number y is\",y)\n",
    "print(\"Addition is \", a+y)\n",
    "print(\"Subtraction is \", a-y)\n",
    "print(\"Multiplication is \", a*y)\n"
   ]
  },
  {
   "cell_type": "markdown",
   "metadata": {},
   "source": [
    "## 6.Perform the following operation (Use multiple assignments to assign variable to value)\n",
    "1. l=(c+d)*(g+h). \n",
    "2. x=((k-4)*(a*4))/100 \n",
    "3. s=((4*a+c)-2*a*b)/100 \n",
    "4. a=p*(1+(r/100)/n)-p \n",
    "5. t=((v+s)+(l-m)*l) \n",
    "6. c=(a+b)*(a+b) \n"
   ]
  },
  {
   "cell_type": "code",
   "execution_count": 45,
   "metadata": {},
   "outputs": [],
   "source": [
    "a,b,c,x,d,g,h,k,p,r,v,s,l,m,n,t = 1,2,3,4,5,6,7,8,9,10,11,12,13,14,15,16"
   ]
  },
  {
   "cell_type": "code",
   "execution_count": 46,
   "metadata": {},
   "outputs": [
    {
     "name": "stdout",
     "output_type": "stream",
     "text": [
      "0.16\n",
      "0.03\n",
      "0.05999999999999872\n",
      "-1.9700000000000006\n",
      "4.2435999999999945\n"
     ]
    }
   ],
   "source": [
    "x=((k-4)*(a*4))/100 \n",
    "s=((4*a+c)-2*a*b)/100 \n",
    "a=p*(1+(r/100)/n)-p \n",
    "t=((v+s)+(l-m)*l) \n",
    "c=(a+b)*(a+b) \n",
    "\n",
    "\n",
    "print(x)\n",
    "print(s)\n",
    "print(a)\n",
    "print(t)\n",
    "print(c)\n"
   ]
  },
  {
   "cell_type": "markdown",
   "metadata": {},
   "source": [
    "## 7.Calculate the area of the Triangle."
   ]
  },
  {
   "cell_type": "code",
   "execution_count": 49,
   "metadata": {},
   "outputs": [
    {
     "name": "stdout",
     "output_type": "stream",
     "text": [
      "The area of the triangle is 6.00\n"
     ]
    }
   ],
   "source": [
    "def area(a,b,c):\n",
    "    #semiperimeter\n",
    "    s = (a+b+c)/2\n",
    "\n",
    "    #area\n",
    "    area = (s*(s-a)*(s-b)*(s-c)) ** 0.5\n",
    "    print('The area of the triangle is %0.2f' %area)\n",
    "\n",
    "\n",
    "area(3,4,5)"
   ]
  },
  {
   "cell_type": "code",
   "execution_count": 51,
   "metadata": {},
   "outputs": [
    {
     "name": "stdout",
     "output_type": "stream",
     "text": [
      "The dollar of rupees is :  24.098854731766124\n"
     ]
    }
   ],
   "source": [
    "def convert(rs):\n",
    "    d = rs/82.95\n",
    "    print('The dollar of rupees is : ',d )\n",
    "convert(1999)"
   ]
  },
  {
   "cell_type": "code",
   "execution_count": null,
   "metadata": {},
   "outputs": [],
   "source": []
  }
 ],
 "metadata": {
  "kernelspec": {
   "display_name": "Python 3.10.5 64-bit",
   "language": "python",
   "name": "python3"
  },
  "language_info": {
   "codemirror_mode": {
    "name": "ipython",
    "version": 3
   },
   "file_extension": ".py",
   "mimetype": "text/x-python",
   "name": "python",
   "nbconvert_exporter": "python",
   "pygments_lexer": "ipython3",
   "version": "3.10.5"
  },
  "orig_nbformat": 4,
  "vscode": {
   "interpreter": {
    "hash": "26de051ba29f2982a8de78e945f0abaf191376122a1563185a90213a26c5da77"
   }
  }
 },
 "nbformat": 4,
 "nbformat_minor": 2
}
