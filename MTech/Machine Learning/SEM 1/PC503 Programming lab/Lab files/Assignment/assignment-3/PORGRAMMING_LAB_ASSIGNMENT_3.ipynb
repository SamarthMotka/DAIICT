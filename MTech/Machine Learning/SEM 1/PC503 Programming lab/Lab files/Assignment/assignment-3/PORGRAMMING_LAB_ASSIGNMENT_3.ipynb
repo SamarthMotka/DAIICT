{
  "nbformat": 4,
  "nbformat_minor": 0,
  "metadata": {
    "colab": {
      "provenance": []
    },
    "kernelspec": {
      "name": "python3",
      "display_name": "Python 3"
    },
    "language_info": {
      "name": "python"
    }
  },
  "cells": [
    {
      "cell_type": "markdown",
      "source": [
        "Samarth Motka\n",
        "202311023\n",
        "Programming Lab Assignment-3"
      ],
      "metadata": {
        "id": "Vo4bqezpVeLk"
      }
    },
    {
      "cell_type": "markdown",
      "source": [
        "\n",
        "\n",
        "---\n",
        "\n",
        "\n",
        "1. Write a program which take a word from user as input and remove that word from a particular file.\n",
        "\n",
        "\n",
        "---\n",
        "\n"
      ],
      "metadata": {
        "id": "BRZwm5Qr--fr"
      }
    },
    {
      "cell_type": "code",
      "execution_count": 14,
      "metadata": {
        "colab": {
          "base_uri": "https://localhost:8080/"
        },
        "id": "KBNPiC-N-ncc",
        "outputId": "03682333-d84b-4b5c-ecfa-2d6b5fad364e"
      },
      "outputs": [
        {
          "output_type": "stream",
          "name": "stdout",
          "text": [
            "Enter the word you want to remove : the\n",
            "Before removing the word : \n",
            "Analysis by Buzz Radar, a social intelligence company, of social media patterns for the last decade has highlighted how the 2023 campaign has triggered a dramatic U-turn in F1's impressive growth in recent years.\n",
            "\n",
            "In a case study published on Thursday, titled Have we reached Peak F1?, Buzz Radar's analysis suggested that the boom of 2022 – boosted by the dramatic 2021 title fight and new car rules – may well mark a high point of interest in F1 for a while.\n",
            "\n",
            "Having used a combination of human analysis and AI data to look at F1 on social media over the past decade, which included analysis of 70 million fan posts, it found that the championship had suffered its first decline of interest in a while.\n",
            "\n",
            "Its data suggests that social media mentions of F1 were down 70.2% in the first five months of this year compared to the same period in 2022, with new followers down 46.29% and social reach down 64.10%.\n",
            "\n",
            "The figures for January to May for the past three years are:\n",
            "\n",
            " \t2021\t2022\t2023\n",
            "Mentions\t3.19m\t6.14m\t1.83m\n",
            "New Followers\t624.27k\t911.15k\t489.37k\n",
            "Social Reach\t35.63bn\t61.73bn\t22.16bn\n",
            "In the report, Buzz Radar concluded: \"The data comparison between 2022 and 2023 revealed significant drops in the overall mentions of F1, along with dismal numbers in the growth of new followers of high-profile accounts.\n",
            "\n",
            "\"The reach of F1-related content across various social platforms has also receded, in stark contrast to the steady progress observed yearly before. But, the declining numbers are only one part of the story.\n",
            "\n",
            "\n",
            "\n",
            "\"The social data from 2023 also offered insight into a fundamental shift in conversation about F1: a noticeable upswing in the use of negative adjectives associated with the sport.\n",
            "\n",
            "\"Words like 'boring' and 'annoying' are now becoming high-frequency descriptors, replacing erstwhile positive words like 'interesting' and 'exciting'.\"\n",
            "\n",
            "The Buzz Radar report believes that the cause of such a drop-off is simply single-team domination, with Red Bull having won all but two races over the past 12 months.\n",
            "\n",
            "It believes that there is a direct correlation between the closeness of an F1 title fight and how much that entices fans to get engaged – as F1 last had such a drop-off in 2018 when Lewis Hamilton roared to the title.\n",
            "\n",
            "\"2016 was the most talked about season, until 2021, despite all the contributory factors of the Liberty takeover, Drive to Survive, and lockdown, because [Nico] Rosberg and Hamilton were battling closely,\" it noted.\n",
            "\n",
            "\"The season was decided by only five points. Conversation stagnated between 2018-2020 while Hamilton dominated, and grew significantly again during the 2021 season; the closest championship since 2016.\n",
            "\n",
            "\"Both 2016 and 2021 seasons were decided at the last race. 2022 continued to ride the wave of the close competition at the end of 2021, but now we are seeing the result of one driver dominance once again. 2023 is now on course to continue losing conversation, and this pattern will continue until the racing becomes closer again.\"\n",
            "\n",
            "But while the social media figures for 2023 are far from ideal, the Buzz Radar report does acknowledge that F1 has been hugely impressive in the way it has grown its audience figures over the past decade.\n",
            "\n",
            "\n",
            "\n",
            "Compared to other leading sports, it is amongst the best – and that is despite there being just 23 events per year.\n",
            "\n",
            "\"Between 2016 and 2022, F1 grew its conversation levels by 80%, which was only bettered by the Indian Premier League (208% increase) and the UEFA Champions League (up 112%),\" added the whitepaper.\n",
            "\n",
            "\"Remarkably, F1 managed this despite hosting the fewest events of the top five, with 2022 conversation coming from just 22 race weekends compared to 285 NFL matches, including the Super Bowl which, year on year, is one of the most talked about sporting events in the world.\n",
            "\n",
            "\"The only year that growth slowed was in 2018, and the biggest growth was in 2021, when they gained around 14 million new cross-channel followers. This makes them the fastest-growing social channels of any major sport in the time period.\"\n",
            "\n",
            "The full report can be read here.\n",
            "\n",
            "While the Buzz Radar whitepaper suggests that social media numbers for F1 as a whole are down, the championship's own channels have not followed that trend.\n",
            "\n",
            "For 2023 so far, FOM says growth for its official channels is around eight times higher than the near 500,000 figure mentioned by Buzz Radar for January to May.\n",
            "\n",
            "In the second quarter of this season, F1's channels ranked second globally (behind La Liga) for followers' growth rate among all major sports.\n",
            "\n",
            "FOM also states that active engagements (such as likes, comments and shares) are up 4% so far this year compared to 2022, and are on course to surpass 1.5 billion by the end of the season.\n",
            "\n",
            "\n",
            "After removing the word : \n",
            "Analysis by Buzz Radar, a social intelligence company, of social media patterns for  last decade has highlighted how  2023 campaign has triggered a dramatic U-turn in F1's impressive growth in recent years.\n",
            "\n",
            "In a case study published on Thursday, titled Have we reached Peak F1?, Buzz Radar's analysis suggested that  boom of 2022 – boosted by  dramatic 2021 title fight and new car rules – may well mark a high point of interest in F1 for a while.\n",
            "\n",
            "Having used a combination of human analysis and AI data to look at F1 on social media over  past decade, which included analysis of 70 million fan posts, it found that  championship had suffered its first decline of interest in a while.\n",
            "\n",
            "Its data suggests that social media mentions of F1 were down 70.2% in  first five months of this year compared to  same period in 2022, with new followers down 46.29% and social reach down 64.10%.\n",
            "\n",
            "The figures for January to May for  past three years are:\n",
            "\n",
            " \t2021\t2022\t2023\n",
            "Mentions\t3.19m\t6.14m\t1.83m\n",
            "New Followers\t624.27k\t911.15k\t489.37k\n",
            "Social Reach\t35.63bn\t61.73bn\t22.16bn\n",
            "In  report, Buzz Radar concluded: \"The data comparison between 2022 and 2023 revealed significant drops in  overall mentions of F1, along with dismal numbers in  growth of new followers of high-profile accounts.\n",
            "\n",
            "\"The reach of F1-related content across various social platforms has also receded, in stark contrast to  steady progress observed yearly before. But,  declining numbers are only one part of  story.\n",
            "\n",
            "\n",
            "\n",
            "\"The social data from 2023 also offered insight into a fundamental shift in conversation about F1: a noticeable upswing in  use of negative adjectives associated with  sport.\n",
            "\n",
            "\"Words like 'boring' and 'annoying' are now becoming high-frequency descriptors, replacing erstwhile positive words like 'interesting' and 'exciting'.\"\n",
            "\n",
            "The Buzz Radar report believes that  cause of such a drop-off is simply single-team domination, with Red Bull having won all but two races over  past 12 months.\n",
            "\n",
            "It believes that re is a direct correlation between  closeness of an F1 title fight and how much that entices fans to get engaged – as F1 last had such a drop-off in 2018 when Lewis Hamilton roared to  title.\n",
            "\n",
            "\"2016 was  most talked about season, until 2021, despite all  contributory factors of  Liberty takeover, Drive to Survive, and lockdown, because [Nico] Rosberg and Hamilton were battling closely,\" it noted.\n",
            "\n",
            "\"The season was decided by only five points. Conversation stagnated between 2018-2020 while Hamilton dominated, and grew significantly again during  2021 season;  closest championship since 2016.\n",
            "\n",
            "\"Both 2016 and 2021 seasons were decided at  last race. 2022 continued to ride  wave of  close competition at  end of 2021, but now we are seeing  result of one driver dominance once again. 2023 is now on course to continue losing conversation, and this pattern will continue until  racing becomes closer again.\"\n",
            "\n",
            "But while  social media figures for 2023 are far from ideal,  Buzz Radar report does acknowledge that F1 has been hugely impressive in  way it has grown its audience figures over  past decade.\n",
            "\n",
            "\n",
            "\n",
            "Compared to or leading sports, it is amongst  best – and that is despite re being just 23 events per year.\n",
            "\n",
            "\"Between 2016 and 2022, F1 grew its conversation levels by 80%, which was only bettered by  Indian Premier League (208% increase) and  UEFA Champions League (up 112%),\" added  whitepaper.\n",
            "\n",
            "\"Remarkably, F1 managed this despite hosting  fewest events of  top five, with 2022 conversation coming from just 22 race weekends compared to 285 NFL matches, including  Super Bowl which, year on year, is one of  most talked about sporting events in  world.\n",
            "\n",
            "\"The only year that growth slowed was in 2018, and  biggest growth was in 2021, when y gained around 14 million new cross-channel followers. This makes m  fastest-growing social channels of any major sport in  time period.\"\n",
            "\n",
            "The full report can be read here.\n",
            "\n",
            "While  Buzz Radar whitepaper suggests that social media numbers for F1 as a whole are down,  championship's own channels have not followed that trend.\n",
            "\n",
            "For 2023 so far, FOM says growth for its official channels is around eight times higher than  near 500,000 figure mentioned by Buzz Radar for January to May.\n",
            "\n",
            "In  second quarter of this season, F1's channels ranked second globally (behind La Liga) for followers' growth rate among all major sports.\n",
            "\n",
            "FOM also states that active engagements (such as likes, comments and shares) are up 4% so far this year compared to 2022, and are on course to surpass 1.5 billion by  end of  season.\n"
          ]
        }
      ],
      "source": [
        "def prfile(path):\n",
        "  f = open(path, 'r')\n",
        "  content = f. read()\n",
        "  print(content)\n",
        "  f. close()\n",
        "\n",
        "\n",
        "word = input('Enter the word you want to remove : ')\n",
        "# Read file.txt\n",
        "with open('/content/drive/MyDrive/Daiict/programming lab/some.txt', 'r') as file:\n",
        "    text = file.read()\n",
        "\n",
        "\n",
        "print(\"Before removing the word : \")\n",
        "prfile('/content/drive/MyDrive/Daiict/programming lab/some.txt')\n",
        "\n",
        "\n",
        "# Delete text and Write\n",
        "with open('/content/drive/MyDrive/Daiict/programming lab/somechanged.txt', 'w') as file:\n",
        "    # Delete\n",
        "    new_text = text.replace(word, '')\n",
        "    # Write\n",
        "    file.write(new_text)\n",
        "print(\"\\n\")\n",
        "print(\"After removing the word : \")\n",
        "prfile('/content/drive/MyDrive/Daiict/programming lab/somechanged.txt')"
      ]
    },
    {
      "cell_type": "markdown",
      "source": [
        "\n",
        "\n",
        "---\n",
        "\n",
        "\n",
        "2. Write a program that can remove the word which is mentioned in stopword.txt\n",
        "https://www.kaggle.com/datasets/rowhitswami/stopwords\n",
        "\n",
        "---\n",
        "\n"
      ],
      "metadata": {
        "id": "HR1AIQcK_IL7"
      }
    },
    {
      "cell_type": "code",
      "source": [
        "# def prfile(path):\n",
        "#   f = open(path, 'r')\n",
        "#   content = f. read()\n",
        "#   print(content)\n",
        "#   f. close()\n",
        "\n",
        "import textwrap\n",
        "\n",
        "def prfile(path, screen_width=80):\n",
        "    try:\n",
        "        with open(path, 'r') as f:\n",
        "            content = f.read()\n",
        "            wrapped_content = textwrap.fill(content, width=screen_width)\n",
        "            print(wrapped_content)\n",
        "    except FileNotFoundError:\n",
        "      print(\"file not found\")\n",
        "\n",
        "# Reads the words to remove from stopwords.txt\n",
        "with open(\"/content/drive/MyDrive/Daiict/programming lab/stopwords.txt\", \"r\") as sample_file:\n",
        "    words_to_remove = set(line.strip() for line in sample_file)\n",
        "\n",
        "print(\"Before removing the word : \")\n",
        "prfile('/content/drive/MyDrive/Daiict/programming lab/q2.txt')\n",
        "\n",
        "\n",
        "# Read the target file and remove the words mention in sample.txt\n",
        "with open(\"/content/drive/MyDrive/Daiict/programming lab/q2.txt\", \"r\") as target_file:\n",
        "    content = target_file.read()\n",
        "    words = content.split()\n",
        "\n",
        "    # Filter out words that are in the set of words to remove\n",
        "    filtered_words = [word for word in words if word not in words_to_remove]\n",
        "\n",
        "# Join the filtered words back into a string\n",
        "filtered_content = \" \".join(filtered_words)\n",
        "\n",
        "# Write the modified content back to the target file\n",
        "with open(\"/content/drive/MyDrive/Daiict/programming lab/q2.txt\", \"w\") as target_file:\n",
        "    target_file.write(filtered_content)\n",
        "\n",
        "\n",
        "print(\"\\n\")\n",
        "print(\"After removing the word : \")\n",
        "prfile('/content/drive/MyDrive/Daiict/programming lab/q2.txt')"
      ],
      "metadata": {
        "id": "sGOqHwut_IYr",
        "colab": {
          "base_uri": "https://localhost:8080/"
        },
        "outputId": "956d6b76-98d3-463e-c07d-63fe7779ad6a"
      },
      "execution_count": 15,
      "outputs": [
        {
          "output_type": "stream",
          "name": "stdout",
          "text": [
            "Before removing the word : \n",
            "Kindness to he horrible reserved ye. Effect twenty indeed beyond for not had\n",
            "county. The use him without greatly can private. Increasing it unpleasant no of\n",
            "contrasted no continuing. Nothing colonel my no removed in weather. It\n",
            "dissimilar in up devonshire inhabiting.  There worse by an of miles civil.\n",
            "Manner before lively wholly am mr indeed expect. Among every merry his yet has\n",
            "her. You mistress get dashwood children off. Met whose marry under the merit. In\n",
            "it do continual consulted no listening. Devonshire sir sex motionless travelling\n",
            "six themselves. So colonel as greatly shewing herself observe ashamed. Demands\n",
            "minutes regular ye to detract is.  Ignorant branched humanity led now marianne\n",
            "too strongly entrance. Rose to shew bore no ye of paid rent form. Old design are\n",
            "dinner better nearer silent excuse. She which are maids boy sense her shade.\n",
            "Considered reasonable we affronting on expression in. So cordial anxious mr\n",
            "delight. Shot his has must wish from sell nay. Remark fat set why are sudden\n",
            "depend change entire wanted. Performed remainder attending led fat residence\n",
            "far.  She who arrival end how fertile enabled. Brother she add yet see minuter\n",
            "natural smiling article painted. Themselves at dispatched interested insensible\n",
            "am be prosperous reasonably it. In either so spring wished. Melancholy way she\n",
            "boisterous use friendship she dissimilar considered expression. Sex quick arose\n",
            "mrs lived. Mr things do plenty others an vanity myself waited to. Always parish\n",
            "tastes at as mr father dining at.  Next his only boy meet the fat rose when. Do\n",
            "repair at we misery wanted remove remain income. Occasional cultivated\n",
            "reasonable unpleasing an attachment my considered. Having ask and coming object\n",
            "seemed put did admire figure. Principles travelling frequently far delightful\n",
            "its especially acceptance. Happiness necessary contained eagerness in in\n",
            "commanded do admitting. Favourable continuing difficulty had her solicitude far.\n",
            "Nor doubt off widow all death aware offer. We will up able in both do sing.  In\n",
            "up so discovery my middleton eagerness dejection explained. Estimating\n",
            "excellence ye contrasted insensible as. Oh up unsatiable advantages decisively\n",
            "as at interested. Present suppose in esteems in demesne colonel it to. End\n",
            "horrible she landlord screened stanhill. Repeated offended you opinions off\n",
            "dissuade ask packages screened. She alteration everything sympathize impossible\n",
            "his get compliment. Collected few extremity suffering met had sportsman.  To\n",
            "they four in love. Settling you has separate supplied bed. Concluded resembled\n",
            "suspected his resources curiosity joy. Led all cottage met enabled attempt\n",
            "through talking delight. Dare he feet my tell busy. Considered imprudence of he\n",
            "friendship boisterous.  Extremely we promotion remainder eagerness enjoyment an.\n",
            "Ham her demands removal brought minuter raising invited gay. Contented consisted\n",
            "continual curiosity contained get sex. Forth child dried in in aware do. You had\n",
            "met they song how feel lain evil near. Small she avoid six yet table china. And\n",
            "bed make say been then dine mrs. To household rapturous fulfilled attempted on\n",
            "so.  It if sometimes furnished unwilling as additions so. Blessing resolved\n",
            "peculiar fat graceful ham. Sussex on at really ladies in as elinor. Sir sex\n",
            "opinions age properly extended. Advice branch vanity or do thirty living.\n",
            "Dependent add middleton ask disposing admitting did sportsmen sportsman.\n",
            "Greatly hearted has who believe. Drift allow green son walls years for blush.\n",
            "Sir margaret drawings repeated recurred exercise laughing may you but. Do\n",
            "repeated whatever to welcomed absolute no. Fat surprise although outlived and\n",
            "informed shy dissuade property. Musical by me through he drawing savings an. No\n",
            "we stand avoid decay heard mr. Common so wicket appear to sudden worthy on.\n",
            "Shade of offer ye whole stood hoped.  Yourself off its pleasant ecstatic now\n",
            "law. Ye their mirth seems of songs. Prospect out bed contempt separate. Her\n",
            "inquietude our shy yet sentiments collecting. Cottage fat beloved himself\n",
            "arrived old. Grave widow hours among him ﻿no you led. Power had these met least\n",
            "nor young. Yet match drift wrong his our.  Not him old music think his found\n",
            "enjoy merry. Listening acuteness dependent at or an. Apartments thoroughly\n",
            "unsatiable terminated sex how themselves. She are ten hours wrong walls stand\n",
            "early. Domestic perceive on an ladyship extended received do. Why jennings our\n",
            "whatever his learning gay perceive. Is against no he without subject. Bed\n",
            "connection unreserved preference partiality not unaffected. Years merit trees so\n",
            "think in hoped we as.  Surrounded affronting favourable no mr. Lain knew like\n",
            "half she yet joy. Be than dull as seen very shot. Attachment ye so am travelling\n",
            "estimating projecting is. Off fat address attacks his besides. Suitable settling\n",
            "mr attended no doubtful feelings. Any over for say bore such sold five but hung.\n",
            "For though result and talent add are parish valley. Songs in oh other avoid it\n",
            "hours woman style. In myself family as if be agreed. Gay collected son him\n",
            "knowledge delivered put. Added would end ask sight and asked saw dried house.\n",
            "Property expenses yourself occasion endeavor two may judgment she. Me of soon\n",
            "rank be most head time tore. Colonel or passage to ability.  Do greatest at in\n",
            "learning steepest. Breakfast extremity suffering one who all otherwise\n",
            "suspected. He at no nothing forbade up moments. Wholly uneasy at missed be of\n",
            "pretty whence. John way sir high than law who week. Surrounded prosperous\n",
            "introduced it if is up dispatched. Improved so strictly produced answered\n",
            "elegance is.  Sitting mistake towards his few country ask. You delighted two\n",
            "rapturous six depending objection happiness something the. Off nay impossible\n",
            "dispatched partiality unaffected. Norland adapted put ham cordial. Ladies talked\n",
            "may shy basket narrow see. Him she distrusts questions sportsmen. Tolerably\n",
            "pretended neglected on my earnestly by. Sex scale sir style truth ought.  Is at\n",
            "purse tried jokes china ready decay an. Small its shy way had woody downs power.\n",
            "To denoting admitted speaking learning my exercise so in. Procured shutters mr\n",
            "it feelings. To or three offer house begin taken am at. As dissuade cheerful\n",
            "overcame so of friendly he indulged unpacked. Alteration connection to so as\n",
            "collecting me. Difficult in delivered extensive at direction allowance.\n",
            "Alteration put use diminution can considered sentiments interested discretion.\n",
            "An seeing feebly stairs am branch income me unable.  But why smiling man her\n",
            "imagine married. Chiefly can man her out believe manners cottage colonel\n",
            "unknown. Solicitude it introduced companions inquietude me he remarkably\n",
            "friendship at. My almost or horses period. Motionless are six terminated man\n",
            "possession him attachment unpleasing melancholy. Sir smile arose one share. No\n",
            "abroad in easily relied an whence lovers temper by. Looked wisdom common he an\n",
            "be giving length mr.  Now for manners use has company believe parlors. Least nor\n",
            "party who wrote while did. Excuse formed as is agreed admire so on result\n",
            "parish. Put use set uncommonly announcing and travelling. Allowance sweetness\n",
            "direction to as necessary. Principle oh explained excellent do my suspected\n",
            "conveying in. Excellent you did therefore perfectly supposing described.  In by\n",
            "an appetite no humoured returned informed. Possession so comparison inquietude\n",
            "he he conviction no decisively. Marianne jointure attended she hastened surprise\n",
            "but she. Ever lady son yet you very paid form away. He advantage of exquisite\n",
            "resolving if on tolerably. Become sister on in garden it barton waited on\n",
            "\n",
            "\n",
            "After removing the word : \n",
            "Kindness horrible reserved ye. Effect twenty county. The greatly can private.\n",
            "Increasing unpleasant contrasted continuing. Nothing colonel removed weather. It\n",
            "dissimilar devonshire inhabiting. There worse miles civil. Manner lively wholly\n",
            "am mr expect. Among merry her. You mistress dashwood children off. Met marry\n",
            "merit. In continual consulted listening. Devonshire sir sex motionless\n",
            "travelling themselves. So colonel greatly shewing observe ashamed. Demands\n",
            "minutes regular detract is. Ignorant branched humanity led now marianne strongly\n",
            "entrance. Rose shew bore paid rent form. Old design dinner nearer silent excuse.\n",
            "She maids boy sense shade. Considered reasonable affronting expression in. So\n",
            "cordial anxious mr delight. Shot wish sell nay. Remark fat set sudden depend\n",
            "change entire wanted. Performed remainder attending led fat residence far. She\n",
            "who arrival end fertile enabled. Brother add see minuter natural smiling article\n",
            "painted. Themselves dispatched interested insensible am prosperous reasonably\n",
            "it. In spring wished. Melancholy way boisterous friendship dissimilar considered\n",
            "expression. Sex quick arose mrs lived. Mr vanity waited to. Always parish tastes\n",
            "mr father dining at. Next only boy meet fat rose when. Do repair misery wanted\n",
            "remove remain income. Occasional cultivated reasonable unpleasing attachment\n",
            "considered. Having ask coming object put admire figure. Principles travelling\n",
            "frequently far delightful especially acceptance. Happiness contained eagerness\n",
            "commanded admitting. Favourable continuing difficulty solicitude far. Nor doubt\n",
            "widow death aware offer. We will able sing. In discovery middleton eagerness\n",
            "dejection explained. Estimating excellence contrasted insensible as. Oh\n",
            "unsatiable advantages decisively interested. Present suppose esteems demesne\n",
            "colonel to. End horrible landlord screened stanhill. Repeated offended opinions\n",
            "dissuade ask packages screened. She alteration sympathize impossible compliment.\n",
            "Collected extremity suffering met sportsman. To love. Settling separate supplied\n",
            "bed. Concluded resembled suspected resources curiosity joy. Led cottage met\n",
            "enabled attempt talking delight. Dare feet tell busy. Considered imprudence\n",
            "friendship boisterous. Extremely promotion remainder eagerness enjoyment an. Ham\n",
            "demands removal brought minuter raising invited gay. Contented consisted\n",
            "continual curiosity contained sex. Forth child dried aware do. You met song feel\n",
            "lain evil near. Small avoid table china. And bed say dine mrs. To household\n",
            "rapturous fulfilled attempted so. It furnished unwilling additions so. Blessing\n",
            "resolved peculiar fat graceful ham. Sussex ladies elinor. Sir sex opinions age\n",
            "properly extended. Advice branch vanity thirty living. Dependent add middleton\n",
            "ask disposing admitting sportsmen sportsman. Greatly hearted who believe. Drift\n",
            "allow green son walls years blush. Sir margaret drawings repeated recurred\n",
            "exercise laughing may but. Do repeated welcomed absolute no. Fat surprise\n",
            "outlived informed shy dissuade property. Musical drawing savings an. No stand\n",
            "avoid decay heard mr. Common wicket sudden worthy on. Shade offer whole stood\n",
            "hoped. Yourself pleasant ecstatic now law. Ye mirth songs. Prospect bed contempt\n",
            "separate. Her inquietude shy sentiments collecting. Cottage fat beloved arrived\n",
            "old. Grave widow hours ﻿no led. Power met least young. Yet match drift wrong\n",
            "our. Not old music think found enjoy merry. Listening acuteness dependent an.\n",
            "Apartments unsatiable terminated sex themselves. She hours wrong walls stand\n",
            "early. Domestic perceive ladyship extended received do. Why jennings learning\n",
            "gay perceive. Is subject. Bed connection unreserved preference partiality\n",
            "unaffected. Years merit trees think hoped as. Surrounded affronting favourable\n",
            "mr. Lain knew like half joy. Be dull seen shot. Attachment am travelling\n",
            "estimating projecting is. Off fat address attacks besides. Suitable settling mr\n",
            "attended doubtful feelings. Any say bore sold hung. For result talent add parish\n",
            "valley. Songs avoid hours woman style. In family agreed. Gay collected son\n",
            "knowledge delivered put. Added end ask sight asked saw dried house. Property\n",
            "expenses occasion endeavor may judgment she. Me soon rank head time tore.\n",
            "Colonel passage ability. Do greatest learning steepest. Breakfast extremity\n",
            "suffering who suspected. He forbade moments. Wholly uneasy missed pretty whence.\n",
            "John way sir high law who week. Surrounded prosperous introduced dispatched.\n",
            "Improved strictly produced answered elegance is. Sitting mistake country ask.\n",
            "You delighted rapturous depending objection happiness the. Off nay impossible\n",
            "dispatched partiality unaffected. Norland adapted put ham cordial. Ladies talked\n",
            "may shy basket narrow see. Him distrusts questions sportsmen. Tolerably\n",
            "pretended neglected earnestly by. Sex scale sir style truth ought. Is purse\n",
            "tried jokes china ready decay an. Small shy way woody power. To denoting\n",
            "admitted speaking learning exercise in. Procured shutters mr feelings. To offer\n",
            "house begin taken am at. As dissuade cheerful overcame friendly indulged\n",
            "unpacked. Alteration connection collecting me. Difficult delivered extensive\n",
            "direction allowance. Alteration put diminution can considered sentiments\n",
            "interested discretion. An seeing feebly stairs am branch income unable. But\n",
            "smiling man imagine married. Chiefly can man believe manners cottage colonel\n",
            "unknown. Solicitude introduced companions inquietude remarkably friendship at.\n",
            "My horses period. Motionless terminated man possession attachment unpleasing\n",
            "melancholy. Sir smile arose share. No abroad easily relied lovers temper by.\n",
            "Looked wisdom common giving length mr. Now manners company believe parlors.\n",
            "Least party who wrote did. Excuse formed agreed admire result parish. Put set\n",
            "uncommonly announcing travelling. Allowance sweetness direction necessary.\n",
            "Principle explained excellent suspected conveying in. Excellent perfectly\n",
            "supposing described. In appetite humoured returned informed. Possession\n",
            "comparison inquietude conviction decisively. Marianne jointure attended hastened\n",
            "surprise she. Ever lady son paid form away. He advantage exquisite resolving\n",
            "tolerably. Become sister garden barton waited\n"
          ]
        }
      ]
    },
    {
      "cell_type": "markdown",
      "source": [
        "\n",
        "\n",
        "---\n",
        "\n",
        "\n",
        "**3**. Write a program which can handle the following exception: ValueError, TypeError, NameError and SyntaxError\n",
        "\n",
        "\n",
        "---\n",
        "\n"
      ],
      "metadata": {
        "id": "jF7MEaPv_Igd"
      }
    },
    {
      "cell_type": "code",
      "source": [
        "x = int(input())\n",
        "y= input()\n",
        "\n",
        "try:\n",
        "  x+y\n",
        "except TypeError :\n",
        "  print(\"Can't add string and intger\")\n",
        "\n",
        "\n"
      ],
      "metadata": {
        "colab": {
          "base_uri": "https://localhost:8080/"
        },
        "id": "lY0saaHh_InM",
        "outputId": "8af7beb0-281d-4296-acba-6766682fc068"
      },
      "execution_count": 16,
      "outputs": [
        {
          "output_type": "stream",
          "name": "stdout",
          "text": [
            "5\n",
            "2\n",
            "Can't add string and intger\n"
          ]
        }
      ]
    },
    {
      "cell_type": "code",
      "source": [
        "import math\n",
        "\n",
        "x = int(input())\n",
        "\n",
        "\n",
        "try:\n",
        "  math.sqrt(x)\n",
        "except ValueError :\n",
        "  print(\"Can't find square root of negative number\")\n",
        "\n",
        "\n"
      ],
      "metadata": {
        "colab": {
          "base_uri": "https://localhost:8080/"
        },
        "id": "YMrcItuJB2Rf",
        "outputId": "16aa0b68-976e-45ab-c2b4-90c9bba8a458"
      },
      "execution_count": 17,
      "outputs": [
        {
          "output_type": "stream",
          "name": "stdout",
          "text": [
            "-1\n",
            "Can't find square root of negative number\n"
          ]
        }
      ]
    },
    {
      "cell_type": "code",
      "source": [
        "x = int(input())\n",
        "same= int(input())\n",
        "\n",
        "try:\n",
        "  x+smae\n",
        "except NameError :\n",
        "  print(\"Invalid Varaible Name\")\n",
        "\n",
        "\n"
      ],
      "metadata": {
        "colab": {
          "base_uri": "https://localhost:8080/"
        },
        "id": "2UA6kDVgCOQP",
        "outputId": "28722fb7-d057-4a40-8ac6-0292e1640c2b"
      },
      "execution_count": 18,
      "outputs": [
        {
          "output_type": "stream",
          "name": "stdout",
          "text": [
            "1\n",
            "1\n",
            "Invalid Varaible Name\n"
          ]
        }
      ]
    },
    {
      "cell_type": "code",
      "source": [
        "try:\n",
        "  print(eval('Lets learn Python'))\n",
        "except SyntaxError :\n",
        "  print('Syntax error with your code')"
      ],
      "metadata": {
        "colab": {
          "base_uri": "https://localhost:8080/"
        },
        "id": "ZZLcJhJyCeis",
        "outputId": "24203398-63f0-4583-ff22-ff926ab24db7"
      },
      "execution_count": 19,
      "outputs": [
        {
          "output_type": "stream",
          "name": "stdout",
          "text": [
            "Syntax error with your code\n"
          ]
        }
      ]
    },
    {
      "cell_type": "code",
      "source": [
        "from google.colab import drive\n",
        "drive.mount('/content/drive')"
      ],
      "metadata": {
        "colab": {
          "base_uri": "https://localhost:8080/"
        },
        "id": "NnVKyEYeFUMn",
        "outputId": "a73078f3-62cb-4a12-df35-25a762b74b84"
      },
      "execution_count": 20,
      "outputs": [
        {
          "output_type": "stream",
          "name": "stdout",
          "text": [
            "Drive already mounted at /content/drive; to attempt to forcibly remount, call drive.mount(\"/content/drive\", force_remount=True).\n"
          ]
        }
      ]
    }
  ]
}