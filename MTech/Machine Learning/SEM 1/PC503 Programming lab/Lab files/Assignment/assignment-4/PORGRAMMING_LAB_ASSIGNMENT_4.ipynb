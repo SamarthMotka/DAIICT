{
 "cells": [
  {
   "cell_type": "markdown",
   "metadata": {},
   "source": [
    "# Programming Lab Assignment-4\n",
    "### Samarth Motka\n",
    "### 202311023"
   ]
  },
  {
   "cell_type": "code",
   "execution_count": 11,
   "metadata": {
    "id": "PKIYGX8LCBmN"
   },
   "outputs": [],
   "source": [
    "import numpy as np\n",
    "import pandas as pd"
   ]
  },
  {
   "cell_type": "markdown",
   "metadata": {
    "id": "M78hOte9Cdta"
   },
   "source": [
    "Q 1: Implement a custom exception named \"CustomOutOfRangeError.\" Write\n",
    "a Python program that asks the user to enter an integer within a specified range\n",
    "(e.g., 10 to 50). If the input is outside this range, raise the\n",
    "\"CustomOutOfRangeError\" with a meaningful error message. Handle this\n",
    "exception and ask the user for input again until a valid input is provided."
   ]
  },
  {
   "cell_type": "code",
   "execution_count": 3,
   "metadata": {
    "id": "-D3InNhOCHcS"
   },
   "outputs": [
    {
     "name": "stdout",
     "output_type": "stream",
     "text": [
      "Enter an integer within the range (10 to 50): 1\n",
      "Input is out of the specified range.\n",
      "Enter an integer within the range (10 to 50): 1\n",
      "Input is out of the specified range.\n",
      "Enter an integer within the range (10 to 50): 1\n",
      "Input is out of the specified range.\n",
      "Enter an integer within the range (10 to 50): 55\n",
      "Input is out of the specified range.\n",
      "Enter an integer within the range (10 to 50): 4\n",
      "Input is out of the specified range.\n",
      "Enter an integer within the range (10 to 50): 43\n",
      "You entered a valid integer within the range: 43\n"
     ]
    }
   ],
   "source": [
    "class CustomOutOfRangeError(Exception):\n",
    "\n",
    "    def __init__(self, message=\"Input is out of the specified range.\"):\n",
    "        self.message = message\n",
    "        super().__init__(self.message)\n",
    "\n",
    "def get_input():\n",
    "    while True:\n",
    "        try:\n",
    "            n = int(input(\"Enter an integer within the range (10 to 50): \"))\n",
    "            if 10 <= n <= 50:\n",
    "                return n\n",
    "            else:\n",
    "                raise CustomOutOfRangeError()\n",
    "        except CustomOutOfRangeError as e:\n",
    "            print(e)\n",
    "        except ValueError:\n",
    "            print(\"Invalid input. Please enter an integer.\")\n",
    "\n",
    "\n",
    "try:\n",
    "    valid_input = get_input()\n",
    "    print(f\"You entered a valid integer within the range: {valid_input}\")\n",
    "except KeyboardInterrupt:\n",
    "    print(\"\\nProgram terminated by the user.\")"
   ]
  },
  {
   "cell_type": "markdown",
   "metadata": {
    "id": "u4yVxhssENaE"
   },
   "source": [
    "Q 2: Write a Python program that reads data from a CSV file. Implement\n",
    "exception handling to manage potential errors such as file not found, invalid data\n",
    "format, or missing columns. Create a custom exception \"CSVDataError\" to\n",
    "handle issues related to data format. Display appropriate error messages for\n",
    "different exceptions."
   ]
  },
  {
   "cell_type": "code",
   "execution_count": 10,
   "metadata": {
    "colab": {
     "base_uri": "https://localhost:8080/"
    },
    "id": "sSIXVNvHENj7",
    "outputId": "cbf42890-720e-4c3f-d54e-1d651d15b89e"
   },
   "outputs": [
    {
     "name": "stdout",
     "output_type": "stream",
     "text": [
      "Invalid Name or file is not there\n",
      "\n",
      "\n",
      "Missing column provided\n",
      "\n",
      "\n",
      "Invalid Data Format\n",
      "\n",
      "\n"
     ]
    }
   ],
   "source": [
    "class CSVDataError(Exception):\n",
    "    def __init__(self, message):\n",
    "        super().__init__(message)\n",
    "\n",
    "def read_csv_file():\n",
    "    try:\n",
    "      df = pd.read_csv('some.csv')\n",
    "    except FileNotFoundError as CSVDataError  :\n",
    "      print(\"Invalid Name or file is not there\")\n",
    "      print(\"\\n\")\n",
    "    \n",
    "    try:\n",
    "      dataset = pd.read_csv('smoking_driking_dataset_Ver01.csv', index_col=['Date'],\n",
    "          parse_dates=['Date'])\n",
    "    except ValueError  as CSVDataError  :\n",
    "      print(\"Missing column provided\")\n",
    "      print(\"\\n\")\n",
    "    \n",
    "    try:\n",
    "      dataset = pd.read_csv('smoking_driking_dataset_Ver01.csv')\n",
    "      for i in dataset['DRK_YN']:\n",
    "        print(int(i))\n",
    "    except ValueError  as CSVDataError  :\n",
    "      print(\"Invalid Data Format\")\n",
    "      print(\"\\n\")\n",
    "        \n",
    "\n",
    "            \n",
    "read_csv_file()\n",
    "    \n"
   ]
  },
  {
   "cell_type": "markdown",
   "metadata": {
    "id": "r6mPAFX5JcQk"
   },
   "source": [
    "Q 3: Create a Python module that defines a function to calculate the nth\n",
    "Fibonacci number. Import this module into another script and use the function to\n",
    "calculate the Fibonacci sequence for the first 15 numbers. Display the results."
   ]
  },
  {
   "cell_type": "code",
   "execution_count": 6,
   "metadata": {
    "id": "WwZLupCAJcLP"
   },
   "outputs": [
    {
     "name": "stdout",
     "output_type": "stream",
     "text": [
      "Enter the value of N : 15\n",
      "0\n",
      "1\n",
      "1\n",
      "2\n",
      "3\n",
      "5\n",
      "8\n",
      "13\n",
      "21\n",
      "34\n",
      "55\n",
      "89\n",
      "144\n",
      "233\n",
      "377\n"
     ]
    }
   ],
   "source": [
    "import fibo as fb\n",
    "\n",
    "x = int(input(\"Enter the value of N : \"))\n",
    "\n",
    "fb.fibonacci(x)"
   ]
  },
  {
   "cell_type": "markdown",
   "metadata": {},
   "source": [
    "Q 4: Develop a Python module that provides functionalities for matrix\n",
    "operations, including addition, subtraction, and multiplication using NumPy. Use\n",
    "this module to perform matrix multiplication on two randomly generated matrices."
   ]
  },
  {
   "cell_type": "code",
   "execution_count": 25,
   "metadata": {},
   "outputs": [
    {
     "name": "stdout",
     "output_type": "stream",
     "text": [
      "[[0.3160994  0.82833988 0.06900721]\n",
      " [0.24027949 0.08424787 0.70384552]\n",
      " [0.20684776 0.02419881 0.68999503]]\n",
      "\n",
      "\n",
      "[[0.96480022 0.4565416  0.75931422]\n",
      " [0.1603123  0.84769538 0.05466333]\n",
      " [0.78427405 0.50786174 0.34098988]]\n",
      "\n",
      "\n",
      "The addition of Matrix : \n",
      "[[1.28089962 1.28488149 0.82832143]\n",
      " [0.40059178 0.93194324 0.75850885]\n",
      " [0.99112181 0.53206055 1.03098492]]\n",
      "\n",
      "\n",
      "The subtraction of Matrix : \n",
      "[[-0.64870082  0.37179828 -0.69030702]\n",
      " [ 0.07996719 -0.76344751  0.64918219]\n",
      " [-0.57742629 -0.48366294  0.34900515]]\n",
      "\n",
      "\n",
      "The multiplication of Matrix : \n",
      "[[0.4918864  0.88153853 0.30882935]\n",
      " [0.79733544 0.53857032 0.4270571 ]\n",
      " [0.74459133 0.46536991 0.39366656]]\n"
     ]
    }
   ],
   "source": [
    "import matrix_operation as mxo\n",
    "import numpy as np\n",
    "\n",
    "matrix_A = np.random.rand(3, 3)\n",
    "matrix_B = np.random.rand(3, 3)\n",
    "\n",
    "print(matrix_A)\n",
    "print(\"\\n\")\n",
    "print(matrix_B)\n",
    "\n",
    "print(\"\\n\")\n",
    "print(\"The addition of Matrix : \")\n",
    "\n",
    "print(mxo.addition(matrix_A,matrix_B))\n",
    "\n",
    "print(\"\\n\")\n",
    "print(\"The subtraction of Matrix : \")\n",
    "\n",
    "print(mxo.subtraction(matrix_A,matrix_B))\n",
    "\n",
    "print(\"\\n\")\n",
    "print(\"The multiplication of Matrix : \")\n",
    "\n",
    "print(mxo.multiplication(matrix_A,matrix_B))"
   ]
  },
  {
   "cell_type": "markdown",
   "metadata": {
    "id": "76CenQ8SHaMs"
   },
   "source": [
    "Q 5.Write a Python program that generates a 10x10 numpy array with\n",
    "random integers between 1 and 100. Find and display the indices of the top 5\n",
    "maximum values in the array."
   ]
  },
  {
   "cell_type": "code",
   "execution_count": 10,
   "metadata": {
    "colab": {
     "base_uri": "https://localhost:8080/"
    },
    "id": "htkbY94bHaSL",
    "outputId": "03b8bdb3-a144-419e-a859-c842e3357413"
   },
   "outputs": [
    {
     "name": "stdout",
     "output_type": "stream",
     "text": [
      "(array([2, 0, 9, 3, 4], dtype=int64), array([4, 0, 6, 2, 4], dtype=int64))\n",
      "[24  0 96 32 44]\n",
      "\n",
      "\n",
      "Random Array:\n",
      "[[99 18 92 63  8  1 11 88 25  8]\n",
      " [78  6 10 35 78  8 62 23 85 29]\n",
      " [22 91 21 66 99 68 59 44 91  4]\n",
      " [13 79 92  9 57 57 57  2 20 59]\n",
      " [37  1 55 18 95 85  7 87 44 54]\n",
      " [52 11 63 44 27  8 46 85 35  7]\n",
      " [53 70 86 36 27 84 19  4 17 85]\n",
      " [53  7 11 72 27 37 35  8 29 71]\n",
      " [69  4 50 56  2 55 74 14 86 67]\n",
      " [13 58 79 40 85 55 96 16 55 44]]\n",
      "\n",
      "\n",
      "Top 1: Value=99, Index=(2, 4)\n",
      "Top 2: Value=99, Index=(0, 0)\n",
      "Top 3: Value=96, Index=(9, 6)\n",
      "Top 4: Value=92, Index=(3, 2)\n",
      "Top 5: Value=95, Index=(4, 4)\n"
     ]
    }
   ],
   "source": [
    "import numpy as np\n",
    "\n",
    "random_array = np.random.randint(1, 100, (10, 10))\n",
    "\n",
    "# Find the indices of the top 5 maximum values using np.argpartition\n",
    "top_indices = np.argpartition(-random_array.flatten(), 5)[:5]\n",
    "\n",
    "# Convert the flattened indices to 2D indices\n",
    "top_indices_2d = np.unravel_index(top_indices, random_array.shape)\n",
    "\n",
    "print(top_indices_2d)\n",
    "print(top_indices)\n",
    "print(\"\\n\")\n",
    "# Display the original array\n",
    "print(\"Random Array:\")\n",
    "print(random_array)\n",
    "print(\"\\n\")\n",
    "\n",
    "# Display the top 5 maximum values and their indices\n",
    "for i, index in enumerate(top_indices):\n",
    "    value = random_array.flatten()[index]\n",
    "    row, col = top_indices_2d[0][i], top_indices_2d[1][i]\n",
    "    print(f\"Top {i+1}: Value={value}, Index=({row}, {col})\")\n"
   ]
  },
  {
   "cell_type": "code",
   "execution_count": null,
   "metadata": {},
   "outputs": [],
   "source": []
  }
 ],
 "metadata": {
  "colab": {
   "provenance": []
  },
  "kernelspec": {
   "display_name": "Python 3 (ipykernel)",
   "language": "python",
   "name": "python3"
  },
  "language_info": {
   "codemirror_mode": {
    "name": "ipython",
    "version": 3
   },
   "file_extension": ".py",
   "mimetype": "text/x-python",
   "name": "python",
   "nbconvert_exporter": "python",
   "pygments_lexer": "ipython3",
   "version": "3.11.4"
  }
 },
 "nbformat": 4,
 "nbformat_minor": 1
}
