{
 "cells": [
  {
   "cell_type": "markdown",
   "metadata": {},
   "source": [
    "## Name:Samarth Motka\n",
    "## 202311023\n",
    "## Programming Lab Assignment-2"
   ]
  },
  {
   "cell_type": "markdown",
   "metadata": {},
   "source": [
    "# 1.Make a module “pascal.py” with function “pascalTriangle(numOfRows)” and import into “main.py”."
   ]
  },
  {
   "cell_type": "code",
   "execution_count": 40,
   "metadata": {},
   "outputs": [],
   "source": [
    "from pascal import printPascal \n",
    "\n",
    "row = int(input(\"Enter number of rows :\"))\n",
    "\n",
    "printPascal(5)"
   ]
  },
  {
   "cell_type": "markdown",
   "metadata": {},
   "source": [
    "     1 \n",
    "    1 1 \n",
    "   1 2 1 \n",
    "  1 3 3 1 \n",
    " 1 4 6 4 1 "
   ]
  },
  {
   "cell_type": "markdown",
   "metadata": {},
   "source": [
    "# 2. Write a Python program that takes a dictionary containing dates and finds all the Sundays."
   ]
  },
  {
   "cell_type": "code",
   "execution_count": 27,
   "metadata": {},
   "outputs": [
    {
     "data": {
      "text/plain": [
       "{'date1': '2023-09-03', 'date3': '2023-09-17'}"
      ]
     },
     "execution_count": 27,
     "metadata": {},
     "output_type": "execute_result"
    }
   ],
   "source": [
    "import datetime as dt\n",
    "\n",
    "def find_sundays(dates):\n",
    "    sundays={}\n",
    "\n",
    "    for j,i in dates.items():\n",
    "        d = dt.datetime.strptime(i, '%Y-%m-%d')\n",
    "\n",
    "        if d.weekday() == 6:\n",
    "            sundays[j] = d.strftime('%Y-%m-%d')\n",
    "\n",
    "    return sundays\n",
    "\n",
    "data = {\n",
    "\"date1\": \"2023-09-03\",\n",
    "\"date2\": \"2023-09-11\",\n",
    "\"date3\": \"2023-09-17\",\n",
    "\"date4\": \"2023-09-23\",\n",
    "}\n",
    "\n",
    "find_sundays(data)"
   ]
  },
  {
   "cell_type": "markdown",
   "metadata": {},
   "source": [
    "# 3. Write a Python program to calculate the area(round to 2 decimals) of a triangle when we know the lengths of two sides and the included angle between them.[sine rule]"
   ]
  },
  {
   "cell_type": "code",
   "execution_count": 39,
   "metadata": {},
   "outputs": [
    {
     "name": "stdout",
     "output_type": "stream",
     "text": [
      "The area of the triangle is : 4.79\n"
     ]
    }
   ],
   "source": [
    "import math\n",
    "\n",
    "def calculate_triangle_area(a, b, C):\n",
    "    rad = math.radians(C)\n",
    "\n",
    "    area = 0.5 * a * b * math.sin(rad)\n",
    "    \n",
    "    return round(area, 2)\n",
    "\n",
    "a = float(input(\"Enter the length of side 'a': \"))\n",
    "b = float(input(\"Enter the length of side 'b': \"))\n",
    "c = float(input(\"Enter the included angle 'C' in degrees: \"))\n",
    "\n",
    "area = calculate_triangle_area(a, b, c)\n",
    "\n",
    "print(f\"The area of the triangle is : {area}\")"
   ]
  },
  {
   "cell_type": "markdown",
   "metadata": {},
   "source": [
    "# 4. Use the Python ‘sys' module to pass command-line arguments to a script, and process these three arguments within Python program and return those are palindrome numbers."
   ]
  },
  {
   "cell_type": "code",
   "execution_count": null,
   "metadata": {},
   "outputs": [],
   "source": [
    "import sys\n",
    "\n",
    "def is_palindrome(num):\n",
    "    num_str = str(num)\n",
    "    return num_str == num_str[::-1]\n",
    "\n",
    "if len(sys.argv) != 4:\n",
    "    print(\"Usage: python script.py arg1 arg2 arg3\")\n",
    "    sys.exit(1)\n",
    "\n",
    "arg1 = (sys.argv[1])\n",
    "arg2 = (sys.argv[2])\n",
    "arg3 = (sys.argv[3])\n",
    "\n",
    "if is_palindrome(arg1):\n",
    "    print(f\"{arg1} is a palindrome.\")\n",
    "if is_palindrome(arg2):\n",
    "    print(f\"{arg2} is a palindrome.\")\n",
    "if is_palindrome(arg3):\n",
    "    print(f\"{arg3} is a palindrome.\")\n"
   ]
  },
  {
   "cell_type": "markdown",
   "metadata": {},
   "source": [
    "### Output\n",
    "### PS D:\\DAIICT\\MTech\\Machine Learning\\SEM 1\\PC503 Programming lab\\Lab files\\assignment-2> py .\\4sysfile.py\n",
    "### PS D:\\DAIICT\\MTech\\Machine Learning\\SEM 1\\PC503 Programming lab\\Lab files\\assignment-2> py .\\4sysfile.py hello 434 racecar\n",
    "### 434 is a palindrome.\n",
    "### racecar is a palindrome."
   ]
  },
  {
   "cell_type": "markdown",
   "metadata": {},
   "source": [
    "# 5. Convert a String to camelCase (using ‘re’ module)"
   ]
  },
  {
   "cell_type": "code",
   "execution_count": 32,
   "metadata": {},
   "outputs": [
    {
     "name": "stdout",
     "output_type": "stream",
     "text": [
      "helloWorld\n"
     ]
    }
   ],
   "source": [
    "import re\n",
    "\n",
    "def to_camel_case(input_str):\n",
    "    words = re.split(r'\\W+', input_str)\n",
    "\n",
    "    camel_case_words = [words[0].lower()] + [word.capitalize() for word in words[1:]]\n",
    "\n",
    "    camel_case_str = ''.join(camel_case_words)\n",
    "    return camel_case_str\n",
    "\n",
    "s = \"Hello World\"\n",
    "result = to_camel_case(s)\n",
    "print(result) "
   ]
  }
 ],
 "metadata": {
  "kernelspec": {
   "display_name": "Python 3",
   "language": "python",
   "name": "python3"
  },
  "language_info": {
   "codemirror_mode": {
    "name": "ipython",
    "version": 3
   },
   "file_extension": ".py",
   "mimetype": "text/x-python",
   "name": "python",
   "nbconvert_exporter": "python",
   "pygments_lexer": "ipython3",
   "version": "3.11.5"
  },
  "orig_nbformat": 4
 },
 "nbformat": 4,
 "nbformat_minor": 2
}
