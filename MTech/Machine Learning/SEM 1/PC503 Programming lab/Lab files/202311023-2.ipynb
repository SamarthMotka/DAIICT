{
 "cells": [
  {
   "cell_type": "code",
   "execution_count": 1,
   "metadata": {},
   "outputs": [],
   "source": [
    "## Programming Lab -2 - 01/08/2023\n",
    "## 202311023\n",
    "\n"
   ]
  },
  {
   "cell_type": "code",
   "execution_count": 2,
   "metadata": {},
   "outputs": [
    {
     "data": {
      "text/plain": [
       "'programing course'"
      ]
     },
     "execution_count": 2,
     "metadata": {},
     "output_type": "execute_result"
    }
   ],
   "source": [
    "'programing course' #single quotes"
   ]
  },
  {
   "cell_type": "code",
   "execution_count": 3,
   "metadata": {},
   "outputs": [
    {
     "data": {
      "text/plain": [
       "'paris is rabit'"
      ]
     },
     "execution_count": 3,
     "metadata": {},
     "output_type": "execute_result"
    }
   ],
   "source": [
    "\"paris is rabit\" #double quotes"
   ]
  },
  {
   "cell_type": "code",
   "execution_count": null,
   "metadata": {},
   "outputs": [],
   "source": [
    "(c) Microsoft Corporation. All rights reserved.\n",
    "\n",
    "C:\\Users\\samar>py\n",
    "Python 3.11.4 (tags/v3.11.4:d2340ef, Jun  7 2023, 05:45:37) [MSC v.1934 64 bit (AMD64)] on win32\n",
    "Type \"help\", \"copyright\", \"credits\" or \"license\" for more information.\n",
    ">>> \"paris rabbit in your back\"\n",
    "'paris rabbit in your back'\n",
    ">>> '1975'\n",
    "'1975'\n",
    ">>> 'doesn\\'t'\n",
    "\"doesn't\"\n",
    ">>> \"doesn\\'t\"\n",
    "\"doesn't\"\n",
    ">>> \"Yes,\" they said.'\n",
    "  File \"<stdin>\", line 1\n",
    "    \"Yes,\" they said.'\n",
    "           ^^^^\n",
    "SyntaxError: invalid syntax\n",
    ">>> '\"Yes,\" they said.'\n",
    "'\"Yes,\" they said.'\n",
    ">>> \"\\\"Yes,\" they said.\"\n",
    "  File \"<stdin>\", line 1\n",
    "    \"\\\"Yes,\" they said.\"\n",
    "             ^^^^\n",
    "SyntaxError: invalid syntax\n",
    ">>> \"\\\"Yes,\\\" they said.\"\n",
    "'\"Yes,\" they said.'\n",
    ">>> print(\"this is python\")\n",
    "this is python\n",
    ">>> s = 'first line.\\nSecond line.'\n",
    ">>> s\n",
    "'first line.\\nSecond line.'\n",
    ">>> print(s\n",
    "... )\n",
    "first line.\n",
    "Second line.\n",
    ">>> print('C:\\some\\name')\n",
    "C:\\some\n",
    "ame\n",
    ">>> print(r'C:\\some\\name')\n",
    "C:\\some\\name\n",
    ">>>  3* 'un' + 'ium'\n",
    "  File \"<stdin>\", line 1\n",
    "    3* 'un' + 'ium'\n",
    "IndentationError: unexpected indent\n",
    ">>>  3*'un' + 'ium'\n",
    "  File \"<stdin>\", line 1\n",
    "    3*'un' + 'ium'\n",
    "IndentationError: unexpected indent\n",
    ">>> 3*'un' + 'ium'\n",
    "'unununium'\n",
    ">>> word = 'python\"\n",
    "  File \"<stdin>\", line 1\n",
    "    word = 'python\"\n",
    "           ^\n",
    "SyntaxError: unterminated string literal (detected at line 1)\n",
    ">>> word = 'python'\n",
    ">>> word[0]\n",
    "'p'\n",
    ">>> word[4]\n",
    "'o'\n",
    ">>> word[-1]\n",
    "'n'\n",
    ">>> word[-1:0]\n",
    "''\n",
    ">>> word[-1:]\n",
    "'n'\n",
    ">>> word[-1:-4]\n",
    "''\n",
    ">>> word[-1:2]\n",
    "''\n",
    ">>> word[1:5]\n",
    "'ytho'\n",
    ">>> word[1:5]+ word[0]\n",
    "'ythop'\n",
    ">>> word[1:5]+ word[0] + 'version'\n",
    "'ythopversion'\n",
    ">>>"
   ]
  }
 ],
 "metadata": {
  "kernelspec": {
   "display_name": "Python 3",
   "language": "python",
   "name": "python3"
  },
  "language_info": {
   "codemirror_mode": {
    "name": "ipython",
    "version": 3
   },
   "file_extension": ".py",
   "mimetype": "text/x-python",
   "name": "python",
   "nbconvert_exporter": "python",
   "pygments_lexer": "ipython3",
   "version": "3.11.4"
  },
  "orig_nbformat": 4
 },
 "nbformat": 4,
 "nbformat_minor": 2
}
