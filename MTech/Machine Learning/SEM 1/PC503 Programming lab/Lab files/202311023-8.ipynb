{
 "cells": [
  {
   "cell_type": "code",
   "execution_count": 1,
   "metadata": {},
   "outputs": [],
   "source": [
    "##Programming lab-8\n",
    "##202311023 17/08/2023 \n"
   ]
  },
  {
   "cell_type": "code",
   "execution_count": 2,
   "metadata": {},
   "outputs": [],
   "source": [
    "def function(a):\n",
    "    pass"
   ]
  },
  {
   "cell_type": "code",
   "execution_count": 5,
   "metadata": {},
   "outputs": [
    {
     "name": "stdout",
     "output_type": "stream",
     "text": [
      "<function parrot at 0x000001D7E5F91CF0>\n",
      "this is voltage :  12\n",
      "this is state :  a stiff\n",
      "get  :  some\n",
      "0\n",
      "this is voltage :  12\n",
      "this is state :  heelo\n",
      "get  :  some\n",
      "0\n"
     ]
    }
   ],
   "source": [
    "def parrot (voltage,state='a stiff',type='some'):\n",
    "    print('this is voltage : ', voltage)\n",
    "    print('this is state : ', state)\n",
    "    print('get  : ', type)\n",
    "    return 0\n",
    "\n",
    "\n",
    "print(parrot)\n",
    "\n",
    "print(parrot(12))\n",
    "\n",
    "print(parrot(12,'heelo'))\n"
   ]
  },
  {
   "cell_type": "code",
   "execution_count": 9,
   "metadata": {},
   "outputs": [
    {
     "name": "stdout",
     "output_type": "stream",
     "text": [
      "jay shree ram\n",
      "kon hain kon hain woh\n",
      "superman\n",
      "----------------------------------------\n",
      "some : getsome\n",
      "nigga : meow meow nigga\n"
     ]
    },
    {
     "data": {
      "text/plain": [
       "0"
      ]
     },
     "execution_count": 9,
     "metadata": {},
     "output_type": "execute_result"
    }
   ],
   "source": [
    "def parrot (kind, *arguments, **keywords):\n",
    "    print(\"jay shree ram\")\n",
    "    print(kind)\n",
    "    for arg in arguments:\n",
    "        print(arg)\n",
    "    print(\"-\"*40)\n",
    "    for kw in keywords:\n",
    "        print(kw, \":\" ,keywords[kw])\n",
    "    return 0\n",
    "\n",
    "\n",
    "parrot(\"kon hain kon hain woh\",\"superman\", some = \"getsome\", nigga=\"meow meow nigga\")"
   ]
  },
  {
   "cell_type": "code",
   "execution_count": 12,
   "metadata": {},
   "outputs": [
    {
     "data": {
      "text/plain": [
       "4"
      ]
     },
     "execution_count": 12,
     "metadata": {},
     "output_type": "execute_result"
    }
   ],
   "source": [
    "## Lambda function\n",
    "\n",
    "def make_dosa(n):\n",
    "    return lambda x:x+n\n",
    "\n",
    "f = make_dosa(2)\n",
    "\n",
    "f(2)"
   ]
  },
  {
   "cell_type": "code",
   "execution_count": 15,
   "metadata": {},
   "outputs": [
    {
     "data": {
      "text/plain": [
       "[(2, 'DARSHIT '), (5, 'deepak'), (3, 'nirmal'), (1, 'samarth'), (4, 'viraj')]"
      ]
     },
     "execution_count": 15,
     "metadata": {},
     "output_type": "execute_result"
    }
   ],
   "source": [
    "pairs = [(1,'samarth'),(2,'DARSHIT '),(3,'nirmal'),(4,'viraj'),(5,'deepak')]\n",
    "pairs.sort(key = lambda pair :pair[1] )\n",
    "pairs"
   ]
  },
  {
   "cell_type": "code",
   "execution_count": 2,
   "metadata": {},
   "outputs": [
    {
     "name": "stdout",
     "output_type": "stream",
     "text": [
      "None\n",
      "None\n",
      "None\n",
      "None\n",
      "b\n",
      "10\n",
      "7\n",
      "2\n",
      "None\n",
      "['a', 9, 8, 7, 6, 5, 4, 5, 2, 1]\n",
      "None\n"
     ]
    }
   ],
   "source": [
    "number = [1,2,3,4,5,6,7,8,9,10]\n",
    "some = ['a','b']\n",
    "#print(number = number.append(11))\n",
    "print(number.sort())\n",
    "print(number.extend(some))\n",
    "print(number.insert(3,5))\n",
    "print(number.remove(3))\n",
    "print(number.pop())\n",
    "print(number.pop(9))\n",
    "print(number.index(8))\n",
    "print(number.count(5))\n",
    "print(number.reverse())\n",
    "print(number.copy())\n",
    "print(number.clear())\n",
    "\n"
   ]
  },
  {
   "cell_type": "code",
   "execution_count": 4,
   "metadata": {},
   "outputs": [
    {
     "data": {
      "text/plain": [
       "[[1, 2, 3], 1, 4, 'Samarth', 'A']"
      ]
     },
     "execution_count": 4,
     "metadata": {},
     "output_type": "execute_result"
    }
   ],
   "source": [
    "some = []\n",
    "some.append([1,2,3])\n",
    "some.append(1)\n",
    "some.append(1+3)\n",
    "some.append('Samarth')\n",
    "x='A'\n",
    "some.append(x)\n",
    "some\n"
   ]
  },
  {
   "cell_type": "code",
   "execution_count": 52,
   "metadata": {},
   "outputs": [
    {
     "name": "stdout",
     "output_type": "stream",
     "text": [
      "['apple', 'banana', 'cherry', 1, 4, 5, 9, [1, 4, 3], 's', 'a', 'm', 'a', 'r', 't', 'h', 11, 22, 33, 'A']\n",
      "['apple', 'banana', 'cherry', 1, 4, 5, 9, [1, 3, 4], 's', 'a', 'm', 'a', 'r', 't', 'h', 11, 22, 33, 'A']\n"
     ]
    }
   ],
   "source": [
    "fruits = ['apple', 'banana', 'cherry']\n",
    "a = (1, 4, 5, 9)\n",
    "b = [[1,4,3]]\n",
    "c = 'samarth'\n",
    "d =  [11,22,33]\n",
    "e = 'A'\n",
    "\n",
    "fruits.extend(a)\n",
    "fruits.extend(b)\n",
    "fruits.extend(c)\n",
    "fruits.extend(d)\n",
    "fruits.extend(e)\n",
    "\n",
    "print(fruits)\n",
    "x=fruits[7].sort()\n",
    "print(fruits)"
   ]
  },
  {
   "cell_type": "code",
   "execution_count": 55,
   "metadata": {},
   "outputs": [
    {
     "name": "stdout",
     "output_type": "stream",
     "text": [
      "['mango', 'apple', 'vanila', 'orange', 'banana', 'lichye', 'melon', 'cherry']\n",
      "None\n"
     ]
    }
   ],
   "source": [
    "fruits = ['apple', 'banana', 'cherry']\n",
    "\n",
    "fruits.insert(1, \"orange\")\n",
    "fruits.insert(0, \"mango\")\n",
    "fruits.insert(-1, \"melon\")\n",
    "fruits.insert(-4, \"vanila\")\n",
    "fruits.insert(5, \"lichye\")\n",
    "\n",
    "\n",
    "print(fruits)\n"
   ]
  },
  {
   "cell_type": "code",
   "execution_count": 20,
   "metadata": {},
   "outputs": [
    {
     "data": {
      "text/plain": [
       "['mango', 'vanila', 'orange', 'lichye', 'cherry']"
      ]
     },
     "execution_count": 20,
     "metadata": {},
     "output_type": "execute_result"
    }
   ],
   "source": [
    "fruits.remove('apple')\n",
    "fruits.remove('banana')\n",
    "fruits.remove('melon')\n",
    "\n",
    "fruits\n",
    "\n",
    "\n",
    "\n"
   ]
  },
  {
   "cell_type": "code",
   "execution_count": 21,
   "metadata": {},
   "outputs": [
    {
     "ename": "ValueError",
     "evalue": "list.remove(x): x not in list",
     "output_type": "error",
     "traceback": [
      "\u001b[1;31m---------------------------------------------------------------------------\u001b[0m",
      "\u001b[1;31mValueError\u001b[0m                                Traceback (most recent call last)",
      "Cell \u001b[1;32mIn[21], line 1\u001b[0m\n\u001b[1;32m----> 1\u001b[0m fruits\u001b[39m.\u001b[39;49mremove(\u001b[39m'\u001b[39;49m\u001b[39mapple\u001b[39;49m\u001b[39m'\u001b[39;49m)\n",
      "\u001b[1;31mValueError\u001b[0m: list.remove(x): x not in list"
     ]
    }
   ],
   "source": [
    "fruits.remove('apple')"
   ]
  },
  {
   "cell_type": "code",
   "execution_count": 22,
   "metadata": {},
   "outputs": [
    {
     "name": "stdout",
     "output_type": "stream",
     "text": [
      "['mango', 'vanila', 'orange', 'lichye']\n"
     ]
    },
    {
     "data": {
      "text/plain": [
       "'orange'"
      ]
     },
     "execution_count": 22,
     "metadata": {},
     "output_type": "execute_result"
    }
   ],
   "source": [
    "fruits.pop()\n",
    "print(fruits)\n",
    "fruits.pop(2)"
   ]
  },
  {
   "cell_type": "code",
   "execution_count": 26,
   "metadata": {},
   "outputs": [
    {
     "data": {
      "text/plain": [
       "[]"
      ]
     },
     "execution_count": 26,
     "metadata": {},
     "output_type": "execute_result"
    }
   ],
   "source": [
    "fruits.clear()\n",
    "fruits"
   ]
  },
  {
   "cell_type": "code",
   "execution_count": 28,
   "metadata": {},
   "outputs": [
    {
     "name": "stdout",
     "output_type": "stream",
     "text": [
      "5\n",
      "2\n",
      "1\n",
      "2\n"
     ]
    }
   ],
   "source": [
    "some = [1,1,1,4,5,2,3,1,1,44,4,2,00,0]\n",
    "print(some.count(1))\n",
    "print(some.count(4))\n",
    "print(some.count(5))\n",
    "print(some.count(0))\n"
   ]
  },
  {
   "cell_type": "code",
   "execution_count": 41,
   "metadata": {},
   "outputs": [
    {
     "name": "stdout",
     "output_type": "stream",
     "text": [
      "[1, 1, 1, 4, 5, 2, 3, 1, 1, 44, 4, 2, 0, 0]\n",
      "i am  None\n"
     ]
    }
   ],
   "source": [
    "x = some.reverse()\n",
    "print(some)\n",
    "print('i am ', x)"
   ]
  },
  {
   "cell_type": "code",
   "execution_count": 42,
   "metadata": {},
   "outputs": [
    {
     "name": "stdout",
     "output_type": "stream",
     "text": [
      "None\n",
      "[1, 1, 1, 4, 5, 2, 3, 1, 1, 44, 4, 2, 0, 0]\n"
     ]
    }
   ],
   "source": [
    "print(x)\n",
    "x = some.copy()\n",
    "print(x)"
   ]
  },
  {
   "cell_type": "code",
   "execution_count": 57,
   "metadata": {},
   "outputs": [
    {
     "name": "stdout",
     "output_type": "stream",
     "text": [
      "['a', 'a', 'h', 'm', 'r', 's', 't']\n"
     ]
    }
   ],
   "source": [
    "a = ['s','a','m','a','r','t','h']\n",
    "a.sort()\n",
    "print(a)"
   ]
  },
  {
   "cell_type": "code",
   "execution_count": null,
   "metadata": {},
   "outputs": [],
   "source": []
  }
 ],
 "metadata": {
  "kernelspec": {
   "display_name": "Python 3.10.5 64-bit",
   "language": "python",
   "name": "python3"
  },
  "language_info": {
   "codemirror_mode": {
    "name": "ipython",
    "version": 3
   },
   "file_extension": ".py",
   "mimetype": "text/x-python",
   "name": "python",
   "nbconvert_exporter": "python",
   "pygments_lexer": "ipython3",
   "version": "3.11.4"
  },
  "orig_nbformat": 4,
  "vscode": {
   "interpreter": {
    "hash": "26de051ba29f2982a8de78e945f0abaf191376122a1563185a90213a26c5da77"
   }
  }
 },
 "nbformat": 4,
 "nbformat_minor": 2
}
