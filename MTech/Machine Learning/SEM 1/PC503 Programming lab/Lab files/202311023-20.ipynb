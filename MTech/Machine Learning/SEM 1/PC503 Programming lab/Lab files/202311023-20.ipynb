{
 "cells": [
  {
   "cell_type": "code",
   "execution_count": 1,
   "metadata": {},
   "outputs": [],
   "source": [
    "##Programming lab-20\n",
    "##202311023 04/10/2023 "
   ]
  },
  {
   "cell_type": "code",
   "execution_count": 37,
   "metadata": {},
   "outputs": [],
   "source": [
    "class Car :\n",
    "    def __init__(self,brand,model,color,speed):\n",
    "        self.brand = brand\n",
    "        self.color = color\n",
    "        self.model = model\n",
    "        self.speed = speed\n",
    "        self.odo = 0\n",
    "\n",
    "    def topspeed (self):\n",
    "        print(f'The top speed of {self.brand} {self.model} is {self.speed} kmph.')\n",
    "\n",
    "    def col(self):\n",
    "        print(f'The color of {self.brand} {self.model} is {self.color}.')\n",
    "\n",
    "    def odo_reas(self):\n",
    "        print(f'This {self.brand} {self.model} has {self.odo} km on it.')\n",
    "\n",
    "    def upadte_odo(self,read):\n",
    "        self.odo = read\n",
    "\n",
    "    def upadate_odo(self,read):\n",
    "        if (read > self.odo):\n",
    "            self.odo = read\n",
    "        else:\n",
    "            print(\"You can't roll back \")\n",
    "\n",
    "    def inc_odo(self,read):\n",
    "        self.odo += read\n"
   ]
  },
  {
   "cell_type": "code",
   "execution_count": 21,
   "metadata": {},
   "outputs": [
    {
     "name": "stdout",
     "output_type": "stream",
     "text": [
      "The top speed of audi rs6 is 340 kmph.\n",
      "The color of audi rs6 is black.\n",
      "This audi rs6 has 0 km on it.\n"
     ]
    }
   ],
   "source": [
    "Audi = Car(\"audi\",\"rs6\",\"black\",340)\n",
    "Audi.topspeed()\n",
    "Audi.col()\n",
    "Audi.odo_reas()"
   ]
  },
  {
   "cell_type": "code",
   "execution_count": 23,
   "metadata": {},
   "outputs": [
    {
     "name": "stdout",
     "output_type": "stream",
     "text": [
      "The top speed of Porsche GT3 RS is 350 kmph.\n",
      "The color of Porsche GT3 RS is red.\n",
      "This Porsche GT3 RS has 340 km on it.\n"
     ]
    }
   ],
   "source": [
    "porsche = Car(\"Porsche\",\"GT3 RS\",\"red\",350)\n",
    "porsche.topspeed()\n",
    "porsche.col()\n",
    "porsche.odo = 340\n",
    "porsche.odo_reas()"
   ]
  },
  {
   "cell_type": "code",
   "execution_count": 26,
   "metadata": {},
   "outputs": [
    {
     "name": "stdout",
     "output_type": "stream",
     "text": [
      "The top speed of Lexus LFA is 350 kmph.\n",
      "The color of Lexus LFA is Red.\n",
      "This Lexus LFA has 200 km on it.\n"
     ]
    }
   ],
   "source": [
    "lexus = Car(\"Lexus\",\"LFA\",\"Red\",350)\n",
    "lexus.topspeed()\n",
    "lexus.col()\n",
    "lexus.upadte_odo(200)\n",
    "lexus.odo_reas()"
   ]
  },
  {
   "cell_type": "code",
   "execution_count": 34,
   "metadata": {},
   "outputs": [
    {
     "name": "stdout",
     "output_type": "stream",
     "text": [
      "The top speed of Volvo S90 is 280 kmph.\n",
      "The color of Volvo S90 is Mettalic Grey.\n",
      "This Volvo S90 has 20 km on it.\n",
      "You can't roll back \n",
      "This Volvo S90 has 60 km on it.\n"
     ]
    }
   ],
   "source": [
    "Volvo = Car(\"Volvo\",\"S90\",\"Mettalic Grey\",280)\n",
    "Volvo.topspeed()\n",
    "Volvo.col()\n",
    "Volvo.upadate_odo(20)\n",
    "Volvo.odo_reas()\n",
    "Volvo.upadate_odo(10)\n",
    "Volvo.upadate_odo(60)\n",
    "Volvo.odo_reas()"
   ]
  },
  {
   "cell_type": "code",
   "execution_count": 39,
   "metadata": {},
   "outputs": [
    {
     "name": "stdout",
     "output_type": "stream",
     "text": [
      "The top speed of Porsche 918 Spyder is 350 kmph.\n",
      "The color of Porsche 918 Spyder is Silver.\n",
      "This Porsche 918 Spyder has 0 km on it.\n",
      "This Porsche 918 Spyder has 100 km on it.\n"
     ]
    }
   ],
   "source": [
    "Porsche = Car(\"Porsche\",\"918 Spyder\",\"Silver\",350)\n",
    "Porsche.topspeed()\n",
    "Porsche.col()\n",
    "Porsche.odo_reas()\n",
    "Porsche.inc_odo(100)\n",
    "Porsche.odo_reas()\n"
   ]
  },
  {
   "cell_type": "code",
   "execution_count": 46,
   "metadata": {},
   "outputs": [
    {
     "name": "stdout",
     "output_type": "stream",
     "text": [
      "The top speed of telsa S plaid is 320 kmph.\n",
      "The color of telsa S plaid is red.\n",
      "This telsa S plaid has 0 km on it.\n",
      "This telsa S plaid has 100 km on it.\n",
      "The Battery capacity is 400 kWh.\n"
     ]
    }
   ],
   "source": [
    "class Electric_car(Car):\n",
    "    def __init__(self, brand, model, color, speed):\n",
    "        super().__init__(brand, model, color, speed)\n",
    "    def batter_cap(self,size):\n",
    "        self.size = size\n",
    "        print(f'The Battery capacity is {self.size} kWh.')\n",
    "\n",
    "\n",
    "tesla = Electric_car('telsa','S plaid', 'red', 320)\n",
    "tesla.topspeed()\n",
    "tesla.col()\n",
    "tesla.odo_reas()\n",
    "tesla.inc_odo(100)\n",
    "tesla.odo_reas()\n",
    "tesla.batter_cap(400)"
   ]
  },
  {
   "cell_type": "code",
   "execution_count": null,
   "metadata": {},
   "outputs": [],
   "source": []
  }
 ],
 "metadata": {
  "kernelspec": {
   "display_name": "Python 3.10.5 64-bit",
   "language": "python",
   "name": "python3"
  },
  "language_info": {
   "codemirror_mode": {
    "name": "ipython",
    "version": 3
   },
   "file_extension": ".py",
   "mimetype": "text/x-python",
   "name": "python",
   "nbconvert_exporter": "python",
   "pygments_lexer": "ipython3",
   "version": "3.10.5"
  },
  "orig_nbformat": 4,
  "vscode": {
   "interpreter": {
    "hash": "26de051ba29f2982a8de78e945f0abaf191376122a1563185a90213a26c5da77"
   }
  }
 },
 "nbformat": 4,
 "nbformat_minor": 2
}
