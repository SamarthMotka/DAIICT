{
 "cells": [
  {
   "cell_type": "markdown",
   "metadata": {},
   "source": [
    " AUGUST -3 LEC-4 Programming Lab\n",
    " 202311023\n"
   ]
  },
  {
   "cell_type": "code",
   "execution_count": 4,
   "metadata": {},
   "outputs": [
    {
     "name": "stdout",
     "output_type": "stream",
     "text": [
      "ocurrence of  ch is  10\n"
     ]
    }
   ],
   "source": [
    "# str.count()\n",
    "\n",
    "output = 'chandu ke chahcha ne chandu ki chachi ko chandani rat me chat ki chatni chatayi'\n",
    "substring = 'ch'\n",
    "print(\"ocurrence of  ch is \", output.count(substring))"
   ]
  },
  {
   "cell_type": "code",
   "execution_count": 8,
   "metadata": {},
   "outputs": [
    {
     "name": "stdout",
     "output_type": "stream",
     "text": [
      "        01      012     0123    01234\n",
      "    01  012 0123    01234\n"
     ]
    }
   ],
   "source": [
    "#str.expandtabs()\n",
    "\n",
    "x = '\\t01\\t012\\t0123\\t01234'.expandtabs()\n",
    "print(x)\n",
    "y = '\\t01\\t012\\t0123\\t01234'.expandtabs(4)\n",
    "print(y)"
   ]
  },
  {
   "cell_type": "code",
   "execution_count": 22,
   "metadata": {},
   "outputs": [
    {
     "name": "stdout",
     "output_type": "stream",
     "text": [
      "ocurrence of  ch is  0\n",
      "True\n"
     ]
    }
   ],
   "source": [
    "#str.find()\n",
    "\n",
    "output = 'chandu ke chahcha ne chandu ki chachi ko chandani rat me chat ki chatni chatayi'\n",
    "substring = 'ch'\n",
    "print(\"ocurrence of  ch is \", output.find(substring,)) \n",
    "print('py' in 'python')"
   ]
  },
  {
   "cell_type": "code",
   "execution_count": 14,
   "metadata": {},
   "outputs": [
    {
     "name": "stdout",
     "output_type": "stream",
     "text": [
      "the sum of 1+2 is 3 and 2+3 is 5\n"
     ]
    }
   ],
   "source": [
    "# str.format()\n",
    "\n",
    "print(\"the sum of 1+2 is {0} and 2+3 is {1}\".format(1+2,2+3))"
   ]
  },
  {
   "cell_type": "code",
   "execution_count": 20,
   "metadata": {},
   "outputs": [
    {
     "name": "stdout",
     "output_type": "stream",
     "text": [
      "ocurrence of  ch is  0\n",
      "ocurrence of  ch is  -1\n"
     ]
    },
    {
     "ename": "ValueError",
     "evalue": "substring not found",
     "output_type": "error",
     "traceback": [
      "\u001b[1;31m---------------------------------------------------------------------------\u001b[0m",
      "\u001b[1;31mValueError\u001b[0m                                Traceback (most recent call last)",
      "Cell \u001b[1;32mIn[20], line 6\u001b[0m\n\u001b[0;32m      4\u001b[0m \u001b[38;5;28mprint\u001b[39m(\u001b[38;5;124m\"\u001b[39m\u001b[38;5;124mocurrence of  ch is \u001b[39m\u001b[38;5;124m\"\u001b[39m, output\u001b[38;5;241m.\u001b[39mindex(substring))\n\u001b[0;32m      5\u001b[0m \u001b[38;5;28mprint\u001b[39m(\u001b[38;5;124m\"\u001b[39m\u001b[38;5;124mocurrence of  ch is \u001b[39m\u001b[38;5;124m\"\u001b[39m, output\u001b[38;5;241m.\u001b[39mfind(sub))\n\u001b[1;32m----> 6\u001b[0m \u001b[38;5;28mprint\u001b[39m(\u001b[38;5;124m\"\u001b[39m\u001b[38;5;124mocurrence of  ac is \u001b[39m\u001b[38;5;124m\"\u001b[39m, \u001b[43moutput\u001b[49m\u001b[38;5;241;43m.\u001b[39;49m\u001b[43mindex\u001b[49m\u001b[43m(\u001b[49m\u001b[43msub\u001b[49m\u001b[43m)\u001b[49m)\n",
      "\u001b[1;31mValueError\u001b[0m: substring not found"
     ]
    }
   ],
   "source": [
    "#str.index()\n",
    "\n",
    "output = 'chandu ke chahcha ne chandu ki chachi ko chandani rat me chat ki chatni chatayi'\n",
    "substring = 'ch'\n",
    "sub = 'mm'\n",
    "print(\"ocurrence of  ch is \", output.index(substring))\n",
    "print(\"ocurrence of  ch is \", output.find(sub))\n",
    "print(\"ocurrence of  ac is \", output.index(sub))\n"
   ]
  },
  {
   "cell_type": "code",
   "execution_count": 26,
   "metadata": {},
   "outputs": [
    {
     "name": "stdout",
     "output_type": "stream",
     "text": [
      "True\n",
      "False\n",
      "True\n"
     ]
    },
    {
     "ename": "AttributeError",
     "evalue": "'int' object has no attribute 'isalnum'",
     "output_type": "error",
     "traceback": [
      "\u001b[1;31m---------------------------------------------------------------------------\u001b[0m",
      "\u001b[1;31mAttributeError\u001b[0m                            Traceback (most recent call last)",
      "Cell \u001b[1;32mIn[26], line 8\u001b[0m\n\u001b[0;32m      6\u001b[0m \u001b[38;5;28mprint\u001b[39m(str2\u001b[38;5;241m.\u001b[39misalnum())\n\u001b[0;32m      7\u001b[0m \u001b[38;5;28mprint\u001b[39m(str3\u001b[38;5;241m.\u001b[39misalnum())\n\u001b[1;32m----> 8\u001b[0m \u001b[38;5;28mprint\u001b[39m(\u001b[43mstr4\u001b[49m\u001b[38;5;241;43m.\u001b[39;49m\u001b[43misalnum\u001b[49m())\n",
      "\u001b[1;31mAttributeError\u001b[0m: 'int' object has no attribute 'isalnum'"
     ]
    }
   ],
   "source": [
    "# str.isalnum()\n",
    "\n",
    "str1 = 'H2'\n",
    "str2 = ''\n",
    "str3 = 'H'\n",
    "str4 = 21\n",
    "print(str1.isalnum())\n",
    "print(str2.isalnum())\n",
    "print(str3.isalnum())\n",
    "print(str4.isalnum())"
   ]
  },
  {
   "cell_type": "code",
   "execution_count": 1,
   "metadata": {},
   "outputs": [
    {
     "name": "stdout",
     "output_type": "stream",
     "text": [
      "True\n"
     ]
    }
   ],
   "source": [
    "# str.isdigit()\n",
    "\n",
    "str1 = '3318'\n",
    "print(str1.isdigit())"
   ]
  },
  {
   "cell_type": "code",
   "execution_count": 3,
   "metadata": {},
   "outputs": [
    {
     "name": "stdout",
     "output_type": "stream",
     "text": [
      "True\n",
      "False\n"
     ]
    }
   ],
   "source": [
    "#str.isalpha()\n",
    "#str.isascii()\n",
    "\n",
    "str1 = ' A'\n",
    "print(str1.isascii())\n",
    "print(str1.isalpha())"
   ]
  },
  {
   "cell_type": "code",
   "execution_count": 4,
   "metadata": {},
   "outputs": [
    {
     "name": "stdout",
     "output_type": "stream",
     "text": [
      "False True True\n",
      "False True False\n",
      "True False False\n"
     ]
    }
   ],
   "source": [
    "# title(), isupper(), islower()\n",
    "\n",
    "str1 = 'Samarth Motka'\n",
    "str2 = 'SAMARTH'\n",
    "str3 = 'smarth'\n",
    "\n",
    "print(str1.islower(),str2.isupper(),str1.istitle())\n",
    "print(str2.islower(),str2.isupper(),str2.istitle())\n",
    "print(str3.islower(),str3.isupper(),str3.istitle())"
   ]
  },
  {
   "cell_type": "code",
   "execution_count": 32,
   "metadata": {},
   "outputs": [
    {
     "name": "stdout",
     "output_type": "stream",
     "text": [
      "True False\n",
      "True True\n"
     ]
    }
   ],
   "source": [
    "# str.isidentifier()\n",
    "\n",
    "from keyword import  iskeyword\n",
    "print('hello'.isidentifier(),iskeyword('hello'))\n",
    "print('def'.isidentifier(),iskeyword('def'))"
   ]
  },
  {
   "cell_type": "code",
   "execution_count": 11,
   "metadata": {},
   "outputs": [
    {
     "name": "stdout",
     "output_type": "stream",
     "text": [
      "True False\n",
      "True False\n"
     ]
    },
    {
     "ename": "TypeError",
     "evalue": "can only join an iterable",
     "output_type": "error",
     "traceback": [
      "\u001b[1;31m---------------------------------------------------------------------------\u001b[0m",
      "\u001b[1;31mTypeError\u001b[0m                                 Traceback (most recent call last)",
      "Cell \u001b[1;32mIn[11], line 8\u001b[0m\n\u001b[0;32m      6\u001b[0m \u001b[39mprint\u001b[39m(str1\u001b[39m.\u001b[39misnumeric(), str2\u001b[39m.\u001b[39misnumeric())\n\u001b[0;32m      7\u001b[0m \u001b[39mprint\u001b[39m(str3\u001b[39m.\u001b[39misspace(), str2\u001b[39m.\u001b[39misspace())\n\u001b[1;32m----> 8\u001b[0m \u001b[39mprint\u001b[39m(str1\u001b[39m.\u001b[39mjoin(str2), str2\u001b[39m.\u001b[39mjoin(\u001b[39m'\u001b[39m\u001b[39mabba\u001b[39m\u001b[39m'\u001b[39m), str2\u001b[39m.\u001b[39;49mjoin(\u001b[39m33\u001b[39;49m))\n",
      "\u001b[1;31mTypeError\u001b[0m: can only join an iterable"
     ]
    }
   ],
   "source": [
    "# .isnumeric(), .isspace(), .join()\n",
    "\n",
    "str1 = '3318'\n",
    "str2 = '32d  '\n",
    "str3 = '  '\n",
    "print(str1.isnumeric(), str2.isnumeric())\n",
    "print(str3.isspace(), str2.isspace())\n",
    "print(str1.join(str2), str2.join('abba'), str2.join(33))"
   ]
  },
  {
   "cell_type": "code",
   "execution_count": 32,
   "metadata": {},
   "outputs": [
    {
     "name": "stdout",
     "output_type": "stream",
     "text": [
      "samarth Motka                           hello \n",
      "            asdfg      samarth Motka         hello\n",
      "                           samarth Motkahello \n",
      "            asdfg      samarth Motka         hello\n",
      "samarth Motka \n",
      " asdfg      samarth Motka         \n",
      "samarth Motka \n",
      "            asdfg      samarth Motka hello\n"
     ]
    }
   ],
   "source": [
    "# .ljust() .rjust() .lstrip() .rstrip()\n",
    "\n",
    "str1 = \"samarth Motka\"\n",
    "str2 = \"           asdfg      samarth Motka         \"\n",
    "print(str1.ljust(40)+\"hello\" ,\"\\n\", str2.ljust(40) + \"hello\")\n",
    "\n",
    "print(str1.rjust(40)+\"hello\" ,\"\\n\", str2.rjust(40) + \"hello\")\n",
    "\n",
    "print(str1.lstrip(),\"\\n\", str2.lstrip())\n",
    "\n",
    "print(str1.rstrip(),\"\\n\", str2.rstrip() +' hello')"
   ]
  },
  {
   "cell_type": "code",
   "execution_count": 28,
   "metadata": {},
   "outputs": [
    {
     "name": "stdout",
     "output_type": "stream",
     "text": [
      "someone somewhere\n",
      "8 \n",
      " -1\n"
     ]
    },
    {
     "ename": "ValueError",
     "evalue": "substring not found",
     "output_type": "error",
     "traceback": [
      "\u001b[1;31m---------------------------------------------------------------------------\u001b[0m",
      "\u001b[1;31mValueError\u001b[0m                                Traceback (most recent call last)",
      "Cell \u001b[1;32mIn[28], line 8\u001b[0m\n\u001b[0;32m      6\u001b[0m \u001b[39mprint\u001b[39m(str1\u001b[39m.\u001b[39mreplace(\u001b[39m'\u001b[39m\u001b[39msometime\u001b[39m\u001b[39m'\u001b[39m,\u001b[39m'\u001b[39m\u001b[39msomewhere\u001b[39m\u001b[39m'\u001b[39m))\n\u001b[0;32m      7\u001b[0m \u001b[39mprint\u001b[39m(str1\u001b[39m.\u001b[39mrfind(\u001b[39m'\u001b[39m\u001b[39msome\u001b[39m\u001b[39m'\u001b[39m),\u001b[39m'\u001b[39m\u001b[39m\\n\u001b[39;00m\u001b[39m'\u001b[39m,str2\u001b[39m.\u001b[39mrfind(\u001b[39m'\u001b[39m\u001b[39msoome\u001b[39m\u001b[39m'\u001b[39m))\n\u001b[1;32m----> 8\u001b[0m \u001b[39mprint\u001b[39m(str1\u001b[39m.\u001b[39;49mrindex(\u001b[39m'\u001b[39;49m\u001b[39msomee\u001b[39;49m\u001b[39m'\u001b[39;49m))\n",
      "\u001b[1;31mValueError\u001b[0m: substring not found"
     ]
    }
   ],
   "source": [
    "# .replace() .rfind() .rindex() \n",
    "str1 = 'someone sometime'\n",
    "str2 = \"somewhere\"\n",
    "\n",
    "\n",
    "print(str1.replace('sometime','somewhere'))\n",
    "print(str1.rfind('some'),'\\n',str2.rfind('soome'))\n",
    "print(str1.rindex('somee'))"
   ]
  },
  {
   "cell_type": "code",
   "execution_count": 39,
   "metadata": {},
   "outputs": [
    {
     "name": "stdout",
     "output_type": "stream",
     "text": [
      "('I could eat bananas all day, ', 'bananas', ' are my favorite fruit')\n",
      "('I could eat bananas ', 'all', ' day, bananas are my favorite fruit')\n",
      "['apple', 'banana', 'cherry']\n",
      "['some', 'banana', 'is', 'small']\n"
     ]
    }
   ],
   "source": [
    "# .rpartition() .rsplit()\n",
    "\n",
    "txt = \"I could eat bananas all day, bananas are my favorite fruit\"\n",
    "\n",
    "x = txt.rpartition(\"bananas\")\n",
    "\n",
    "print(x)\n",
    "\n",
    "txt = \"I could eat bananas all day, bananas are my favorite fruit\"\n",
    "\n",
    "x = txt.rpartition(\"all\")\n",
    "\n",
    "print(x)\n",
    "\n",
    "txt = \"apple, banana, cherry\"\n",
    "\n",
    "x = txt.rsplit(\", \")\n",
    "\n",
    "print(x)\n",
    "\n",
    "txt = \"some banana is small\"\n",
    "\n",
    "x = txt.rsplit(\" \")\n",
    "\n",
    "print(x)\n",
    "\n",
    "\n"
   ]
  },
  {
   "cell_type": "code",
   "execution_count": 53,
   "metadata": {},
   "outputs": [
    {
     "name": "stdout",
     "output_type": "stream",
     "text": [
      "marth amarthsa\n",
      "helLO mynaME IS sMAArth motKA sUPERman vs baTEMAN\n"
     ]
    }
   ],
   "source": [
    "# .strip() .swapcase()\n",
    "x = 'samarthsa'\n",
    "y = x.strip(\".sa\")\n",
    "z = x.strip(\"s\")\n",
    "print(y,z)\n",
    "\n",
    "str1 = \"HELlo MYNAme is SmaaRTH MOTka\"\n",
    "st2 = 'SuperMAN VS BAteman'\n",
    "print(str1.swapcase(), st2.swapcase())\n"
   ]
  },
  {
   "cell_type": "code",
   "execution_count": null,
   "metadata": {},
   "outputs": [],
   "source": []
  }
 ],
 "metadata": {
  "kernelspec": {
   "display_name": "Python 3.10.5 64-bit",
   "language": "python",
   "name": "python3"
  },
  "language_info": {
   "codemirror_mode": {
    "name": "ipython",
    "version": 3
   },
   "file_extension": ".py",
   "mimetype": "text/x-python",
   "name": "python",
   "nbconvert_exporter": "python",
   "pygments_lexer": "ipython3",
   "version": "3.11.4"
  },
  "orig_nbformat": 4,
  "vscode": {
   "interpreter": {
    "hash": "26de051ba29f2982a8de78e945f0abaf191376122a1563185a90213a26c5da77"
   }
  }
 },
 "nbformat": 4,
 "nbformat_minor": 2
}
