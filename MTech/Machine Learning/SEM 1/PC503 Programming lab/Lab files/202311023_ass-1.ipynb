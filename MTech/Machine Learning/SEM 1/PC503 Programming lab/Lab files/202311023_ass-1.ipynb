{
 "cells": [
  {
   "cell_type": "markdown",
   "metadata": {},
   "source": [
    "## Name:Samarth Motka\n",
    "## 202311023\n",
    "## Programming Lab Assignment-1"
   ]
  },
  {
   "cell_type": "markdown",
   "metadata": {},
   "source": [
    "## 1.Write a Python program from scratch to generate all permutations of a list in Python(without itertools)."
   ]
  },
  {
   "cell_type": "code",
   "execution_count": 37,
   "metadata": {},
   "outputs": [
    {
     "name": "stdout",
     "output_type": "stream",
     "text": [
      "[(1, 2, 3), (1, 3, 2), (2, 1, 3), (2, 3, 1), (3, 1, 2), (3, 2, 1)]\n"
     ]
    }
   ],
   "source": [
    "x = [1,2,3]\n",
    "ans = []\n",
    "for i in x:\n",
    "    for j in x:\n",
    "        for k in x:\n",
    "            if(i==j)or (j==k) or(k==i):\n",
    "                pass\n",
    "            else:\n",
    "                ans.append((i,j,k))\n",
    "print(ans)"
   ]
  },
  {
   "cell_type": "markdown",
   "metadata": {},
   "source": [
    "## 2.Write a function that gives number of days of given year."
   ]
  },
  {
   "cell_type": "code",
   "execution_count": 38,
   "metadata": {},
   "outputs": [
    {
     "name": "stdout",
     "output_type": "stream",
     "text": [
      "365\n",
      "366\n"
     ]
    }
   ],
   "source": [
    "def ifLeap(year):\n",
    "    if(year % 400 == 0 ) and (year % 100 == 0):\n",
    "        return 366\n",
    "    elif (year % 4 == 0) and (year % 100 != 0):\n",
    "        return 366\n",
    "    else :\n",
    "        return 365\n",
    "    \n",
    "print(ifLeap(1990))\n",
    "print(ifLeap(2044))\n",
    "    "
   ]
  },
  {
   "cell_type": "markdown",
   "metadata": {},
   "source": [
    "## 3.Print the name(s) of any car(s) having the second expensive car in. If there are multiple cars, order their names alphabetically and print each one on a new line."
   ]
  },
  {
   "cell_type": "code",
   "execution_count": 39,
   "metadata": {},
   "outputs": [
    {
     "name": "stdout",
     "output_type": "stream",
     "text": [
      "JAGUAR\n",
      "MERCEDES\n"
     ]
    }
   ],
   "source": [
    "cars = [['BMW',5000000],\n",
    "['TOYOTA', 1000000],\n",
    "['NISSAN',1500000],\n",
    "['JAGUAR',8000000],\n",
    "['MERCEDES',8000000],\n",
    "['FERRARI',15000000]]\n",
    "\n",
    "\n",
    "\n",
    "sorted_cars = sorted(cars, key=lambda x: x[1], reverse=True)\n",
    "second_price = sorted_cars[1][1]\n",
    "second_cars = [car[0] for car in sorted_cars if car[1] == second_price]\n",
    "\n",
    "second_cars.sort()\n",
    "for car_name in second_cars:\n",
    "    print(car_name)\n"
   ]
  },
  {
   "cell_type": "markdown",
   "metadata": {},
   "source": [
    "## 4.Count the frequency of each character in a string and store it in a dictionary."
   ]
  },
  {
   "cell_type": "code",
   "execution_count": 40,
   "metadata": {},
   "outputs": [
    {
     "name": "stdout",
     "output_type": "stream",
     "text": [
      "{'a': 3, 'b': 2, 'c': 2, 'd': 3}\n"
     ]
    }
   ],
   "source": [
    "a = 'adcbbdaacd'\n",
    "count ={}\n",
    "unique= set(a)\n",
    "for i in unique:\n",
    "    x = a.count(i)\n",
    "    count[i]=x\n",
    "\n",
    "x=list(count.keys())\n",
    "x.sort()\n",
    "sorted_count = {i:count[i] for i in x}\n",
    "print(sorted_count)\n"
   ]
  },
  {
   "cell_type": "markdown",
   "metadata": {},
   "source": [
    "## 5.Output the space separated tuples of the cartesian product(without built-in function)."
   ]
  },
  {
   "cell_type": "code",
   "execution_count": 41,
   "metadata": {},
   "outputs": [
    {
     "data": {
      "text/plain": [
       "[(1, 3), (1, 4), (2, 3), (2, 4)]"
      ]
     },
     "execution_count": 41,
     "metadata": {},
     "output_type": "execute_result"
    }
   ],
   "source": [
    "def cartesian(A,B):\n",
    "   \n",
    "        return [(i,j) for i in A for j in B ]\n",
    "\n",
    "cartesian([1,2],[3,4])"
   ]
  },
  {
   "cell_type": "markdown",
   "metadata": {},
   "source": [
    "## 6.Write a Program which remove all the element with having count 2"
   ]
  },
  {
   "cell_type": "code",
   "execution_count": 42,
   "metadata": {},
   "outputs": [
    {
     "name": "stdout",
     "output_type": "stream",
     "text": [
      "{1: 1, 2: 1, 3: 1, 4: 2, 5: 3, 6: 2, 7: 1, 8: 4}\n"
     ]
    },
    {
     "data": {
      "text/plain": [
       "[1, 2, 3, 5, 5, 5, 7, 8, 8, 8, 8]"
      ]
     },
     "execution_count": 42,
     "metadata": {},
     "output_type": "execute_result"
    }
   ],
   "source": [
    "a = [1,2,3,4,4,5,5,5,6,7,6,8,8,8,8]\n",
    "count ={}\n",
    "unique= set(a)\n",
    "for i in unique:\n",
    "    x = a.count(i)\n",
    "    count[i]=x\n",
    "\n",
    "print(count)\n",
    "for x,y in count.items():\n",
    "    if y == 2:\n",
    "        [a.remove(x) for i in range(2) ]\n",
    "a\n",
    "\n"
   ]
  },
  {
   "cell_type": "markdown",
   "metadata": {},
   "source": [
    "## 7.Write a program to find N largest and N smallest elements from a list. An example is given below."
   ]
  },
  {
   "cell_type": "code",
   "execution_count": 3,
   "metadata": {},
   "outputs": [
    {
     "name": "stdout",
     "output_type": "stream",
     "text": [
      "Enter value of N 3\n",
      "Smallest :  [4, 10, 13]\n",
      "Largest :  [89, 70, 66]\n"
     ]
    }
   ],
   "source": [
    "arr = [13, 29, 26, 15, 4, 70, 89, 57, 34, 66, 10, 49]\n",
    "arr.sort()\n",
    "arr\n",
    "n=int(input(\"Enter value of N \"))\n",
    "\n",
    "largest=[]\n",
    "smallest=[]\n",
    "\n",
    "for i in range(n):\n",
    "    smallest.append(arr[i])\n",
    "\n",
    "for i in range(len(arr)-1,len(arr)-n-1,-1):\n",
    "    largest.append(arr[i])\n",
    "    \n",
    "\n",
    "print('Smallest : ',smallest)    \n",
    "print('Largest : ',largest)\n",
    "\n",
    "    "
   ]
  },
  {
   "cell_type": "markdown",
   "metadata": {},
   "source": [
    "## 8.Write a program to reverse a stack without using reverse() function. An example is given below."
   ]
  },
  {
   "cell_type": "code",
   "execution_count": 44,
   "metadata": {},
   "outputs": [
    {
     "name": "stdout",
     "output_type": "stream",
     "text": [
      "[2, 7, 3]\n"
     ]
    }
   ],
   "source": [
    "stack =[3,7,2]\n",
    "rev_stack=[]\n",
    "def reverse(stack):\n",
    "    i = len(stack)-1\n",
    "    while(i>-1):\n",
    "        \n",
    "        rev_stack.append(stack[i])\n",
    "        i -=1\n",
    "    return rev_stack\n",
    "\n",
    "print(reverse(stack))\n"
   ]
  },
  {
   "cell_type": "markdown",
   "metadata": {},
   "source": [
    "## 9.Write a function to print N “Perfect” numbers. A perfect number is a positiveinteger that is equal to the sum of its proper positive divisors. I.e. 6 is a perfect number because 1+2+3 = 6"
   ]
  },
  {
   "cell_type": "code",
   "execution_count": 45,
   "metadata": {},
   "outputs": [
    {
     "name": "stdout",
     "output_type": "stream",
     "text": [
      "6\n",
      "28\n",
      "496\n",
      "8128\n"
     ]
    }
   ],
   "source": [
    "\n",
    "def isPerfect( n ):\n",
    "     \n",
    "    sum = 1\n",
    "    i = 2\n",
    "    while i * i <= n:\n",
    "        if n % i == 0:\n",
    "            sum = sum + i + n/i\n",
    "        i += 1\n",
    "     \n",
    "    return (True if sum == n and n!=1 else False)\n",
    " \n",
    "n = 4\n",
    "\n",
    "for n in range (10000):\n",
    "    if isPerfect (n):\n",
    "        print(n)"
   ]
  },
  {
   "cell_type": "markdown",
   "metadata": {},
   "source": [
    "## 10.Write a function to check whether the given password is valid or not. Password is a combination of alphanumeric characters along with special characters. A password is correct if and only if all the following conditions are satisfied:\n",
    "* Length of the password should be a minimum of 10.\n",
    "* The alphabet must be between [a-z].\n",
    "* At least one numeric character [0-9].\n",
    "* At least one alphabet should be of Upper Case [A-Z].\n",
    "* At least 1 special character from [ _ or @ or $ ].\n",
    "* No numeric character and special character should be adjacent."
   ]
  },
  {
   "cell_type": "code",
   "execution_count": 57,
   "metadata": {},
   "outputs": [
    {
     "name": "stdout",
     "output_type": "stream",
     "text": [
      "Valid password!\n",
      "Invalid: Password should not have adjacent numeric or special characters.\n"
     ]
    }
   ],
   "source": [
    "import re\n",
    "\n",
    "\n",
    "def check(password):\n",
    "    if len(password) < 10:\n",
    "        print(\"Invalid: Password length should be at least 10 characters.\")\n",
    "    elif not re.search('[a-z]', password):\n",
    "        print(\"Invalid: Password must contain at least one lowercase letter [a-z].\")\n",
    "    elif not re.search('[A-Z]', password):\n",
    "        print(\"Invalid: Password must contain at least one uppercase letter [A-Z].\")\n",
    "    elif not re.search('[0-9]', password):\n",
    "        print(\"Invalid: Password must contain at least one numeric character [0-9].\")\n",
    "    elif not re.search('[_@$]', password):\n",
    "        print(\"Invalid: Password must contain at least one of the special characters [_@$].\")\n",
    "    else:\n",
    "        validity = False\n",
    "        for i in range(len(password) - 1):\n",
    "            if (password[i].isdigit() and (password[i+1] in '_@$')) or (password[i] in '_@$' and password[i+1].isdigit()):\n",
    "                validity = True\n",
    "                break\n",
    "\n",
    "    if validity:\n",
    "        print(\"Invalid: Password should not have adjacent numeric or special characters.\")\n",
    "    else:\n",
    "        print(\"Valid password!\")\n",
    "\n",
    "\n",
    "\n",
    "password = 'D@aiict123'\n",
    "password1 = 'Daiict_123'\n",
    "\n",
    "check(password)\n",
    "check(password1)"
   ]
  }
 ],
 "metadata": {
  "kernelspec": {
   "display_name": "Python 3 (ipykernel)",
   "language": "python",
   "name": "python3"
  },
  "language_info": {
   "codemirror_mode": {
    "name": "ipython",
    "version": 3
   },
   "file_extension": ".py",
   "mimetype": "text/x-python",
   "name": "python",
   "nbconvert_exporter": "python",
   "pygments_lexer": "ipython3",
   "version": "3.11.3"
  }
 },
 "nbformat": 4,
 "nbformat_minor": 2
}
