{
  "nbformat": 4,
  "nbformat_minor": 0,
  "metadata": {
    "colab": {
      "provenance": []
    },
    "kernelspec": {
      "name": "python3",
      "display_name": "Python 3"
    },
    "language_info": {
      "name": "python"
    }
  },
  "cells": [
    {
      "cell_type": "markdown",
      "source": [
        "## House Rent Prediction"
      ],
      "metadata": {
        "id": "HWSN0ZjuU4wi"
      }
    },
    {
      "cell_type": "markdown",
      "source": [
        "### 1. Setting up the dataset repository"
      ],
      "metadata": {
        "id": "8fGY1Sc0U8a3"
      }
    },
    {
      "cell_type": "markdown",
      "source": [
        "Download the dataset from [kaggle](https://www.kaggle.com/datasets/iamsouravbanerjee/house-rent-prediction-dataset), and save in a data directory."
      ],
      "metadata": {
        "id": "hIcF5TV_VGr3"
      }
    },
    {
      "cell_type": "code",
      "execution_count": null,
      "metadata": {
        "id": "L5YTATe4UIMv"
      },
      "outputs": [],
      "source": [
        "!mkdir data"
      ]
    },
    {
      "cell_type": "code",
      "source": [
        "!unzip data/archive.zip -d data/"
      ],
      "metadata": {
        "colab": {
          "base_uri": "https://localhost:8080/"
        },
        "id": "PjcyweJPUXAS",
        "outputId": "700e52e7-68ed-4615-c09a-e0f82f3900ec"
      },
      "execution_count": null,
      "outputs": [
        {
          "output_type": "stream",
          "name": "stdout",
          "text": [
            "Archive:  data/archive.zip\n",
            "  inflating: data/Dataset Glossary.txt  \n",
            "  inflating: data/House_Rent_Dataset.csv  \n"
          ]
        }
      ]
    },
    {
      "cell_type": "code",
      "source": [
        "!cat data/Dataset\\ Glossary.txt"
      ],
      "metadata": {
        "colab": {
          "base_uri": "https://localhost:8080/"
        },
        "id": "lUQLYN-SU2c1",
        "outputId": "c254aef0-1e31-4ef4-e0d3-e878df9a6de8"
      },
      "execution_count": null,
      "outputs": [
        {
          "output_type": "stream",
          "name": "stdout",
          "text": [
            "BHK: Number of Bedrooms, Hall, Kitchen.\r\n",
            "\r\n",
            "Rent: Price of the Houses/Apartments/Flats.\r\n",
            "\r\n",
            "Size: Size of the Houses/Apartments/Flats in Square Feet.\r\n",
            "\r\n",
            "Floor: Houses/Apartments/Flats situated in which Floor and Total Number of Floors (Example: Ground out of 2, 3 out of 5, etc.)\r\n",
            "\r\n",
            "Area Type: Size of the Houses/Apartments/Flats calculated on either Super Area or Carpet Area or Build Area.\r\n",
            "\r\n",
            "Area Locality: Locality of the Houses/Apartments/Flats.\r\n",
            "\r\n",
            "City: City where the Houses/Apartments/Flats are Located.\r\n",
            "\r\n",
            "Furnishing Status: Furnishing Status of the Houses/Apartments/Flats, either it is Furnished or Semi-Furnished or Unfurnished.\r\n",
            "\r\n",
            "Tenant Preferred: Type of Tenant Preferred by the Owner or Agent.\r\n",
            "\r\n",
            "Bathroom: Number of Bathrooms.\r\n",
            "\r\n",
            "Point of Contact: Whom should you contact for more information regarding the Houses/Apartments/Flats."
          ]
        }
      ]
    },
    {
      "cell_type": "code",
      "source": [
        "!head -2 data/House_Rent_Dataset.csv"
      ],
      "metadata": {
        "colab": {
          "base_uri": "https://localhost:8080/"
        },
        "id": "Hb_2JM7cVXZb",
        "outputId": "a033cd72-0357-44f3-8aa9-a0621d335fda"
      },
      "execution_count": null,
      "outputs": [
        {
          "output_type": "stream",
          "name": "stdout",
          "text": [
            "Posted On,BHK,Rent,Size,Floor,Area Type,Area Locality,City,Furnishing Status,Tenant Preferred,Bathroom,Point of Contact\r\n",
            "2022-05-18,2,10000,1100,Ground out of 2,Super Area,Bandel,Kolkata,Unfurnished,Bachelors/Family,2,Contact Owner\r\n"
          ]
        }
      ]
    },
    {
      "cell_type": "code",
      "source": [],
      "metadata": {
        "id": "GQ0bKBp6WhXq"
      },
      "execution_count": null,
      "outputs": []
    },
    {
      "cell_type": "markdown",
      "source": [
        "## 2. EDA"
      ],
      "metadata": {
        "id": "RL9LyeLmYULy"
      }
    },
    {
      "cell_type": "code",
      "source": [
        "import math\n",
        "import numpy as np\n",
        "import pandas as pd\n",
        "\n",
        "import matplotlib.pyplot as plt\n",
        "import seaborn as sns"
      ],
      "metadata": {
        "id": "IjfPd4fmYY0w"
      },
      "execution_count": null,
      "outputs": []
    },
    {
      "cell_type": "code",
      "source": [
        "df = pd.read_csv('data/House_Rent_Dataset.csv')\n",
        "df.head()"
      ],
      "metadata": {
        "colab": {
          "base_uri": "https://localhost:8080/",
          "height": 206
        },
        "id": "a8mHbGKvYTcs",
        "outputId": "845884df-c9f3-44cf-82f8-52353b72f929"
      },
      "execution_count": null,
      "outputs": [
        {
          "output_type": "execute_result",
          "data": {
            "text/plain": [
              "    Posted On  BHK   Rent  Size            Floor    Area Type  \\\n",
              "0  2022-05-18    2  10000  1100  Ground out of 2   Super Area   \n",
              "1  2022-05-13    2  20000   800       1 out of 3   Super Area   \n",
              "2  2022-05-16    2  17000  1000       1 out of 3   Super Area   \n",
              "3  2022-07-04    2  10000   800       1 out of 2   Super Area   \n",
              "4  2022-05-09    2   7500   850       1 out of 2  Carpet Area   \n",
              "\n",
              "              Area Locality     City Furnishing Status  Tenant Preferred  \\\n",
              "0                    Bandel  Kolkata       Unfurnished  Bachelors/Family   \n",
              "1  Phool Bagan, Kankurgachi  Kolkata    Semi-Furnished  Bachelors/Family   \n",
              "2   Salt Lake City Sector 2  Kolkata    Semi-Furnished  Bachelors/Family   \n",
              "3               Dumdum Park  Kolkata       Unfurnished  Bachelors/Family   \n",
              "4             South Dum Dum  Kolkata       Unfurnished         Bachelors   \n",
              "\n",
              "   Bathroom Point of Contact  \n",
              "0         2    Contact Owner  \n",
              "1         1    Contact Owner  \n",
              "2         1    Contact Owner  \n",
              "3         1    Contact Owner  \n",
              "4         1    Contact Owner  "
            ],
            "text/html": [
              "\n",
              "\n",
              "  <div id=\"df-1e651721-4f47-4ca3-893f-36ee28d218dd\">\n",
              "    <div class=\"colab-df-container\">\n",
              "      <div>\n",
              "<style scoped>\n",
              "    .dataframe tbody tr th:only-of-type {\n",
              "        vertical-align: middle;\n",
              "    }\n",
              "\n",
              "    .dataframe tbody tr th {\n",
              "        vertical-align: top;\n",
              "    }\n",
              "\n",
              "    .dataframe thead th {\n",
              "        text-align: right;\n",
              "    }\n",
              "</style>\n",
              "<table border=\"1\" class=\"dataframe\">\n",
              "  <thead>\n",
              "    <tr style=\"text-align: right;\">\n",
              "      <th></th>\n",
              "      <th>Posted On</th>\n",
              "      <th>BHK</th>\n",
              "      <th>Rent</th>\n",
              "      <th>Size</th>\n",
              "      <th>Floor</th>\n",
              "      <th>Area Type</th>\n",
              "      <th>Area Locality</th>\n",
              "      <th>City</th>\n",
              "      <th>Furnishing Status</th>\n",
              "      <th>Tenant Preferred</th>\n",
              "      <th>Bathroom</th>\n",
              "      <th>Point of Contact</th>\n",
              "    </tr>\n",
              "  </thead>\n",
              "  <tbody>\n",
              "    <tr>\n",
              "      <th>0</th>\n",
              "      <td>2022-05-18</td>\n",
              "      <td>2</td>\n",
              "      <td>10000</td>\n",
              "      <td>1100</td>\n",
              "      <td>Ground out of 2</td>\n",
              "      <td>Super Area</td>\n",
              "      <td>Bandel</td>\n",
              "      <td>Kolkata</td>\n",
              "      <td>Unfurnished</td>\n",
              "      <td>Bachelors/Family</td>\n",
              "      <td>2</td>\n",
              "      <td>Contact Owner</td>\n",
              "    </tr>\n",
              "    <tr>\n",
              "      <th>1</th>\n",
              "      <td>2022-05-13</td>\n",
              "      <td>2</td>\n",
              "      <td>20000</td>\n",
              "      <td>800</td>\n",
              "      <td>1 out of 3</td>\n",
              "      <td>Super Area</td>\n",
              "      <td>Phool Bagan, Kankurgachi</td>\n",
              "      <td>Kolkata</td>\n",
              "      <td>Semi-Furnished</td>\n",
              "      <td>Bachelors/Family</td>\n",
              "      <td>1</td>\n",
              "      <td>Contact Owner</td>\n",
              "    </tr>\n",
              "    <tr>\n",
              "      <th>2</th>\n",
              "      <td>2022-05-16</td>\n",
              "      <td>2</td>\n",
              "      <td>17000</td>\n",
              "      <td>1000</td>\n",
              "      <td>1 out of 3</td>\n",
              "      <td>Super Area</td>\n",
              "      <td>Salt Lake City Sector 2</td>\n",
              "      <td>Kolkata</td>\n",
              "      <td>Semi-Furnished</td>\n",
              "      <td>Bachelors/Family</td>\n",
              "      <td>1</td>\n",
              "      <td>Contact Owner</td>\n",
              "    </tr>\n",
              "    <tr>\n",
              "      <th>3</th>\n",
              "      <td>2022-07-04</td>\n",
              "      <td>2</td>\n",
              "      <td>10000</td>\n",
              "      <td>800</td>\n",
              "      <td>1 out of 2</td>\n",
              "      <td>Super Area</td>\n",
              "      <td>Dumdum Park</td>\n",
              "      <td>Kolkata</td>\n",
              "      <td>Unfurnished</td>\n",
              "      <td>Bachelors/Family</td>\n",
              "      <td>1</td>\n",
              "      <td>Contact Owner</td>\n",
              "    </tr>\n",
              "    <tr>\n",
              "      <th>4</th>\n",
              "      <td>2022-05-09</td>\n",
              "      <td>2</td>\n",
              "      <td>7500</td>\n",
              "      <td>850</td>\n",
              "      <td>1 out of 2</td>\n",
              "      <td>Carpet Area</td>\n",
              "      <td>South Dum Dum</td>\n",
              "      <td>Kolkata</td>\n",
              "      <td>Unfurnished</td>\n",
              "      <td>Bachelors</td>\n",
              "      <td>1</td>\n",
              "      <td>Contact Owner</td>\n",
              "    </tr>\n",
              "  </tbody>\n",
              "</table>\n",
              "</div>\n",
              "      <button class=\"colab-df-convert\" onclick=\"convertToInteractive('df-1e651721-4f47-4ca3-893f-36ee28d218dd')\"\n",
              "              title=\"Convert this dataframe to an interactive table.\"\n",
              "              style=\"display:none;\">\n",
              "\n",
              "  <svg xmlns=\"http://www.w3.org/2000/svg\" height=\"24px\"viewBox=\"0 0 24 24\"\n",
              "       width=\"24px\">\n",
              "    <path d=\"M0 0h24v24H0V0z\" fill=\"none\"/>\n",
              "    <path d=\"M18.56 5.44l.94 2.06.94-2.06 2.06-.94-2.06-.94-.94-2.06-.94 2.06-2.06.94zm-11 1L8.5 8.5l.94-2.06 2.06-.94-2.06-.94L8.5 2.5l-.94 2.06-2.06.94zm10 10l.94 2.06.94-2.06 2.06-.94-2.06-.94-.94-2.06-.94 2.06-2.06.94z\"/><path d=\"M17.41 7.96l-1.37-1.37c-.4-.4-.92-.59-1.43-.59-.52 0-1.04.2-1.43.59L10.3 9.45l-7.72 7.72c-.78.78-.78 2.05 0 2.83L4 21.41c.39.39.9.59 1.41.59.51 0 1.02-.2 1.41-.59l7.78-7.78 2.81-2.81c.8-.78.8-2.07 0-2.86zM5.41 20L4 18.59l7.72-7.72 1.47 1.35L5.41 20z\"/>\n",
              "  </svg>\n",
              "      </button>\n",
              "\n",
              "\n",
              "\n",
              "    <div id=\"df-90859a2b-39f7-4667-a4ca-c07565655cdd\">\n",
              "      <button class=\"colab-df-quickchart\" onclick=\"quickchart('df-90859a2b-39f7-4667-a4ca-c07565655cdd')\"\n",
              "              title=\"Suggest charts.\"\n",
              "              style=\"display:none;\">\n",
              "\n",
              "<svg xmlns=\"http://www.w3.org/2000/svg\" height=\"24px\"viewBox=\"0 0 24 24\"\n",
              "     width=\"24px\">\n",
              "    <g>\n",
              "        <path d=\"M19 3H5c-1.1 0-2 .9-2 2v14c0 1.1.9 2 2 2h14c1.1 0 2-.9 2-2V5c0-1.1-.9-2-2-2zM9 17H7v-7h2v7zm4 0h-2V7h2v10zm4 0h-2v-4h2v4z\"/>\n",
              "    </g>\n",
              "</svg>\n",
              "      </button>\n",
              "    </div>\n",
              "\n",
              "<style>\n",
              "  .colab-df-quickchart {\n",
              "    background-color: #E8F0FE;\n",
              "    border: none;\n",
              "    border-radius: 50%;\n",
              "    cursor: pointer;\n",
              "    display: none;\n",
              "    fill: #1967D2;\n",
              "    height: 32px;\n",
              "    padding: 0 0 0 0;\n",
              "    width: 32px;\n",
              "  }\n",
              "\n",
              "  .colab-df-quickchart:hover {\n",
              "    background-color: #E2EBFA;\n",
              "    box-shadow: 0px 1px 2px rgba(60, 64, 67, 0.3), 0px 1px 3px 1px rgba(60, 64, 67, 0.15);\n",
              "    fill: #174EA6;\n",
              "  }\n",
              "\n",
              "  [theme=dark] .colab-df-quickchart {\n",
              "    background-color: #3B4455;\n",
              "    fill: #D2E3FC;\n",
              "  }\n",
              "\n",
              "  [theme=dark] .colab-df-quickchart:hover {\n",
              "    background-color: #434B5C;\n",
              "    box-shadow: 0px 1px 3px 1px rgba(0, 0, 0, 0.15);\n",
              "    filter: drop-shadow(0px 1px 2px rgba(0, 0, 0, 0.3));\n",
              "    fill: #FFFFFF;\n",
              "  }\n",
              "</style>\n",
              "\n",
              "    <script>\n",
              "      async function quickchart(key) {\n",
              "        const containerElement = document.querySelector('#' + key);\n",
              "        const charts = await google.colab.kernel.invokeFunction(\n",
              "            'suggestCharts', [key], {});\n",
              "      }\n",
              "    </script>\n",
              "\n",
              "      <script>\n",
              "\n",
              "function displayQuickchartButton(domScope) {\n",
              "  let quickchartButtonEl =\n",
              "    domScope.querySelector('#df-90859a2b-39f7-4667-a4ca-c07565655cdd button.colab-df-quickchart');\n",
              "  quickchartButtonEl.style.display =\n",
              "    google.colab.kernel.accessAllowed ? 'block' : 'none';\n",
              "}\n",
              "\n",
              "        displayQuickchartButton(document);\n",
              "      </script>\n",
              "      <style>\n",
              "    .colab-df-container {\n",
              "      display:flex;\n",
              "      flex-wrap:wrap;\n",
              "      gap: 12px;\n",
              "    }\n",
              "\n",
              "    .colab-df-convert {\n",
              "      background-color: #E8F0FE;\n",
              "      border: none;\n",
              "      border-radius: 50%;\n",
              "      cursor: pointer;\n",
              "      display: none;\n",
              "      fill: #1967D2;\n",
              "      height: 32px;\n",
              "      padding: 0 0 0 0;\n",
              "      width: 32px;\n",
              "    }\n",
              "\n",
              "    .colab-df-convert:hover {\n",
              "      background-color: #E2EBFA;\n",
              "      box-shadow: 0px 1px 2px rgba(60, 64, 67, 0.3), 0px 1px 3px 1px rgba(60, 64, 67, 0.15);\n",
              "      fill: #174EA6;\n",
              "    }\n",
              "\n",
              "    [theme=dark] .colab-df-convert {\n",
              "      background-color: #3B4455;\n",
              "      fill: #D2E3FC;\n",
              "    }\n",
              "\n",
              "    [theme=dark] .colab-df-convert:hover {\n",
              "      background-color: #434B5C;\n",
              "      box-shadow: 0px 1px 3px 1px rgba(0, 0, 0, 0.15);\n",
              "      filter: drop-shadow(0px 1px 2px rgba(0, 0, 0, 0.3));\n",
              "      fill: #FFFFFF;\n",
              "    }\n",
              "  </style>\n",
              "\n",
              "      <script>\n",
              "        const buttonEl =\n",
              "          document.querySelector('#df-1e651721-4f47-4ca3-893f-36ee28d218dd button.colab-df-convert');\n",
              "        buttonEl.style.display =\n",
              "          google.colab.kernel.accessAllowed ? 'block' : 'none';\n",
              "\n",
              "        async function convertToInteractive(key) {\n",
              "          const element = document.querySelector('#df-1e651721-4f47-4ca3-893f-36ee28d218dd');\n",
              "          const dataTable =\n",
              "            await google.colab.kernel.invokeFunction('convertToInteractive',\n",
              "                                                     [key], {});\n",
              "          if (!dataTable) return;\n",
              "\n",
              "          const docLinkHtml = 'Like what you see? Visit the ' +\n",
              "            '<a target=\"_blank\" href=https://colab.research.google.com/notebooks/data_table.ipynb>data table notebook</a>'\n",
              "            + ' to learn more about interactive tables.';\n",
              "          element.innerHTML = '';\n",
              "          dataTable['output_type'] = 'display_data';\n",
              "          await google.colab.output.renderOutput(dataTable, element);\n",
              "          const docLink = document.createElement('div');\n",
              "          docLink.innerHTML = docLinkHtml;\n",
              "          element.appendChild(docLink);\n",
              "        }\n",
              "      </script>\n",
              "    </div>\n",
              "  </div>\n"
            ]
          },
          "metadata": {},
          "execution_count": 5
        }
      ]
    },
    {
      "cell_type": "code",
      "source": [
        "df.columns"
      ],
      "metadata": {
        "colab": {
          "base_uri": "https://localhost:8080/"
        },
        "id": "NJy5wSAnY4Hw",
        "outputId": "10cdf025-810b-4f2c-aceb-464daddadfcd"
      },
      "execution_count": null,
      "outputs": [
        {
          "output_type": "execute_result",
          "data": {
            "text/plain": [
              "Index(['Posted On', 'BHK', 'Rent', 'Size', 'Floor', 'Area Type',\n",
              "       'Area Locality', 'City', 'Furnishing Status', 'Tenant Preferred',\n",
              "       'Bathroom', 'Point of Contact'],\n",
              "      dtype='object')"
            ]
          },
          "metadata": {},
          "execution_count": 227
        }
      ]
    },
    {
      "cell_type": "code",
      "source": [
        "df.shape"
      ],
      "metadata": {
        "colab": {
          "base_uri": "https://localhost:8080/"
        },
        "id": "kzUhhVT_Y4Ki",
        "outputId": "86c6f1c8-970d-4074-de6d-afbe0d4c9f32"
      },
      "execution_count": null,
      "outputs": [
        {
          "output_type": "execute_result",
          "data": {
            "text/plain": [
              "(4746, 12)"
            ]
          },
          "metadata": {},
          "execution_count": 228
        }
      ]
    },
    {
      "cell_type": "code",
      "source": [
        "df.describe??"
      ],
      "metadata": {
        "id": "LcdrgZWzaGUu"
      },
      "execution_count": null,
      "outputs": []
    },
    {
      "cell_type": "code",
      "source": [
        "df.describe()"
      ],
      "metadata": {
        "colab": {
          "base_uri": "https://localhost:8080/",
          "height": 300
        },
        "id": "iLhoaiqjZhzd",
        "outputId": "25764802-1f51-4548-933a-aeb989fc0663"
      },
      "execution_count": null,
      "outputs": [
        {
          "output_type": "execute_result",
          "data": {
            "text/plain": [
              "               BHK          Rent         Size     Bathroom\n",
              "count  4746.000000  4.746000e+03  4746.000000  4746.000000\n",
              "mean      2.083860  3.499345e+04   967.490729     1.965866\n",
              "std       0.832256  7.810641e+04   634.202328     0.884532\n",
              "min       1.000000  1.200000e+03    10.000000     1.000000\n",
              "25%       2.000000  1.000000e+04   550.000000     1.000000\n",
              "50%       2.000000  1.600000e+04   850.000000     2.000000\n",
              "75%       3.000000  3.300000e+04  1200.000000     2.000000\n",
              "max       6.000000  3.500000e+06  8000.000000    10.000000"
            ],
            "text/html": [
              "\n",
              "  <div id=\"df-92065b24-0c3f-437b-ad8f-a5f0efdc9049\">\n",
              "    <div class=\"colab-df-container\">\n",
              "      <div>\n",
              "<style scoped>\n",
              "    .dataframe tbody tr th:only-of-type {\n",
              "        vertical-align: middle;\n",
              "    }\n",
              "\n",
              "    .dataframe tbody tr th {\n",
              "        vertical-align: top;\n",
              "    }\n",
              "\n",
              "    .dataframe thead th {\n",
              "        text-align: right;\n",
              "    }\n",
              "</style>\n",
              "<table border=\"1\" class=\"dataframe\">\n",
              "  <thead>\n",
              "    <tr style=\"text-align: right;\">\n",
              "      <th></th>\n",
              "      <th>BHK</th>\n",
              "      <th>Rent</th>\n",
              "      <th>Size</th>\n",
              "      <th>Bathroom</th>\n",
              "    </tr>\n",
              "  </thead>\n",
              "  <tbody>\n",
              "    <tr>\n",
              "      <th>count</th>\n",
              "      <td>4746.000000</td>\n",
              "      <td>4.746000e+03</td>\n",
              "      <td>4746.000000</td>\n",
              "      <td>4746.000000</td>\n",
              "    </tr>\n",
              "    <tr>\n",
              "      <th>mean</th>\n",
              "      <td>2.083860</td>\n",
              "      <td>3.499345e+04</td>\n",
              "      <td>967.490729</td>\n",
              "      <td>1.965866</td>\n",
              "    </tr>\n",
              "    <tr>\n",
              "      <th>std</th>\n",
              "      <td>0.832256</td>\n",
              "      <td>7.810641e+04</td>\n",
              "      <td>634.202328</td>\n",
              "      <td>0.884532</td>\n",
              "    </tr>\n",
              "    <tr>\n",
              "      <th>min</th>\n",
              "      <td>1.000000</td>\n",
              "      <td>1.200000e+03</td>\n",
              "      <td>10.000000</td>\n",
              "      <td>1.000000</td>\n",
              "    </tr>\n",
              "    <tr>\n",
              "      <th>25%</th>\n",
              "      <td>2.000000</td>\n",
              "      <td>1.000000e+04</td>\n",
              "      <td>550.000000</td>\n",
              "      <td>1.000000</td>\n",
              "    </tr>\n",
              "    <tr>\n",
              "      <th>50%</th>\n",
              "      <td>2.000000</td>\n",
              "      <td>1.600000e+04</td>\n",
              "      <td>850.000000</td>\n",
              "      <td>2.000000</td>\n",
              "    </tr>\n",
              "    <tr>\n",
              "      <th>75%</th>\n",
              "      <td>3.000000</td>\n",
              "      <td>3.300000e+04</td>\n",
              "      <td>1200.000000</td>\n",
              "      <td>2.000000</td>\n",
              "    </tr>\n",
              "    <tr>\n",
              "      <th>max</th>\n",
              "      <td>6.000000</td>\n",
              "      <td>3.500000e+06</td>\n",
              "      <td>8000.000000</td>\n",
              "      <td>10.000000</td>\n",
              "    </tr>\n",
              "  </tbody>\n",
              "</table>\n",
              "</div>\n",
              "      <button class=\"colab-df-convert\" onclick=\"convertToInteractive('df-92065b24-0c3f-437b-ad8f-a5f0efdc9049')\"\n",
              "              title=\"Convert this dataframe to an interactive table.\"\n",
              "              style=\"display:none;\">\n",
              "        \n",
              "  <svg xmlns=\"http://www.w3.org/2000/svg\" height=\"24px\"viewBox=\"0 0 24 24\"\n",
              "       width=\"24px\">\n",
              "    <path d=\"M0 0h24v24H0V0z\" fill=\"none\"/>\n",
              "    <path d=\"M18.56 5.44l.94 2.06.94-2.06 2.06-.94-2.06-.94-.94-2.06-.94 2.06-2.06.94zm-11 1L8.5 8.5l.94-2.06 2.06-.94-2.06-.94L8.5 2.5l-.94 2.06-2.06.94zm10 10l.94 2.06.94-2.06 2.06-.94-2.06-.94-.94-2.06-.94 2.06-2.06.94z\"/><path d=\"M17.41 7.96l-1.37-1.37c-.4-.4-.92-.59-1.43-.59-.52 0-1.04.2-1.43.59L10.3 9.45l-7.72 7.72c-.78.78-.78 2.05 0 2.83L4 21.41c.39.39.9.59 1.41.59.51 0 1.02-.2 1.41-.59l7.78-7.78 2.81-2.81c.8-.78.8-2.07 0-2.86zM5.41 20L4 18.59l7.72-7.72 1.47 1.35L5.41 20z\"/>\n",
              "  </svg>\n",
              "      </button>\n",
              "      \n",
              "  <style>\n",
              "    .colab-df-container {\n",
              "      display:flex;\n",
              "      flex-wrap:wrap;\n",
              "      gap: 12px;\n",
              "    }\n",
              "\n",
              "    .colab-df-convert {\n",
              "      background-color: #E8F0FE;\n",
              "      border: none;\n",
              "      border-radius: 50%;\n",
              "      cursor: pointer;\n",
              "      display: none;\n",
              "      fill: #1967D2;\n",
              "      height: 32px;\n",
              "      padding: 0 0 0 0;\n",
              "      width: 32px;\n",
              "    }\n",
              "\n",
              "    .colab-df-convert:hover {\n",
              "      background-color: #E2EBFA;\n",
              "      box-shadow: 0px 1px 2px rgba(60, 64, 67, 0.3), 0px 1px 3px 1px rgba(60, 64, 67, 0.15);\n",
              "      fill: #174EA6;\n",
              "    }\n",
              "\n",
              "    [theme=dark] .colab-df-convert {\n",
              "      background-color: #3B4455;\n",
              "      fill: #D2E3FC;\n",
              "    }\n",
              "\n",
              "    [theme=dark] .colab-df-convert:hover {\n",
              "      background-color: #434B5C;\n",
              "      box-shadow: 0px 1px 3px 1px rgba(0, 0, 0, 0.15);\n",
              "      filter: drop-shadow(0px 1px 2px rgba(0, 0, 0, 0.3));\n",
              "      fill: #FFFFFF;\n",
              "    }\n",
              "  </style>\n",
              "\n",
              "      <script>\n",
              "        const buttonEl =\n",
              "          document.querySelector('#df-92065b24-0c3f-437b-ad8f-a5f0efdc9049 button.colab-df-convert');\n",
              "        buttonEl.style.display =\n",
              "          google.colab.kernel.accessAllowed ? 'block' : 'none';\n",
              "\n",
              "        async function convertToInteractive(key) {\n",
              "          const element = document.querySelector('#df-92065b24-0c3f-437b-ad8f-a5f0efdc9049');\n",
              "          const dataTable =\n",
              "            await google.colab.kernel.invokeFunction('convertToInteractive',\n",
              "                                                     [key], {});\n",
              "          if (!dataTable) return;\n",
              "\n",
              "          const docLinkHtml = 'Like what you see? Visit the ' +\n",
              "            '<a target=\"_blank\" href=https://colab.research.google.com/notebooks/data_table.ipynb>data table notebook</a>'\n",
              "            + ' to learn more about interactive tables.';\n",
              "          element.innerHTML = '';\n",
              "          dataTable['output_type'] = 'display_data';\n",
              "          await google.colab.output.renderOutput(dataTable, element);\n",
              "          const docLink = document.createElement('div');\n",
              "          docLink.innerHTML = docLinkHtml;\n",
              "          element.appendChild(docLink);\n",
              "        }\n",
              "      </script>\n",
              "    </div>\n",
              "  </div>\n",
              "  "
            ]
          },
          "metadata": {},
          "execution_count": 230
        }
      ]
    },
    {
      "cell_type": "markdown",
      "source": [
        "**Plot the boxplot for BHK, Size, Bathroom, and Rent.**"
      ],
      "metadata": {
        "id": "HiZYHBZ-chLO"
      }
    },
    {
      "cell_type": "markdown",
      "source": [
        "A Box plot is a way to visualize the distribution of the data by using a box and some vertical lines. It is known as the whisker plot. The data can be distributed between five key ranges, which are as follows:\n",
        "\n",
        "- Minimum: Q1-1.5*IQR\n",
        "- 1st quartile (Q1): 25th percentile\n",
        "- Median:50th percentile\n",
        "- 3rd quartile(Q3):75th percentile\n",
        "- Maximum: Q3+1.5*IQR\n",
        "- Here IQR represents the InterQuartile Range which starts from the first quartile (Q1) and ends at the third quartile (Q3)."
      ],
      "metadata": {
        "id": "xVSNWT3SAUV2"
      }
    },
    {
      "cell_type": "markdown",
      "source": [
        "![image.png](data:image/png;base64,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)"
      ],
      "metadata": {
        "id": "HND8imIsAQaR"
      }
    },
    {
      "cell_type": "markdown",
      "source": [
        "Source: [Boxplot](https://www.javatpoint.com/box-plot-in-python-using-matplotlib)"
      ],
      "metadata": {
        "id": "O3pefhdGAkBO"
      }
    },
    {
      "cell_type": "code",
      "source": [
        "#@title [Click here to see the solution.]\n",
        "fig, ax = plt.subplots(1, 3, figsize=(12, 4))\n",
        "\n",
        "sns.set_theme(style=\"whitegrid\")\n",
        "for axid, col in enumerate([\"BHK\", \"Size\", \"Bathroom\"]):\n",
        "    sns.boxplot(x=df[col], ax=ax[axid])"
      ],
      "metadata": {
        "colab": {
          "base_uri": "https://localhost:8080/",
          "height": 285
        },
        "id": "COlF4QJvY4NZ",
        "outputId": "281aac7b-19c7-44e1-b305-8973ec2ebb41"
      },
      "execution_count": null,
      "outputs": [
        {
          "output_type": "display_data",
          "data": {
            "text/plain": [
              "<Figure size 864x288 with 3 Axes>"
            ],
            "image/png": "[encoded data removed]"
          },
          "metadata": {}
        }
      ]
    },
    {
      "cell_type": "markdown",
      "source": [
        "**Is there a correlation between the size of the apartment and the rent?**"
      ],
      "metadata": {
        "id": "krWO6rlpf44i"
      }
    },
    {
      "cell_type": "code",
      "source": [
        "sns.scatterplot(x=df[\"Size\"], y=df[\"Rent\"])"
      ],
      "metadata": {
        "colab": {
          "base_uri": "https://localhost:8080/",
          "height": 315
        },
        "id": "l3G3ibhMdUKy",
        "outputId": "729b0bc3-39be-4de7-f9ed-1cd8afda76a1"
      },
      "execution_count": null,
      "outputs": [
        {
          "output_type": "execute_result",
          "data": {
            "text/plain": [
              "<matplotlib.axes._subplots.AxesSubplot at 0x7f79ffc3d5d0>"
            ]
          },
          "metadata": {},
          "execution_count": 232
        },
        {
          "output_type": "display_data",
          "data": {
            "text/plain": [
              "<Figure size 432x288 with 1 Axes>"
            ],
            "image/png": "[encoded data removed]"
          },
          "metadata": {}
        }
      ]
    },
    {
      "cell_type": "code",
      "source": [
        "sns.scatterplot(x=df[\"BHK\"], y=df[\"Rent\"])"
      ],
      "metadata": {
        "colab": {
          "base_uri": "https://localhost:8080/",
          "height": 482
        },
        "id": "aNrLg2eD-OKG",
        "outputId": "84a20972-5aee-4531-fc58-7c718dc8520b"
      },
      "execution_count": null,
      "outputs": [
        {
          "output_type": "execute_result",
          "data": {
            "text/plain": [
              "<Axes: xlabel='BHK', ylabel='Rent'>"
            ]
          },
          "metadata": {},
          "execution_count": 6
        },
        {
          "output_type": "display_data",
          "data": {
            "text/plain": [
              "<Figure size 640x480 with 1 Axes>"
            ],
            "image/png": "[encoded data removed]"
          },
          "metadata": {}
        }
      ]
    },
    {
      "cell_type": "markdown",
      "source": [
        "**Null Values in the dataset?**"
      ],
      "metadata": {
        "id": "da3yCyqVb0Zu"
      }
    },
    {
      "cell_type": "code",
      "source": [
        "df.isnull().sum()"
      ],
      "metadata": {
        "colab": {
          "base_uri": "https://localhost:8080/"
        },
        "id": "uOR6AmtEb7cK",
        "outputId": "d93bdde8-6fb1-449b-80ea-bc8a0031f9f9"
      },
      "execution_count": null,
      "outputs": [
        {
          "output_type": "execute_result",
          "data": {
            "text/plain": [
              "Posted On            0\n",
              "BHK                  0\n",
              "Rent                 0\n",
              "Size                 0\n",
              "Floor                0\n",
              "Area Type            0\n",
              "Area Locality        0\n",
              "City                 0\n",
              "Furnishing Status    0\n",
              "Tenant Preferred     0\n",
              "Bathroom             0\n",
              "Point of Contact     0\n",
              "dtype: int64"
            ]
          },
          "metadata": {},
          "execution_count": 233
        }
      ]
    },
    {
      "cell_type": "markdown",
      "source": [
        "**What is the distribution of cities in the dataset?**"
      ],
      "metadata": {
        "id": "c53-tY_Aa8fc"
      }
    },
    {
      "cell_type": "code",
      "source": [
        "city_dist = df[\"City\"].value_counts()\n",
        "city_dist"
      ],
      "metadata": {
        "colab": {
          "base_uri": "https://localhost:8080/"
        },
        "id": "nznDn1zFbBaK",
        "outputId": "a706547d-7d85-42f4-e235-eedc0cf49f7d"
      },
      "execution_count": null,
      "outputs": [
        {
          "output_type": "execute_result",
          "data": {
            "text/plain": [
              "Mumbai       972\n",
              "Chennai      891\n",
              "Bangalore    886\n",
              "Hyderabad    868\n",
              "Delhi        605\n",
              "Kolkata      524\n",
              "Name: City, dtype: int64"
            ]
          },
          "metadata": {},
          "execution_count": 7
        }
      ]
    },
    {
      "cell_type": "code",
      "source": [
        "piec_colors = sns.color_palette('pastel')[0:len(city_dist)]\n",
        "city_dist.plot(kind = 'pie', colors=piec_colors, autopct = '%1.2f%%')"
      ],
      "metadata": {
        "colab": {
          "base_uri": "https://localhost:8080/",
          "height": 267
        },
        "id": "3tmecslTbLrq",
        "outputId": "f456f042-791a-49f5-8c98-77cd7c2e6a54"
      },
      "execution_count": null,
      "outputs": [
        {
          "output_type": "execute_result",
          "data": {
            "text/plain": [
              "<matplotlib.axes._subplots.AxesSubplot at 0x7f79ffc1f690>"
            ]
          },
          "metadata": {},
          "execution_count": 235
        },
        {
          "output_type": "display_data",
          "data": {
            "text/plain": [
              "<Figure size 432x288 with 1 Axes>"
            ],
            "image/png": "[encoded data removed]"
          },
          "metadata": {}
        }
      ]
    },
    {
      "cell_type": "markdown",
      "source": [
        "ToDo: Plot pie charts for other categorical features."
      ],
      "metadata": {
        "id": "SdQwLMbQh1GG"
      }
    },
    {
      "cell_type": "code",
      "source": [
        "#@title [Click here to see the solution.]\n",
        "fig, ax = plt.subplots(1, 3, figsize=(15, 4))\n",
        "\n",
        "for axid, col in enumerate([\"Furnishing Status\", \"Tenant Preferred\", \"Point of Contact\"]):\n",
        "    col_dist = df[col].value_counts()\n",
        "    piec_colors = sns.color_palette('pastel')[0:len(col_dist)]\n",
        "    col_dist.plot(kind = 'pie', colors=piec_colors, autopct = '%1.2f%%', ax=ax[axid])"
      ],
      "metadata": {
        "colab": {
          "base_uri": "https://localhost:8080/",
          "height": 248
        },
        "id": "frTg4ohfayBA",
        "outputId": "0db234a7-fd15-42de-a2ab-5b463f9fcd8a"
      },
      "execution_count": null,
      "outputs": [
        {
          "output_type": "display_data",
          "data": {
            "text/plain": [
              "<Figure size 1080x288 with 3 Axes>"
            ],
            "image/png": "[encoded data removed]"
          },
          "metadata": {}
        }
      ]
    },
    {
      "cell_type": "code",
      "source": [],
      "metadata": {
        "id": "OHqEQMguhdhX"
      },
      "execution_count": null,
      "outputs": []
    },
    {
      "cell_type": "markdown",
      "source": [
        "ToDo: Plot tenant preference in each city."
      ],
      "metadata": {
        "id": "3DytKdwswmH-"
      }
    },
    {
      "cell_type": "markdown",
      "source": [
        "**Need more graphs?**"
      ],
      "metadata": {
        "id": "1SRlKP3yhfYT"
      }
    },
    {
      "cell_type": "code",
      "source": [
        "plt.figure(figsize=(15,8))\n",
        "ax = sns.scatterplot(x=df[\"Size\"], y=df[\"Rent\"], hue=df[\"City\"], size=df[\"BHK\"], sizes=(20, 200), legend=\"full\")"
      ],
      "metadata": {
        "colab": {
          "base_uri": "https://localhost:8080/",
          "height": 513
        },
        "id": "qXJzOc_FayDw",
        "outputId": "822b8c8b-d5d2-4b42-fc13-d70751d8c266"
      },
      "execution_count": null,
      "outputs": [
        {
          "output_type": "display_data",
          "data": {
            "text/plain": [
              "<Figure size 1080x576 with 1 Axes>"
            ],
            "image/png": "[encoded data removed]"
          },
          "metadata": {}
        }
      ]
    },
    {
      "cell_type": "code",
      "source": [
        "plt.figure(figsize=(15,8))\n",
        "ax = sns.scatterplot(x=df[\"Size\"], y=df[\"Rent\"], hue=df[\"City\"], size=df[\"BHK\"], style=df[\"Bathroom\"], sizes=(20, 200), legend=\"full\")"
      ],
      "metadata": {
        "colab": {
          "base_uri": "https://localhost:8080/",
          "height": 513
        },
        "id": "RFwGFDoxayG0",
        "outputId": "6413d508-10c7-4887-dcdb-de7083259230"
      },
      "execution_count": null,
      "outputs": [
        {
          "output_type": "display_data",
          "data": {
            "text/plain": [
              "<Figure size 1080x576 with 1 Axes>"
            ],
            "image/png": "[encoded data removed]"
          },
          "metadata": {}
        }
      ]
    },
    {
      "cell_type": "markdown",
      "source": [
        "The above plot shows that the ...."
      ],
      "metadata": {
        "id": "yKTqCsF_AfH_"
      }
    },
    {
      "cell_type": "markdown",
      "source": [
        "## 3. Data Transformations"
      ],
      "metadata": {
        "id": "ywsde3vfkVS3"
      }
    },
    {
      "cell_type": "code",
      "source": [
        "df.columns"
      ],
      "metadata": {
        "id": "rRB2QMfjkYje"
      },
      "execution_count": null,
      "outputs": []
    },
    {
      "cell_type": "markdown",
      "source": [
        "'Posted On' is a date. How can we use date-type features in our model?"
      ],
      "metadata": {
        "id": "0azBNSZskZMZ"
      }
    },
    {
      "cell_type": "markdown",
      "source": [
        "Is the target variable related to a seasonal event (e.g.: sale around a festival), then we could take the months as featurre.  \n",
        "Date of birth are usually used to derive the feature age.  \n",
        "In this case, we can derive a feature of recency of the post."
      ],
      "metadata": {
        "id": "rHRQUM3YX_ho"
      }
    },
    {
      "cell_type": "code",
      "source": [
        "import datetime"
      ],
      "metadata": {
        "id": "xH_rGTkwlvCS"
      },
      "execution_count": null,
      "outputs": []
    },
    {
      "cell_type": "code",
      "source": [
        "df['Recency'] = df['Posted On'].apply(lambda x: (datetime.datetime.today() - datetime.datetime.strptime(x, '%Y-%m-%d')).days)"
      ],
      "metadata": {
        "id": "Dpxkr5NplYoB"
      },
      "execution_count": null,
      "outputs": []
    },
    {
      "cell_type": "code",
      "source": [
        "df[['Posted On', 'Recency']]"
      ],
      "metadata": {
        "colab": {
          "base_uri": "https://localhost:8080/",
          "height": 424
        },
        "id": "WIuNyVS6oj-Z",
        "outputId": "9892bd44-2a7a-4d82-a398-5828af6e2916"
      },
      "execution_count": null,
      "outputs": [
        {
          "output_type": "execute_result",
          "data": {
            "text/plain": [
              "       Posted On  Recency\n",
              "0     2022-05-18       92\n",
              "1     2022-05-13       97\n",
              "2     2022-05-16       94\n",
              "3     2022-07-04       45\n",
              "4     2022-05-09      101\n",
              "...          ...      ...\n",
              "4741  2022-05-18       92\n",
              "4742  2022-05-15       95\n",
              "4743  2022-07-10       39\n",
              "4744  2022-07-06       43\n",
              "4745  2022-05-04      106\n",
              "\n",
              "[4746 rows x 2 columns]"
            ],
            "text/html": [
              "\n",
              "  <div id=\"df-e36538d5-bd78-4938-a39d-f02b91695177\">\n",
              "    <div class=\"colab-df-container\">\n",
              "      <div>\n",
              "<style scoped>\n",
              "    .dataframe tbody tr th:only-of-type {\n",
              "        vertical-align: middle;\n",
              "    }\n",
              "\n",
              "    .dataframe tbody tr th {\n",
              "        vertical-align: top;\n",
              "    }\n",
              "\n",
              "    .dataframe thead th {\n",
              "        text-align: right;\n",
              "    }\n",
              "</style>\n",
              "<table border=\"1\" class=\"dataframe\">\n",
              "  <thead>\n",
              "    <tr style=\"text-align: right;\">\n",
              "      <th></th>\n",
              "      <th>Posted On</th>\n",
              "      <th>Recency</th>\n",
              "    </tr>\n",
              "  </thead>\n",
              "  <tbody>\n",
              "    <tr>\n",
              "      <th>0</th>\n",
              "      <td>2022-05-18</td>\n",
              "      <td>92</td>\n",
              "    </tr>\n",
              "    <tr>\n",
              "      <th>1</th>\n",
              "      <td>2022-05-13</td>\n",
              "      <td>97</td>\n",
              "    </tr>\n",
              "    <tr>\n",
              "      <th>2</th>\n",
              "      <td>2022-05-16</td>\n",
              "      <td>94</td>\n",
              "    </tr>\n",
              "    <tr>\n",
              "      <th>3</th>\n",
              "      <td>2022-07-04</td>\n",
              "      <td>45</td>\n",
              "    </tr>\n",
              "    <tr>\n",
              "      <th>4</th>\n",
              "      <td>2022-05-09</td>\n",
              "      <td>101</td>\n",
              "    </tr>\n",
              "    <tr>\n",
              "      <th>...</th>\n",
              "      <td>...</td>\n",
              "      <td>...</td>\n",
              "    </tr>\n",
              "    <tr>\n",
              "      <th>4741</th>\n",
              "      <td>2022-05-18</td>\n",
              "      <td>92</td>\n",
              "    </tr>\n",
              "    <tr>\n",
              "      <th>4742</th>\n",
              "      <td>2022-05-15</td>\n",
              "      <td>95</td>\n",
              "    </tr>\n",
              "    <tr>\n",
              "      <th>4743</th>\n",
              "      <td>2022-07-10</td>\n",
              "      <td>39</td>\n",
              "    </tr>\n",
              "    <tr>\n",
              "      <th>4744</th>\n",
              "      <td>2022-07-06</td>\n",
              "      <td>43</td>\n",
              "    </tr>\n",
              "    <tr>\n",
              "      <th>4745</th>\n",
              "      <td>2022-05-04</td>\n",
              "      <td>106</td>\n",
              "    </tr>\n",
              "  </tbody>\n",
              "</table>\n",
              "<p>4746 rows × 2 columns</p>\n",
              "</div>\n",
              "      <button class=\"colab-df-convert\" onclick=\"convertToInteractive('df-e36538d5-bd78-4938-a39d-f02b91695177')\"\n",
              "              title=\"Convert this dataframe to an interactive table.\"\n",
              "              style=\"display:none;\">\n",
              "        \n",
              "  <svg xmlns=\"http://www.w3.org/2000/svg\" height=\"24px\"viewBox=\"0 0 24 24\"\n",
              "       width=\"24px\">\n",
              "    <path d=\"M0 0h24v24H0V0z\" fill=\"none\"/>\n",
              "    <path d=\"M18.56 5.44l.94 2.06.94-2.06 2.06-.94-2.06-.94-.94-2.06-.94 2.06-2.06.94zm-11 1L8.5 8.5l.94-2.06 2.06-.94-2.06-.94L8.5 2.5l-.94 2.06-2.06.94zm10 10l.94 2.06.94-2.06 2.06-.94-2.06-.94-.94-2.06-.94 2.06-2.06.94z\"/><path d=\"M17.41 7.96l-1.37-1.37c-.4-.4-.92-.59-1.43-.59-.52 0-1.04.2-1.43.59L10.3 9.45l-7.72 7.72c-.78.78-.78 2.05 0 2.83L4 21.41c.39.39.9.59 1.41.59.51 0 1.02-.2 1.41-.59l7.78-7.78 2.81-2.81c.8-.78.8-2.07 0-2.86zM5.41 20L4 18.59l7.72-7.72 1.47 1.35L5.41 20z\"/>\n",
              "  </svg>\n",
              "      </button>\n",
              "      \n",
              "  <style>\n",
              "    .colab-df-container {\n",
              "      display:flex;\n",
              "      flex-wrap:wrap;\n",
              "      gap: 12px;\n",
              "    }\n",
              "\n",
              "    .colab-df-convert {\n",
              "      background-color: #E8F0FE;\n",
              "      border: none;\n",
              "      border-radius: 50%;\n",
              "      cursor: pointer;\n",
              "      display: none;\n",
              "      fill: #1967D2;\n",
              "      height: 32px;\n",
              "      padding: 0 0 0 0;\n",
              "      width: 32px;\n",
              "    }\n",
              "\n",
              "    .colab-df-convert:hover {\n",
              "      background-color: #E2EBFA;\n",
              "      box-shadow: 0px 1px 2px rgba(60, 64, 67, 0.3), 0px 1px 3px 1px rgba(60, 64, 67, 0.15);\n",
              "      fill: #174EA6;\n",
              "    }\n",
              "\n",
              "    [theme=dark] .colab-df-convert {\n",
              "      background-color: #3B4455;\n",
              "      fill: #D2E3FC;\n",
              "    }\n",
              "\n",
              "    [theme=dark] .colab-df-convert:hover {\n",
              "      background-color: #434B5C;\n",
              "      box-shadow: 0px 1px 3px 1px rgba(0, 0, 0, 0.15);\n",
              "      filter: drop-shadow(0px 1px 2px rgba(0, 0, 0, 0.3));\n",
              "      fill: #FFFFFF;\n",
              "    }\n",
              "  </style>\n",
              "\n",
              "      <script>\n",
              "        const buttonEl =\n",
              "          document.querySelector('#df-e36538d5-bd78-4938-a39d-f02b91695177 button.colab-df-convert');\n",
              "        buttonEl.style.display =\n",
              "          google.colab.kernel.accessAllowed ? 'block' : 'none';\n",
              "\n",
              "        async function convertToInteractive(key) {\n",
              "          const element = document.querySelector('#df-e36538d5-bd78-4938-a39d-f02b91695177');\n",
              "          const dataTable =\n",
              "            await google.colab.kernel.invokeFunction('convertToInteractive',\n",
              "                                                     [key], {});\n",
              "          if (!dataTable) return;\n",
              "\n",
              "          const docLinkHtml = 'Like what you see? Visit the ' +\n",
              "            '<a target=\"_blank\" href=https://colab.research.google.com/notebooks/data_table.ipynb>data table notebook</a>'\n",
              "            + ' to learn more about interactive tables.';\n",
              "          element.innerHTML = '';\n",
              "          dataTable['output_type'] = 'display_data';\n",
              "          await google.colab.output.renderOutput(dataTable, element);\n",
              "          const docLink = document.createElement('div');\n",
              "          docLink.innerHTML = docLinkHtml;\n",
              "          element.appendChild(docLink);\n",
              "        }\n",
              "      </script>\n",
              "    </div>\n",
              "  </div>\n",
              "  "
            ]
          },
          "metadata": {},
          "execution_count": 241
        }
      ]
    },
    {
      "cell_type": "markdown",
      "source": [
        "What is Floor Type?"
      ],
      "metadata": {
        "id": "XGGlXcsxo8OX"
      }
    },
    {
      "cell_type": "code",
      "source": [
        "df['Floor'].unique()"
      ],
      "metadata": {
        "colab": {
          "base_uri": "https://localhost:8080/"
        },
        "id": "xIxNu2NjlhNn",
        "outputId": "52b13fbc-e9d0-4de5-ba25-e040eddc14d1"
      },
      "execution_count": null,
      "outputs": [
        {
          "output_type": "execute_result",
          "data": {
            "text/plain": [
              "array(['Ground out of 2', '1 out of 3', '1 out of 2', 'Ground out of 1',\n",
              "       'Ground out of 4', '1 out of 4', '1 out of 1', 'Ground out of 3',\n",
              "       '2 out of 3', '4 out of 5', '2 out of 2', '2 out of 5',\n",
              "       '4 out of 14', '3 out of 3', '5 out of 5', '4 out of 4',\n",
              "       '7 out of 8', '2 out of 4', '3 out of 4', '1 out of 5',\n",
              "       '8 out of 5', 'Ground out of 6', '2 out of 1',\n",
              "       'Upper Basement out of 4', 'Ground out of 5', '3 out of 5',\n",
              "       '11 out of 19', '5 out of 10', '11 out of 14',\n",
              "       'Lower Basement out of 2', '2 out of 7', '4 out of 10',\n",
              "       '7 out of 10', '2 out of 13', '6 out of 7', '4 out of 7',\n",
              "       '14 out of 14', '43 out of 78', '2 out of 8', '13 out of 18',\n",
              "       '5 out of 12', '18 out of 24', '3 out of 7', '17 out of 31',\n",
              "       '11 out of 21', '7 out of 19', '14 out of 23', '9 out of 20',\n",
              "       'Upper Basement out of 9', '19 out of 24', '3 out of 21',\n",
              "       '1 out of 22', '8 out of 8', '6 out of 12', '4 out of 58',\n",
              "       'Upper Basement out of 16', '60 out of 66', '34 out of 48',\n",
              "       '5 out of 8', '5 out of 14', '14 out of 40', '5 out of 7',\n",
              "       '9 out of 22', '12 out of 18', '26 out of 44', '1 out of 8',\n",
              "       '25 out of 42', '25 out of 41', '53 out of 78', 'Ground out of 7',\n",
              "       '14 out of 20', '13 out of 20', '16 out of 23', '10 out of 18',\n",
              "       '39 out of 60', '16 out of 21', '10 out of 32', '4 out of 8',\n",
              "       '12 out of 24', '32 out of 41', '3 out of 30', '13 out of 21',\n",
              "       '9 out of 29', '47 out of 89', '7 out of 41', '28 out of 30',\n",
              "       '13 out of 15', '6 out of 21', '8 out of 16', '2 out of 6',\n",
              "       '5 out of 19', '3 out of 11', '17 out of 42', '10 out of 12',\n",
              "       '8 out of 28', '9 out of 15', '14 out of 22', '18 out of 40',\n",
              "       '9 out of 17', '12 out of 45', '25 out of 35', '7 out of 15',\n",
              "       '10 out of 16', 'Upper Basement out of 20', '5 out of 20',\n",
              "       'Upper Basement out of 40', '5 out of 18', '34 out of 58',\n",
              "       '4 out of 6', '20 out of 22', '12 out of 19', '15 out of 18',\n",
              "       '65 out of 78', '6 out of 16', '17 out of 22', '6 out of 24',\n",
              "       '40 out of 75', '19 out of 38', '15 out of 31', '11 out of 28',\n",
              "       '10 out of 22', '17 out of 24', '15 out of 19', '9 out of 10',\n",
              "       '7 out of 12', '8 out of 20', '11 out of 13', '9 out of 19',\n",
              "       '37 out of 51', '6 out of 11', '8 out of 15', '11 out of 20',\n",
              "       '10 out of 23', 'Upper Basement out of 10', '7 out of 23',\n",
              "       '4 out of 11', '17 out of 43', '7 out of 22', '14 out of 18',\n",
              "       '6 out of 10', '8 out of 12', '3 out of 18', '7 out of 7',\n",
              "       '14 out of 58', '18 out of 23', '19 out of 19', '13 out of 14',\n",
              "       '7 out of 11', '11 out of 22', 'Upper Basement out of 30',\n",
              "       '12 out of 14', '16 out of 31', '12 out of 13', '11 out of 51',\n",
              "       '2 out of 12', '22 out of 24', '7 out of 14', '5 out of 13',\n",
              "       '7 out of 21', '14 out of 21', '17 out of 25', '9 out of 14',\n",
              "       '8 out of 27', '3 out of 6', '17 out of 20', '18 out of 22',\n",
              "       '1 out of 7', '9 out of 30', '3 out of 8', '11 out of 26',\n",
              "       '17 out of 27', '4 out of 12', '12 out of 16', '10 out of 24',\n",
              "       '65 out of 76', '7 out of 9', '17 out of 60', '10 out of 11',\n",
              "       '18 out of 25', '5 out of 11', '15 out of 17', '15 out of 23',\n",
              "       '5 out of 17', '3 out of 28', '5 out of 24', '16 out of 32',\n",
              "       '21 out of 22', '7 out of 13', '9 out of 12', '15 out of 32',\n",
              "       '18 out of 27', '15 out of 16', '18 out of 45', '15 out of 15',\n",
              "       '6 out of 14', '1 out of 20', '16 out of 36', '30 out of 44',\n",
              "       '30 out of 37', '2 out of 9', '12 out of 22', '4 out of 9',\n",
              "       '2 out of 22', '5 out of 6', '6 out of 18', '35 out of 55',\n",
              "       '16 out of 29', '30 out of 45', '5 out of 9', '16 out of 25',\n",
              "       '33 out of 42', '4 out of 16', '13 out of 23', '9 out of 38',\n",
              "       '6 out of 8', '8 out of 13', '19 out of 30', '10 out of 14',\n",
              "       '11 out of 24', '9 out of 16', '9 out of 31', '4 out of 15',\n",
              "       '3 out of 9', '22 out of 30', '3 out of 58', '1 out of 9',\n",
              "       '53 out of 60', '5 out of 22', '15 out of 22', '19 out of 21',\n",
              "       '9 out of 40', 'Ground out of 8', '44 out of 75', '8 out of 17',\n",
              "       '3 out of 14', '12 out of 31', '26 out of 42', '2 out of 45',\n",
              "       '12 out of 68', '17 out of 36', '10 out of 28', '41 out of 41',\n",
              "       '14 out of 68', '14 out of 17', '15 out of 20', '46 out of 76',\n",
              "       '12 out of 20', '20 out of 30', '18 out of 32', '10 out of 25',\n",
              "       '17 out of 29', '10 out of 31', '10 out of 15', '13 out of 16',\n",
              "       '8 out of 10', '18 out of 21', '27 out of 58', '1 out of 6',\n",
              "       '19 out of 25', '3 out of 15', '25 out of 43', '8 out of 14',\n",
              "       '11 out of 12', '9 out of 21', '10 out of 13', '45 out of 77',\n",
              "       '18 out of 19', '10 out of 20', '12 out of 29',\n",
              "       'Lower Basement out of 18', '15 out of 24', '48 out of 68',\n",
              "       '12 out of 42', '16 out of 22', '35 out of 68', '18 out of 30',\n",
              "       '11 out of 31', '50 out of 75', '18 out of 26', '12 out of 27',\n",
              "       '16 out of 20', '24 out of 55', '16 out of 37',\n",
              "       'Upper Basement out of 7', '6 out of 15', '11 out of 27',\n",
              "       '11 out of 23', '3 out of 12', '14 out of 15', '23 out of 25',\n",
              "       '14 out of 48', '29 out of 35', '15 out of 36', '15 out of 25',\n",
              "       '15 out of 28', '3 out of 36', '8 out of 11', '6 out of 20',\n",
              "       '23 out of 23', '5 out of 15', '16 out of 18', '2 out of 10',\n",
              "       '40 out of 50', '25 out of 28', '12 out of 17', '34 out of 40',\n",
              "       'Upper Basement out of 22', '8 out of 23', '5 out of 21',\n",
              "       '32 out of 59', '20 out of 32', '9 out of 18', '10 out of 37',\n",
              "       '25 out of 48', '4 out of 22', '8 out of 18', '11 out of 11',\n",
              "       '5 out of 23', '60 out of 77', '11 out of 18', '4 out of 20',\n",
              "       '5 out of 16', '3 out of 13', '30 out of 58', '15 out of 43',\n",
              "       '7 out of 16', '18 out of 28', '9 out of 55', '11 out of 25',\n",
              "       '49 out of 55', '7 out of 27', '14 out of 27', '16 out of 27',\n",
              "       '25 out of 50', '6 out of 30', '21 out of 23', '8 out of 58',\n",
              "       '20 out of 41', '3 out of 62', '4 out of 13', '7 out of 17',\n",
              "       '12 out of 21', '28 out of 39', '15 out of 58', '6 out of 23',\n",
              "       '36 out of 45', '9 out of 28', '6 out of 45', '22 out of 52',\n",
              "       '10 out of 19', '21 out of 58', '48 out of 54', '7 out of 28',\n",
              "       '11 out of 15', '19 out of 22', '15 out of 37', '2 out of 17',\n",
              "       '76 out of 78', '3 out of 10', '20 out of 27', '8 out of 36',\n",
              "       '14 out of 33', '21 out of 21', '12 out of 25', '18 out of 29',\n",
              "       '14 out of 35', '7 out of 20', '20 out of 37', '9 out of 35',\n",
              "       '27 out of 27', '15 out of 60', '19 out of 33', '18 out of 20',\n",
              "       '13 out of 40', '9 out of 11', '8 out of 22', '6 out of 13',\n",
              "       '20 out of 31', '27 out of 45', '19 out of 20', '32 out of 46',\n",
              "       '19 out of 85', '3 out of 23', '34 out of 46', '4 out of 27',\n",
              "       '19 out of 27', '35 out of 60', '21 out of 33', '25 out of 52',\n",
              "       '2 out of 24', '24 out of 24', '18 out of 33', '1 out of 10',\n",
              "       '45 out of 60', '60 out of 71', '36 out of 81', '24 out of 60',\n",
              "       '16 out of 38', '8 out of 45', 'Ground out of 16', '8 out of 32',\n",
              "       '10 out of 10', '23 out of 40', '7 out of 18', '8 out of 19',\n",
              "       '6 out of 17', '16 out of 34', 'Ground out of 12', '6 out of 9',\n",
              "       'Ground out of 18', '20 out of 25', '3 out of 22', '9 out of 32',\n",
              "       '26 out of 32', '17 out of 18', '24 out of 25', '19 out of 26',\n",
              "       '17 out of 19', '1 out of 13', '14 out of 30', '8 out of 9',\n",
              "       '3 out of 17', 'Lower Basement out of 3', '12 out of 23',\n",
              "       'Ground out of 9', '1 out of 24', '1 out of 12', '3', 'Ground',\n",
              "       '15 out of 29', '20 out of 20', '14 out of 29',\n",
              "       'Lower Basement out of 1', '13 out of 17', '1 out of 14',\n",
              "       'Upper Basement out of 2', '2 out of 14', '24 out of 31',\n",
              "       '2 out of 32', '2 out of 16', '9 out of 13', '1 out of 11',\n",
              "       '6 out of 29', '9 out of 9', '28 out of 31', '1 out of 15',\n",
              "       'Ground out of 14', '2 out of 11', '19 out of 31', '1 out of 16',\n",
              "       '25 out of 32', '11 out of 16', '11 out of 17',\n",
              "       'Upper Basement out of 3', '4 out of 24', '1 out of 19',\n",
              "       '7 out of 30', '16 out of 19', 'Upper Basement out of 5',\n",
              "       'Ground out of 13', '2 out of 25', '23 out of 30', '4 out of 30',\n",
              "       '13 out of 25', '23 out of 35', 'Ground out of 10', '5 out of 34',\n",
              "       '20 out of 35', '1', '4 out of 31', '4 out of 26', '24 out of 33',\n",
              "       '4 out of 17', '1 out of 35', '11 out of 35', 'Ground out of 15',\n",
              "       'Ground out of 27', '15 out of 30', '12 out of 30', '23 out of 34'],\n",
              "      dtype=object)"
            ]
          },
          "metadata": {},
          "execution_count": 242
        }
      ]
    },
    {
      "cell_type": "markdown",
      "source": [
        "ToDo: Write a basic function to parse the floor and convert it into a numeric feature."
      ],
      "metadata": {
        "id": "R5MqI_KVpWH4"
      }
    },
    {
      "cell_type": "code",
      "source": [
        "#@title [Click here to see the solution.]\n",
        "\n",
        "def parse_floor(x):\n",
        "    floor_str = x.split(\" out of \")[0]\n",
        "    if floor_str.find(\"Ground\") > -1:\n",
        "        return 0\n",
        "    elif floor_str.find(\"Upper Basement\") > -1:\n",
        "        return -1\n",
        "    elif floor_str.find(\"Lower Basement\") > -1:\n",
        "        return -2\n",
        "    else:\n",
        "        return int(floor_str)\n",
        "\n",
        "df['FloorNum'] = df['Floor'].apply(parse_floor)\n",
        "df[['Floor', 'FloorNum']]"
      ],
      "metadata": {
        "colab": {
          "base_uri": "https://localhost:8080/",
          "height": 424
        },
        "id": "RyBHUAJIqLQn",
        "outputId": "8ad6e279-7854-4fbb-a6f8-ca3a0fd4884b"
      },
      "execution_count": null,
      "outputs": [
        {
          "output_type": "execute_result",
          "data": {
            "text/plain": [
              "                Floor  FloorNum\n",
              "0     Ground out of 2         0\n",
              "1          1 out of 3         1\n",
              "2          1 out of 3         1\n",
              "3          1 out of 2         1\n",
              "4          1 out of 2         1\n",
              "...               ...       ...\n",
              "4741       3 out of 5         3\n",
              "4742       1 out of 4         1\n",
              "4743       3 out of 5         3\n",
              "4744     23 out of 34        23\n",
              "4745       4 out of 5         4\n",
              "\n",
              "[4745 rows x 2 columns]"
            ],
            "text/html": [
              "\n",
              "  <div id=\"df-a8541d04-993d-49da-9323-52aebf27def3\">\n",
              "    <div class=\"colab-df-container\">\n",
              "      <div>\n",
              "<style scoped>\n",
              "    .dataframe tbody tr th:only-of-type {\n",
              "        vertical-align: middle;\n",
              "    }\n",
              "\n",
              "    .dataframe tbody tr th {\n",
              "        vertical-align: top;\n",
              "    }\n",
              "\n",
              "    .dataframe thead th {\n",
              "        text-align: right;\n",
              "    }\n",
              "</style>\n",
              "<table border=\"1\" class=\"dataframe\">\n",
              "  <thead>\n",
              "    <tr style=\"text-align: right;\">\n",
              "      <th></th>\n",
              "      <th>Floor</th>\n",
              "      <th>FloorNum</th>\n",
              "    </tr>\n",
              "  </thead>\n",
              "  <tbody>\n",
              "    <tr>\n",
              "      <th>0</th>\n",
              "      <td>Ground out of 2</td>\n",
              "      <td>0</td>\n",
              "    </tr>\n",
              "    <tr>\n",
              "      <th>1</th>\n",
              "      <td>1 out of 3</td>\n",
              "      <td>1</td>\n",
              "    </tr>\n",
              "    <tr>\n",
              "      <th>2</th>\n",
              "      <td>1 out of 3</td>\n",
              "      <td>1</td>\n",
              "    </tr>\n",
              "    <tr>\n",
              "      <th>3</th>\n",
              "      <td>1 out of 2</td>\n",
              "      <td>1</td>\n",
              "    </tr>\n",
              "    <tr>\n",
              "      <th>4</th>\n",
              "      <td>1 out of 2</td>\n",
              "      <td>1</td>\n",
              "    </tr>\n",
              "    <tr>\n",
              "      <th>...</th>\n",
              "      <td>...</td>\n",
              "      <td>...</td>\n",
              "    </tr>\n",
              "    <tr>\n",
              "      <th>4741</th>\n",
              "      <td>3 out of 5</td>\n",
              "      <td>3</td>\n",
              "    </tr>\n",
              "    <tr>\n",
              "      <th>4742</th>\n",
              "      <td>1 out of 4</td>\n",
              "      <td>1</td>\n",
              "    </tr>\n",
              "    <tr>\n",
              "      <th>4743</th>\n",
              "      <td>3 out of 5</td>\n",
              "      <td>3</td>\n",
              "    </tr>\n",
              "    <tr>\n",
              "      <th>4744</th>\n",
              "      <td>23 out of 34</td>\n",
              "      <td>23</td>\n",
              "    </tr>\n",
              "    <tr>\n",
              "      <th>4745</th>\n",
              "      <td>4 out of 5</td>\n",
              "      <td>4</td>\n",
              "    </tr>\n",
              "  </tbody>\n",
              "</table>\n",
              "<p>4745 rows × 2 columns</p>\n",
              "</div>\n",
              "      <button class=\"colab-df-convert\" onclick=\"convertToInteractive('df-a8541d04-993d-49da-9323-52aebf27def3')\"\n",
              "              title=\"Convert this dataframe to an interactive table.\"\n",
              "              style=\"display:none;\">\n",
              "        \n",
              "  <svg xmlns=\"http://www.w3.org/2000/svg\" height=\"24px\"viewBox=\"0 0 24 24\"\n",
              "       width=\"24px\">\n",
              "    <path d=\"M0 0h24v24H0V0z\" fill=\"none\"/>\n",
              "    <path d=\"M18.56 5.44l.94 2.06.94-2.06 2.06-.94-2.06-.94-.94-2.06-.94 2.06-2.06.94zm-11 1L8.5 8.5l.94-2.06 2.06-.94-2.06-.94L8.5 2.5l-.94 2.06-2.06.94zm10 10l.94 2.06.94-2.06 2.06-.94-2.06-.94-.94-2.06-.94 2.06-2.06.94z\"/><path d=\"M17.41 7.96l-1.37-1.37c-.4-.4-.92-.59-1.43-.59-.52 0-1.04.2-1.43.59L10.3 9.45l-7.72 7.72c-.78.78-.78 2.05 0 2.83L4 21.41c.39.39.9.59 1.41.59.51 0 1.02-.2 1.41-.59l7.78-7.78 2.81-2.81c.8-.78.8-2.07 0-2.86zM5.41 20L4 18.59l7.72-7.72 1.47 1.35L5.41 20z\"/>\n",
              "  </svg>\n",
              "      </button>\n",
              "      \n",
              "  <style>\n",
              "    .colab-df-container {\n",
              "      display:flex;\n",
              "      flex-wrap:wrap;\n",
              "      gap: 12px;\n",
              "    }\n",
              "\n",
              "    .colab-df-convert {\n",
              "      background-color: #E8F0FE;\n",
              "      border: none;\n",
              "      border-radius: 50%;\n",
              "      cursor: pointer;\n",
              "      display: none;\n",
              "      fill: #1967D2;\n",
              "      height: 32px;\n",
              "      padding: 0 0 0 0;\n",
              "      width: 32px;\n",
              "    }\n",
              "\n",
              "    .colab-df-convert:hover {\n",
              "      background-color: #E2EBFA;\n",
              "      box-shadow: 0px 1px 2px rgba(60, 64, 67, 0.3), 0px 1px 3px 1px rgba(60, 64, 67, 0.15);\n",
              "      fill: #174EA6;\n",
              "    }\n",
              "\n",
              "    [theme=dark] .colab-df-convert {\n",
              "      background-color: #3B4455;\n",
              "      fill: #D2E3FC;\n",
              "    }\n",
              "\n",
              "    [theme=dark] .colab-df-convert:hover {\n",
              "      background-color: #434B5C;\n",
              "      box-shadow: 0px 1px 3px 1px rgba(0, 0, 0, 0.15);\n",
              "      filter: drop-shadow(0px 1px 2px rgba(0, 0, 0, 0.3));\n",
              "      fill: #FFFFFF;\n",
              "    }\n",
              "  </style>\n",
              "\n",
              "      <script>\n",
              "        const buttonEl =\n",
              "          document.querySelector('#df-a8541d04-993d-49da-9323-52aebf27def3 button.colab-df-convert');\n",
              "        buttonEl.style.display =\n",
              "          google.colab.kernel.accessAllowed ? 'block' : 'none';\n",
              "\n",
              "        async function convertToInteractive(key) {\n",
              "          const element = document.querySelector('#df-a8541d04-993d-49da-9323-52aebf27def3');\n",
              "          const dataTable =\n",
              "            await google.colab.kernel.invokeFunction('convertToInteractive',\n",
              "                                                     [key], {});\n",
              "          if (!dataTable) return;\n",
              "\n",
              "          const docLinkHtml = 'Like what you see? Visit the ' +\n",
              "            '<a target=\"_blank\" href=https://colab.research.google.com/notebooks/data_table.ipynb>data table notebook</a>'\n",
              "            + ' to learn more about interactive tables.';\n",
              "          element.innerHTML = '';\n",
              "          dataTable['output_type'] = 'display_data';\n",
              "          await google.colab.output.renderOutput(dataTable, element);\n",
              "          const docLink = document.createElement('div');\n",
              "          docLink.innerHTML = docLinkHtml;\n",
              "          element.appendChild(docLink);\n",
              "        }\n",
              "      </script>\n",
              "    </div>\n",
              "  </div>\n",
              "  "
            ]
          },
          "metadata": {},
          "execution_count": 257
        }
      ]
    },
    {
      "cell_type": "markdown",
      "source": [
        "How do we use City as a feature in the model?"
      ],
      "metadata": {
        "id": "TQfcqVACu_X-"
      }
    },
    {
      "cell_type": "markdown",
      "source": [
        "We can use a **categorical variable** to encode the City and Furnishing Status."
      ],
      "metadata": {
        "id": "fHP1wL6mvGTo"
      }
    },
    {
      "cell_type": "code",
      "source": [
        "from sklearn import preprocessing"
      ],
      "metadata": {
        "id": "crXyFK8PvRff"
      },
      "execution_count": null,
      "outputs": []
    },
    {
      "cell_type": "code",
      "source": [
        "le = preprocessing.LabelEncoder()"
      ],
      "metadata": {
        "id": "Ojhe007uv26_"
      },
      "execution_count": null,
      "outputs": []
    },
    {
      "cell_type": "code",
      "source": [
        "le.fit(list(df['City']))\n",
        "df['city_cat'] = df['City'].apply(lambda x: le.transform([x])[0])"
      ],
      "metadata": {
        "id": "nXAJWd4xvFYd"
      },
      "execution_count": null,
      "outputs": []
    },
    {
      "cell_type": "code",
      "source": [
        "df[['city_cat', 'City']]"
      ],
      "metadata": {
        "colab": {
          "base_uri": "https://localhost:8080/",
          "height": 424
        },
        "id": "EK9Ie_7AuAZV",
        "outputId": "e517b1d7-b7b2-4dc2-9fd6-2167246b0a46"
      },
      "execution_count": null,
      "outputs": [
        {
          "output_type": "execute_result",
          "data": {
            "text/plain": [
              "      city_cat       City\n",
              "0            4    Kolkata\n",
              "1            4    Kolkata\n",
              "2            4    Kolkata\n",
              "3            4    Kolkata\n",
              "4            4    Kolkata\n",
              "...        ...        ...\n",
              "4741         3  Hyderabad\n",
              "4742         3  Hyderabad\n",
              "4743         3  Hyderabad\n",
              "4744         3  Hyderabad\n",
              "4745         3  Hyderabad\n",
              "\n",
              "[4746 rows x 2 columns]"
            ],
            "text/html": [
              "\n",
              "  <div id=\"df-fd78b683-6eee-44b0-b2c5-6d73a1c700c5\">\n",
              "    <div class=\"colab-df-container\">\n",
              "      <div>\n",
              "<style scoped>\n",
              "    .dataframe tbody tr th:only-of-type {\n",
              "        vertical-align: middle;\n",
              "    }\n",
              "\n",
              "    .dataframe tbody tr th {\n",
              "        vertical-align: top;\n",
              "    }\n",
              "\n",
              "    .dataframe thead th {\n",
              "        text-align: right;\n",
              "    }\n",
              "</style>\n",
              "<table border=\"1\" class=\"dataframe\">\n",
              "  <thead>\n",
              "    <tr style=\"text-align: right;\">\n",
              "      <th></th>\n",
              "      <th>city_cat</th>\n",
              "      <th>City</th>\n",
              "    </tr>\n",
              "  </thead>\n",
              "  <tbody>\n",
              "    <tr>\n",
              "      <th>0</th>\n",
              "      <td>4</td>\n",
              "      <td>Kolkata</td>\n",
              "    </tr>\n",
              "    <tr>\n",
              "      <th>1</th>\n",
              "      <td>4</td>\n",
              "      <td>Kolkata</td>\n",
              "    </tr>\n",
              "    <tr>\n",
              "      <th>2</th>\n",
              "      <td>4</td>\n",
              "      <td>Kolkata</td>\n",
              "    </tr>\n",
              "    <tr>\n",
              "      <th>3</th>\n",
              "      <td>4</td>\n",
              "      <td>Kolkata</td>\n",
              "    </tr>\n",
              "    <tr>\n",
              "      <th>4</th>\n",
              "      <td>4</td>\n",
              "      <td>Kolkata</td>\n",
              "    </tr>\n",
              "    <tr>\n",
              "      <th>...</th>\n",
              "      <td>...</td>\n",
              "      <td>...</td>\n",
              "    </tr>\n",
              "    <tr>\n",
              "      <th>4741</th>\n",
              "      <td>3</td>\n",
              "      <td>Hyderabad</td>\n",
              "    </tr>\n",
              "    <tr>\n",
              "      <th>4742</th>\n",
              "      <td>3</td>\n",
              "      <td>Hyderabad</td>\n",
              "    </tr>\n",
              "    <tr>\n",
              "      <th>4743</th>\n",
              "      <td>3</td>\n",
              "      <td>Hyderabad</td>\n",
              "    </tr>\n",
              "    <tr>\n",
              "      <th>4744</th>\n",
              "      <td>3</td>\n",
              "      <td>Hyderabad</td>\n",
              "    </tr>\n",
              "    <tr>\n",
              "      <th>4745</th>\n",
              "      <td>3</td>\n",
              "      <td>Hyderabad</td>\n",
              "    </tr>\n",
              "  </tbody>\n",
              "</table>\n",
              "<p>4746 rows × 2 columns</p>\n",
              "</div>\n",
              "      <button class=\"colab-df-convert\" onclick=\"convertToInteractive('df-fd78b683-6eee-44b0-b2c5-6d73a1c700c5')\"\n",
              "              title=\"Convert this dataframe to an interactive table.\"\n",
              "              style=\"display:none;\">\n",
              "        \n",
              "  <svg xmlns=\"http://www.w3.org/2000/svg\" height=\"24px\"viewBox=\"0 0 24 24\"\n",
              "       width=\"24px\">\n",
              "    <path d=\"M0 0h24v24H0V0z\" fill=\"none\"/>\n",
              "    <path d=\"M18.56 5.44l.94 2.06.94-2.06 2.06-.94-2.06-.94-.94-2.06-.94 2.06-2.06.94zm-11 1L8.5 8.5l.94-2.06 2.06-.94-2.06-.94L8.5 2.5l-.94 2.06-2.06.94zm10 10l.94 2.06.94-2.06 2.06-.94-2.06-.94-.94-2.06-.94 2.06-2.06.94z\"/><path d=\"M17.41 7.96l-1.37-1.37c-.4-.4-.92-.59-1.43-.59-.52 0-1.04.2-1.43.59L10.3 9.45l-7.72 7.72c-.78.78-.78 2.05 0 2.83L4 21.41c.39.39.9.59 1.41.59.51 0 1.02-.2 1.41-.59l7.78-7.78 2.81-2.81c.8-.78.8-2.07 0-2.86zM5.41 20L4 18.59l7.72-7.72 1.47 1.35L5.41 20z\"/>\n",
              "  </svg>\n",
              "      </button>\n",
              "      \n",
              "  <style>\n",
              "    .colab-df-container {\n",
              "      display:flex;\n",
              "      flex-wrap:wrap;\n",
              "      gap: 12px;\n",
              "    }\n",
              "\n",
              "    .colab-df-convert {\n",
              "      background-color: #E8F0FE;\n",
              "      border: none;\n",
              "      border-radius: 50%;\n",
              "      cursor: pointer;\n",
              "      display: none;\n",
              "      fill: #1967D2;\n",
              "      height: 32px;\n",
              "      padding: 0 0 0 0;\n",
              "      width: 32px;\n",
              "    }\n",
              "\n",
              "    .colab-df-convert:hover {\n",
              "      background-color: #E2EBFA;\n",
              "      box-shadow: 0px 1px 2px rgba(60, 64, 67, 0.3), 0px 1px 3px 1px rgba(60, 64, 67, 0.15);\n",
              "      fill: #174EA6;\n",
              "    }\n",
              "\n",
              "    [theme=dark] .colab-df-convert {\n",
              "      background-color: #3B4455;\n",
              "      fill: #D2E3FC;\n",
              "    }\n",
              "\n",
              "    [theme=dark] .colab-df-convert:hover {\n",
              "      background-color: #434B5C;\n",
              "      box-shadow: 0px 1px 3px 1px rgba(0, 0, 0, 0.15);\n",
              "      filter: drop-shadow(0px 1px 2px rgba(0, 0, 0, 0.3));\n",
              "      fill: #FFFFFF;\n",
              "    }\n",
              "  </style>\n",
              "\n",
              "      <script>\n",
              "        const buttonEl =\n",
              "          document.querySelector('#df-fd78b683-6eee-44b0-b2c5-6d73a1c700c5 button.colab-df-convert');\n",
              "        buttonEl.style.display =\n",
              "          google.colab.kernel.accessAllowed ? 'block' : 'none';\n",
              "\n",
              "        async function convertToInteractive(key) {\n",
              "          const element = document.querySelector('#df-fd78b683-6eee-44b0-b2c5-6d73a1c700c5');\n",
              "          const dataTable =\n",
              "            await google.colab.kernel.invokeFunction('convertToInteractive',\n",
              "                                                     [key], {});\n",
              "          if (!dataTable) return;\n",
              "\n",
              "          const docLinkHtml = 'Like what you see? Visit the ' +\n",
              "            '<a target=\"_blank\" href=https://colab.research.google.com/notebooks/data_table.ipynb>data table notebook</a>'\n",
              "            + ' to learn more about interactive tables.';\n",
              "          element.innerHTML = '';\n",
              "          dataTable['output_type'] = 'display_data';\n",
              "          await google.colab.output.renderOutput(dataTable, element);\n",
              "          const docLink = document.createElement('div');\n",
              "          docLink.innerHTML = docLinkHtml;\n",
              "          element.appendChild(docLink);\n",
              "        }\n",
              "      </script>\n",
              "    </div>\n",
              "  </div>\n",
              "  "
            ]
          },
          "metadata": {},
          "execution_count": 248
        }
      ]
    },
    {
      "cell_type": "code",
      "source": [
        "le_furniture = preprocessing.LabelEncoder()\n",
        "le_furniture.fit(list(df['Furnishing Status']))\n",
        "df['furnishing_cat'] = df['Furnishing Status'].apply(lambda x: le_furniture.transform([x])[0])\n",
        "df[['Furnishing Status', 'furnishing_cat']]"
      ],
      "metadata": {
        "colab": {
          "base_uri": "https://localhost:8080/",
          "height": 424
        },
        "id": "z4PQp-psvrVl",
        "outputId": "6d6ba795-4b24-49f2-8150-8fafba03d8f1"
      },
      "execution_count": null,
      "outputs": [
        {
          "output_type": "execute_result",
          "data": {
            "text/plain": [
              "     Furnishing Status  furnishing_cat\n",
              "0          Unfurnished               2\n",
              "1       Semi-Furnished               1\n",
              "2       Semi-Furnished               1\n",
              "3          Unfurnished               2\n",
              "4          Unfurnished               2\n",
              "...                ...             ...\n",
              "4741    Semi-Furnished               1\n",
              "4742    Semi-Furnished               1\n",
              "4743    Semi-Furnished               1\n",
              "4744    Semi-Furnished               1\n",
              "4745       Unfurnished               2\n",
              "\n",
              "[4746 rows x 2 columns]"
            ],
            "text/html": [
              "\n",
              "  <div id=\"df-227cf9d0-7b22-41e7-b094-64f04d853db5\">\n",
              "    <div class=\"colab-df-container\">\n",
              "      <div>\n",
              "<style scoped>\n",
              "    .dataframe tbody tr th:only-of-type {\n",
              "        vertical-align: middle;\n",
              "    }\n",
              "\n",
              "    .dataframe tbody tr th {\n",
              "        vertical-align: top;\n",
              "    }\n",
              "\n",
              "    .dataframe thead th {\n",
              "        text-align: right;\n",
              "    }\n",
              "</style>\n",
              "<table border=\"1\" class=\"dataframe\">\n",
              "  <thead>\n",
              "    <tr style=\"text-align: right;\">\n",
              "      <th></th>\n",
              "      <th>Furnishing Status</th>\n",
              "      <th>furnishing_cat</th>\n",
              "    </tr>\n",
              "  </thead>\n",
              "  <tbody>\n",
              "    <tr>\n",
              "      <th>0</th>\n",
              "      <td>Unfurnished</td>\n",
              "      <td>2</td>\n",
              "    </tr>\n",
              "    <tr>\n",
              "      <th>1</th>\n",
              "      <td>Semi-Furnished</td>\n",
              "      <td>1</td>\n",
              "    </tr>\n",
              "    <tr>\n",
              "      <th>2</th>\n",
              "      <td>Semi-Furnished</td>\n",
              "      <td>1</td>\n",
              "    </tr>\n",
              "    <tr>\n",
              "      <th>3</th>\n",
              "      <td>Unfurnished</td>\n",
              "      <td>2</td>\n",
              "    </tr>\n",
              "    <tr>\n",
              "      <th>4</th>\n",
              "      <td>Unfurnished</td>\n",
              "      <td>2</td>\n",
              "    </tr>\n",
              "    <tr>\n",
              "      <th>...</th>\n",
              "      <td>...</td>\n",
              "      <td>...</td>\n",
              "    </tr>\n",
              "    <tr>\n",
              "      <th>4741</th>\n",
              "      <td>Semi-Furnished</td>\n",
              "      <td>1</td>\n",
              "    </tr>\n",
              "    <tr>\n",
              "      <th>4742</th>\n",
              "      <td>Semi-Furnished</td>\n",
              "      <td>1</td>\n",
              "    </tr>\n",
              "    <tr>\n",
              "      <th>4743</th>\n",
              "      <td>Semi-Furnished</td>\n",
              "      <td>1</td>\n",
              "    </tr>\n",
              "    <tr>\n",
              "      <th>4744</th>\n",
              "      <td>Semi-Furnished</td>\n",
              "      <td>1</td>\n",
              "    </tr>\n",
              "    <tr>\n",
              "      <th>4745</th>\n",
              "      <td>Unfurnished</td>\n",
              "      <td>2</td>\n",
              "    </tr>\n",
              "  </tbody>\n",
              "</table>\n",
              "<p>4746 rows × 2 columns</p>\n",
              "</div>\n",
              "      <button class=\"colab-df-convert\" onclick=\"convertToInteractive('df-227cf9d0-7b22-41e7-b094-64f04d853db5')\"\n",
              "              title=\"Convert this dataframe to an interactive table.\"\n",
              "              style=\"display:none;\">\n",
              "        \n",
              "  <svg xmlns=\"http://www.w3.org/2000/svg\" height=\"24px\"viewBox=\"0 0 24 24\"\n",
              "       width=\"24px\">\n",
              "    <path d=\"M0 0h24v24H0V0z\" fill=\"none\"/>\n",
              "    <path d=\"M18.56 5.44l.94 2.06.94-2.06 2.06-.94-2.06-.94-.94-2.06-.94 2.06-2.06.94zm-11 1L8.5 8.5l.94-2.06 2.06-.94-2.06-.94L8.5 2.5l-.94 2.06-2.06.94zm10 10l.94 2.06.94-2.06 2.06-.94-2.06-.94-.94-2.06-.94 2.06-2.06.94z\"/><path d=\"M17.41 7.96l-1.37-1.37c-.4-.4-.92-.59-1.43-.59-.52 0-1.04.2-1.43.59L10.3 9.45l-7.72 7.72c-.78.78-.78 2.05 0 2.83L4 21.41c.39.39.9.59 1.41.59.51 0 1.02-.2 1.41-.59l7.78-7.78 2.81-2.81c.8-.78.8-2.07 0-2.86zM5.41 20L4 18.59l7.72-7.72 1.47 1.35L5.41 20z\"/>\n",
              "  </svg>\n",
              "      </button>\n",
              "      \n",
              "  <style>\n",
              "    .colab-df-container {\n",
              "      display:flex;\n",
              "      flex-wrap:wrap;\n",
              "      gap: 12px;\n",
              "    }\n",
              "\n",
              "    .colab-df-convert {\n",
              "      background-color: #E8F0FE;\n",
              "      border: none;\n",
              "      border-radius: 50%;\n",
              "      cursor: pointer;\n",
              "      display: none;\n",
              "      fill: #1967D2;\n",
              "      height: 32px;\n",
              "      padding: 0 0 0 0;\n",
              "      width: 32px;\n",
              "    }\n",
              "\n",
              "    .colab-df-convert:hover {\n",
              "      background-color: #E2EBFA;\n",
              "      box-shadow: 0px 1px 2px rgba(60, 64, 67, 0.3), 0px 1px 3px 1px rgba(60, 64, 67, 0.15);\n",
              "      fill: #174EA6;\n",
              "    }\n",
              "\n",
              "    [theme=dark] .colab-df-convert {\n",
              "      background-color: #3B4455;\n",
              "      fill: #D2E3FC;\n",
              "    }\n",
              "\n",
              "    [theme=dark] .colab-df-convert:hover {\n",
              "      background-color: #434B5C;\n",
              "      box-shadow: 0px 1px 3px 1px rgba(0, 0, 0, 0.15);\n",
              "      filter: drop-shadow(0px 1px 2px rgba(0, 0, 0, 0.3));\n",
              "      fill: #FFFFFF;\n",
              "    }\n",
              "  </style>\n",
              "\n",
              "      <script>\n",
              "        const buttonEl =\n",
              "          document.querySelector('#df-227cf9d0-7b22-41e7-b094-64f04d853db5 button.colab-df-convert');\n",
              "        buttonEl.style.display =\n",
              "          google.colab.kernel.accessAllowed ? 'block' : 'none';\n",
              "\n",
              "        async function convertToInteractive(key) {\n",
              "          const element = document.querySelector('#df-227cf9d0-7b22-41e7-b094-64f04d853db5');\n",
              "          const dataTable =\n",
              "            await google.colab.kernel.invokeFunction('convertToInteractive',\n",
              "                                                     [key], {});\n",
              "          if (!dataTable) return;\n",
              "\n",
              "          const docLinkHtml = 'Like what you see? Visit the ' +\n",
              "            '<a target=\"_blank\" href=https://colab.research.google.com/notebooks/data_table.ipynb>data table notebook</a>'\n",
              "            + ' to learn more about interactive tables.';\n",
              "          element.innerHTML = '';\n",
              "          dataTable['output_type'] = 'display_data';\n",
              "          await google.colab.output.renderOutput(dataTable, element);\n",
              "          const docLink = document.createElement('div');\n",
              "          docLink.innerHTML = docLinkHtml;\n",
              "          element.appendChild(docLink);\n",
              "        }\n",
              "      </script>\n",
              "    </div>\n",
              "  </div>\n",
              "  "
            ]
          },
          "metadata": {},
          "execution_count": 249
        }
      ]
    },
    {
      "cell_type": "code",
      "source": [
        "tenpref_le = preprocessing.LabelEncoder()\n",
        "tenpref_le.fit(list(df['Tenant Preferred']))\n",
        "df['tenent_pref_cat'] = df['Tenant Preferred'].apply(lambda x: tenpref_le.transform([x])[0])\n",
        "df[['Tenant Preferred', 'tenent_pref_cat']]"
      ],
      "metadata": {
        "colab": {
          "base_uri": "https://localhost:8080/",
          "height": 424
        },
        "id": "MaZJ4DykZ6Qo",
        "outputId": "c8dd194e-74eb-47e5-f0bd-154ac067ff94"
      },
      "execution_count": null,
      "outputs": [
        {
          "output_type": "execute_result",
          "data": {
            "text/plain": [
              "      Tenant Preferred  tenent_pref_cat\n",
              "0     Bachelors/Family                1\n",
              "1     Bachelors/Family                1\n",
              "2     Bachelors/Family                1\n",
              "3     Bachelors/Family                1\n",
              "4            Bachelors                0\n",
              "...                ...              ...\n",
              "4741  Bachelors/Family                1\n",
              "4742  Bachelors/Family                1\n",
              "4743  Bachelors/Family                1\n",
              "4744            Family                2\n",
              "4745         Bachelors                0\n",
              "\n",
              "[4746 rows x 2 columns]"
            ],
            "text/html": [
              "\n",
              "  <div id=\"df-aa344909-0cb4-4248-919f-11ede8c5646c\">\n",
              "    <div class=\"colab-df-container\">\n",
              "      <div>\n",
              "<style scoped>\n",
              "    .dataframe tbody tr th:only-of-type {\n",
              "        vertical-align: middle;\n",
              "    }\n",
              "\n",
              "    .dataframe tbody tr th {\n",
              "        vertical-align: top;\n",
              "    }\n",
              "\n",
              "    .dataframe thead th {\n",
              "        text-align: right;\n",
              "    }\n",
              "</style>\n",
              "<table border=\"1\" class=\"dataframe\">\n",
              "  <thead>\n",
              "    <tr style=\"text-align: right;\">\n",
              "      <th></th>\n",
              "      <th>Tenant Preferred</th>\n",
              "      <th>tenent_pref_cat</th>\n",
              "    </tr>\n",
              "  </thead>\n",
              "  <tbody>\n",
              "    <tr>\n",
              "      <th>0</th>\n",
              "      <td>Bachelors/Family</td>\n",
              "      <td>1</td>\n",
              "    </tr>\n",
              "    <tr>\n",
              "      <th>1</th>\n",
              "      <td>Bachelors/Family</td>\n",
              "      <td>1</td>\n",
              "    </tr>\n",
              "    <tr>\n",
              "      <th>2</th>\n",
              "      <td>Bachelors/Family</td>\n",
              "      <td>1</td>\n",
              "    </tr>\n",
              "    <tr>\n",
              "      <th>3</th>\n",
              "      <td>Bachelors/Family</td>\n",
              "      <td>1</td>\n",
              "    </tr>\n",
              "    <tr>\n",
              "      <th>4</th>\n",
              "      <td>Bachelors</td>\n",
              "      <td>0</td>\n",
              "    </tr>\n",
              "    <tr>\n",
              "      <th>...</th>\n",
              "      <td>...</td>\n",
              "      <td>...</td>\n",
              "    </tr>\n",
              "    <tr>\n",
              "      <th>4741</th>\n",
              "      <td>Bachelors/Family</td>\n",
              "      <td>1</td>\n",
              "    </tr>\n",
              "    <tr>\n",
              "      <th>4742</th>\n",
              "      <td>Bachelors/Family</td>\n",
              "      <td>1</td>\n",
              "    </tr>\n",
              "    <tr>\n",
              "      <th>4743</th>\n",
              "      <td>Bachelors/Family</td>\n",
              "      <td>1</td>\n",
              "    </tr>\n",
              "    <tr>\n",
              "      <th>4744</th>\n",
              "      <td>Family</td>\n",
              "      <td>2</td>\n",
              "    </tr>\n",
              "    <tr>\n",
              "      <th>4745</th>\n",
              "      <td>Bachelors</td>\n",
              "      <td>0</td>\n",
              "    </tr>\n",
              "  </tbody>\n",
              "</table>\n",
              "<p>4746 rows × 2 columns</p>\n",
              "</div>\n",
              "      <button class=\"colab-df-convert\" onclick=\"convertToInteractive('df-aa344909-0cb4-4248-919f-11ede8c5646c')\"\n",
              "              title=\"Convert this dataframe to an interactive table.\"\n",
              "              style=\"display:none;\">\n",
              "        \n",
              "  <svg xmlns=\"http://www.w3.org/2000/svg\" height=\"24px\"viewBox=\"0 0 24 24\"\n",
              "       width=\"24px\">\n",
              "    <path d=\"M0 0h24v24H0V0z\" fill=\"none\"/>\n",
              "    <path d=\"M18.56 5.44l.94 2.06.94-2.06 2.06-.94-2.06-.94-.94-2.06-.94 2.06-2.06.94zm-11 1L8.5 8.5l.94-2.06 2.06-.94-2.06-.94L8.5 2.5l-.94 2.06-2.06.94zm10 10l.94 2.06.94-2.06 2.06-.94-2.06-.94-.94-2.06-.94 2.06-2.06.94z\"/><path d=\"M17.41 7.96l-1.37-1.37c-.4-.4-.92-.59-1.43-.59-.52 0-1.04.2-1.43.59L10.3 9.45l-7.72 7.72c-.78.78-.78 2.05 0 2.83L4 21.41c.39.39.9.59 1.41.59.51 0 1.02-.2 1.41-.59l7.78-7.78 2.81-2.81c.8-.78.8-2.07 0-2.86zM5.41 20L4 18.59l7.72-7.72 1.47 1.35L5.41 20z\"/>\n",
              "  </svg>\n",
              "      </button>\n",
              "      \n",
              "  <style>\n",
              "    .colab-df-container {\n",
              "      display:flex;\n",
              "      flex-wrap:wrap;\n",
              "      gap: 12px;\n",
              "    }\n",
              "\n",
              "    .colab-df-convert {\n",
              "      background-color: #E8F0FE;\n",
              "      border: none;\n",
              "      border-radius: 50%;\n",
              "      cursor: pointer;\n",
              "      display: none;\n",
              "      fill: #1967D2;\n",
              "      height: 32px;\n",
              "      padding: 0 0 0 0;\n",
              "      width: 32px;\n",
              "    }\n",
              "\n",
              "    .colab-df-convert:hover {\n",
              "      background-color: #E2EBFA;\n",
              "      box-shadow: 0px 1px 2px rgba(60, 64, 67, 0.3), 0px 1px 3px 1px rgba(60, 64, 67, 0.15);\n",
              "      fill: #174EA6;\n",
              "    }\n",
              "\n",
              "    [theme=dark] .colab-df-convert {\n",
              "      background-color: #3B4455;\n",
              "      fill: #D2E3FC;\n",
              "    }\n",
              "\n",
              "    [theme=dark] .colab-df-convert:hover {\n",
              "      background-color: #434B5C;\n",
              "      box-shadow: 0px 1px 3px 1px rgba(0, 0, 0, 0.15);\n",
              "      filter: drop-shadow(0px 1px 2px rgba(0, 0, 0, 0.3));\n",
              "      fill: #FFFFFF;\n",
              "    }\n",
              "  </style>\n",
              "\n",
              "      <script>\n",
              "        const buttonEl =\n",
              "          document.querySelector('#df-aa344909-0cb4-4248-919f-11ede8c5646c button.colab-df-convert');\n",
              "        buttonEl.style.display =\n",
              "          google.colab.kernel.accessAllowed ? 'block' : 'none';\n",
              "\n",
              "        async function convertToInteractive(key) {\n",
              "          const element = document.querySelector('#df-aa344909-0cb4-4248-919f-11ede8c5646c');\n",
              "          const dataTable =\n",
              "            await google.colab.kernel.invokeFunction('convertToInteractive',\n",
              "                                                     [key], {});\n",
              "          if (!dataTable) return;\n",
              "\n",
              "          const docLinkHtml = 'Like what you see? Visit the ' +\n",
              "            '<a target=\"_blank\" href=https://colab.research.google.com/notebooks/data_table.ipynb>data table notebook</a>'\n",
              "            + ' to learn more about interactive tables.';\n",
              "          element.innerHTML = '';\n",
              "          dataTable['output_type'] = 'display_data';\n",
              "          await google.colab.output.renderOutput(dataTable, element);\n",
              "          const docLink = document.createElement('div');\n",
              "          docLink.innerHTML = docLinkHtml;\n",
              "          element.appendChild(docLink);\n",
              "        }\n",
              "      </script>\n",
              "    </div>\n",
              "  </div>\n",
              "  "
            ]
          },
          "metadata": {},
          "execution_count": 250
        }
      ]
    },
    {
      "cell_type": "code",
      "source": [
        "areatype_le = preprocessing.LabelEncoder()\n",
        "areatype_le.fit(list(df['Area Type']))\n",
        "df['areatype_cat'] = df['Area Type'].apply(lambda x: areatype_le.transform([x])[0])\n",
        "df[['Area Type', 'areatype_cat']]"
      ],
      "metadata": {
        "colab": {
          "base_uri": "https://localhost:8080/",
          "height": 424
        },
        "id": "BQyb-fVqaL9l",
        "outputId": "679b0550-cbe1-4788-e369-0689376a5d1a"
      },
      "execution_count": null,
      "outputs": [
        {
          "output_type": "execute_result",
          "data": {
            "text/plain": [
              "        Area Type  areatype_cat\n",
              "0      Super Area             2\n",
              "1      Super Area             2\n",
              "2      Super Area             2\n",
              "3      Super Area             2\n",
              "4     Carpet Area             1\n",
              "...           ...           ...\n",
              "4741  Carpet Area             1\n",
              "4742   Super Area             2\n",
              "4743  Carpet Area             1\n",
              "4744  Carpet Area             1\n",
              "4745  Carpet Area             1\n",
              "\n",
              "[4746 rows x 2 columns]"
            ],
            "text/html": [
              "\n",
              "  <div id=\"df-e0ad1557-858d-4bed-ba19-6e8b22cbb40c\">\n",
              "    <div class=\"colab-df-container\">\n",
              "      <div>\n",
              "<style scoped>\n",
              "    .dataframe tbody tr th:only-of-type {\n",
              "        vertical-align: middle;\n",
              "    }\n",
              "\n",
              "    .dataframe tbody tr th {\n",
              "        vertical-align: top;\n",
              "    }\n",
              "\n",
              "    .dataframe thead th {\n",
              "        text-align: right;\n",
              "    }\n",
              "</style>\n",
              "<table border=\"1\" class=\"dataframe\">\n",
              "  <thead>\n",
              "    <tr style=\"text-align: right;\">\n",
              "      <th></th>\n",
              "      <th>Area Type</th>\n",
              "      <th>areatype_cat</th>\n",
              "    </tr>\n",
              "  </thead>\n",
              "  <tbody>\n",
              "    <tr>\n",
              "      <th>0</th>\n",
              "      <td>Super Area</td>\n",
              "      <td>2</td>\n",
              "    </tr>\n",
              "    <tr>\n",
              "      <th>1</th>\n",
              "      <td>Super Area</td>\n",
              "      <td>2</td>\n",
              "    </tr>\n",
              "    <tr>\n",
              "      <th>2</th>\n",
              "      <td>Super Area</td>\n",
              "      <td>2</td>\n",
              "    </tr>\n",
              "    <tr>\n",
              "      <th>3</th>\n",
              "      <td>Super Area</td>\n",
              "      <td>2</td>\n",
              "    </tr>\n",
              "    <tr>\n",
              "      <th>4</th>\n",
              "      <td>Carpet Area</td>\n",
              "      <td>1</td>\n",
              "    </tr>\n",
              "    <tr>\n",
              "      <th>...</th>\n",
              "      <td>...</td>\n",
              "      <td>...</td>\n",
              "    </tr>\n",
              "    <tr>\n",
              "      <th>4741</th>\n",
              "      <td>Carpet Area</td>\n",
              "      <td>1</td>\n",
              "    </tr>\n",
              "    <tr>\n",
              "      <th>4742</th>\n",
              "      <td>Super Area</td>\n",
              "      <td>2</td>\n",
              "    </tr>\n",
              "    <tr>\n",
              "      <th>4743</th>\n",
              "      <td>Carpet Area</td>\n",
              "      <td>1</td>\n",
              "    </tr>\n",
              "    <tr>\n",
              "      <th>4744</th>\n",
              "      <td>Carpet Area</td>\n",
              "      <td>1</td>\n",
              "    </tr>\n",
              "    <tr>\n",
              "      <th>4745</th>\n",
              "      <td>Carpet Area</td>\n",
              "      <td>1</td>\n",
              "    </tr>\n",
              "  </tbody>\n",
              "</table>\n",
              "<p>4746 rows × 2 columns</p>\n",
              "</div>\n",
              "      <button class=\"colab-df-convert\" onclick=\"convertToInteractive('df-e0ad1557-858d-4bed-ba19-6e8b22cbb40c')\"\n",
              "              title=\"Convert this dataframe to an interactive table.\"\n",
              "              style=\"display:none;\">\n",
              "        \n",
              "  <svg xmlns=\"http://www.w3.org/2000/svg\" height=\"24px\"viewBox=\"0 0 24 24\"\n",
              "       width=\"24px\">\n",
              "    <path d=\"M0 0h24v24H0V0z\" fill=\"none\"/>\n",
              "    <path d=\"M18.56 5.44l.94 2.06.94-2.06 2.06-.94-2.06-.94-.94-2.06-.94 2.06-2.06.94zm-11 1L8.5 8.5l.94-2.06 2.06-.94-2.06-.94L8.5 2.5l-.94 2.06-2.06.94zm10 10l.94 2.06.94-2.06 2.06-.94-2.06-.94-.94-2.06-.94 2.06-2.06.94z\"/><path d=\"M17.41 7.96l-1.37-1.37c-.4-.4-.92-.59-1.43-.59-.52 0-1.04.2-1.43.59L10.3 9.45l-7.72 7.72c-.78.78-.78 2.05 0 2.83L4 21.41c.39.39.9.59 1.41.59.51 0 1.02-.2 1.41-.59l7.78-7.78 2.81-2.81c.8-.78.8-2.07 0-2.86zM5.41 20L4 18.59l7.72-7.72 1.47 1.35L5.41 20z\"/>\n",
              "  </svg>\n",
              "      </button>\n",
              "      \n",
              "  <style>\n",
              "    .colab-df-container {\n",
              "      display:flex;\n",
              "      flex-wrap:wrap;\n",
              "      gap: 12px;\n",
              "    }\n",
              "\n",
              "    .colab-df-convert {\n",
              "      background-color: #E8F0FE;\n",
              "      border: none;\n",
              "      border-radius: 50%;\n",
              "      cursor: pointer;\n",
              "      display: none;\n",
              "      fill: #1967D2;\n",
              "      height: 32px;\n",
              "      padding: 0 0 0 0;\n",
              "      width: 32px;\n",
              "    }\n",
              "\n",
              "    .colab-df-convert:hover {\n",
              "      background-color: #E2EBFA;\n",
              "      box-shadow: 0px 1px 2px rgba(60, 64, 67, 0.3), 0px 1px 3px 1px rgba(60, 64, 67, 0.15);\n",
              "      fill: #174EA6;\n",
              "    }\n",
              "\n",
              "    [theme=dark] .colab-df-convert {\n",
              "      background-color: #3B4455;\n",
              "      fill: #D2E3FC;\n",
              "    }\n",
              "\n",
              "    [theme=dark] .colab-df-convert:hover {\n",
              "      background-color: #434B5C;\n",
              "      box-shadow: 0px 1px 3px 1px rgba(0, 0, 0, 0.15);\n",
              "      filter: drop-shadow(0px 1px 2px rgba(0, 0, 0, 0.3));\n",
              "      fill: #FFFFFF;\n",
              "    }\n",
              "  </style>\n",
              "\n",
              "      <script>\n",
              "        const buttonEl =\n",
              "          document.querySelector('#df-e0ad1557-858d-4bed-ba19-6e8b22cbb40c button.colab-df-convert');\n",
              "        buttonEl.style.display =\n",
              "          google.colab.kernel.accessAllowed ? 'block' : 'none';\n",
              "\n",
              "        async function convertToInteractive(key) {\n",
              "          const element = document.querySelector('#df-e0ad1557-858d-4bed-ba19-6e8b22cbb40c');\n",
              "          const dataTable =\n",
              "            await google.colab.kernel.invokeFunction('convertToInteractive',\n",
              "                                                     [key], {});\n",
              "          if (!dataTable) return;\n",
              "\n",
              "          const docLinkHtml = 'Like what you see? Visit the ' +\n",
              "            '<a target=\"_blank\" href=https://colab.research.google.com/notebooks/data_table.ipynb>data table notebook</a>'\n",
              "            + ' to learn more about interactive tables.';\n",
              "          element.innerHTML = '';\n",
              "          dataTable['output_type'] = 'display_data';\n",
              "          await google.colab.output.renderOutput(dataTable, element);\n",
              "          const docLink = document.createElement('div');\n",
              "          docLink.innerHTML = docLinkHtml;\n",
              "          element.appendChild(docLink);\n",
              "        }\n",
              "      </script>\n",
              "    </div>\n",
              "  </div>\n",
              "  "
            ]
          },
          "metadata": {},
          "execution_count": 251
        }
      ]
    },
    {
      "cell_type": "markdown",
      "source": [
        "Let us remove the one outlier in the dataset, which has rent 35 Lacs."
      ],
      "metadata": {
        "id": "KD4hJcorUi0-"
      }
    },
    {
      "cell_type": "code",
      "source": [
        "max(df['Rent']), df['Rent'].idxmax()"
      ],
      "metadata": {
        "colab": {
          "base_uri": "https://localhost:8080/"
        },
        "id": "nEe4G3zoUeUY",
        "outputId": "e09e6b78-7b89-4e3b-adae-ce76af2d203f"
      },
      "execution_count": null,
      "outputs": [
        {
          "output_type": "execute_result",
          "data": {
            "text/plain": [
              "(3500000, 1837)"
            ]
          },
          "metadata": {},
          "execution_count": 252
        }
      ]
    },
    {
      "cell_type": "code",
      "source": [
        "df = df.drop([df.index[1837]])"
      ],
      "metadata": {
        "id": "wTL7rkU2U_Co"
      },
      "execution_count": null,
      "outputs": []
    },
    {
      "cell_type": "code",
      "source": [
        "df.shape"
      ],
      "metadata": {
        "colab": {
          "base_uri": "https://localhost:8080/"
        },
        "id": "kFnBwnGAVP4j",
        "outputId": "39c8205b-959c-4ac9-f000-1d03a654cc14"
      },
      "execution_count": null,
      "outputs": [
        {
          "output_type": "execute_result",
          "data": {
            "text/plain": [
              "(4745, 17)"
            ]
          },
          "metadata": {},
          "execution_count": 254
        }
      ]
    },
    {
      "cell_type": "markdown",
      "source": [
        "## Let us now split the dataset into train-val-test sets."
      ],
      "metadata": {
        "id": "zusbs55hyb-4"
      }
    },
    {
      "cell_type": "code",
      "source": [
        "df.head(3)"
      ],
      "metadata": {
        "colab": {
          "base_uri": "https://localhost:8080/",
          "height": 309
        },
        "id": "kMfhbPhfyLh6",
        "outputId": "c6731355-896f-4649-a7ab-5c8ecd7b986f"
      },
      "execution_count": null,
      "outputs": [
        {
          "output_type": "execute_result",
          "data": {
            "text/plain": [
              "    Posted On  BHK   Rent  Size            Floor   Area Type  \\\n",
              "0  2022-05-18    2  10000  1100  Ground out of 2  Super Area   \n",
              "1  2022-05-13    2  20000   800       1 out of 3  Super Area   \n",
              "2  2022-05-16    2  17000  1000       1 out of 3  Super Area   \n",
              "\n",
              "              Area Locality     City Furnishing Status  Tenant Preferred  \\\n",
              "0                    Bandel  Kolkata       Unfurnished  Bachelors/Family   \n",
              "1  Phool Bagan, Kankurgachi  Kolkata    Semi-Furnished  Bachelors/Family   \n",
              "2   Salt Lake City Sector 2  Kolkata    Semi-Furnished  Bachelors/Family   \n",
              "\n",
              "   Bathroom Point of Contact  Recency  city_cat  furnishing_cat  \\\n",
              "0         2    Contact Owner       92         4               2   \n",
              "1         1    Contact Owner       97         4               1   \n",
              "2         1    Contact Owner       94         4               1   \n",
              "\n",
              "   tenent_pref_cat  areatype_cat  \n",
              "0                1             2  \n",
              "1                1             2  \n",
              "2                1             2  "
            ],
            "text/html": [
              "\n",
              "  <div id=\"df-327a1bec-c14a-4156-bf1f-eda299c4b515\">\n",
              "    <div class=\"colab-df-container\">\n",
              "      <div>\n",
              "<style scoped>\n",
              "    .dataframe tbody tr th:only-of-type {\n",
              "        vertical-align: middle;\n",
              "    }\n",
              "\n",
              "    .dataframe tbody tr th {\n",
              "        vertical-align: top;\n",
              "    }\n",
              "\n",
              "    .dataframe thead th {\n",
              "        text-align: right;\n",
              "    }\n",
              "</style>\n",
              "<table border=\"1\" class=\"dataframe\">\n",
              "  <thead>\n",
              "    <tr style=\"text-align: right;\">\n",
              "      <th></th>\n",
              "      <th>Posted On</th>\n",
              "      <th>BHK</th>\n",
              "      <th>Rent</th>\n",
              "      <th>Size</th>\n",
              "      <th>Floor</th>\n",
              "      <th>Area Type</th>\n",
              "      <th>Area Locality</th>\n",
              "      <th>City</th>\n",
              "      <th>Furnishing Status</th>\n",
              "      <th>Tenant Preferred</th>\n",
              "      <th>Bathroom</th>\n",
              "      <th>Point of Contact</th>\n",
              "      <th>Recency</th>\n",
              "      <th>city_cat</th>\n",
              "      <th>furnishing_cat</th>\n",
              "      <th>tenent_pref_cat</th>\n",
              "      <th>areatype_cat</th>\n",
              "    </tr>\n",
              "  </thead>\n",
              "  <tbody>\n",
              "    <tr>\n",
              "      <th>0</th>\n",
              "      <td>2022-05-18</td>\n",
              "      <td>2</td>\n",
              "      <td>10000</td>\n",
              "      <td>1100</td>\n",
              "      <td>Ground out of 2</td>\n",
              "      <td>Super Area</td>\n",
              "      <td>Bandel</td>\n",
              "      <td>Kolkata</td>\n",
              "      <td>Unfurnished</td>\n",
              "      <td>Bachelors/Family</td>\n",
              "      <td>2</td>\n",
              "      <td>Contact Owner</td>\n",
              "      <td>92</td>\n",
              "      <td>4</td>\n",
              "      <td>2</td>\n",
              "      <td>1</td>\n",
              "      <td>2</td>\n",
              "    </tr>\n",
              "    <tr>\n",
              "      <th>1</th>\n",
              "      <td>2022-05-13</td>\n",
              "      <td>2</td>\n",
              "      <td>20000</td>\n",
              "      <td>800</td>\n",
              "      <td>1 out of 3</td>\n",
              "      <td>Super Area</td>\n",
              "      <td>Phool Bagan, Kankurgachi</td>\n",
              "      <td>Kolkata</td>\n",
              "      <td>Semi-Furnished</td>\n",
              "      <td>Bachelors/Family</td>\n",
              "      <td>1</td>\n",
              "      <td>Contact Owner</td>\n",
              "      <td>97</td>\n",
              "      <td>4</td>\n",
              "      <td>1</td>\n",
              "      <td>1</td>\n",
              "      <td>2</td>\n",
              "    </tr>\n",
              "    <tr>\n",
              "      <th>2</th>\n",
              "      <td>2022-05-16</td>\n",
              "      <td>2</td>\n",
              "      <td>17000</td>\n",
              "      <td>1000</td>\n",
              "      <td>1 out of 3</td>\n",
              "      <td>Super Area</td>\n",
              "      <td>Salt Lake City Sector 2</td>\n",
              "      <td>Kolkata</td>\n",
              "      <td>Semi-Furnished</td>\n",
              "      <td>Bachelors/Family</td>\n",
              "      <td>1</td>\n",
              "      <td>Contact Owner</td>\n",
              "      <td>94</td>\n",
              "      <td>4</td>\n",
              "      <td>1</td>\n",
              "      <td>1</td>\n",
              "      <td>2</td>\n",
              "    </tr>\n",
              "  </tbody>\n",
              "</table>\n",
              "</div>\n",
              "      <button class=\"colab-df-convert\" onclick=\"convertToInteractive('df-327a1bec-c14a-4156-bf1f-eda299c4b515')\"\n",
              "              title=\"Convert this dataframe to an interactive table.\"\n",
              "              style=\"display:none;\">\n",
              "        \n",
              "  <svg xmlns=\"http://www.w3.org/2000/svg\" height=\"24px\"viewBox=\"0 0 24 24\"\n",
              "       width=\"24px\">\n",
              "    <path d=\"M0 0h24v24H0V0z\" fill=\"none\"/>\n",
              "    <path d=\"M18.56 5.44l.94 2.06.94-2.06 2.06-.94-2.06-.94-.94-2.06-.94 2.06-2.06.94zm-11 1L8.5 8.5l.94-2.06 2.06-.94-2.06-.94L8.5 2.5l-.94 2.06-2.06.94zm10 10l.94 2.06.94-2.06 2.06-.94-2.06-.94-.94-2.06-.94 2.06-2.06.94z\"/><path d=\"M17.41 7.96l-1.37-1.37c-.4-.4-.92-.59-1.43-.59-.52 0-1.04.2-1.43.59L10.3 9.45l-7.72 7.72c-.78.78-.78 2.05 0 2.83L4 21.41c.39.39.9.59 1.41.59.51 0 1.02-.2 1.41-.59l7.78-7.78 2.81-2.81c.8-.78.8-2.07 0-2.86zM5.41 20L4 18.59l7.72-7.72 1.47 1.35L5.41 20z\"/>\n",
              "  </svg>\n",
              "      </button>\n",
              "      \n",
              "  <style>\n",
              "    .colab-df-container {\n",
              "      display:flex;\n",
              "      flex-wrap:wrap;\n",
              "      gap: 12px;\n",
              "    }\n",
              "\n",
              "    .colab-df-convert {\n",
              "      background-color: #E8F0FE;\n",
              "      border: none;\n",
              "      border-radius: 50%;\n",
              "      cursor: pointer;\n",
              "      display: none;\n",
              "      fill: #1967D2;\n",
              "      height: 32px;\n",
              "      padding: 0 0 0 0;\n",
              "      width: 32px;\n",
              "    }\n",
              "\n",
              "    .colab-df-convert:hover {\n",
              "      background-color: #E2EBFA;\n",
              "      box-shadow: 0px 1px 2px rgba(60, 64, 67, 0.3), 0px 1px 3px 1px rgba(60, 64, 67, 0.15);\n",
              "      fill: #174EA6;\n",
              "    }\n",
              "\n",
              "    [theme=dark] .colab-df-convert {\n",
              "      background-color: #3B4455;\n",
              "      fill: #D2E3FC;\n",
              "    }\n",
              "\n",
              "    [theme=dark] .colab-df-convert:hover {\n",
              "      background-color: #434B5C;\n",
              "      box-shadow: 0px 1px 3px 1px rgba(0, 0, 0, 0.15);\n",
              "      filter: drop-shadow(0px 1px 2px rgba(0, 0, 0, 0.3));\n",
              "      fill: #FFFFFF;\n",
              "    }\n",
              "  </style>\n",
              "\n",
              "      <script>\n",
              "        const buttonEl =\n",
              "          document.querySelector('#df-327a1bec-c14a-4156-bf1f-eda299c4b515 button.colab-df-convert');\n",
              "        buttonEl.style.display =\n",
              "          google.colab.kernel.accessAllowed ? 'block' : 'none';\n",
              "\n",
              "        async function convertToInteractive(key) {\n",
              "          const element = document.querySelector('#df-327a1bec-c14a-4156-bf1f-eda299c4b515');\n",
              "          const dataTable =\n",
              "            await google.colab.kernel.invokeFunction('convertToInteractive',\n",
              "                                                     [key], {});\n",
              "          if (!dataTable) return;\n",
              "\n",
              "          const docLinkHtml = 'Like what you see? Visit the ' +\n",
              "            '<a target=\"_blank\" href=https://colab.research.google.com/notebooks/data_table.ipynb>data table notebook</a>'\n",
              "            + ' to learn more about interactive tables.';\n",
              "          element.innerHTML = '';\n",
              "          dataTable['output_type'] = 'display_data';\n",
              "          await google.colab.output.renderOutput(dataTable, element);\n",
              "          const docLink = document.createElement('div');\n",
              "          docLink.innerHTML = docLinkHtml;\n",
              "          element.appendChild(docLink);\n",
              "        }\n",
              "      </script>\n",
              "    </div>\n",
              "  </div>\n",
              "  "
            ]
          },
          "metadata": {},
          "execution_count": 255
        }
      ]
    },
    {
      "cell_type": "code",
      "source": [
        "data_df = df[[\"BHK\", \"Size\", \"FloorNum\", \"Bathroom\", \"Recency\", \"city_cat\", \"furnishing_cat\", \"areatype_cat\", \"tenent_pref_cat\"]]\n",
        "data_df.head()"
      ],
      "metadata": {
        "colab": {
          "base_uri": "https://localhost:8080/",
          "height": 206
        },
        "id": "YSeLJzGSyibj",
        "outputId": "0faee951-9710-43a9-e2ad-cc4a341a640c"
      },
      "execution_count": null,
      "outputs": [
        {
          "output_type": "execute_result",
          "data": {
            "text/plain": [
              "   BHK  Size  FloorNum  Bathroom  Recency  city_cat  furnishing_cat  \\\n",
              "0    2  1100         0         2       92         4               2   \n",
              "1    2   800         1         1       97         4               1   \n",
              "2    2  1000         1         1       94         4               1   \n",
              "3    2   800         1         1       45         4               2   \n",
              "4    2   850         1         1      101         4               2   \n",
              "\n",
              "   areatype_cat  tenent_pref_cat  \n",
              "0             2                1  \n",
              "1             2                1  \n",
              "2             2                1  \n",
              "3             2                1  \n",
              "4             1                0  "
            ],
            "text/html": [
              "\n",
              "  <div id=\"df-5a4d2df3-19c4-4459-a2d3-3cf1df819c3a\">\n",
              "    <div class=\"colab-df-container\">\n",
              "      <div>\n",
              "<style scoped>\n",
              "    .dataframe tbody tr th:only-of-type {\n",
              "        vertical-align: middle;\n",
              "    }\n",
              "\n",
              "    .dataframe tbody tr th {\n",
              "        vertical-align: top;\n",
              "    }\n",
              "\n",
              "    .dataframe thead th {\n",
              "        text-align: right;\n",
              "    }\n",
              "</style>\n",
              "<table border=\"1\" class=\"dataframe\">\n",
              "  <thead>\n",
              "    <tr style=\"text-align: right;\">\n",
              "      <th></th>\n",
              "      <th>BHK</th>\n",
              "      <th>Size</th>\n",
              "      <th>FloorNum</th>\n",
              "      <th>Bathroom</th>\n",
              "      <th>Recency</th>\n",
              "      <th>city_cat</th>\n",
              "      <th>furnishing_cat</th>\n",
              "      <th>areatype_cat</th>\n",
              "      <th>tenent_pref_cat</th>\n",
              "    </tr>\n",
              "  </thead>\n",
              "  <tbody>\n",
              "    <tr>\n",
              "      <th>0</th>\n",
              "      <td>2</td>\n",
              "      <td>1100</td>\n",
              "      <td>0</td>\n",
              "      <td>2</td>\n",
              "      <td>92</td>\n",
              "      <td>4</td>\n",
              "      <td>2</td>\n",
              "      <td>2</td>\n",
              "      <td>1</td>\n",
              "    </tr>\n",
              "    <tr>\n",
              "      <th>1</th>\n",
              "      <td>2</td>\n",
              "      <td>800</td>\n",
              "      <td>1</td>\n",
              "      <td>1</td>\n",
              "      <td>97</td>\n",
              "      <td>4</td>\n",
              "      <td>1</td>\n",
              "      <td>2</td>\n",
              "      <td>1</td>\n",
              "    </tr>\n",
              "    <tr>\n",
              "      <th>2</th>\n",
              "      <td>2</td>\n",
              "      <td>1000</td>\n",
              "      <td>1</td>\n",
              "      <td>1</td>\n",
              "      <td>94</td>\n",
              "      <td>4</td>\n",
              "      <td>1</td>\n",
              "      <td>2</td>\n",
              "      <td>1</td>\n",
              "    </tr>\n",
              "    <tr>\n",
              "      <th>3</th>\n",
              "      <td>2</td>\n",
              "      <td>800</td>\n",
              "      <td>1</td>\n",
              "      <td>1</td>\n",
              "      <td>45</td>\n",
              "      <td>4</td>\n",
              "      <td>2</td>\n",
              "      <td>2</td>\n",
              "      <td>1</td>\n",
              "    </tr>\n",
              "    <tr>\n",
              "      <th>4</th>\n",
              "      <td>2</td>\n",
              "      <td>850</td>\n",
              "      <td>1</td>\n",
              "      <td>1</td>\n",
              "      <td>101</td>\n",
              "      <td>4</td>\n",
              "      <td>2</td>\n",
              "      <td>1</td>\n",
              "      <td>0</td>\n",
              "    </tr>\n",
              "  </tbody>\n",
              "</table>\n",
              "</div>\n",
              "      <button class=\"colab-df-convert\" onclick=\"convertToInteractive('df-5a4d2df3-19c4-4459-a2d3-3cf1df819c3a')\"\n",
              "              title=\"Convert this dataframe to an interactive table.\"\n",
              "              style=\"display:none;\">\n",
              "        \n",
              "  <svg xmlns=\"http://www.w3.org/2000/svg\" height=\"24px\"viewBox=\"0 0 24 24\"\n",
              "       width=\"24px\">\n",
              "    <path d=\"M0 0h24v24H0V0z\" fill=\"none\"/>\n",
              "    <path d=\"M18.56 5.44l.94 2.06.94-2.06 2.06-.94-2.06-.94-.94-2.06-.94 2.06-2.06.94zm-11 1L8.5 8.5l.94-2.06 2.06-.94-2.06-.94L8.5 2.5l-.94 2.06-2.06.94zm10 10l.94 2.06.94-2.06 2.06-.94-2.06-.94-.94-2.06-.94 2.06-2.06.94z\"/><path d=\"M17.41 7.96l-1.37-1.37c-.4-.4-.92-.59-1.43-.59-.52 0-1.04.2-1.43.59L10.3 9.45l-7.72 7.72c-.78.78-.78 2.05 0 2.83L4 21.41c.39.39.9.59 1.41.59.51 0 1.02-.2 1.41-.59l7.78-7.78 2.81-2.81c.8-.78.8-2.07 0-2.86zM5.41 20L4 18.59l7.72-7.72 1.47 1.35L5.41 20z\"/>\n",
              "  </svg>\n",
              "      </button>\n",
              "      \n",
              "  <style>\n",
              "    .colab-df-container {\n",
              "      display:flex;\n",
              "      flex-wrap:wrap;\n",
              "      gap: 12px;\n",
              "    }\n",
              "\n",
              "    .colab-df-convert {\n",
              "      background-color: #E8F0FE;\n",
              "      border: none;\n",
              "      border-radius: 50%;\n",
              "      cursor: pointer;\n",
              "      display: none;\n",
              "      fill: #1967D2;\n",
              "      height: 32px;\n",
              "      padding: 0 0 0 0;\n",
              "      width: 32px;\n",
              "    }\n",
              "\n",
              "    .colab-df-convert:hover {\n",
              "      background-color: #E2EBFA;\n",
              "      box-shadow: 0px 1px 2px rgba(60, 64, 67, 0.3), 0px 1px 3px 1px rgba(60, 64, 67, 0.15);\n",
              "      fill: #174EA6;\n",
              "    }\n",
              "\n",
              "    [theme=dark] .colab-df-convert {\n",
              "      background-color: #3B4455;\n",
              "      fill: #D2E3FC;\n",
              "    }\n",
              "\n",
              "    [theme=dark] .colab-df-convert:hover {\n",
              "      background-color: #434B5C;\n",
              "      box-shadow: 0px 1px 3px 1px rgba(0, 0, 0, 0.15);\n",
              "      filter: drop-shadow(0px 1px 2px rgba(0, 0, 0, 0.3));\n",
              "      fill: #FFFFFF;\n",
              "    }\n",
              "  </style>\n",
              "\n",
              "      <script>\n",
              "        const buttonEl =\n",
              "          document.querySelector('#df-5a4d2df3-19c4-4459-a2d3-3cf1df819c3a button.colab-df-convert');\n",
              "        buttonEl.style.display =\n",
              "          google.colab.kernel.accessAllowed ? 'block' : 'none';\n",
              "\n",
              "        async function convertToInteractive(key) {\n",
              "          const element = document.querySelector('#df-5a4d2df3-19c4-4459-a2d3-3cf1df819c3a');\n",
              "          const dataTable =\n",
              "            await google.colab.kernel.invokeFunction('convertToInteractive',\n",
              "                                                     [key], {});\n",
              "          if (!dataTable) return;\n",
              "\n",
              "          const docLinkHtml = 'Like what you see? Visit the ' +\n",
              "            '<a target=\"_blank\" href=https://colab.research.google.com/notebooks/data_table.ipynb>data table notebook</a>'\n",
              "            + ' to learn more about interactive tables.';\n",
              "          element.innerHTML = '';\n",
              "          dataTable['output_type'] = 'display_data';\n",
              "          await google.colab.output.renderOutput(dataTable, element);\n",
              "          const docLink = document.createElement('div');\n",
              "          docLink.innerHTML = docLinkHtml;\n",
              "          element.appendChild(docLink);\n",
              "        }\n",
              "      </script>\n",
              "    </div>\n",
              "  </div>\n",
              "  "
            ]
          },
          "metadata": {},
          "execution_count": 258
        }
      ]
    },
    {
      "cell_type": "code",
      "source": [
        "new_df = df[[\"BHK\", \"Size\", \"FloorNum\", \"Bathroom\", \"Recency\", \"city_cat\", \"furnishing_cat\", \"areatype_cat\", \"tenent_pref_cat\", \"Rent\"]]\n",
        "sns.heatmap(data=new_df.corr(), lw = 1)"
      ],
      "metadata": {
        "colab": {
          "base_uri": "https://localhost:8080/",
          "height": 368
        },
        "id": "qba-27bSD3k_",
        "outputId": "9a4e8e16-5785-460a-a61e-35f67fa47aee"
      },
      "execution_count": null,
      "outputs": [
        {
          "output_type": "execute_result",
          "data": {
            "text/plain": [
              "<matplotlib.axes._subplots.AxesSubplot at 0x7f79ff81bc90>"
            ]
          },
          "metadata": {},
          "execution_count": 259
        },
        {
          "output_type": "display_data",
          "data": {
            "text/plain": [
              "<Figure size 432x288 with 2 Axes>"
            ],
            "image/png": "[encoded data removed]"
          },
          "metadata": {}
        }
      ]
    },
    {
      "cell_type": "markdown",
      "source": [
        "**Data Normalization/Standardization**"
      ],
      "metadata": {
        "id": "T4bcNn4awtEc"
      }
    },
    {
      "cell_type": "markdown",
      "source": [
        "Which of the above features should be normalized?"
      ],
      "metadata": {
        "id": "Et3A-IDWy_Bb"
      }
    },
    {
      "cell_type": "markdown",
      "source": [
        "We could normalize the data to range [-1, 1]. Another way to normalize is to subtract mean and divide by standard deviation. In case outliers are present in the dataset, we can also use IQR Robust Scaler Transform."
      ],
      "metadata": {
        "id": "oxR3ImPJzH7l"
      }
    },
    {
      "cell_type": "markdown",
      "source": [
        "**ToDo:** https://scikit-learn.org/stable/auto_examples/preprocessing/plot_all_scaling.html"
      ],
      "metadata": {
        "id": "UgDLiLy0IRgk"
      }
    },
    {
      "cell_type": "markdown",
      "source": [
        "**Q:** *Should we standardize the data first and then create train-test splits, or vice-versa?*"
      ],
      "metadata": {
        "id": "jJOAdMFxzTKQ"
      }
    },
    {
      "cell_type": "code",
      "source": [
        "from sklearn.model_selection import train_test_split, cross_validate, cross_val_score, GridSearchCV"
      ],
      "metadata": {
        "id": "1QWRLhnw1ZlY"
      },
      "execution_count": null,
      "outputs": []
    },
    {
      "cell_type": "code",
      "source": [
        "X_train, X_test, y_train, y_test = train_test_split(data_df, df[\"Rent\"], random_state=42, test_size=0.20)"
      ],
      "metadata": {
        "id": "p3wlZypUzHIj"
      },
      "execution_count": null,
      "outputs": []
    },
    {
      "cell_type": "code",
      "source": [
        "X_train"
      ],
      "metadata": {
        "colab": {
          "base_uri": "https://localhost:8080/",
          "height": 424
        },
        "id": "SbkYbj416O8Y",
        "outputId": "b161a569-a39f-44f6-972b-59da4c3c1d3b"
      },
      "execution_count": null,
      "outputs": [
        {
          "output_type": "execute_result",
          "data": {
            "text/plain": [
              "      BHK  Size  FloorNum  Bathroom  Recency  city_cat  furnishing_cat  \\\n",
              "4511    2   800         0         2       98         3               2   \n",
              "2684    1   500         0         1      111         2               2   \n",
              "4086    2  1200         1         2       98         3               1   \n",
              "2441    4  2100         3         4       42         2               1   \n",
              "4637    1   300         1         1       43         3               2   \n",
              "...   ...   ...       ...       ...      ...       ...             ...   \n",
              "4427    1   540         1         1       43         3               2   \n",
              "466     3  1200         3         2       66         4               2   \n",
              "3093    2   850         0         2      104         1               2   \n",
              "3773    1   350         0         1       61         1               1   \n",
              "860     1   450         5         2       59         5               1   \n",
              "\n",
              "      areatype_cat  tenent_pref_cat  \n",
              "4511             2                1  \n",
              "2684             2                1  \n",
              "4086             2                1  \n",
              "2441             1                1  \n",
              "4637             2                1  \n",
              "...            ...              ...  \n",
              "4427             1                0  \n",
              "466              2                1  \n",
              "3093             2                1  \n",
              "3773             2                1  \n",
              "860              1                0  \n",
              "\n",
              "[3796 rows x 9 columns]"
            ],
            "text/html": [
              "\n",
              "  <div id=\"df-d1ebf0df-412d-487c-8310-10eec10a33c6\">\n",
              "    <div class=\"colab-df-container\">\n",
              "      <div>\n",
              "<style scoped>\n",
              "    .dataframe tbody tr th:only-of-type {\n",
              "        vertical-align: middle;\n",
              "    }\n",
              "\n",
              "    .dataframe tbody tr th {\n",
              "        vertical-align: top;\n",
              "    }\n",
              "\n",
              "    .dataframe thead th {\n",
              "        text-align: right;\n",
              "    }\n",
              "</style>\n",
              "<table border=\"1\" class=\"dataframe\">\n",
              "  <thead>\n",
              "    <tr style=\"text-align: right;\">\n",
              "      <th></th>\n",
              "      <th>BHK</th>\n",
              "      <th>Size</th>\n",
              "      <th>FloorNum</th>\n",
              "      <th>Bathroom</th>\n",
              "      <th>Recency</th>\n",
              "      <th>city_cat</th>\n",
              "      <th>furnishing_cat</th>\n",
              "      <th>areatype_cat</th>\n",
              "      <th>tenent_pref_cat</th>\n",
              "    </tr>\n",
              "  </thead>\n",
              "  <tbody>\n",
              "    <tr>\n",
              "      <th>4511</th>\n",
              "      <td>2</td>\n",
              "      <td>800</td>\n",
              "      <td>0</td>\n",
              "      <td>2</td>\n",
              "      <td>98</td>\n",
              "      <td>3</td>\n",
              "      <td>2</td>\n",
              "      <td>2</td>\n",
              "      <td>1</td>\n",
              "    </tr>\n",
              "    <tr>\n",
              "      <th>2684</th>\n",
              "      <td>1</td>\n",
              "      <td>500</td>\n",
              "      <td>0</td>\n",
              "      <td>1</td>\n",
              "      <td>111</td>\n",
              "      <td>2</td>\n",
              "      <td>2</td>\n",
              "      <td>2</td>\n",
              "      <td>1</td>\n",
              "    </tr>\n",
              "    <tr>\n",
              "      <th>4086</th>\n",
              "      <td>2</td>\n",
              "      <td>1200</td>\n",
              "      <td>1</td>\n",
              "      <td>2</td>\n",
              "      <td>98</td>\n",
              "      <td>3</td>\n",
              "      <td>1</td>\n",
              "      <td>2</td>\n",
              "      <td>1</td>\n",
              "    </tr>\n",
              "    <tr>\n",
              "      <th>2441</th>\n",
              "      <td>4</td>\n",
              "      <td>2100</td>\n",
              "      <td>3</td>\n",
              "      <td>4</td>\n",
              "      <td>42</td>\n",
              "      <td>2</td>\n",
              "      <td>1</td>\n",
              "      <td>1</td>\n",
              "      <td>1</td>\n",
              "    </tr>\n",
              "    <tr>\n",
              "      <th>4637</th>\n",
              "      <td>1</td>\n",
              "      <td>300</td>\n",
              "      <td>1</td>\n",
              "      <td>1</td>\n",
              "      <td>43</td>\n",
              "      <td>3</td>\n",
              "      <td>2</td>\n",
              "      <td>2</td>\n",
              "      <td>1</td>\n",
              "    </tr>\n",
              "    <tr>\n",
              "      <th>...</th>\n",
              "      <td>...</td>\n",
              "      <td>...</td>\n",
              "      <td>...</td>\n",
              "      <td>...</td>\n",
              "      <td>...</td>\n",
              "      <td>...</td>\n",
              "      <td>...</td>\n",
              "      <td>...</td>\n",
              "      <td>...</td>\n",
              "    </tr>\n",
              "    <tr>\n",
              "      <th>4427</th>\n",
              "      <td>1</td>\n",
              "      <td>540</td>\n",
              "      <td>1</td>\n",
              "      <td>1</td>\n",
              "      <td>43</td>\n",
              "      <td>3</td>\n",
              "      <td>2</td>\n",
              "      <td>1</td>\n",
              "      <td>0</td>\n",
              "    </tr>\n",
              "    <tr>\n",
              "      <th>466</th>\n",
              "      <td>3</td>\n",
              "      <td>1200</td>\n",
              "      <td>3</td>\n",
              "      <td>2</td>\n",
              "      <td>66</td>\n",
              "      <td>4</td>\n",
              "      <td>2</td>\n",
              "      <td>2</td>\n",
              "      <td>1</td>\n",
              "    </tr>\n",
              "    <tr>\n",
              "      <th>3093</th>\n",
              "      <td>2</td>\n",
              "      <td>850</td>\n",
              "      <td>0</td>\n",
              "      <td>2</td>\n",
              "      <td>104</td>\n",
              "      <td>1</td>\n",
              "      <td>2</td>\n",
              "      <td>2</td>\n",
              "      <td>1</td>\n",
              "    </tr>\n",
              "    <tr>\n",
              "      <th>3773</th>\n",
              "      <td>1</td>\n",
              "      <td>350</td>\n",
              "      <td>0</td>\n",
              "      <td>1</td>\n",
              "      <td>61</td>\n",
              "      <td>1</td>\n",
              "      <td>1</td>\n",
              "      <td>2</td>\n",
              "      <td>1</td>\n",
              "    </tr>\n",
              "    <tr>\n",
              "      <th>860</th>\n",
              "      <td>1</td>\n",
              "      <td>450</td>\n",
              "      <td>5</td>\n",
              "      <td>2</td>\n",
              "      <td>59</td>\n",
              "      <td>5</td>\n",
              "      <td>1</td>\n",
              "      <td>1</td>\n",
              "      <td>0</td>\n",
              "    </tr>\n",
              "  </tbody>\n",
              "</table>\n",
              "<p>3796 rows × 9 columns</p>\n",
              "</div>\n",
              "      <button class=\"colab-df-convert\" onclick=\"convertToInteractive('df-d1ebf0df-412d-487c-8310-10eec10a33c6')\"\n",
              "              title=\"Convert this dataframe to an interactive table.\"\n",
              "              style=\"display:none;\">\n",
              "        \n",
              "  <svg xmlns=\"http://www.w3.org/2000/svg\" height=\"24px\"viewBox=\"0 0 24 24\"\n",
              "       width=\"24px\">\n",
              "    <path d=\"M0 0h24v24H0V0z\" fill=\"none\"/>\n",
              "    <path d=\"M18.56 5.44l.94 2.06.94-2.06 2.06-.94-2.06-.94-.94-2.06-.94 2.06-2.06.94zm-11 1L8.5 8.5l.94-2.06 2.06-.94-2.06-.94L8.5 2.5l-.94 2.06-2.06.94zm10 10l.94 2.06.94-2.06 2.06-.94-2.06-.94-.94-2.06-.94 2.06-2.06.94z\"/><path d=\"M17.41 7.96l-1.37-1.37c-.4-.4-.92-.59-1.43-.59-.52 0-1.04.2-1.43.59L10.3 9.45l-7.72 7.72c-.78.78-.78 2.05 0 2.83L4 21.41c.39.39.9.59 1.41.59.51 0 1.02-.2 1.41-.59l7.78-7.78 2.81-2.81c.8-.78.8-2.07 0-2.86zM5.41 20L4 18.59l7.72-7.72 1.47 1.35L5.41 20z\"/>\n",
              "  </svg>\n",
              "      </button>\n",
              "      \n",
              "  <style>\n",
              "    .colab-df-container {\n",
              "      display:flex;\n",
              "      flex-wrap:wrap;\n",
              "      gap: 12px;\n",
              "    }\n",
              "\n",
              "    .colab-df-convert {\n",
              "      background-color: #E8F0FE;\n",
              "      border: none;\n",
              "      border-radius: 50%;\n",
              "      cursor: pointer;\n",
              "      display: none;\n",
              "      fill: #1967D2;\n",
              "      height: 32px;\n",
              "      padding: 0 0 0 0;\n",
              "      width: 32px;\n",
              "    }\n",
              "\n",
              "    .colab-df-convert:hover {\n",
              "      background-color: #E2EBFA;\n",
              "      box-shadow: 0px 1px 2px rgba(60, 64, 67, 0.3), 0px 1px 3px 1px rgba(60, 64, 67, 0.15);\n",
              "      fill: #174EA6;\n",
              "    }\n",
              "\n",
              "    [theme=dark] .colab-df-convert {\n",
              "      background-color: #3B4455;\n",
              "      fill: #D2E3FC;\n",
              "    }\n",
              "\n",
              "    [theme=dark] .colab-df-convert:hover {\n",
              "      background-color: #434B5C;\n",
              "      box-shadow: 0px 1px 3px 1px rgba(0, 0, 0, 0.15);\n",
              "      filter: drop-shadow(0px 1px 2px rgba(0, 0, 0, 0.3));\n",
              "      fill: #FFFFFF;\n",
              "    }\n",
              "  </style>\n",
              "\n",
              "      <script>\n",
              "        const buttonEl =\n",
              "          document.querySelector('#df-d1ebf0df-412d-487c-8310-10eec10a33c6 button.colab-df-convert');\n",
              "        buttonEl.style.display =\n",
              "          google.colab.kernel.accessAllowed ? 'block' : 'none';\n",
              "\n",
              "        async function convertToInteractive(key) {\n",
              "          const element = document.querySelector('#df-d1ebf0df-412d-487c-8310-10eec10a33c6');\n",
              "          const dataTable =\n",
              "            await google.colab.kernel.invokeFunction('convertToInteractive',\n",
              "                                                     [key], {});\n",
              "          if (!dataTable) return;\n",
              "\n",
              "          const docLinkHtml = 'Like what you see? Visit the ' +\n",
              "            '<a target=\"_blank\" href=https://colab.research.google.com/notebooks/data_table.ipynb>data table notebook</a>'\n",
              "            + ' to learn more about interactive tables.';\n",
              "          element.innerHTML = '';\n",
              "          dataTable['output_type'] = 'display_data';\n",
              "          await google.colab.output.renderOutput(dataTable, element);\n",
              "          const docLink = document.createElement('div');\n",
              "          docLink.innerHTML = docLinkHtml;\n",
              "          element.appendChild(docLink);\n",
              "        }\n",
              "      </script>\n",
              "    </div>\n",
              "  </div>\n",
              "  "
            ]
          },
          "metadata": {},
          "execution_count": 262
        }
      ]
    },
    {
      "cell_type": "code",
      "source": [
        "y_train"
      ],
      "metadata": {
        "id": "z2eq5DyB7kAZ",
        "outputId": "c3cf71e5-f192-45b3-b233-caa3e2d5117b",
        "colab": {
          "base_uri": "https://localhost:8080/"
        }
      },
      "execution_count": null,
      "outputs": [
        {
          "output_type": "execute_result",
          "data": {
            "text/plain": [
              "4511     7000\n",
              "2684    11000\n",
              "4086    25000\n",
              "2441    90000\n",
              "4637     6000\n",
              "        ...  \n",
              "4427    14000\n",
              "466     20000\n",
              "3093    24000\n",
              "3773     6000\n",
              "860     25000\n",
              "Name: Rent, Length: 3796, dtype: int64"
            ]
          },
          "metadata": {},
          "execution_count": 263
        }
      ]
    },
    {
      "cell_type": "code",
      "source": [
        "size_scaler = preprocessing.StandardScaler().fit(X_train)\n",
        "X_train_scaled = size_scaler.transform(X_train)\n",
        "X_test_scaled = size_scaler.transform(X_test)\n",
        "X_train_scaled.shape, X_test_scaled.shape"
      ],
      "metadata": {
        "id": "1cuT_F7Ny-aB",
        "colab": {
          "base_uri": "https://localhost:8080/"
        },
        "outputId": "98c808bf-843e-42e8-eb62-b6e67ab74449"
      },
      "execution_count": null,
      "outputs": [
        {
          "output_type": "execute_result",
          "data": {
            "text/plain": [
              "((3796, 9), (949, 9))"
            ]
          },
          "metadata": {},
          "execution_count": 264
        }
      ]
    },
    {
      "cell_type": "code",
      "source": [
        "X_train_scaled"
      ],
      "metadata": {
        "colab": {
          "base_uri": "https://localhost:8080/"
        },
        "id": "3Mp279x8IqOQ",
        "outputId": "0c6a6663-231f-4489-cfdb-0b67f541d541"
      },
      "execution_count": null,
      "outputs": [
        {
          "output_type": "execute_result",
          "data": {
            "text/plain": [
              "array([[-0.10541499, -0.26385815, -0.6095452 , ...,  1.12517127,\n",
              "         0.9592096 ,  0.14330732],\n",
              "       [-1.30348473, -0.73171447, -0.6095452 , ...,  1.12517127,\n",
              "         0.9592096 ,  0.14330732],\n",
              "       [-0.10541499,  0.35995028, -0.42602413, ..., -0.34865556,\n",
              "         0.9592096 ,  0.14330732],\n",
              "       ...,\n",
              "       [-0.10541499, -0.18588209, -0.6095452 , ...,  1.12517127,\n",
              "         0.9592096 ,  0.14330732],\n",
              "       [-1.30348473, -0.96564263, -0.6095452 , ..., -0.34865556,\n",
              "         0.9592096 ,  0.14330732],\n",
              "       [-1.30348473, -0.80969052,  0.30806012, ..., -0.34865556,\n",
              "        -1.04032892, -1.80649411]])"
            ]
          },
          "metadata": {},
          "execution_count": 265
        }
      ]
    },
    {
      "cell_type": "code",
      "source": [
        "X_test_scaled"
      ],
      "metadata": {
        "colab": {
          "base_uri": "https://localhost:8080/"
        },
        "id": "OzUQJ70ubD7Z",
        "outputId": "c739c2e5-cf92-4a86-eab2-9f65db9b2e66"
      },
      "execution_count": null,
      "outputs": [
        {
          "output_type": "execute_result",
          "data": {
            "text/plain": [
              "array([[-0.10541499,  0.04804607, -0.6095452 , ..., -0.34865556,\n",
              "         0.9592096 ,  0.14330732],\n",
              "       [-1.30348473, -0.57576236, -0.42602413, ...,  1.12517127,\n",
              "        -1.04032892,  2.09310876],\n",
              "       [-1.30348473, -0.70832165,  1.59270756, ...,  1.12517127,\n",
              "        -1.04032892,  0.14330732],\n",
              "       ...,\n",
              "       [-0.10541499, -1.3711181 , -0.6095452 , ..., -0.34865556,\n",
              "         0.9592096 ,  0.14330732],\n",
              "       [-0.10541499, -0.57576236, -0.24250307, ..., -0.34865556,\n",
              "         0.9592096 ,  0.14330732],\n",
              "       [ 1.09265476,  2.82399356,  0.12453906, ..., -0.34865556,\n",
              "         0.9592096 ,  0.14330732]])"
            ]
          },
          "metadata": {},
          "execution_count": 266
        }
      ]
    },
    {
      "cell_type": "code",
      "source": [
        "from sklearn.metrics import mean_squared_error, mean_absolute_error\n",
        "\n",
        "# Models-------------------------\n",
        "from sklearn.linear_model import LinearRegression\n",
        "from sklearn.ensemble import RandomForestRegressor\n",
        "from sklearn.ensemble import GradientBoostingRegressor\n",
        "from xgboost import XGBRegressor"
      ],
      "metadata": {
        "id": "ZONdMxAcJTsS"
      },
      "execution_count": null,
      "outputs": []
    },
    {
      "cell_type": "code",
      "source": [
        "model_dict = {\n",
        "    'LinearRegression': {\"model\": LinearRegression(), \"params\": {}},\n",
        "    'RandomForestRegressor': {\"model\": RandomForestRegressor(random_state=42),\n",
        "                     \"params\": {'n_estimators': list(range(5, 50, 5)), 'max_depth': list(range(1, 10, 2))}},\n",
        "    'XGBRegressor': {\"model\": XGBRegressor(), \"params\": {'n_estimators': list(range(10, 800, 100)), 'learning_rate': [0.001, 0.01, 0.1]}}\n",
        "}\n"
      ],
      "metadata": {
        "id": "JSmy4dSZJZko"
      },
      "execution_count": null,
      "outputs": []
    },
    {
      "cell_type": "code",
      "source": [
        "def eval_models():\n",
        "    model_results = pd.DataFrame()\n",
        "    model_results['Train_RMSE'] = None\n",
        "    model_results['Test_RMSE'] = None\n",
        "    model_results['Train_MAE'] = None\n",
        "    model_results['Test_MAE'] = None\n",
        "    model_results['best_params'] = None\n",
        "\n",
        "    best_reg_model_ours = None\n",
        "    best_test_score = math.inf\n",
        "\n",
        "    for model_name, reg_model in model_dict.items():\n",
        "        classifier = GridSearchCV(reg_model['model'], reg_model['params'], n_jobs=20, verbose=0)\n",
        "        classifier.fit(X_train_scaled, list(y_train))\n",
        "        best_model = classifier.best_estimator_\n",
        "\n",
        "        y_train_predicted = best_model.predict(X_train_scaled)\n",
        "        train_rmse = np.sqrt(mean_squared_error(list(y_train), y_train_predicted))\n",
        "        train_mae = mean_absolute_error(list(y_train), y_train_predicted)\n",
        "\n",
        "        print(model_name, train_rmse, classifier.best_params_)\n",
        "\n",
        "        y_predicted = best_model.predict(X_test_scaled)\n",
        "        test_rmse = np.sqrt(mean_squared_error(list(y_test), y_predicted))\n",
        "        test_mae = mean_absolute_error(list(y_test), y_predicted)\n",
        "\n",
        "        if test_rmse < best_test_score:\n",
        "            best_test_score = test_rmse\n",
        "            best_reg_model_ours = best_model\n",
        "\n",
        "        model_results.loc[model_name, ['Train_RMSE', 'Test_RMSE', 'Train_MAE', 'Test_MAE', 'best_params']] = [train_rmse, test_rmse, train_mae, test_mae, classifier.best_params_]\n",
        "\n",
        "    print(\"Best model: \", best_model)\n",
        "    # plot the prediction errors using the best model\n",
        "    y_predicted = best_model.predict(X_test_scaled)\n",
        "    plt.plot(list(y_test) - y_predicted, marker='o', linestyle='')\n",
        "\n",
        "    return model_results"
      ],
      "metadata": {
        "id": "5IQRqkhjJlDi"
      },
      "execution_count": null,
      "outputs": []
    },
    {
      "cell_type": "code",
      "source": [
        "model_results = eval_models()"
      ],
      "metadata": {
        "colab": {
          "base_uri": "https://localhost:8080/",
          "height": 363
        },
        "id": "9jJQuuS8JlLQ",
        "outputId": "d762f640-048b-439b-d99e-b3281f4fb6aa"
      },
      "execution_count": null,
      "outputs": [
        {
          "output_type": "stream",
          "name": "stdout",
          "text": [
            "LinearRegression 42835.100903463725 {}\n",
            "RandomForestRegressor 24643.827327660292 {'max_depth': 5, 'n_estimators': 35}\n",
            "[06:21:09] WARNING: /workspace/src/objective/regression_obj.cu:152: reg:linear is now deprecated in favor of reg:squarederror.\n",
            "XGBRegressor 25094.174348151653 {'learning_rate': 0.01, 'n_estimators': 610}\n",
            "Best model:  XGBRegressor(learning_rate=0.01, n_estimators=610)\n"
          ]
        },
        {
          "output_type": "display_data",
          "data": {
            "text/plain": [
              "<Figure size 432x288 with 1 Axes>"
            ],
            "image/png": "[encoded data removed]"
          },
          "metadata": {}
        }
      ]
    },
    {
      "cell_type": "code",
      "source": [
        "model_results"
      ],
      "metadata": {
        "colab": {
          "base_uri": "https://localhost:8080/",
          "height": 143
        },
        "id": "r21aT-NcQ4yo",
        "outputId": "1697896b-ada0-455b-8093-1d56fd02a7cb"
      },
      "execution_count": null,
      "outputs": [
        {
          "output_type": "execute_result",
          "data": {
            "text/plain": [
              "                         Train_RMSE     Test_RMSE     Train_MAE      Test_MAE  \\\n",
              "LinearRegression       42835.100903  48309.040604  22221.350032  23379.269886   \n",
              "RandomForestRegressor  24643.827328  35228.546617  11077.187562  12952.846697   \n",
              "XGBRegressor           25094.174348  35818.583361  10744.585774  12881.007021   \n",
              "\n",
              "                                                        best_params  \n",
              "LinearRegression                                                 {}  \n",
              "RandomForestRegressor          {'max_depth': 5, 'n_estimators': 35}  \n",
              "XGBRegressor           {'learning_rate': 0.01, 'n_estimators': 610}  "
            ],
            "text/html": [
              "\n",
              "  <div id=\"df-e0b1ab56-1cee-4586-9765-13274f3fbc04\">\n",
              "    <div class=\"colab-df-container\">\n",
              "      <div>\n",
              "<style scoped>\n",
              "    .dataframe tbody tr th:only-of-type {\n",
              "        vertical-align: middle;\n",
              "    }\n",
              "\n",
              "    .dataframe tbody tr th {\n",
              "        vertical-align: top;\n",
              "    }\n",
              "\n",
              "    .dataframe thead th {\n",
              "        text-align: right;\n",
              "    }\n",
              "</style>\n",
              "<table border=\"1\" class=\"dataframe\">\n",
              "  <thead>\n",
              "    <tr style=\"text-align: right;\">\n",
              "      <th></th>\n",
              "      <th>Train_RMSE</th>\n",
              "      <th>Test_RMSE</th>\n",
              "      <th>Train_MAE</th>\n",
              "      <th>Test_MAE</th>\n",
              "      <th>best_params</th>\n",
              "    </tr>\n",
              "  </thead>\n",
              "  <tbody>\n",
              "    <tr>\n",
              "      <th>LinearRegression</th>\n",
              "      <td>42835.100903</td>\n",
              "      <td>48309.040604</td>\n",
              "      <td>22221.350032</td>\n",
              "      <td>23379.269886</td>\n",
              "      <td>{}</td>\n",
              "    </tr>\n",
              "    <tr>\n",
              "      <th>RandomForestRegressor</th>\n",
              "      <td>24643.827328</td>\n",
              "      <td>35228.546617</td>\n",
              "      <td>11077.187562</td>\n",
              "      <td>12952.846697</td>\n",
              "      <td>{'max_depth': 5, 'n_estimators': 35}</td>\n",
              "    </tr>\n",
              "    <tr>\n",
              "      <th>XGBRegressor</th>\n",
              "      <td>25094.174348</td>\n",
              "      <td>35818.583361</td>\n",
              "      <td>10744.585774</td>\n",
              "      <td>12881.007021</td>\n",
              "      <td>{'learning_rate': 0.01, 'n_estimators': 610}</td>\n",
              "    </tr>\n",
              "  </tbody>\n",
              "</table>\n",
              "</div>\n",
              "      <button class=\"colab-df-convert\" onclick=\"convertToInteractive('df-e0b1ab56-1cee-4586-9765-13274f3fbc04')\"\n",
              "              title=\"Convert this dataframe to an interactive table.\"\n",
              "              style=\"display:none;\">\n",
              "        \n",
              "  <svg xmlns=\"http://www.w3.org/2000/svg\" height=\"24px\"viewBox=\"0 0 24 24\"\n",
              "       width=\"24px\">\n",
              "    <path d=\"M0 0h24v24H0V0z\" fill=\"none\"/>\n",
              "    <path d=\"M18.56 5.44l.94 2.06.94-2.06 2.06-.94-2.06-.94-.94-2.06-.94 2.06-2.06.94zm-11 1L8.5 8.5l.94-2.06 2.06-.94-2.06-.94L8.5 2.5l-.94 2.06-2.06.94zm10 10l.94 2.06.94-2.06 2.06-.94-2.06-.94-.94-2.06-.94 2.06-2.06.94z\"/><path d=\"M17.41 7.96l-1.37-1.37c-.4-.4-.92-.59-1.43-.59-.52 0-1.04.2-1.43.59L10.3 9.45l-7.72 7.72c-.78.78-.78 2.05 0 2.83L4 21.41c.39.39.9.59 1.41.59.51 0 1.02-.2 1.41-.59l7.78-7.78 2.81-2.81c.8-.78.8-2.07 0-2.86zM5.41 20L4 18.59l7.72-7.72 1.47 1.35L5.41 20z\"/>\n",
              "  </svg>\n",
              "      </button>\n",
              "      \n",
              "  <style>\n",
              "    .colab-df-container {\n",
              "      display:flex;\n",
              "      flex-wrap:wrap;\n",
              "      gap: 12px;\n",
              "    }\n",
              "\n",
              "    .colab-df-convert {\n",
              "      background-color: #E8F0FE;\n",
              "      border: none;\n",
              "      border-radius: 50%;\n",
              "      cursor: pointer;\n",
              "      display: none;\n",
              "      fill: #1967D2;\n",
              "      height: 32px;\n",
              "      padding: 0 0 0 0;\n",
              "      width: 32px;\n",
              "    }\n",
              "\n",
              "    .colab-df-convert:hover {\n",
              "      background-color: #E2EBFA;\n",
              "      box-shadow: 0px 1px 2px rgba(60, 64, 67, 0.3), 0px 1px 3px 1px rgba(60, 64, 67, 0.15);\n",
              "      fill: #174EA6;\n",
              "    }\n",
              "\n",
              "    [theme=dark] .colab-df-convert {\n",
              "      background-color: #3B4455;\n",
              "      fill: #D2E3FC;\n",
              "    }\n",
              "\n",
              "    [theme=dark] .colab-df-convert:hover {\n",
              "      background-color: #434B5C;\n",
              "      box-shadow: 0px 1px 3px 1px rgba(0, 0, 0, 0.15);\n",
              "      filter: drop-shadow(0px 1px 2px rgba(0, 0, 0, 0.3));\n",
              "      fill: #FFFFFF;\n",
              "    }\n",
              "  </style>\n",
              "\n",
              "      <script>\n",
              "        const buttonEl =\n",
              "          document.querySelector('#df-e0b1ab56-1cee-4586-9765-13274f3fbc04 button.colab-df-convert');\n",
              "        buttonEl.style.display =\n",
              "          google.colab.kernel.accessAllowed ? 'block' : 'none';\n",
              "\n",
              "        async function convertToInteractive(key) {\n",
              "          const element = document.querySelector('#df-e0b1ab56-1cee-4586-9765-13274f3fbc04');\n",
              "          const dataTable =\n",
              "            await google.colab.kernel.invokeFunction('convertToInteractive',\n",
              "                                                     [key], {});\n",
              "          if (!dataTable) return;\n",
              "\n",
              "          const docLinkHtml = 'Like what you see? Visit the ' +\n",
              "            '<a target=\"_blank\" href=https://colab.research.google.com/notebooks/data_table.ipynb>data table notebook</a>'\n",
              "            + ' to learn more about interactive tables.';\n",
              "          element.innerHTML = '';\n",
              "          dataTable['output_type'] = 'display_data';\n",
              "          await google.colab.output.renderOutput(dataTable, element);\n",
              "          const docLink = document.createElement('div');\n",
              "          docLink.innerHTML = docLinkHtml;\n",
              "          element.appendChild(docLink);\n",
              "        }\n",
              "      </script>\n",
              "    </div>\n",
              "  </div>\n",
              "  "
            ]
          },
          "metadata": {},
          "execution_count": 271
        }
      ]
    },
    {
      "cell_type": "code",
      "source": [],
      "metadata": {
        "id": "7UPxnOb1RGm6"
      },
      "execution_count": null,
      "outputs": []
    },
    {
      "cell_type": "markdown",
      "source": [
        "*   Can we use Area Locality to determine proximity to hospitals, bus stops, schools, malls, etc.?\n",
        "*   We discarded the information about total number of floors in the building. How can we use that alongwith the available house's floor number?\n",
        "\n"
      ],
      "metadata": {
        "id": "l2XlENi3CZUM"
      }
    }
  ]
}